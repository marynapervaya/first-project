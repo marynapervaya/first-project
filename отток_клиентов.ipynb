{
 "cells": [
  {
   "cell_type": "markdown",
   "metadata": {
    "toc": true
   },
   "source": [
    "<h1>Содержание<span class=\"tocSkip\"></span></h1>\n",
    "<div class=\"toc\"><ul class=\"toc-item\"><li><span><a href=\"#Предобработка-данных\" data-toc-modified-id=\"Предобработка-данных-1\"><span class=\"toc-item-num\">1&nbsp;&nbsp;</span>Предобработка данных</a></span></li><li><span><a href=\"#Подготовка-данных\" data-toc-modified-id=\"Подготовка-данных-2\"><span class=\"toc-item-num\">2&nbsp;&nbsp;</span>Подготовка данных</a></span></li><li><span><a href=\"#Исследование-задачи\" data-toc-modified-id=\"Исследование-задачи-3\"><span class=\"toc-item-num\">3&nbsp;&nbsp;</span>Исследование задачи</a></span></li><li><span><a href=\"#Борьба-с-дисбалансом\" data-toc-modified-id=\"Борьба-с-дисбалансом-4\"><span class=\"toc-item-num\">4&nbsp;&nbsp;</span>Борьба с дисбалансом</a></span></li><li><span><a href=\"#Тестирование-модели\" data-toc-modified-id=\"Тестирование-модели-5\"><span class=\"toc-item-num\">5&nbsp;&nbsp;</span>Тестирование модели</a></span></li><li><span><a href=\"#Тестирование-модели\" data-toc-modified-id=\"Тестирование-модели-6\"><span class=\"toc-item-num\">6&nbsp;&nbsp;</span>Тестирование модели</a></span></li><li><span><a href=\"#Чек-лист-готовности-проекта\" data-toc-modified-id=\"Чек-лист-готовности-проекта-7\"><span class=\"toc-item-num\">7&nbsp;&nbsp;</span>Чек-лист готовности проекта</a></span></li></ul></div>"
   ]
  },
  {
   "cell_type": "markdown",
   "metadata": {},
   "source": [
    "# Отток клиентов"
   ]
  },
  {
   "cell_type": "markdown",
   "metadata": {},
   "source": [
    "Задача:\n",
    "\n",
    "Из «Бета-Банка» стали уходить клиенты. Каждый месяц. Немного, но заметно. Банковские маркетологи посчитали: сохранять текущих клиентов дешевле, чем привлекать новых.\n",
    "\n",
    "Нужно спрогнозировать, уйдёт клиент из банка в ближайшее время или нет. Вам предоставлены исторические данные о поведении клиентов и расторжении договоров с банком. \n"
   ]
  },
  {
   "cell_type": "markdown",
   "metadata": {},
   "source": [
    "Цель исследования:\n",
    "\n",
    "1) Провести исследование задачи  \n",
    "2) Провести борьбу с дисбалансом  \n",
    "3) Провести тестирование модели  \n",
    "\n",
    "Ход исследования: \n",
    "Данные представлены в файле /datasets/Churn.csv.  \n",
    "О качестве данных ничего неизвестно, поэтому перед проведением исследования понадобится обзор данных. Данные будут проверены на ошибки и будет оценено их влияние на исследование. Затем на этапе предобработки будет проведен поиск возможности исправления самых критичных ошибок данных.\n",
    "\n",
    "Таким образом, исследование пройдет в 6 шагов:\n",
    "\n",
    "Предобработка данных;  \n",
    "Подготовка данных;  \n",
    "Исслеование задачи;  \n",
    "Борьба с дисбалансом;  \n",
    "Тестирование модели;  \n",
    "Общий вывод."
   ]
  },
  {
   "cell_type": "markdown",
   "metadata": {},
   "source": [
    "## Предобработка данных"
   ]
  },
  {
   "cell_type": "code",
   "execution_count": 57,
   "metadata": {},
   "outputs": [],
   "source": [
    "import pandas as pd\n",
    "import numpy as np\n",
    "from sklearn.preprocessing import OrdinalEncoder\n",
    "from sklearn.model_selection import train_test_split\n",
    "from sklearn.tree import DecisionTreeClassifier\n",
    "from sklearn.linear_model import LogisticRegression\n",
    "from sklearn.ensemble import RandomForestClassifier\n",
    "from sklearn.preprocessing import StandardScaler\n",
    "from sklearn.metrics import accuracy_score\n",
    "from sklearn.metrics import confusion_matrix\n",
    "from sklearn.metrics import recall_score\n",
    "from sklearn.metrics import precision_score\n",
    "from sklearn.metrics import f1_score\n",
    "from sklearn.utils import shuffle\n",
    "import matplotlib.pyplot as plt\n",
    "from sklearn.metrics import roc_curve\n",
    "from sklearn.metrics import roc_auc_score\n",
    "from sklearn.metrics import accuracy_score"
   ]
  },
  {
   "cell_type": "code",
   "execution_count": 58,
   "metadata": {},
   "outputs": [
    {
     "data": {
      "text/html": [
       "<div>\n",
       "<style scoped>\n",
       "    .dataframe tbody tr th:only-of-type {\n",
       "        vertical-align: middle;\n",
       "    }\n",
       "\n",
       "    .dataframe tbody tr th {\n",
       "        vertical-align: top;\n",
       "    }\n",
       "\n",
       "    .dataframe thead th {\n",
       "        text-align: right;\n",
       "    }\n",
       "</style>\n",
       "<table border=\"1\" class=\"dataframe\">\n",
       "  <thead>\n",
       "    <tr style=\"text-align: right;\">\n",
       "      <th></th>\n",
       "      <th>RowNumber</th>\n",
       "      <th>CustomerId</th>\n",
       "      <th>Surname</th>\n",
       "      <th>CreditScore</th>\n",
       "      <th>Geography</th>\n",
       "      <th>Gender</th>\n",
       "      <th>Age</th>\n",
       "      <th>Tenure</th>\n",
       "      <th>Balance</th>\n",
       "      <th>NumOfProducts</th>\n",
       "      <th>HasCrCard</th>\n",
       "      <th>IsActiveMember</th>\n",
       "      <th>EstimatedSalary</th>\n",
       "      <th>Exited</th>\n",
       "    </tr>\n",
       "  </thead>\n",
       "  <tbody>\n",
       "    <tr>\n",
       "      <th>0</th>\n",
       "      <td>1</td>\n",
       "      <td>15634602</td>\n",
       "      <td>Hargrave</td>\n",
       "      <td>619</td>\n",
       "      <td>France</td>\n",
       "      <td>Female</td>\n",
       "      <td>42</td>\n",
       "      <td>2.0</td>\n",
       "      <td>0.00</td>\n",
       "      <td>1</td>\n",
       "      <td>1</td>\n",
       "      <td>1</td>\n",
       "      <td>101348.88</td>\n",
       "      <td>1</td>\n",
       "    </tr>\n",
       "    <tr>\n",
       "      <th>1</th>\n",
       "      <td>2</td>\n",
       "      <td>15647311</td>\n",
       "      <td>Hill</td>\n",
       "      <td>608</td>\n",
       "      <td>Spain</td>\n",
       "      <td>Female</td>\n",
       "      <td>41</td>\n",
       "      <td>1.0</td>\n",
       "      <td>83807.86</td>\n",
       "      <td>1</td>\n",
       "      <td>0</td>\n",
       "      <td>1</td>\n",
       "      <td>112542.58</td>\n",
       "      <td>0</td>\n",
       "    </tr>\n",
       "    <tr>\n",
       "      <th>2</th>\n",
       "      <td>3</td>\n",
       "      <td>15619304</td>\n",
       "      <td>Onio</td>\n",
       "      <td>502</td>\n",
       "      <td>France</td>\n",
       "      <td>Female</td>\n",
       "      <td>42</td>\n",
       "      <td>8.0</td>\n",
       "      <td>159660.80</td>\n",
       "      <td>3</td>\n",
       "      <td>1</td>\n",
       "      <td>0</td>\n",
       "      <td>113931.57</td>\n",
       "      <td>1</td>\n",
       "    </tr>\n",
       "    <tr>\n",
       "      <th>3</th>\n",
       "      <td>4</td>\n",
       "      <td>15701354</td>\n",
       "      <td>Boni</td>\n",
       "      <td>699</td>\n",
       "      <td>France</td>\n",
       "      <td>Female</td>\n",
       "      <td>39</td>\n",
       "      <td>1.0</td>\n",
       "      <td>0.00</td>\n",
       "      <td>2</td>\n",
       "      <td>0</td>\n",
       "      <td>0</td>\n",
       "      <td>93826.63</td>\n",
       "      <td>0</td>\n",
       "    </tr>\n",
       "    <tr>\n",
       "      <th>4</th>\n",
       "      <td>5</td>\n",
       "      <td>15737888</td>\n",
       "      <td>Mitchell</td>\n",
       "      <td>850</td>\n",
       "      <td>Spain</td>\n",
       "      <td>Female</td>\n",
       "      <td>43</td>\n",
       "      <td>2.0</td>\n",
       "      <td>125510.82</td>\n",
       "      <td>1</td>\n",
       "      <td>1</td>\n",
       "      <td>1</td>\n",
       "      <td>79084.10</td>\n",
       "      <td>0</td>\n",
       "    </tr>\n",
       "    <tr>\n",
       "      <th>5</th>\n",
       "      <td>6</td>\n",
       "      <td>15574012</td>\n",
       "      <td>Chu</td>\n",
       "      <td>645</td>\n",
       "      <td>Spain</td>\n",
       "      <td>Male</td>\n",
       "      <td>44</td>\n",
       "      <td>8.0</td>\n",
       "      <td>113755.78</td>\n",
       "      <td>2</td>\n",
       "      <td>1</td>\n",
       "      <td>0</td>\n",
       "      <td>149756.71</td>\n",
       "      <td>1</td>\n",
       "    </tr>\n",
       "    <tr>\n",
       "      <th>6</th>\n",
       "      <td>7</td>\n",
       "      <td>15592531</td>\n",
       "      <td>Bartlett</td>\n",
       "      <td>822</td>\n",
       "      <td>France</td>\n",
       "      <td>Male</td>\n",
       "      <td>50</td>\n",
       "      <td>7.0</td>\n",
       "      <td>0.00</td>\n",
       "      <td>2</td>\n",
       "      <td>1</td>\n",
       "      <td>1</td>\n",
       "      <td>10062.80</td>\n",
       "      <td>0</td>\n",
       "    </tr>\n",
       "    <tr>\n",
       "      <th>7</th>\n",
       "      <td>8</td>\n",
       "      <td>15656148</td>\n",
       "      <td>Obinna</td>\n",
       "      <td>376</td>\n",
       "      <td>Germany</td>\n",
       "      <td>Female</td>\n",
       "      <td>29</td>\n",
       "      <td>4.0</td>\n",
       "      <td>115046.74</td>\n",
       "      <td>4</td>\n",
       "      <td>1</td>\n",
       "      <td>0</td>\n",
       "      <td>119346.88</td>\n",
       "      <td>1</td>\n",
       "    </tr>\n",
       "    <tr>\n",
       "      <th>8</th>\n",
       "      <td>9</td>\n",
       "      <td>15792365</td>\n",
       "      <td>He</td>\n",
       "      <td>501</td>\n",
       "      <td>France</td>\n",
       "      <td>Male</td>\n",
       "      <td>44</td>\n",
       "      <td>4.0</td>\n",
       "      <td>142051.07</td>\n",
       "      <td>2</td>\n",
       "      <td>0</td>\n",
       "      <td>1</td>\n",
       "      <td>74940.50</td>\n",
       "      <td>0</td>\n",
       "    </tr>\n",
       "    <tr>\n",
       "      <th>9</th>\n",
       "      <td>10</td>\n",
       "      <td>15592389</td>\n",
       "      <td>H?</td>\n",
       "      <td>684</td>\n",
       "      <td>France</td>\n",
       "      <td>Male</td>\n",
       "      <td>27</td>\n",
       "      <td>2.0</td>\n",
       "      <td>134603.88</td>\n",
       "      <td>1</td>\n",
       "      <td>1</td>\n",
       "      <td>1</td>\n",
       "      <td>71725.73</td>\n",
       "      <td>0</td>\n",
       "    </tr>\n",
       "  </tbody>\n",
       "</table>\n",
       "</div>"
      ],
      "text/plain": [
       "   RowNumber  CustomerId   Surname  CreditScore Geography  Gender  Age  \\\n",
       "0          1    15634602  Hargrave          619    France  Female   42   \n",
       "1          2    15647311      Hill          608     Spain  Female   41   \n",
       "2          3    15619304      Onio          502    France  Female   42   \n",
       "3          4    15701354      Boni          699    France  Female   39   \n",
       "4          5    15737888  Mitchell          850     Spain  Female   43   \n",
       "5          6    15574012       Chu          645     Spain    Male   44   \n",
       "6          7    15592531  Bartlett          822    France    Male   50   \n",
       "7          8    15656148    Obinna          376   Germany  Female   29   \n",
       "8          9    15792365        He          501    France    Male   44   \n",
       "9         10    15592389        H?          684    France    Male   27   \n",
       "\n",
       "   Tenure    Balance  NumOfProducts  HasCrCard  IsActiveMember  \\\n",
       "0     2.0       0.00              1          1               1   \n",
       "1     1.0   83807.86              1          0               1   \n",
       "2     8.0  159660.80              3          1               0   \n",
       "3     1.0       0.00              2          0               0   \n",
       "4     2.0  125510.82              1          1               1   \n",
       "5     8.0  113755.78              2          1               0   \n",
       "6     7.0       0.00              2          1               1   \n",
       "7     4.0  115046.74              4          1               0   \n",
       "8     4.0  142051.07              2          0               1   \n",
       "9     2.0  134603.88              1          1               1   \n",
       "\n",
       "   EstimatedSalary  Exited  \n",
       "0        101348.88       1  \n",
       "1        112542.58       0  \n",
       "2        113931.57       1  \n",
       "3         93826.63       0  \n",
       "4         79084.10       0  \n",
       "5        149756.71       1  \n",
       "6         10062.80       0  \n",
       "7        119346.88       1  \n",
       "8         74940.50       0  \n",
       "9         71725.73       0  "
      ]
     },
     "execution_count": 58,
     "metadata": {},
     "output_type": "execute_result"
    }
   ],
   "source": [
    "data = pd.read_csv('https://code.s3.yandex.net/datasets/Churn.csv')\n",
    "data.head(10)"
   ]
  },
  {
   "cell_type": "markdown",
   "metadata": {},
   "source": [
    "Итак, в таблице 14 столбцов.\n",
    "\n",
    "Согласно документации к данным:\n",
    "* RowNumber — индекс строки в данных\n",
    "* CustomerId — уникальный идентификатор клиента\n",
    "* Surname — фамилия\n",
    "* CreditScore — кредитный рейтинг\n",
    "* Geography — страна проживания\n",
    "* Gender — пол\n",
    "* Age — возраст\n",
    "* Tenure — сколько лет человек является клиентом банка\n",
    "* Balance — баланс на счёте\n",
    "* NumOfProducts — количество продуктов банка, используемых клиентом\n",
    "* HasCrCard — наличие кредитной карты\n",
    "* IsActiveMember — активность клиента\n",
    "* EstimatedSalary — предполагаемая зарплата\n",
    "\n",
    "Целевой признак\n",
    "* Exited — факт ухода клиента\n",
    "\n",
    "В названиях колонок видны нарушения стиля:\n",
    "1. Строчные буквы сочетаются с прописными.\n",
    "2. Несколько слов не разделяются нижним подчеркиванием\n",
    "\n",
    "\n"
   ]
  },
  {
   "cell_type": "code",
   "execution_count": 59,
   "metadata": {},
   "outputs": [
    {
     "data": {
      "text/plain": [
       "Index(['RowNumber', 'CustomerId', 'Surname', 'CreditScore', 'Geography',\n",
       "       'Gender', 'Age', 'Tenure', 'Balance', 'NumOfProducts', 'HasCrCard',\n",
       "       'IsActiveMember', 'EstimatedSalary', 'Exited'],\n",
       "      dtype='object')"
      ]
     },
     "execution_count": 59,
     "metadata": {},
     "output_type": "execute_result"
    }
   ],
   "source": [
    " data.columns # перечень названий столбцов таблицы df"
   ]
  },
  {
   "cell_type": "markdown",
   "metadata": {},
   "source": [
    "Приведем названия в соответствие с хорошим стилем:\n",
    "* несколько слов в названии запишем в «змеином_регистре»,\n",
    "* все символы сделаем строчными.\n",
    "\n",
    "Для этого переименуем колонки так:"
   ]
  },
  {
   "cell_type": "code",
   "execution_count": 60,
   "metadata": {},
   "outputs": [
    {
     "data": {
      "text/plain": [
       "Index(['row_number', 'customer_id', 'surname', 'credit_score', 'geography',\n",
       "       'gender', 'age', 'tenure', 'balance', 'num_of_products', 'has_cr_card',\n",
       "       'is_active_member', 'estimated_salary', 'exited'],\n",
       "      dtype='object')"
      ]
     },
     "metadata": {},
     "output_type": "display_data"
    }
   ],
   "source": [
    "data = data.rename(columns = {'RowNumber': 'row_number','CustomerId': 'customer_id', \n",
    "                              'Surname': 'surname', 'CreditScore': 'credit_score', 'Geography': 'geography', \n",
    "                              'Gender': 'gender', 'Age': 'age', 'Tenure': 'tenure', 'Balance': 'balance',\n",
    "                             'NumOfProducts': 'num_of_products', 'HasCrCard': 'has_cr_card', 'IsActiveMember': 'is_active_member',\n",
    "                              'EstimatedSalary': 'estimated_salary', 'Exited': 'exited'})# переименование столбцов\n",
    "display(data.columns) # проверка результатов - перечень названий столбцов"
   ]
  },
  {
   "cell_type": "markdown",
   "metadata": {},
   "source": [
    "Проверим наличие в данных пропущенных значений."
   ]
  },
  {
   "cell_type": "code",
   "execution_count": 61,
   "metadata": {},
   "outputs": [
    {
     "data": {
      "text/plain": [
       "row_number            0\n",
       "customer_id           0\n",
       "surname               0\n",
       "credit_score          0\n",
       "geography             0\n",
       "gender                0\n",
       "age                   0\n",
       "tenure              909\n",
       "balance               0\n",
       "num_of_products       0\n",
       "has_cr_card           0\n",
       "is_active_member      0\n",
       "estimated_salary      0\n",
       "exited                0\n",
       "dtype: int64"
      ]
     },
     "execution_count": 61,
     "metadata": {},
     "output_type": "execute_result"
    }
   ],
   "source": [
    "data.isna().sum()"
   ]
  },
  {
   "cell_type": "code",
   "execution_count": 62,
   "metadata": {},
   "outputs": [
    {
     "data": {
      "text/plain": [
       "1.0     952\n",
       "2.0     950\n",
       "8.0     933\n",
       "3.0     928\n",
       "5.0     927\n",
       "7.0     925\n",
       "4.0     885\n",
       "9.0     882\n",
       "6.0     881\n",
       "10.0    446\n",
       "0.0     382\n",
       "Name: tenure, dtype: int64"
      ]
     },
     "execution_count": 62,
     "metadata": {},
     "output_type": "execute_result"
    }
   ],
   "source": [
    "data['tenure'].value_counts()"
   ]
  },
  {
   "cell_type": "code",
   "execution_count": 63,
   "metadata": {
    "scrolled": true
   },
   "outputs": [
    {
     "name": "stdout",
     "output_type": "stream",
     "text": [
      "Abazu\n",
      "Abbie\n",
      "Abbott\n",
      "Abdullah\n",
      "Abdulov\n",
      "Abel\n",
      "Abernathy\n",
      "Abramov\n",
      "Abramova\n",
      "Abramovich\n",
      "Abramowitz\n",
      "Abrego\n",
      "Abron\n",
      "Achebe\n",
      "Adams\n",
      "Adamson\n",
      "Afamefula\n",
      "Afamefuna\n",
      "Afanasyev\n",
      "Afanasyeva\n",
      "Agafonova\n",
      "Aguirre\n",
      "Ah Mouy\n",
      "Ahern\n",
      "Ahmed\n",
      "Aiken\n",
      "Aikenhead\n",
      "Ainsworth\n",
      "Aitken\n",
      "Ajuluchukwu\n",
      "Akabueze\n",
      "Akeroyd\n",
      "Akhtar\n",
      "Akobundu\n",
      "Aksakova\n",
      "Aksenov\n",
      "Aksenova\n",
      "Aksyonov\n",
      "Aksyonova\n",
      "Akubundu\n",
      "Akudinobi\n",
      "Alaniz\n",
      "Alderete\n",
      "Aldrich\n",
      "Aldridge\n",
      "Aleksandrova\n",
      "Alekseeva\n",
      "Alekseyeva\n",
      "Aleshire\n",
      "Alexander\n",
      "Alexandrov\n",
      "Alexandrova\n",
      "Alexeeva\n",
      "Alexeieva\n",
      "Alexeyeva\n",
      "Algarin\n",
      "Algeranoff\n",
      "Ali\n",
      "Aliyev\n",
      "Aliyeva\n",
      "Allan\n",
      "Allard\n",
      "Allardyce\n",
      "Allen\n",
      "Alley\n",
      "Alleyne\n",
      "Allingham\n",
      "Allnutt\n",
      "Allsop\n",
      "Alvares\n",
      "Alvarez\n",
      "Amadi\n",
      "Amaechi\n",
      "Amechi\n",
      "Amies\n",
      "Amos\n",
      "Ampt\n",
      "Anayochukwu\n",
      "Anayolisa\n",
      "Andersen\n",
      "Anderson\n",
      "Andreev\n",
      "Andrejew\n",
      "Andrews\n",
      "Andreyev\n",
      "Andreyeva\n",
      "Anenechi\n",
      "Anenechukwu\n",
      "Angel\n",
      "Angelo\n",
      "Ankudinov\n",
      "Ankudinova\n",
      "Ann\n",
      "Ansell\n",
      "Anthony\n",
      "Aparicio\n",
      "Arbour\n",
      "Archambault\n",
      "Archer\n",
      "Arcuri\n",
      "Ardis\n",
      "Argyle\n",
      "Arkwookerum\n",
      "Armfield\n",
      "Armit\n",
      "Armstrong\n",
      "Arnold\n",
      "Arnott\n",
      "Arrington\n",
      "Artamonova\n",
      "Artemiev\n",
      "Artemieva\n",
      "Artemova\n",
      "Artemyeva\n",
      "Arthur\n",
      "Artyomova\n",
      "Ash\n",
      "Ashbolt\n",
      "Asher\n",
      "Ashley\n",
      "Ashton\n",
      "Astorga\n",
      "Atherton\n",
      "Atkins\n",
      "Atkinson\n",
      "Austin\n",
      "Avdeev\n",
      "Avdeeva\n",
      "Avdeyeva\n",
      "Avent\n",
      "Averyanov\n",
      "Ayers\n",
      "Azarov\n",
      "Azikiwe\n",
      "Azubuike\n",
      "Azuka\n",
      "Babbage\n",
      "Baddeley\n",
      "Badgery\n",
      "Bage\n",
      "Bagley\n",
      "Bailey\n",
      "Bair\n",
      "Baird\n",
      "Baker\n",
      "Balashov\n",
      "Balashova\n",
      "Baldwin\n",
      "Bales\n",
      "Ball\n",
      "Ballard\n",
      "Balmain\n",
      "Balsillie\n",
      "Bancks\n",
      "Bancroft\n",
      "Band\n",
      "Banks\n",
      "Baranov\n",
      "Baranova\n",
      "Barber\n",
      "Barbour\n",
      "Barclay\n",
      "Barclay-Harvey\n",
      "Bardin\n",
      "Barese\n",
      "Baresi\n",
      "Barker\n",
      "Barling\n",
      "Barlow\n",
      "Barnard\n",
      "Barnes\n",
      "Barnet\n",
      "Barnett\n",
      "Barnhill\n",
      "Barrera\n",
      "Barrett\n",
      "Barry\n",
      "Bartlett\n",
      "Barton\n",
      "Barwell\n",
      "Baryshnikov\n",
      "Basedow\n",
      "Bateman\n",
      "Bates\n",
      "Bateson\n",
      "Batt\n",
      "Batty\n",
      "Baxter\n",
      "Bayley\n",
      "Bazarova\n",
      "Bazhenov\n",
      "Bazile\n",
      "Beach\n",
      "Beale\n",
      "Beam\n",
      "Bearce\n",
      "Beatham\n",
      "Beavers\n",
      "Becher\n",
      "Beck\n",
      "Becker\n",
      "Bednall\n",
      "Beede\n",
      "Beers\n",
      "Begg\n",
      "Beggs\n",
      "Begley\n",
      "Begum\n",
      "Beit\n",
      "Belbin\n",
      "Belcher\n",
      "Belisario\n",
      "Bell\n",
      "Bellasis\n",
      "Bellew\n",
      "Bellucci\n",
      "Belonwu\n",
      "Belousov\n",
      "Belov\n",
      "Belstead\n",
      "Beluchi\n",
      "Beneventi\n",
      "Benford\n",
      "Benjamin\n",
      "Bennelong\n",
      "Bennet\n",
      "Bennett\n",
      "Bennetts\n",
      "Benson\n",
      "Bentley\n",
      "Bergamaschi\n",
      "Bergman\n",
      "Berkeley\n",
      "Bermudez\n",
      "Berry\n",
      "Bess\n",
      "Bevan\n",
      "Bevington\n",
      "Beyer\n",
      "Bezrukov\n",
      "Bezrukova\n",
      "Bianchi\n",
      "Bibb\n",
      "Bibi\n",
      "Bidencope\n",
      "Bidwill\n",
      "Billson\n",
      "Binder\n",
      "Birch\n",
      "Bird\n",
      "Birdsall\n",
      "Birdseye\n",
      "Birk\n",
      "Birnie\n",
      "Biryukov\n",
      "Biryukova\n",
      "Bischof\n",
      "Bishop\n",
      "Bitter\n",
      "Black\n",
      "Blackall\n",
      "Blackburn\n",
      "Blacklock\n",
      "Blackwood\n",
      "Blair\n",
      "Blake\n",
      "Blakey\n",
      "Bledsoe\n",
      "Blesing\n",
      "Bligh\n",
      "Blinova\n",
      "Blue\n",
      "Bluett\n",
      "Boag\n",
      "Boan\n",
      "Board\n",
      "Bobrov\n",
      "Bocharova\n",
      "Bochsa\n",
      "Bock\n",
      "Bogdanov\n",
      "Bogdanova\n",
      "Bogle\n",
      "Bogolyubov\n",
      "Bogolyubova\n",
      "Bold\n",
      "Bolton\n",
      "Bond\n",
      "Bonham\n",
      "Boni\n",
      "Boniwell\n",
      "Bonwick\n",
      "Boone\n",
      "Booth\n",
      "Boothby\n",
      "Borchgrevink\n",
      "Bottrill\n",
      "Botts\n",
      "Boucaut\n",
      "Boulger\n",
      "Bovee\n",
      "Bowen\n",
      "Bowhay\n",
      "Bowman\n",
      "Boyd\n",
      "Boylan\n",
      "Boyle\n",
      "Bozeman\n",
      "Brabyn\n",
      "Bracewell\n",
      "Bradbury\n",
      "Bradley\n",
      "Bradshaw\n",
      "Brady\n",
      "Bray\n",
      "Brazenor\n",
      "Bremer\n",
      "Brenan\n",
      "Brennan\n",
      "Brewer\n",
      "Brient\n",
      "Brierly\n",
      "Briggs\n",
      "Brigstocke\n",
      "Brim\n",
      "Brizendine\n",
      "Broadhurst\n",
      "Brock\n",
      "Brodney\n",
      "Bromby\n",
      "Bromley\n",
      "Bronner\n",
      "Brookes\n",
      "Brookman\n",
      "Brooks\n",
      "Brothers\n",
      "Brown\n",
      "Browne\n",
      "Brownless\n",
      "Brownlow\n",
      "Bruce\n",
      "Bruche\n",
      "Bruner\n",
      "Bruno\n",
      "Bruny\n",
      "Bryan\n",
      "Bryant\n",
      "Buccho\n",
      "Buchanan\n",
      "Buchi\n",
      "Buckland\n",
      "Buckley\n",
      "Buckner\n",
      "Buda\n",
      "Buddicom\n",
      "Bufkin\n",
      "Builder\n",
      "Bukowski\n",
      "Buley\n",
      "Bulgakov\n",
      "Bull\n",
      "Bullen\n",
      "Bunton\n",
      "Burbidge\n",
      "Burdekin\n",
      "Burfitt\n",
      "Burgess\n",
      "Burgin\n",
      "Burgmann\n",
      "Burgos\n",
      "Burgoyne\n",
      "Burke\n",
      "Burlingame\n",
      "Burn\n",
      "Burns\n",
      "Burrows\n",
      "Burson\n",
      "Burt\n",
      "Burtch\n",
      "Burton\n",
      "Bushell\n",
      "Bustard\n",
      "Butcher\n",
      "Butler\n",
      "Buttenshaw\n",
      "Butters\n",
      "Butusov\n",
      "Bykov\n",
      "Byrne\n",
      "Caffyn\n",
      "Cairns\n",
      "Calabrese\n",
      "Calabresi\n",
      "Caldwell\n",
      "Calzada\n",
      "Cambage\n",
      "Cameron\n",
      "Campa\n",
      "Campbell\n",
      "Campos\n",
      "Candler\n",
      "Cantamessa\n",
      "Cantrell\n",
      "Capon\n",
      "Carandini\n",
      "Caraway\n",
      "Cardell\n",
      "Cardus\n",
      "Carey\n",
      "Carlson\n",
      "Carpenter\n",
      "Carr\n",
      "Carroll\n",
      "Carruthers\n",
      "Carslaw\n",
      "Cartagena\n",
      "Carter\n",
      "Cartwright\n",
      "Carvosso\n",
      "Cary\n",
      "Cashin\n",
      "Castella\n",
      "Castiglione\n",
      "Castillo\n",
      "Castles\n",
      "Castro\n",
      "Catchpole\n",
      "Cattaneo\n",
      "Cavenagh\n",
      "Cavill\n",
      "Cawker\n",
      "Cawood\n",
      "Cawthorne\n",
      "Cayley\n",
      "Cecil\n",
      "Celis\n",
      "Ch'ang\n",
      "Ch'en\n",
      "Ch'eng\n",
      "Ch'ien\n",
      "Ch'in\n",
      "Ch'iu\n",
      "Chadwick\n",
      "Challis\n",
      "Chalmers\n",
      "Chamberlain\n",
      "Chamberlin\n",
      "Chambers\n",
      "Champion\n",
      "Chan\n",
      "Chandler\n",
      "Chang\n",
      "Chao\n",
      "Chapman\n",
      "Charlton\n",
      "Charteris\n",
      "Chase\n",
      "Chatfield\n",
      "Cheatham\n",
      "Chen\n",
      "Cheng\n",
      "Cherkasova\n",
      "Chesnokova\n",
      "Chester\n",
      "Chia\n",
      "Chiabuotu\n",
      "Chiagoziem\n",
      "Chialuka\n",
      "Chiang\n",
      "Chiawuotu\n",
      "Chiazagomekpele\n",
      "Chiazagomekpere\n",
      "Chibueze\n",
      "Chibugo\n",
      "Chibuzo\n",
      "Chidalu\n",
      "Chidi\n",
      "Chidiebele\n",
      "Chidiebere\n",
      "Chidiegwu\n",
      "Chidimma\n",
      "Chidozie\n",
      "Chidubem\n",
      "Chidumaga\n",
      "Chiebuka\n",
      "Chiedozie\n",
      "Chiefo\n",
      "Chiekwugo\n",
      "Chieloka\n",
      "Chiemeka\n",
      "Chiemela\n",
      "Chiemenam\n",
      "Chiemezie\n",
      "Chien\n",
      "Chienezie\n",
      "Chifley\n",
      "Chifo\n",
      "Chiganu\n",
      "Chigbogu\n",
      "Chigolum\n",
      "Chigozie\n",
      "Chijindum\n",
      "Chijioke\n",
      "Chikelu\n",
      "Chikere\n",
      "Chikezie\n",
      "Chikwado\n",
      "Chikwendu\n",
      "Childs\n",
      "Chill\n",
      "Chimaijem\n",
      "Chimaobim\n",
      "Chimaoke\n",
      "Chimaraoke\n",
      "Chimezie\n",
      "Chin\n",
      "Chinagorom\n",
      "Chinedum\n",
      "Chineze\n",
      "Chinomso\n",
      "Chinonyelum\n",
      "Chinweike\n",
      "Chinwemma\n",
      "Chinwendu\n",
      "Chinwenma\n",
      "Chinweuba\n",
      "Chioke\n",
      "Chiu\n",
      "Chiwetelu\n",
      "Chizoba\n",
      "Chizuoke\n",
      "Chong\n",
      "Chou\n",
      "Christian\n",
      "Christie\n",
      "Christmas\n",
      "Christopher\n",
      "Chu\n",
      "Chuang\n",
      "Chubb\n",
      "Chukwualuka\n",
      "Chukwubuikem\n",
      "Chukwudi\n",
      "Chukwuebuka\n",
      "Chukwueloka\n",
      "Chukwuemeka\n",
      "Chukwufumnanya\n",
      "Chukwuhaenye\n",
      "Chukwujamuike\n",
      "Chukwujekwu\n",
      "Chukwukadibia\n",
      "Chukwukere\n",
      "Chukwuma\n",
      "Chukwumaobim\n",
      "Chukwunonso\n",
      "Chukwuraenye\n",
      "Chung\n",
      "Chuter\n",
      "Cisneros\n",
      "Claiborne\n",
      "Clamp\n",
      "Clancy\n",
      "Clapp\n",
      "Clark\n",
      "Clarke\n",
      "Claypool\n",
      "Clayton\n",
      "Clements\n",
      "Clendinnen\n",
      "Cleveland\n",
      "Clifton\n",
      "Clogstoun\n",
      "Clunie\n",
      "Coates\n",
      "Cobb\n",
      "Coburn\n",
      "Cocci\n",
      "Cochran\n",
      "Cockett\n",
      "Cockrum\n",
      "Cody\n",
      "Coffee\n",
      "Coffey\n",
      "Coffman\n",
      "Cohn\n",
      "Colbert\n",
      "Cole\n",
      "Colebatch\n",
      "Coleman\n",
      "Coles\n",
      "Collee\n",
      "Collier\n",
      "Collingridge de Tourcey\n",
      "Collins\n",
      "Colman\n",
      "Colombo\n",
      "Colon\n",
      "Combes\n",
      "Combs\n",
      "Compton\n",
      "Cone\n",
      "Congreve\n",
      "Connely\n",
      "Connolly\n",
      "Connor\n",
      "Conti\n",
      "Converse\n",
      "Conway\n",
      "Cook\n",
      "Cooke\n",
      "Cookson\n",
      "Coombes\n",
      "Cooper\n",
      "Copeland\n",
      "Coppin\n",
      "Corbett\n",
      "Corby\n",
      "Corones\n",
      "Corran\n",
      "Corrie\n",
      "Corser\n",
      "Corson\n",
      "Costa\n",
      "Coupp\n",
      "Cousens\n",
      "Cover\n",
      "Cowen\n",
      "Cowger\n",
      "Cox\n",
      "Crace\n",
      "Craig\n",
      "Craigie\n",
      "Cran\n",
      "Crawford\n",
      "Creel\n",
      "Cremin\n",
      "Cremonesi\n",
      "Creswell\n",
      "Cribb\n",
      "Crist\n",
      "Crocker\n",
      "Cross\n",
      "Crotty\n",
      "Crowther\n",
      "Crumbley\n",
      "Crump\n",
      "Cruz\n",
      "Culbreth\n",
      "Cullen\n",
      "Cumbrae-Stewart\n",
      "Cummins\n",
      "Cunningham\n",
      "Curnow\n",
      "Currey\n",
      "Curtis\n",
      "Custance\n",
      "Cyril\n",
      "Czajkowski\n",
      "D'Albertis\n",
      "Dahlenburg\n",
      "Daigle\n",
      "Dale\n",
      "Dalrymple\n",
      "Dalton\n",
      "Daluchi\n",
      "Daly\n",
      "Dancy\n",
      "Daniels\n",
      "Dann\n",
      "Darling\n",
      "Darwin\n",
      "Davey\n",
      "David\n",
      "Davide\n",
      "Davidson\n",
      "Davies\n",
      "Davila\n",
      "Davis\n",
      "Davison\n",
      "Davy\n",
      "Davydova\n",
      "Dawkins\n",
      "Dawson\n",
      "Day\n",
      "De Bernales\n",
      "De Garis\n",
      "De Luca\n",
      "De Mestre\n",
      "De Neeve\n",
      "De Salis\n",
      "DeRose\n",
      "Dean\n",
      "Debellis\n",
      "Defalco\n",
      "Degtyarev\n",
      "Degtyaryov\n",
      "Deleon\n",
      "Dellucci\n",
      "Demaine\n",
      "Demidov\n",
      "Demuth\n",
      "Denisov\n",
      "Denisova\n",
      "Denman\n",
      "Dennis\n",
      "Dennys\n",
      "Descoteaux\n",
      "Despeissis\n",
      "Dettmann\n",
      "Diaz\n",
      "Dickinson\n",
      "Dickson\n",
      "Diehl\n",
      "Dietz\n",
      "Diggs\n",
      "Dike\n",
      "Dilibe\n",
      "Dilke\n",
      "Dillon\n",
      "Dimauro\n",
      "Dipietro\n",
      "Diribe\n",
      "Disher\n",
      "Distefano\n",
      "Dixon\n",
      "Dobbs\n",
      "Dobie\n",
      "Dobson\n",
      "Docherty\n",
      "Dodd\n",
      "Dodds\n",
      "Dodgshun\n",
      "Doherty\n",
      "Dolgorukova\n",
      "Dominguez\n",
      "Donaghy\n",
      "Donahue\n",
      "Donaldson\n",
      "Donnelly\n",
      "Donoghue\n",
      "Dore\n",
      "Douglas\n",
      "Downer\n",
      "Downie\n",
      "Dowse\n",
      "Doyle\n",
      "Doyne\n",
      "Drake\n",
      "Drake-Brockman\n",
      "Drakeford\n",
      "Dreyer\n",
      "Drury\n",
      "Du Cane\n",
      "Dubinina\n",
      "Duffy\n",
      "Dufresne\n",
      "Duggan\n",
      "Duigan\n",
      "Duke\n",
      "Dulhunty\n",
      "Dumetochukwu\n",
      "Dumetolisa\n",
      "Dumolo\n",
      "Dunbabin\n",
      "Duncan\n",
      "Dunn\n",
      "Durant\n",
      "Dwyer\n",
      "Dyer\n",
      "Dynon\n",
      "Dyson\n",
      "Eames\n",
      "Earl\n",
      "Earle\n",
      "Ebelechukwu\n",
      "Ebelegbulam\n",
      "Eberechukwu\n",
      "Eberegbulam\n",
      "Echezonachukwu\n",
      "Ecuyer\n",
      "Eddy\n",
      "Edgar\n",
      "Edith\n",
      "Edman\n",
      "Edments\n",
      "Edmondson\n",
      "Edmondstone\n",
      "Edmund la Touche\n",
      "Edwards\n",
      "Efimov\n",
      "Efremov\n",
      "Efremova\n",
      "Egobudike\n",
      "Eidson\n",
      "Eiland\n",
      "Eipper\n",
      "Ejikemeifeuwa\n",
      "Ejimofor\n",
      "Ekechukwu\n",
      "Ekwueme\n",
      "Elder\n",
      "Elewechi\n",
      "Elizabeth\n",
      "Elkins\n",
      "Elliot\n",
      "Elliott\n",
      "Ellis\n",
      "Elmore\n",
      "Eluemuno\n",
      "Emenike\n",
      "Emery\n",
      "Enderby\n",
      "Endrizzi\n",
      "Enemuo\n",
      "Enriquez\n",
      "Enticknap\n",
      "Enyinnaya\n",
      "Eremenko\n",
      "Ermakov\n",
      "Ermakova\n",
      "Ershova\n",
      "Erskine\n",
      "Ervin\n",
      "Eskridge\n",
      "Esomchi\n",
      "Espinosa\n",
      "Esposito\n",
      "Esquivel\n",
      "Estep\n",
      "Estes\n",
      "Estrada\n",
      "Etheridge\n",
      "Eva\n",
      "Evans\n",
      "Evdokimov\n",
      "Eve\n",
      "Everett\n",
      "Everingham\n",
      "Evseev\n",
      "Evseyev\n",
      "Ewen\n",
      "Ewers\n",
      "Ewing\n",
      "Fabro\n",
      "Fadden\n",
      "Fairley\n",
      "Fallaci\n",
      "Fan\n",
      "Fancher\n",
      "Fane\n",
      "Fang\n",
      "Fantin\n",
      "Fanucci\n",
      "Farber\n",
      "Faria\n",
      "Farmer\n",
      "Farnsworth\n",
      "Farrar\n",
      "Farrell\n",
      "Faulk\n",
      "Faulkner\n",
      "Favors\n",
      "Fedorov\n",
      "Fedorova\n",
      "Feetham\n",
      "Felix\n",
      "Feng\n",
      "Fennell\n",
      "Fennescey\n",
      "Fenton\n",
      "Ferdinand\n",
      "Ferguson\n",
      "Fermin\n",
      "Fernandez\n",
      "Fernando\n",
      "Fernie\n",
      "Ferrari\n",
      "Ferreira\n",
      "Ferri\n",
      "Fetherstonhaugh\n",
      "Field\n",
      "Fielding\n",
      "Fields\n",
      "Finch\n",
      "Findlay\n",
      "Fink\n",
      "Fiore\n",
      "Fiorentini\n",
      "Fiorentino\n",
      "Fischer\n",
      "Fishbourne\n",
      "Fisher\n",
      "Fisk\n",
      "Fitch\n",
      "Fitts\n",
      "Fitzgerald\n",
      "Fitzpatrick\n",
      "Flannagan\n",
      "Flannery\n",
      "Fleetwood-Smith\n",
      "Fleming\n",
      "Flemming\n",
      "Fletcher\n",
      "Flores\n",
      "Floyd\n",
      "Flynn\n",
      "Fokina\n",
      "Fokine\n",
      "Foley\n",
      "Folliero\n",
      "Fomin\n",
      "Fomina\n",
      "Fontaine\n",
      "Fontenot\n",
      "Foran\n",
      "Forbes\n",
      "Ford\n",
      "Forlonge\n",
      "Forster\n",
      "Forwood\n",
      "Foster\n",
      "Foveaux\n",
      "Fowler\n",
      "Fox\n",
      "Foxall\n",
      "Francis\n",
      "Frankland\n",
      "Franklin\n",
      "Franz\n",
      "Fraser\n",
      "Frater\n",
      "Frederick\n",
      "Frederickson\n",
      "Freeman\n",
      "French\n",
      "Frewin\n",
      "Fries\n",
      "Froggatt\n",
      "Frolov\n",
      "Frolova\n",
      "Frost\n",
      "Frye\n",
      "Fu\n",
      "Fulks\n",
      "Fuller\n",
      "Fullwood\n",
      "Fulton\n",
      "Furneaux\n",
      "Fyans\n",
      "Fyodorov\n",
      "Fyodorova\n",
      "Gadsden\n",
      "Gadsdon\n",
      "Gaffney\n",
      "Galgano\n",
      "Galkin\n",
      "Galkina\n",
      "Gallagher\n",
      "Gallo\n",
      "Gallop\n",
      "Galloway\n",
      "Gamble\n",
      "Gambrell\n",
      "Game\n",
      "Gannon\n",
      "Gant\n",
      "Garcia\n",
      "Gardener\n",
      "Gardiner\n",
      "Gardner\n",
      "Garland\n",
      "Garmon\n",
      "Garner\n",
      "Garnsey\n",
      "Garran\n",
      "Garrett\n",
      "Gartrell\n",
      "Gay\n",
      "Gboliwe\n",
      "Geach\n",
      "Gearhart\n",
      "Gearheart\n",
      "Gebhart\n",
      "Gell\n",
      "Genovese\n",
      "Genovesi\n",
      "Gentry\n",
      "Geoghegan\n",
      "Georg\n",
      "George\n",
      "Gerald\n",
      "Gerasimov\n",
      "Gerasimova\n",
      "Gether\n",
      "Gibbons\n",
      "Gibbs\n",
      "Gibney\n",
      "Gibson\n",
      "Gidney\n",
      "Gilbert\n",
      "Gilchrist\n",
      "Giles\n",
      "Gill\n",
      "Gilleland\n",
      "Gilroy\n",
      "Ginikanwa\n",
      "Ginn\n",
      "Giordano\n",
      "Glasgow\n",
      "Glassman\n",
      "Glauert\n",
      "Glazkov\n",
      "Gleeson\n",
      "Glennon\n",
      "Glenny\n",
      "Glossop\n",
      "Glover\n",
      "Goddard\n",
      "Godfrey\n",
      "Godson\n",
      "Goering\n",
      "Goforth\n",
      "Golibe\n",
      "Goliwe\n",
      "Goloubev\n",
      "Golovanov\n",
      "Golubev\n",
      "Golubeva\n",
      "Golubov\n",
      "Golubova\n",
      "Gomes\n",
      "Gonzalez\n",
      "Goodman\n",
      "Goodwin\n",
      "Goold\n",
      "Gorbunov\n",
      "Gorbunova\n",
      "Gordon\n",
      "Gorman\n",
      "Gorshkov\n",
      "Gosnell\n",
      "Gotch\n",
      "Gouger\n",
      "Gough\n",
      "Gould\n",
      "Gow\n",
      "Graham\n",
      "Grant\n",
      "Gratton\n",
      "Gratwick\n",
      "Grave\n",
      "Gray\n",
      "Greathouse\n",
      "Greaves\n",
      "Greco\n",
      "Greece\n",
      "Green\n",
      "Greene\n",
      "Greenhalgh\n",
      "Greenwalt\n",
      "Greenwood\n",
      "Greeves\n",
      "Gregory\n",
      "Gregson\n",
      "Gresswell\n",
      "Grieve\n",
      "Griffen\n",
      "Griffin\n",
      "Griffiths\n",
      "Grigoryeva\n",
      "Grimmett\n",
      "Groom\n",
      "Grosse\n",
      "Grover\n",
      "Groves\n",
      "Grubb\n",
      "Guerin\n",
      "Guerra\n",
      "Guidry\n",
      "Gunson\n",
      "Gunter\n",
      "H?\n",
      "Hackett\n",
      "Haddon\n",
      "Hagins\n",
      "Hairston\n",
      "Hajek\n",
      "Hale\n",
      "Hales\n",
      "Hall\n",
      "Hallahan\n",
      "Halpern\n",
      "Ham\n",
      "Hamilton\n",
      "Hammer\n",
      "Hammond\n",
      "Hammonds\n",
      "Hampton\n",
      "Han\n",
      "Hancock\n",
      "Hand\n",
      "Hankinson\n",
      "Hanna\n",
      "Hannaford\n",
      "Hannah\n",
      "Hannam\n",
      "Hansen\n",
      "Hanson\n",
      "Hao\n",
      "Hardacre\n",
      "Hardiman\n",
      "Harding\n",
      "Hardy\n",
      "Hare\n",
      "Harewood\n",
      "Hargrave\n",
      "Hargraves\n",
      "Hargreaves\n",
      "Harker\n",
      "Harper\n",
      "Harrell\n",
      "Harriman\n",
      "Harrington\n",
      "Harris\n",
      "Harrison\n",
      "Hart\n",
      "Hartley\n",
      "Hartung\n",
      "Hartzler\n",
      "Harvey\n",
      "Hassall\n",
      "Haugh\n",
      "Hawdon\n",
      "Hawes\n",
      "Hawkins\n",
      "Hawks\n",
      "Haworth\n",
      "Hawthorn\n",
      "Hay\n",
      "Hayden\n",
      "Hayes\n",
      "Hayes-Williams\n",
      "Haynes\n",
      "Hayslett\n",
      "Hayward\n",
      "Hazon\n",
      "He\n",
      "Heap\n",
      "Heard\n",
      "Hearn\n",
      "Heath\n",
      "Hebert\n",
      "Helena\n",
      "Heller\n",
      "Henderson\n",
      "Hendley\n",
      "Hendrick\n",
      "Henning\n",
      "Henry\n",
      "Henty\n",
      "Herbert\n",
      "Hernandez\n",
      "Herrera\n",
      "Herrin\n",
      "Herring\n",
      "Herz\n",
      "Hess\n",
      "Hewitt\n",
      "Heydon\n",
      "Hibbins\n",
      "Hickey\n",
      "Hicks\n",
      "Higgins\n",
      "Highett\n",
      "Highland\n",
      "Hightower\n",
      "Higinbotham\n",
      "Hill\n",
      "Hilton\n",
      "Hingston\n",
      "Hinton\n",
      "Hirst\n",
      "Hixson\n",
      "Ho\n",
      "Hobbs\n",
      "Hobler\n",
      "Hobson\n",
      "Hodge\n",
      "Hodgson\n",
      "Hoelscher\n",
      "Holbrook\n",
      "Holden\n",
      "Holder\n",
      "Holland\n",
      "Hollis\n",
      "Holloway\n",
      "Holman\n",
      "Holmes\n",
      "Holmwood\n",
      "Holt\n",
      "Honore\n",
      "Hooker\n",
      "Hoolan\n",
      "Hooper\n",
      "Hope\n",
      "Hopetoun\n",
      "Hopkins\n",
      "Hopman\n",
      "Hopwood\n",
      "Horan\n",
      "Hornung\n",
      "Horrocks\n",
      "Horsfall\n",
      "Horsley\n",
      "Hort\n",
      "Horton\n",
      "Hotchin\n",
      "Hou\n",
      "Houghton\n",
      "Hovell\n",
      "Howard\n",
      "Howarde\n",
      "Howarth\n",
      "Howe\n",
      "Howell\n",
      "Howell-Price\n",
      "Howells\n",
      "Howey\n",
      "Hs?\n",
      "Hs?eh\n",
      "Hsia\n",
      "Hsiao\n",
      "Hsieh\n",
      "Hsing\n",
      "Hsiung\n",
      "Hsu\n",
      "Hsueh\n",
      "Hu\n",
      "Huang\n",
      "Huddart\n",
      "Hudson\n",
      "Huggins\n",
      "Hughes\n",
      "Hughes-Jones\n",
      "Huguley\n",
      "Huie\n",
      "Hull\n",
      "Humffray\n",
      "Humphreys\n",
      "Humphries\n",
      "Hung\n",
      "Hunt\n",
      "Hunter\n",
      "Hurst\n",
      "Hussain\n",
      "Hussey\n",
      "Hutcheon\n",
      "Hutchinson\n",
      "Hyde\n",
      "Hysell\n",
      "Iadanza\n",
      "Ibbott\n",
      "Ibeabuchi\n",
      "Ibeamaka\n",
      "Ibekwe\n",
      "Ibezimako\n",
      "Ibragimova\n",
      "Ibrahimov\n",
      "Ibrahimova\n",
      "Ifeajuna\n",
      "Ifeanacho\n",
      "Ifeanyichukwu\n",
      "Ifeatu\n",
      "Ifesinachi\n",
      "Ignatieff\n",
      "Ignatiev\n",
      "Ignatyev\n",
      "Ignatyeva\n",
      "Igwebuike\n",
      "Iheanacho\n",
      "Iheatu\n",
      "Ijendu\n",
      "Ikechukwu\n",
      "Ikedinachukwu\n",
      "Ikemefuna\n",
      "Ikenna\n",
      "Illingworth\n",
      "Iloabuchi\n",
      "Iloerika\n",
      "Ilyina\n",
      "Ingamells\n",
      "Ingle\n",
      "Ingram\n",
      "Ingrassia\n",
      "Inman\n",
      "Innes\n",
      "Iqbal\n",
      "Iredale\n",
      "Ireland\n",
      "Iroawuchi\n",
      "Isaacs\n",
      "Isayev\n",
      "Isayeva\n",
      "Istomin\n",
      "Ives\n",
      "Iweobiegbulam\n",
      "Iweobiegbunam\n",
      "Izmailov\n",
      "Izmailova\n",
      "Izuchukwu\n",
      "Jack\n",
      "Jacka\n",
      "Jackson\n",
      "James\n",
      "Jamieson\n",
      "Jamison\n",
      "Jara\n",
      "Jarvis\n",
      "Jefferies\n",
      "Jefferson\n",
      "Jeffrey\n",
      "Jen\n",
      "Jenkins\n",
      "Jenks\n",
      "Jennings\n",
      "Jensen\n",
      "Jerger\n",
      "Jess\n",
      "Jessop\n",
      "Jibunoh\n",
      "Jideofor\n",
      "Jimenez\n",
      "Jobson\n",
      "John\n",
      "Johnson\n",
      "Johnston\n",
      "Johnstone\n",
      "Jolly\n",
      "Jonathan\n",
      "Jones\n",
      "Jordan\n",
      "Jose\n",
      "Joseph\n",
      "Joshua\n",
      "Joslin\n",
      "Jowers\n",
      "Jowett\n",
      "Judd\n",
      "Jude\n",
      "Justice\n",
      "K'ung\n",
      "K?\n",
      "Kable\n",
      "Kaeppel\n",
      "Kaleski\n",
      "Kalinin\n",
      "Kalinina\n",
      "Kambinachi\n",
      "Kamdibe\n",
      "Kanayochukwu\n",
      "Kane\n",
      "Kang\n",
      "Kao\n",
      "Kaodilinakachukwu\n",
      "Kapustin\n",
      "Kapustina\n",
      "Kashiwagi\n",
      "Kauffmann\n",
      "Kaur\n",
      "Kay\n",
      "Kazakova\n",
      "Kazantsev\n",
      "Kazantseva\n",
      "Keane\n",
      "Keating\n",
      "Keeley\n",
      "Keen\n",
      "Kegley\n",
      "Keldie\n",
      "Kelechi\n",
      "Kelley\n",
      "Kellway\n",
      "Kelly\n",
      "Kemp\n",
      "Kendall\n",
      "Kenechi\n",
      "Kenechukwu\n",
      "Kenenna\n",
      "Kennedy\n",
      "Kenniff\n",
      "Kent\n",
      "Kentish\n",
      "Kenyon\n",
      "Kepley\n",
      "Kerr\n",
      "Kershaw\n",
      "Kesteven\n",
      "Khan\n",
      "Kharitonova\n",
      "Kharlamov\n",
      "Kharlamova\n",
      "Kibble\n",
      "Kibby\n",
      "Kiernan\n",
      "Kilgour\n",
      "Kincaid\n",
      "Kinder\n",
      "King\n",
      "Kingsley\n",
      "Kinlaw\n",
      "Kinney\n",
      "Kirby\n",
      "Kirillov\n",
      "Kirillova\n",
      "Kirk\n",
      "Kirkland\n",
      "Kirsova\n",
      "Kirwan\n",
      "Kisch\n",
      "Kistler\n",
      "Klein\n",
      "Kline\n",
      "Knepper\n",
      "Knight\n",
      "Knipe\n",
      "Knorr\n",
      "Knowles\n",
      "Knox\n",
      "Knupp\n",
      "Ko\n",
      "Koch\n",
      "Kodilinyechukwu\n",
      "Koehler\n",
      "Koger\n",
      "Kolesnikov\n",
      "Kolesnikova\n",
      "Komar\n",
      "Komarova\n",
      "Konovalova\n",
      "Koo\n",
      "Korff\n",
      "Kornilova\n",
      "Korovin\n",
      "Korovina\n",
      "Kosisochukwu\n",
      "Kosovich\n",
      "Kovalev\n",
      "Kovaleva\n",
      "Kovalyov\n",
      "Kovalyova\n",
      "Kozlova\n",
      "Kramer\n",
      "Krawczyk\n",
      "Krichauff\n",
      "Krischock\n",
      "Kruglov\n",
      "Kruglova\n",
      "Krylov\n",
      "Kryukov\n",
      "Kryukova\n",
      "Ku\n",
      "Kudryashova\n",
      "Kulikova\n",
      "Kumm\n",
      "Kung\n",
      "Kuo\n",
      "Kuykendall\n",
      "Kuznetsova\n",
      "Kwemto\n",
      "Kwemtochukwu\n",
      "L?\n",
      "Lablanc\n",
      "Labrador\n",
      "Lacross\n",
      "Lafleur\n",
      "Lahti\n",
      "Lai\n",
      "Laidley\n",
      "Lajoie\n",
      "Lamb\n",
      "Lambert\n",
      "Lambie\n",
      "Lamble\n",
      "Lampungmeiua\n",
      "Landman\n",
      "Landor\n",
      "Landry\n",
      "Landseer\n",
      "Lane\n",
      "Laney\n",
      "Lanford\n",
      "Lang\n",
      "Langdon\n",
      "Lange\n",
      "Langlands\n",
      "Langler\n",
      "Lappin\n",
      "Larionova\n",
      "Larkin\n",
      "Larsen\n",
      "Larson\n",
      "Lascelles\n",
      "Lassetter\n",
      "Lattimore\n",
      "Laura\n",
      "Laurens\n",
      "Laurie\n",
      "Lavarack\n",
      "Lavine\n",
      "Lavrentiev\n",
      "Lavrentyev\n",
      "Lavrov\n",
      "Law\n",
      "Lawless\n",
      "Lawley\n",
      "Lawrence\n",
      "Lawson\n",
      "Lay\n",
      "Layh\n",
      "Lazar\n",
      "Lazarev\n",
      "Lazareva\n",
      "Le Gallienne\n",
      "Le Grand\n",
      "Le Hunte\n",
      "Lea\n",
      "Leach\n",
      "Leak\n",
      "Lear\n",
      "Learmonth\n",
      "Leason\n",
      "Leckie\n",
      "Lederer\n",
      "Ledford\n",
      "Lee\n",
      "Lees\n",
      "Lehr\n",
      "Lei\n",
      "Leibius\n",
      "Lenhardt\n",
      "Lennox\n",
      "Leonard\n",
      "Lettiere\n",
      "Levan\n",
      "Levi\n",
      "Levien\n",
      "Levy\n",
      "Lewis\n",
      "Leworthy\n",
      "Li\n",
      "Li Fonti\n",
      "Liang\n",
      "Liao\n",
      "Liardet\n",
      "Liebe\n",
      "Light\n",
      "Lilly\n",
      "Lim\n",
      "Lin\n",
      "Lindell\n",
      "Lindeman\n",
      "Lindon\n",
      "Lindsay\n",
      "Linger\n",
      "Linton\n",
      "Lionel\n",
      "Lipton\n",
      "Lira\n",
      "Liston\n",
      "Little\n",
      "Liu\n",
      "Lloyd\n",
      "Lo\n",
      "Lo Duca\n",
      "Loane\n",
      "Lock\n",
      "Locke\n",
      "Lockett\n",
      "Lockington\n",
      "Lockyer\n",
      "Loewenthal\n",
      "Loftus\n",
      "Logan\n",
      "Loggia\n",
      "Loginov\n",
      "Logue\n",
      "Lombardi\n",
      "Lombardo\n",
      "Long\n",
      "Longo\n",
      "Longstaff\n",
      "Lopez\n",
      "Lord\n",
      "Lorenzen\n",
      "Lorenzo\n",
      "Lori\n",
      "Lorimer\n",
      "Loton\n",
      "Louis\n",
      "Lovely\n",
      "Loving\n",
      "Lowe\n",
      "Lowell\n",
      "Lowrie\n",
      "Loyau\n",
      "Lu\n",
      "Lucas\n",
      "Lucchese\n",
      "Lucchesi\n",
      "Lucciano\n",
      "Ludowici\n",
      "Lueck\n",
      "Luffman\n",
      "Lujan\n",
      "Lumholtz\n",
      "Lung\n",
      "Lupton\n",
      "Lynch\n",
      "Lynton\n",
      "Lyons\n",
      "Lysaght\n",
      "Ma\n",
      "MacDevitt\n",
      "MacDonald\n",
      "MacDonnell\n",
      "MacPherson\n",
      "Macadam\n",
      "Macarthur\n",
      "Macartney\n",
      "Maccallum\n",
      "Macdonald\n",
      "Macfarlan\n",
      "Macgroarty\n",
      "Mach\n",
      "Macintyre\n",
      "Mack\n",
      "Mackay\n",
      "Mackenzie\n",
      "Mackey\n",
      "Mackie\n",
      "Mackinlay\n",
      "Macknight\n"
     ]
    },
    {
     "name": "stdout",
     "output_type": "stream",
     "text": [
      "Maclean\n",
      "Macleod\n",
      "Macnamara\n",
      "Maconochie\n",
      "Macrossan\n",
      "Mactier\n",
      "Macvitie\n",
      "Madison\n",
      "Maduabuchim\n",
      "Madueke\n",
      "Madukaego\n",
      "Madukaife\n",
      "Madukwe\n",
      "Maggard\n",
      "Maher\n",
      "Mahmood\n",
      "Mahomed\n",
      "Mahon\n",
      "Mai\n",
      "Mairinger\n",
      "Maitland\n",
      "Major\n",
      "Malloy\n",
      "Mamelu\n",
      "Mancini\n",
      "Manfrin\n",
      "Mann\n",
      "Manna\n",
      "Manners\n",
      "Manning\n",
      "Mansom\n",
      "Mao\n",
      "Marcelo\n",
      "Marchesi\n",
      "Marcum\n",
      "Marcus\n",
      "Marian\n",
      "Marino\n",
      "Mario\n",
      "Marks\n",
      "Marquez\n",
      "Marrero\n",
      "Marsden\n",
      "Marsh\n",
      "Marshall\n",
      "Marshall-Hall\n",
      "Martel\n",
      "Martin\n",
      "Martinez\n",
      "Maruff\n",
      "Mashman\n",
      "Maslov\n",
      "Maslova\n",
      "Maslow\n",
      "Mason\n",
      "Massie\n",
      "Mathews\n",
      "Matlock\n",
      "Matthews\n",
      "Matthias\n",
      "Matveyev\n",
      "Matveyeva\n",
      "Maughan\n",
      "Mauldon\n",
      "Mault\n",
      "Maurer\n",
      "Maxwell\n",
      "May\n",
      "Maynard\n",
      "Mayne\n",
      "Mayrhofer\n",
      "Mays\n",
      "Mazure\n",
      "Mazzanti\n",
      "Mazzi\n",
      "Mbadiwe\n",
      "Mbanefo\n",
      "McBurney\n",
      "McCaffrey\n",
      "McCall\n",
      "McCane\n",
      "McCardle\n",
      "McCarthy\n",
      "McCartney\n",
      "McCawley\n",
      "McChesney\n",
      "McClaran\n",
      "McClemans\n",
      "McClinton\n",
      "McCollum\n",
      "McConnell\n",
      "McCulloch\n",
      "McDaniels\n",
      "McDavid\n",
      "McDonald\n",
      "McDowell\n",
      "McElhone\n",
      "McElroy\n",
      "McElyea\n",
      "McEncroe\n",
      "McEwan\n",
      "McFarland\n",
      "McGarry\n",
      "McGill\n",
      "McGregor\n",
      "McGuffog\n",
      "McGuigan\n",
      "McGuirk\n",
      "McIntosh\n",
      "McIntyre\n",
      "McIver\n",
      "McKay\n",
      "McKee\n",
      "McKelvey\n",
      "McKenzie\n",
      "McKinley\n",
      "McKinnon\n",
      "McKissick\n",
      "McLachlan\n",
      "McLean\n",
      "McMasters\n",
      "McMillan\n",
      "McMinn\n",
      "McMorran\n",
      "McNaughtan\n",
      "McNeil\n",
      "McNeill\n",
      "McNess\n",
      "McVey\n",
      "McWilliam\n",
      "McWilliams\n",
      "Mead\n",
      "Meagher\n",
      "Meany\n",
      "Medland\n",
      "Medvedev\n",
      "Medvedeva\n",
      "Meldrum\n",
      "Melendez\n",
      "Mello\n",
      "Mellor\n",
      "Melton\n",
      "Melvin\n",
      "Mendes\n",
      "Meng\n",
      "Menhennitt\n",
      "Menkens\n",
      "Meredith\n",
      "Merrett\n",
      "Messersmith\n",
      "Metcalf\n",
      "Metcalfe\n",
      "Miah\n",
      "Micco\n",
      "Michael\n",
      "Michel\n",
      "Michelides\n",
      "Mickey\n",
      "Micklem\n",
      "Middleton\n",
      "Mikkelsen\n",
      "Milanesi\n",
      "Milani\n",
      "Milano\n",
      "Miles\n",
      "Millar\n",
      "Miller\n",
      "Milligan\n",
      "Milliner\n",
      "Mills\n",
      "Milne\n",
      "Miracle\n",
      "Mirams\n",
      "Miranda\n",
      "Mironov\n",
      "Mironova\n",
      "Mishin\n",
      "Mishina\n",
      "Mistry\n",
      "Mitchel\n",
      "Mitchell\n",
      "Moen\n",
      "Moffitt\n",
      "Mofflin\n",
      "Molineux\n",
      "Molle\n",
      "Mollison\n",
      "Monaldo\n",
      "Monds\n",
      "Monnier\n",
      "Montague\n",
      "Montalvo\n",
      "Montemayor\n",
      "Montes\n",
      "Montgomery\n",
      "Moody\n",
      "Moon\n",
      "Moore\n",
      "Morales\n",
      "Moran\n",
      "Morant\n",
      "Mordvinova\n",
      "More\n",
      "Morehead\n",
      "Moreno\n",
      "Moretti\n",
      "Morey\n",
      "Morgan\n",
      "Morin\n",
      "Morley\n",
      "Moroney\n",
      "Morphett\n",
      "Morres\n",
      "Morrice\n",
      "Morris\n",
      "Morrison\n",
      "Mort\n",
      "Morton\n",
      "Moseley\n",
      "Mosley\n",
      "Mosman\n",
      "Moss\n",
      "Mott\n",
      "Mountgarrett\n",
      "Mouzon\n",
      "Moyes\n",
      "Moysey\n",
      "Muecke\n",
      "Mueller\n",
      "Muir\n",
      "Muldrow\n",
      "Mullah\n",
      "Mullan\n",
      "Mullawirraburka\n",
      "Mullen\n",
      "Mundy\n",
      "Munro\n",
      "Munroe\n",
      "Munson\n",
      "Munz\n",
      "Muomelu\n",
      "Muramats\n",
      "Muravyov\n",
      "Muravyova\n",
      "Muriel\n",
      "Murphy\n",
      "Murray\n",
      "Muse\n",
      "Musgrove\n",
      "Myers\n",
      "Nagy\n",
      "Nakayama\n",
      "Namatjira\n",
      "Napolitani\n",
      "Napolitano\n",
      "Naquin\n",
      "Narelle\n",
      "Nash\n",
      "Navarrete\n",
      "Naylor\n",
      "Nazarova\n",
      "Ndubuagha\n",
      "Ndubueze\n",
      "Ndubuisi\n",
      "Ndukaku\n",
      "Neal\n",
      "Nebechi\n",
      "Nebechukwu\n",
      "Nebeolisa\n",
      "Nebeuwa\n",
      "Neitenstein\n",
      "Nekrasov\n",
      "Nekrasova\n",
      "Nelson\n",
      "Nepean\n",
      "Nero\n",
      "Neumann\n",
      "Neumayer\n",
      "Nevels\n",
      "Nevzorova\n",
      "Newbery\n",
      "Newbold\n",
      "Newland\n",
      "Newman\n",
      "Newsom\n",
      "Newton\n",
      "Ngozichukwuka\n",
      "Ni\n",
      "Nicholas\n",
      "Nicholls\n",
      "Nicholson\n",
      "Nickson\n",
      "Nicolay\n",
      "Nicoll\n",
      "Niehaus\n",
      "Nielson\n",
      "Nieves\n",
      "Nikitina\n",
      "Nina\n",
      "Niu\n",
      "Nixon\n",
      "Nkemakolam\n",
      "Nkemakonam\n",
      "Nkemdilim\n",
      "Nkemdirim\n",
      "Nkemjika\n",
      "Nnabuife\n",
      "Nnachetam\n",
      "Nnaemeka\n",
      "Nnaife\n",
      "Nnamdi\n",
      "Nnamutaezinwa\n",
      "Nnanna\n",
      "Nnonso\n",
      "Noble\n",
      "Nock\n",
      "Nolan\n",
      "Norman\n",
      "Norris\n",
      "Norriss\n",
      "North\n",
      "Northern\n",
      "Northey\n",
      "Norton\n",
      "Nott\n",
      "Nucci\n",
      "Nuttall\n",
      "Nwabugwu\n",
      "Nwachinemelu\n",
      "Nwachukwu\n",
      "Nwagugheuzo\n",
      "Nwankwo\n",
      "Nwebube\n",
      "Nweke\n",
      "Nwokeocha\n",
      "Nwokezuike\n",
      "Nwokike\n",
      "Nwora\n",
      "Nworie\n",
      "Nwoye\n",
      "Nyhan\n",
      "O'Brien\n",
      "O'Callaghan\n",
      "O'Connor\n",
      "O'Donnell\n",
      "O'Kane\n",
      "O'Loghlen\n",
      "O'Loghlin\n",
      "O'Loughlin\n",
      "O'Meara\n",
      "O'Neill\n",
      "O'Sullivan\n",
      "O'Toole\n",
      "Obiajulu\n",
      "Obialo\n",
      "Obidimkpa\n",
      "Obielumani\n",
      "Obijiaku\n",
      "Obinna\n",
      "Obioma\n",
      "Obiora\n",
      "Obiuto\n",
      "Ochoa\n",
      "Odell\n",
      "Odili\n",
      "Odinakachukwu\n",
      "Ofodile\n",
      "Ogbonnaya\n",
      "Ogg\n",
      "Ogle\n",
      "Ogochukwu\n",
      "Oguejiofor\n",
      "Ohearn\n",
      "Ojiofor\n",
      "Okagbue\n",
      "Okechukwu\n",
      "Okeke\n",
      "Okoli\n",
      "Okonkwo\n",
      "Okorie\n",
      "Okwuadigbo\n",
      "Okwudilichukwu\n",
      "Okwudiliolisa\n",
      "Okwukwe\n",
      "Okwuoma\n",
      "Olague\n",
      "Oldham\n",
      "Oleary\n",
      "Olejuru\n",
      "Olisaemeka\n",
      "Olisanugo\n",
      "Oliver\n",
      "Olsen\n",
      "Olson\n",
      "Olszewski\n",
      "Oluchi\n",
      "Oluchukwu\n",
      "Omeokachie\n",
      "Onio\n",
      "Onochie\n",
      "Onodugoadiegbemma\n",
      "Onuchukwu\n",
      "Onuoha\n",
      "Onuora\n",
      "Onwuamaegbu\n",
      "Onwuamaeze\n",
      "Onwuatuegwu\n",
      "Onwubiko\n",
      "Onwudiwe\n",
      "Onwuemelie\n",
      "Onwughara\n",
      "Onwuka\n",
      "Onwumelu\n",
      "Onyekachi\n",
      "Onyekachukwu\n",
      "Onyekaozulu\n",
      "Onyemachukwu\n",
      "Onyemaechi\n",
      "Onyemauchechi\n",
      "Onyemauchechukwu\n",
      "Onyemere\n",
      "Onyenachiya\n",
      "Onyeorulu\n",
      "Onyeoruru\n",
      "Onyinyechukwuka\n",
      "Osborne\n",
      "Osinachi\n",
      "Ositadimma\n",
      "Osonduagwuike\n",
      "Osorio\n",
      "Oster\n",
      "Otitodilichukwu\n",
      "Otitodilinna\n",
      "Otoole\n",
      "Otutodilichukwu\n",
      "Otutodilinna\n",
      "Outhwaite\n",
      "Outlaw\n",
      "Outtrim\n",
      "Overby\n",
      "Owen\n",
      "Owens\n",
      "Ozerova\n",
      "Ozioma\n",
      "Ozoemena\n",
      "Ozuluonye\n",
      "P'an\n",
      "P'eng\n",
      "Pacheco\n",
      "Packham\n",
      "Padilla\n",
      "Padovano\n",
      "Padovesi\n",
      "Pagan\n",
      "Page\n",
      "Pagnotto\n",
      "Pai\n",
      "Palazzi\n",
      "Palerma\n",
      "Palermo\n",
      "Palfreyman\n",
      "Paling\n",
      "Palmer\n",
      "Palmerston\n",
      "Pan\n",
      "Panicucci\n",
      "Panina\n",
      "Pankhurst\n",
      "Pape\n",
      "Paramor\n",
      "Pardey\n",
      "Parker\n",
      "Parkes\n",
      "Parkhill\n",
      "Parkin\n",
      "Parkinson\n",
      "Parks\n",
      "Parrott\n",
      "Parry\n",
      "Parry-Okeden\n",
      "Parsons\n",
      "Patel\n",
      "Paten\n",
      "Paterson\n",
      "Patrick\n",
      "Patterson\n",
      "Pauley\n",
      "Pavlova\n",
      "Payne\n",
      "Payton\n",
      "Peacock\n",
      "Pearce\n",
      "Pearson\n",
      "Pease\n",
      "Peavy\n",
      "Peck\n",
      "Pedder\n",
      "Peel\n",
      "Pendergrass\n",
      "Pendred\n",
      "Peng\n",
      "Pennington\n",
      "Pepper\n",
      "Peppin\n",
      "Percy\n",
      "Perez\n",
      "Perkin\n",
      "Perkins\n",
      "Perreault\n",
      "Perrodin\n",
      "Perry\n",
      "Persse\n",
      "Pethard\n",
      "Pettit\n",
      "Pettry\n",
      "Peyser\n",
      "Pham\n",
      "Pharr\n",
      "Phelan\n",
      "Phelps\n",
      "Philip\n",
      "Philipp\n",
      "Phillipps\n",
      "Phillips\n",
      "Piazza\n",
      "Piccio\n",
      "Pickering\n",
      "Pickworth\n",
      "Picot\n",
      "Pike\n",
      "Pino\n",
      "Pinto\n",
      "Pipes\n",
      "Pirogov\n",
      "Pirogova\n",
      "Pirozzi\n",
      "Pisani\n",
      "Pisano\n",
      "Pitcher\n",
      "Pitts\n",
      "Plant\n",
      "Plascencia\n",
      "Plumb\n",
      "Plummer\n",
      "Pokrovskaya\n",
      "Pokrovskii\n",
      "Pokrovsky\n",
      "Pollard\n",
      "Polyakov\n",
      "Polyakova\n",
      "Pomeroy\n",
      "Ponce\n",
      "Poninski\n",
      "Ponomarev\n",
      "Ponomaryov\n",
      "Ponomaryova\n",
      "Poole\n",
      "Pope\n",
      "Porter\n",
      "Postle\n",
      "Potter\n",
      "Pottinger\n",
      "Potts\n",
      "Powell\n",
      "Power\n",
      "Praed\n",
      "Pratt\n",
      "Preston\n",
      "Price\n",
      "Priestley\n",
      "Pritchard\n",
      "Prokhorova\n",
      "Pruneda\n",
      "Pugh\n",
      "Pugliesi\n",
      "Purdy\n",
      "Pye\n",
      "Quaife\n",
      "Quesada\n",
      "Quezada\n",
      "Quinn\n",
      "Quinones\n",
      "Radcliffe-Brown\n",
      "Raff\n",
      "Rahman\n",
      "Ramirez\n",
      "Ramos\n",
      "Ramsbotham\n",
      "Ramsden\n",
      "Ramsey\n",
      "Randall\n",
      "Randell\n",
      "Randolph\n",
      "Rapuluchukwu\n",
      "Rapuluolisa\n",
      "Rapuokwu\n",
      "Ratten\n",
      "Rawling\n",
      "Rawlings\n",
      "Raymond\n",
      "Raynor\n",
      "Read\n",
      "Reagan\n",
      "Real\n",
      "Rearick\n",
      "Rechner\n",
      "Redding\n",
      "Reed\n",
      "Rees\n",
      "Reeves\n",
      "Reichard\n",
      "Reid\n",
      "Reilly\n",
      "Remington\n",
      "Rendall\n",
      "Rene\n",
      "Renwick\n",
      "Repina\n",
      "Reppert\n",
      "Retana\n",
      "Revell\n",
      "Reye\n",
      "Reyes\n",
      "Reyna\n",
      "Reynolds\n",
      "Rhodes\n",
      "Ricci\n",
      "Rice\n",
      "Richards\n",
      "Richardson\n",
      "Richmond\n",
      "Rickard\n",
      "Rickards\n",
      "Riddle\n",
      "Ridley\n",
      "Rieke\n",
      "Riggs\n",
      "Riley\n",
      "Ringrose\n",
      "Rios\n",
      "Rioux\n",
      "Rippey\n",
      "Rischbieth\n",
      "Rishel\n",
      "Rita\n",
      "Ritchie\n",
      "Rivas\n",
      "Rivera\n",
      "Rivero\n",
      "Rivers\n",
      "Rizzo\n",
      "Robb\n",
      "Robe\n",
      "Roberts\n",
      "Robertson\n",
      "Robinson\n",
      "Robson\n",
      "Rocher\n",
      "Rodriguez\n",
      "Rogers\n",
      "Rogova\n",
      "Rohu\n",
      "Rolon\n",
      "Romani\n",
      "Romano\n",
      "Romeo\n",
      "Romero\n",
      "Romilly\n",
      "Rooke\n",
      "Root\n",
      "Rosas\n",
      "Rose\n",
      "Ross\n",
      "Ross-Watt\n",
      "Rossi\n",
      "Rounsevell\n",
      "Rouse\n",
      "Rowe\n",
      "Rowland\n",
      "Rowley\n",
      "Rowntree\n",
      "Royster\n",
      "Royston\n",
      "Rozhkova\n",
      "Rozier\n",
      "Rubensohn\n",
      "Rubeo\n",
      "Rubin\n",
      "Rudd\n",
      "Rudduck\n",
      "Rueda\n",
      "Ruggiero\n",
      "Ruiz\n",
      "Runyon\n",
      "Ruse\n",
      "Russell\n",
      "Russo\n",
      "Ruth\n",
      "Rutherford\n",
      "Rutledge\n",
      "Ryan\n",
      "Ryrie\n",
      "Saad\n",
      "Sabbatini\n",
      "Sacco\n",
      "Sadler\n",
      "Sadlier\n",
      "Sagese\n",
      "Sal\n",
      "Salas\n",
      "Salier\n",
      "Salinas\n",
      "Salmond\n",
      "Salter\n",
      "Samaniego\n",
      "Samoylova\n",
      "Samson\n",
      "Samsonova\n",
      "Samuel\n",
      "Sanchez\n",
      "Sandefur\n",
      "Sanders\n",
      "Sanderson\n",
      "Sandover\n",
      "Sanford\n",
      "Sani\n",
      "Santana\n",
      "Santiago\n",
      "Sargent\n",
      "Sargood\n",
      "Sarratt\n",
      "Saunders\n",
      "Sauve\n",
      "Savage\n",
      "Sawtell\n",
      "Sazonova\n",
      "Scannell\n",
      "Schaffer\n",
      "Schatz\n",
      "Schiavone\n",
      "Schmidt\n",
      "Schnaars\n",
      "Schneider\n",
      "Schoenheimer\n",
      "Schofield\n",
      "Schroeder\n",
      "Schwartz\n",
      "Scott\n",
      "Seabrook\n",
      "Seccombe\n",
      "Secombe\n",
      "See\n",
      "Seleznev\n",
      "Selezneva\n",
      "Seleznyov\n",
      "Seleznyova\n",
      "Sells\n",
      "Selwyn\n",
      "Semmens\n",
      "Senior\n",
      "Seppelt\n",
      "Septimus\n",
      "Serena\n",
      "Sergeyev\n",
      "Sergeyeva\n",
      "Serra\n",
      "Serrano\n",
      "Service\n",
      "Severson\n",
      "Shaffer\n",
      "Shah\n",
      "Shahan\n",
      "Shand\n",
      "Shao\n",
      "Sharp\n",
      "Sharpe\n",
      "Sharwood\n",
      "Shaver\n",
      "Shaw\n",
      "Shcherbakov\n",
      "She\n",
      "Shearston\n",
      "Sheehan\n",
      "Sheets\n",
      "Sheffield\n",
      "Shelby\n",
      "Shelton\n",
      "Shen\n",
      "Shephard\n",
      "Shepherd\n",
      "Shepherdson\n",
      "Sheppard\n",
      "Sherman\n",
      "Sherrod\n",
      "Shih\n",
      "Shillito\n",
      "Shipp\n",
      "Shipton\n",
      "Shoebridge\n",
      "Sholes\n",
      "Shoobridge\n",
      "Short\n",
      "Shubin\n",
      "Shubina\n",
      "Siciliani\n",
      "Siciliano\n",
      "Siddons\n",
      "Sidorov\n",
      "Sidorova\n",
      "Sievier\n",
      "Silva\n",
      "Simmons\n",
      "Simon\n",
      "Simpkinson\n",
      "Simpson\n",
      "Sims\n",
      "Sinclair\n",
      "Singh\n",
      "Singleton\n",
      "Sinnett\n",
      "Skelton\n",
      "Skinner\n",
      "Slate\n",
      "Slater\n",
      "Slattery\n",
      "Sleeman\n",
      "Slone\n",
      "Slye\n",
      "Small\n",
      "Smalley\n",
      "Smeaton\n",
      "Smith\n",
      "Sneddon\n",
      "Snider\n",
      "Soares\n",
      "Sochima\n",
      "Sokolov\n",
      "Sokolova\n",
      "Solomina\n",
      "Solomon\n",
      "Somadina\n",
      "Somayina\n",
      "Somerville\n",
      "Sopuluchi\n",
      "Sopuluchukwu\n",
      "Sorenson\n",
      "Sorokina\n",
      "Soto\n",
      "Soubeiran\n",
      "Sousa\n",
      "Souter\n",
      "Sozonov\n",
      "Sparks\n",
      "Spaull\n",
      "Spears\n",
      "Speight\n",
      "Spence\n",
      "Spencer\n",
      "Speth\n",
      "Spinelli\n",
      "Spitzer\n",
      "Spring\n",
      "Spyer\n",
      "St Clair\n",
      "Standish\n",
      "Stange\n",
      "Stanley\n",
      "Stanton\n",
      "Steele\n",
      "Steen\n",
      "Steere\n",
      "Stehle\n",
      "Steigrad\n",
      "Steiner\n",
      "Steinhoff\n",
      "Stelzer\n",
      "Stephens\n",
      "Stephenson\n",
      "Sternberg\n",
      "Stetson\n",
      "Stevens\n",
      "Stevenson\n",
      "Stewart\n",
      "Stiger\n",
      "Stiles\n",
      "Stirling\n",
      "Stobie\n",
      "Stokes\n",
      "Stone\n",
      "Stonebraker\n",
      "Stoneman\n",
      "Storey\n",
      "Stout\n",
      "Stradford\n",
      "Streeten\n",
      "Streeter\n",
      "Streeton\n",
      "Sturdee\n",
      "Sturt\n",
      "Su\n",
      "Suffolk\n",
      "Sugden\n",
      "Sukhorukova\n",
      "Sullivan\n",
      "Summers\n",
      "Summerville\n",
      "Sumrall\n",
      "Sun\n",
      "Sunderland\n",
      "Sung\n",
      "Sutherland\n",
      "Sutton\n",
      "Suttor\n",
      "Swadling\n",
      "Swaim\n",
      "Swain\n",
      "Swanson\n",
      "Swanton\n",
      "Swayne\n",
      "Swearingen\n",
      "Swift\n",
      "Swinton\n",
      "Sykes\n",
      "Synnot\n",
      "Szabados\n",
      "T'an\n",
      "T'ang\n",
      "T'ao\n",
      "T'ien\n",
      "Tai\n",
      "Takasuka\n",
      "Talbot\n",
      "Tan\n",
      "Tang\n",
      "Tao\n",
      "Taplin\n",
      "Tardent\n",
      "Tate\n",
      "Taubman\n",
      "Taverner\n",
      "Taylor\n",
      "Teague\n",
      "Teakle\n",
      "Temple\n",
      "Templeman\n",
      "Teng\n",
      "Tennant\n",
      "Terry\n",
      "Thao\n",
      "Theus\n",
      "Thomas\n",
      "Thompson\n",
      "Thomsen\n",
      "Thomson\n",
      "Thornton\n",
      "Thorpe\n",
      "Threatt\n",
      "Thurgood\n",
      "Thynne\n",
      "Tien\n",
      "Tikhonov\n",
      "Tilley\n",
      "Tillman\n",
      "Timms\n",
      "Timperley\n",
      "Ting\n",
      "Tinline\n",
      "Tipton\n",
      "Tisdall\n",
      "Titheradge\n",
      "Titus\n",
      "To Rot\n",
      "Tobenna\n",
      "Tobeolisa\n",
      "Tochukwu\n",
      "Todd\n",
      "Tokareva\n",
      "Tokaryev\n",
      "Tomlinson\n",
      "Toomey\n",
      "Toosey\n",
      "Topp\n",
      "Torkelson\n",
      "Torode\n",
      "Torreggiani\n",
      "Torres\n",
      "Toscani\n",
      "Toscano\n",
      "Toth\n",
      "Townsend\n",
      "Townsley\n",
      "Traeger\n",
      "Tran\n",
      "Travis\n",
      "Treacy\n",
      "Trejo\n",
      "Trentini\n",
      "Trentino\n",
      "Tretiakov\n",
      "Tretiakova\n",
      "Tretyakova\n",
      "Trevascus\n",
      "Trevisan\n",
      "Trevisani\n",
      "Trevisano\n",
      "Trouette\n",
      "Troupe\n",
      "Trout\n",
      "Trujillo\n",
      "Trumbull\n",
      "Truscott\n",
      "Ts'ai\n",
      "Ts'ao\n",
      "Ts'ui\n",
      "Tsai\n",
      "Tsao\n",
      "Tseng\n",
      "Tsou\n",
      "Tsui\n",
      "Tu\n",
      "Tuan\n",
      "Tucker\n",
      "Tudawali\n",
      "Tung\n",
      "Turnbull\n",
      "Tychonoff\n",
      "Tyler\n",
      "Tyndall\n",
      "Ubanwa\n",
      "Uchechukwu\n",
      "Uchenna\n",
      "Udegbulam\n",
      "Udegbunam\n",
      "Udinese\n",
      "Udinesi\n",
      "Udobata\n",
      "Udokamma\n",
      "Ugochukwu\n",
      "Ugochukwutubelum\n",
      "Ugoji\n",
      "Ugonna\n",
      "Ugonnatubelum\n",
      "Ugorji\n",
      "Ukaegbulam\n",
      "Ukaegbunam\n",
      "Ulyanov\n",
      "Ulyanova\n",
      "Unaipon\n",
      "Unwin\n",
      "Upchurch\n",
      "Upjohn\n",
      "Urban\n",
      "Uren\n",
      "Uspenskaya\n",
      "Uspensky\n",
      "Utz\n",
      "Uvarov\n",
      "Uvarova\n",
      "Uwaezuoke\n",
      "Uwakwe\n",
      "Vachon\n",
      "Vagin\n",
      "Vaguine\n",
      "Valdez\n",
      "Vale\n",
      "Valentin\n",
      "Valenzuela\n",
      "Vance\n",
      "Vanmeter\n",
      "Vanzetti\n",
      "Vasiliev\n",
      "Vasilieva\n",
      "Vasilyev\n",
      "Vasilyeva\n",
      "Vasin\n",
      "Vassiliev\n",
      "Vavilov\n",
      "Veale\n",
      "Velazquez\n",
      "Veltri\n",
      "Venables\n",
      "Verco\n",
      "Verjus\n",
      "Vessels\n",
      "Vial\n",
      "Vicars\n",
      "Victor\n",
      "Vida\n",
      "Vidal\n",
      "Vidler\n",
      "Vigano\n",
      "Vincent\n",
      "Vinogradoff\n",
      "Vinogradov\n",
      "Vinogradova\n",
      "Virgo\n",
      "Vogel\n",
      "Volkov\n",
      "Volkova\n",
      "Von Doussa\n",
      "Vorobyova\n",
      "Voronina\n",
      "Voronkov\n",
      "Voronoff\n",
      "Voronova\n",
      "Voss\n",
      "Wade\n",
      "Wagner\n",
      "Wakelin\n",
      "Walker\n",
      "Walkom\n",
      "Wall\n",
      "Wallace\n",
      "Wallis\n",
      "Wallwork\n",
      "Walpole\n",
      "Walsh\n",
      "Walters\n",
      "Walton\n",
      "Wan\n",
      "Wang\n",
      "Wanliss\n",
      "Ward\n",
      "Wardell\n",
      "Wardle\n",
      "Waring\n",
      "Wark\n",
      "Warlow-Davies\n",
      "Warner\n",
      "Warren\n",
      "Waterhouse\n",
      "Waters\n",
      "Watkins\n",
      "Watson\n",
      "Watt\n",
      "Watterston\n",
      "Watts\n",
      "Wayn\n",
      "Wearing\n",
      "Weatherford\n",
      "Weaver\n",
      "Webb\n",
      "Weber\n",
      "Webster\n",
      "Wei\n",
      "Weigel\n",
      "Welch\n",
      "Weller\n",
      "Wells\n",
      "Welsh\n",
      "Wentcher\n",
      "Wentworth-Shields\n",
      "Wenz\n",
      "Wertheim\n",
      "West\n",
      "Westerberg\n",
      "Weston\n",
      "Wetherspoon\n",
      "Wheare\n",
      "Wheeler\n",
      "Whiddon\n",
      "White\n",
      "Whitehead\n",
      "Whitehouse\n",
      "Whitelegge\n",
      "Whitfield\n",
      "Whitson\n",
      "Whittaker\n",
      "Whitworth\n",
      "Wickens\n",
      "Wickham\n",
      "Wieck\n",
      "Wilder\n",
      "Wilding\n",
      "Wildman\n",
      "Wiley\n",
      "Wilhelm\n",
      "Wilkes\n",
      "Wilkie\n",
      "Wilkins\n",
      "Wilkinson\n",
      "William\n",
      "Williams\n",
      "Williamson\n",
      "Williford\n",
      "Willis\n",
      "Willmore\n",
      "Willoughby\n",
      "Wilsmore\n",
      "Wilson\n",
      "Wimble\n",
      "Windradyne\n",
      "Windsor\n",
      "Winifred\n",
      "Winn\n",
      "Winter\n",
      "Winter-Irving\n",
      "Winters\n",
      "Wisdom\n",
      "Witt\n",
      "Wofford\n",
      "Wolfe\n",
      "Wollstonecraft\n",
      "Wong\n",
      "Wood\n",
      "Woodard\n",
      "Woodhouse\n",
      "Woods\n",
      "Woodward\n",
      "Woolacott\n",
      "Woolnough\n",
      "Woronoff\n",
      "Worsnop\n",
      "Wreford\n",
      "Wright\n",
      "Wu\n",
      "Wunder\n",
      "Wyatt\n",
      "Wyckoff\n",
      "Wynn\n",
      "Wynne\n",
      "Y?\n",
      "Y?an\n",
      "Yamamoto\n",
      "Yancy\n",
      "Yang\n",
      "Yao\n",
      "Yashina\n",
      "Yates\n",
      "Yeates\n",
      "Yefimov\n",
      "Yefimova\n",
      "Yefremov\n",
      "Yefremova\n",
      "Yegorov\n",
      "Yegorova\n",
      "Yeh\n",
      "Yelverton\n",
      "Yen\n",
      "Yermakov\n",
      "Yermakova\n",
      "Yermolayev\n",
      "Yermolayeva\n",
      "Yevdokimova\n",
      "Yevseyev\n",
      "Yewen\n",
      "Yin\n",
      "Yip\n",
      "Yirawala\n",
      "Yobachi\n",
      "Yobachukwu\n",
      "Yobanna\n",
      "Yocum\n",
      "Yoo\n",
      "Yost\n",
      "Young\n",
      "Younger\n",
      "Yu\n",
      "Yuan\n",
      "Yudin\n",
      "Yudina\n",
      "Yuille\n",
      "Yuriev\n",
      "Yuryeva\n",
      "Yusupov\n",
      "Yusupova\n",
      "Zack\n",
      "Zaitsev\n",
      "Zakharov\n",
      "Zarate\n",
      "Zaytseva\n",
      "Zetticci\n",
      "Zhdanov\n",
      "Zhdanova\n",
      "Zhirov\n",
      "Zhou\n",
      "Zikoranachidimma\n",
      "Zikoranachukwudimma\n",
      "Zikoranaudodimma\n",
      "Zimmer\n",
      "Zinachukwudi\n",
      "Zito\n",
      "Zotov\n",
      "Zotova\n",
      "Zox\n",
      "Zubarev\n",
      "Zubareva\n",
      "Zuev\n",
      "Zuyev\n",
      "Zuyeva\n"
     ]
    }
   ],
   "source": [
    "for s in data['surname'].sort_values().unique():\n",
    "    print(s)"
   ]
  },
  {
   "cell_type": "code",
   "execution_count": 64,
   "metadata": {},
   "outputs": [
    {
     "data": {
      "text/plain": [
       "0"
      ]
     },
     "execution_count": 64,
     "metadata": {},
     "output_type": "execute_result"
    }
   ],
   "source": [
    "data.duplicated().sum()"
   ]
  },
  {
   "cell_type": "code",
   "execution_count": 65,
   "metadata": {},
   "outputs": [
    {
     "name": "stdout",
     "output_type": "stream",
     "text": [
      "В tenure пропущено 9.09% значений\n"
     ]
    }
   ],
   "source": [
    "#создадим функцию, получющую на вход название признака, и возвращающую процент пропущенных значений\n",
    "def print_nan_ratio(column):\n",
    "    print('В {0} пропущено {1} значений'.format(column, \"{:.2%}\".format((len(data) - data[column].count())/len(data))))\n",
    "print_nan_ratio('tenure')"
   ]
  },
  {
   "cell_type": "markdown",
   "metadata": {},
   "source": [
    "Поскольку пропущено меньше 10% значений, принято решение удалить все строки с пропущенными значениями."
   ]
  },
  {
   "cell_type": "code",
   "execution_count": 66,
   "metadata": {},
   "outputs": [
    {
     "data": {
      "text/plain": [
       "0"
      ]
     },
     "execution_count": 66,
     "metadata": {},
     "output_type": "execute_result"
    }
   ],
   "source": [
    "data['tenure'] = data['tenure'].fillna(np.random.choice(data['tenure']))#\n",
    "data['tenure'].isna().sum()"
   ]
  },
  {
   "cell_type": "code",
   "execution_count": 67,
   "metadata": {
    "scrolled": true
   },
   "outputs": [
    {
     "name": "stdout",
     "output_type": "stream",
     "text": [
      "<class 'pandas.core.frame.DataFrame'>\n",
      "RangeIndex: 10000 entries, 0 to 9999\n",
      "Data columns (total 14 columns):\n",
      " #   Column            Non-Null Count  Dtype  \n",
      "---  ------            --------------  -----  \n",
      " 0   row_number        10000 non-null  int64  \n",
      " 1   customer_id       10000 non-null  int64  \n",
      " 2   surname           10000 non-null  object \n",
      " 3   credit_score      10000 non-null  int64  \n",
      " 4   geography         10000 non-null  object \n",
      " 5   gender            10000 non-null  object \n",
      " 6   age               10000 non-null  int64  \n",
      " 7   tenure            10000 non-null  float64\n",
      " 8   balance           10000 non-null  float64\n",
      " 9   num_of_products   10000 non-null  int64  \n",
      " 10  has_cr_card       10000 non-null  int64  \n",
      " 11  is_active_member  10000 non-null  int64  \n",
      " 12  estimated_salary  10000 non-null  float64\n",
      " 13  exited            10000 non-null  int64  \n",
      "dtypes: float64(3), int64(8), object(3)\n",
      "memory usage: 1.1+ MB\n",
      "None\n"
     ]
    }
   ],
   "source": [
    "print(data.info())"
   ]
  },
  {
   "cell_type": "markdown",
   "metadata": {},
   "source": [
    "***Вывод***\n",
    "\n",
    "Итак в таблице 14 столбцов:\n",
    "* row_number — индекс строки в данных\n",
    "* customer_id — уникальный идентификатор клиента\n",
    "* surname — фамилия\n",
    "* credit_score — кредитный рейтинг\n",
    "* geography — страна проживания\n",
    "* gender — пол\n",
    "* age — возраст\n",
    "* tenure — сколько лет человек является клиентом банка\n",
    "* balance — баланс на счёте\n",
    "* num_of_products — количество продуктов банка, используемых клиентом\n",
    "* has_cr_card — наличие кредитной карты\n",
    "* is_active_member — активность клиента\n",
    "* estimated_salary — предполагаемая зарплата\n",
    "\n",
    "Целевой признак\n",
    "* exited — факт ухода клиента\n",
    "\n",
    "1) В названиях колонок устранены нарушения стиля, названия колонок привели в соответствие с хорошим стилем:\n",
    "* несколько слов в названии записали в «змеином_регистре»,\n",
    "* все символы сделали строчными.\n",
    "\n",
    "2) В стобце tenure устранены пропущенные значения. Принято решение заменить строки с пропущенными значениями на рандомные значения столбца data['tenure']."
   ]
  },
  {
   "cell_type": "markdown",
   "metadata": {},
   "source": [
    "## Подготовка данных"
   ]
  },
  {
   "cell_type": "code",
   "execution_count": 68,
   "metadata": {},
   "outputs": [
    {
     "data": {
      "text/html": [
       "<div>\n",
       "<style scoped>\n",
       "    .dataframe tbody tr th:only-of-type {\n",
       "        vertical-align: middle;\n",
       "    }\n",
       "\n",
       "    .dataframe tbody tr th {\n",
       "        vertical-align: top;\n",
       "    }\n",
       "\n",
       "    .dataframe thead th {\n",
       "        text-align: right;\n",
       "    }\n",
       "</style>\n",
       "<table border=\"1\" class=\"dataframe\">\n",
       "  <thead>\n",
       "    <tr style=\"text-align: right;\">\n",
       "      <th></th>\n",
       "      <th>row_number</th>\n",
       "      <th>customer_id</th>\n",
       "      <th>surname</th>\n",
       "      <th>credit_score</th>\n",
       "      <th>geography</th>\n",
       "      <th>gender</th>\n",
       "      <th>age</th>\n",
       "      <th>tenure</th>\n",
       "      <th>balance</th>\n",
       "      <th>num_of_products</th>\n",
       "      <th>has_cr_card</th>\n",
       "      <th>is_active_member</th>\n",
       "      <th>estimated_salary</th>\n",
       "      <th>exited</th>\n",
       "    </tr>\n",
       "  </thead>\n",
       "  <tbody>\n",
       "    <tr>\n",
       "      <th>0</th>\n",
       "      <td>0.0</td>\n",
       "      <td>2736.0</td>\n",
       "      <td>1115.0</td>\n",
       "      <td>228.0</td>\n",
       "      <td>0.0</td>\n",
       "      <td>0.0</td>\n",
       "      <td>24.0</td>\n",
       "      <td>2.0</td>\n",
       "      <td>0.0</td>\n",
       "      <td>0.0</td>\n",
       "      <td>1.0</td>\n",
       "      <td>1.0</td>\n",
       "      <td>5068.0</td>\n",
       "      <td>1.0</td>\n",
       "    </tr>\n",
       "    <tr>\n",
       "      <th>1</th>\n",
       "      <td>1.0</td>\n",
       "      <td>3258.0</td>\n",
       "      <td>1177.0</td>\n",
       "      <td>217.0</td>\n",
       "      <td>2.0</td>\n",
       "      <td>0.0</td>\n",
       "      <td>23.0</td>\n",
       "      <td>1.0</td>\n",
       "      <td>743.0</td>\n",
       "      <td>0.0</td>\n",
       "      <td>0.0</td>\n",
       "      <td>1.0</td>\n",
       "      <td>5639.0</td>\n",
       "      <td>0.0</td>\n",
       "    </tr>\n",
       "    <tr>\n",
       "      <th>2</th>\n",
       "      <td>2.0</td>\n",
       "      <td>2104.0</td>\n",
       "      <td>2040.0</td>\n",
       "      <td>111.0</td>\n",
       "      <td>0.0</td>\n",
       "      <td>0.0</td>\n",
       "      <td>24.0</td>\n",
       "      <td>8.0</td>\n",
       "      <td>5793.0</td>\n",
       "      <td>2.0</td>\n",
       "      <td>1.0</td>\n",
       "      <td>0.0</td>\n",
       "      <td>5707.0</td>\n",
       "      <td>1.0</td>\n",
       "    </tr>\n",
       "    <tr>\n",
       "      <th>3</th>\n",
       "      <td>3.0</td>\n",
       "      <td>5435.0</td>\n",
       "      <td>289.0</td>\n",
       "      <td>308.0</td>\n",
       "      <td>0.0</td>\n",
       "      <td>0.0</td>\n",
       "      <td>21.0</td>\n",
       "      <td>1.0</td>\n",
       "      <td>0.0</td>\n",
       "      <td>1.0</td>\n",
       "      <td>0.0</td>\n",
       "      <td>0.0</td>\n",
       "      <td>4704.0</td>\n",
       "      <td>0.0</td>\n",
       "    </tr>\n",
       "    <tr>\n",
       "      <th>4</th>\n",
       "      <td>4.0</td>\n",
       "      <td>6899.0</td>\n",
       "      <td>1822.0</td>\n",
       "      <td>459.0</td>\n",
       "      <td>2.0</td>\n",
       "      <td>0.0</td>\n",
       "      <td>25.0</td>\n",
       "      <td>2.0</td>\n",
       "      <td>3696.0</td>\n",
       "      <td>0.0</td>\n",
       "      <td>1.0</td>\n",
       "      <td>1.0</td>\n",
       "      <td>3925.0</td>\n",
       "      <td>0.0</td>\n",
       "    </tr>\n",
       "    <tr>\n",
       "      <th>5</th>\n",
       "      <td>5.0</td>\n",
       "      <td>312.0</td>\n",
       "      <td>537.0</td>\n",
       "      <td>254.0</td>\n",
       "      <td>2.0</td>\n",
       "      <td>1.0</td>\n",
       "      <td>26.0</td>\n",
       "      <td>8.0</td>\n",
       "      <td>2674.0</td>\n",
       "      <td>1.0</td>\n",
       "      <td>1.0</td>\n",
       "      <td>0.0</td>\n",
       "      <td>7531.0</td>\n",
       "      <td>1.0</td>\n",
       "    </tr>\n",
       "    <tr>\n",
       "      <th>6</th>\n",
       "      <td>6.0</td>\n",
       "      <td>1058.0</td>\n",
       "      <td>177.0</td>\n",
       "      <td>431.0</td>\n",
       "      <td>0.0</td>\n",
       "      <td>1.0</td>\n",
       "      <td>32.0</td>\n",
       "      <td>7.0</td>\n",
       "      <td>0.0</td>\n",
       "      <td>1.0</td>\n",
       "      <td>1.0</td>\n",
       "      <td>1.0</td>\n",
       "      <td>513.0</td>\n",
       "      <td>0.0</td>\n",
       "    </tr>\n",
       "    <tr>\n",
       "      <th>7</th>\n",
       "      <td>7.0</td>\n",
       "      <td>3589.0</td>\n",
       "      <td>2000.0</td>\n",
       "      <td>8.0</td>\n",
       "      <td>1.0</td>\n",
       "      <td>0.0</td>\n",
       "      <td>11.0</td>\n",
       "      <td>4.0</td>\n",
       "      <td>2781.0</td>\n",
       "      <td>3.0</td>\n",
       "      <td>1.0</td>\n",
       "      <td>0.0</td>\n",
       "      <td>5978.0</td>\n",
       "      <td>1.0</td>\n",
       "    </tr>\n",
       "    <tr>\n",
       "      <th>8</th>\n",
       "      <td>8.0</td>\n",
       "      <td>9066.0</td>\n",
       "      <td>1146.0</td>\n",
       "      <td>110.0</td>\n",
       "      <td>0.0</td>\n",
       "      <td>1.0</td>\n",
       "      <td>26.0</td>\n",
       "      <td>4.0</td>\n",
       "      <td>4962.0</td>\n",
       "      <td>1.0</td>\n",
       "      <td>0.0</td>\n",
       "      <td>1.0</td>\n",
       "      <td>3718.0</td>\n",
       "      <td>0.0</td>\n",
       "    </tr>\n",
       "    <tr>\n",
       "      <th>9</th>\n",
       "      <td>9.0</td>\n",
       "      <td>1054.0</td>\n",
       "      <td>1081.0</td>\n",
       "      <td>293.0</td>\n",
       "      <td>0.0</td>\n",
       "      <td>1.0</td>\n",
       "      <td>9.0</td>\n",
       "      <td>2.0</td>\n",
       "      <td>4450.0</td>\n",
       "      <td>0.0</td>\n",
       "      <td>1.0</td>\n",
       "      <td>1.0</td>\n",
       "      <td>3550.0</td>\n",
       "      <td>0.0</td>\n",
       "    </tr>\n",
       "    <tr>\n",
       "      <th>10</th>\n",
       "      <td>10.0</td>\n",
       "      <td>8071.0</td>\n",
       "      <td>195.0</td>\n",
       "      <td>137.0</td>\n",
       "      <td>0.0</td>\n",
       "      <td>1.0</td>\n",
       "      <td>13.0</td>\n",
       "      <td>6.0</td>\n",
       "      <td>1719.0</td>\n",
       "      <td>1.0</td>\n",
       "      <td>0.0</td>\n",
       "      <td>0.0</td>\n",
       "      <td>3994.0</td>\n",
       "      <td>0.0</td>\n",
       "    </tr>\n",
       "    <tr>\n",
       "      <th>11</th>\n",
       "      <td>11.0</td>\n",
       "      <td>6866.0</td>\n",
       "      <td>83.0</td>\n",
       "      <td>106.0</td>\n",
       "      <td>2.0</td>\n",
       "      <td>1.0</td>\n",
       "      <td>6.0</td>\n",
       "      <td>3.0</td>\n",
       "      <td>0.0</td>\n",
       "      <td>1.0</td>\n",
       "      <td>1.0</td>\n",
       "      <td>0.0</td>\n",
       "      <td>3783.0</td>\n",
       "      <td>0.0</td>\n",
       "    </tr>\n",
       "    <tr>\n",
       "      <th>12</th>\n",
       "      <td>12.0</td>\n",
       "      <td>2640.0</td>\n",
       "      <td>1369.0</td>\n",
       "      <td>85.0</td>\n",
       "      <td>0.0</td>\n",
       "      <td>0.0</td>\n",
       "      <td>16.0</td>\n",
       "      <td>10.0</td>\n",
       "      <td>0.0</td>\n",
       "      <td>1.0</td>\n",
       "      <td>1.0</td>\n",
       "      <td>0.0</td>\n",
       "      <td>1283.0</td>\n",
       "      <td>0.0</td>\n",
       "    </tr>\n",
       "    <tr>\n",
       "      <th>13</th>\n",
       "      <td>13.0</td>\n",
       "      <td>5023.0</td>\n",
       "      <td>515.0</td>\n",
       "      <td>158.0</td>\n",
       "      <td>0.0</td>\n",
       "      <td>0.0</td>\n",
       "      <td>7.0</td>\n",
       "      <td>5.0</td>\n",
       "      <td>0.0</td>\n",
       "      <td>1.0</td>\n",
       "      <td>0.0</td>\n",
       "      <td>0.0</td>\n",
       "      <td>9529.0</td>\n",
       "      <td>0.0</td>\n",
       "    </tr>\n",
       "    <tr>\n",
       "      <th>14</th>\n",
       "      <td>14.0</td>\n",
       "      <td>1384.0</td>\n",
       "      <td>2389.0</td>\n",
       "      <td>244.0</td>\n",
       "      <td>2.0</td>\n",
       "      <td>0.0</td>\n",
       "      <td>17.0</td>\n",
       "      <td>7.0</td>\n",
       "      <td>0.0</td>\n",
       "      <td>1.0</td>\n",
       "      <td>1.0</td>\n",
       "      <td>1.0</td>\n",
       "      <td>3276.0</td>\n",
       "      <td>0.0</td>\n",
       "    </tr>\n",
       "  </tbody>\n",
       "</table>\n",
       "</div>"
      ],
      "text/plain": [
       "    row_number  customer_id  surname  credit_score  geography  gender   age  \\\n",
       "0          0.0       2736.0   1115.0         228.0        0.0     0.0  24.0   \n",
       "1          1.0       3258.0   1177.0         217.0        2.0     0.0  23.0   \n",
       "2          2.0       2104.0   2040.0         111.0        0.0     0.0  24.0   \n",
       "3          3.0       5435.0    289.0         308.0        0.0     0.0  21.0   \n",
       "4          4.0       6899.0   1822.0         459.0        2.0     0.0  25.0   \n",
       "5          5.0        312.0    537.0         254.0        2.0     1.0  26.0   \n",
       "6          6.0       1058.0    177.0         431.0        0.0     1.0  32.0   \n",
       "7          7.0       3589.0   2000.0           8.0        1.0     0.0  11.0   \n",
       "8          8.0       9066.0   1146.0         110.0        0.0     1.0  26.0   \n",
       "9          9.0       1054.0   1081.0         293.0        0.0     1.0   9.0   \n",
       "10        10.0       8071.0    195.0         137.0        0.0     1.0  13.0   \n",
       "11        11.0       6866.0     83.0         106.0        2.0     1.0   6.0   \n",
       "12        12.0       2640.0   1369.0          85.0        0.0     0.0  16.0   \n",
       "13        13.0       5023.0    515.0         158.0        0.0     0.0   7.0   \n",
       "14        14.0       1384.0   2389.0         244.0        2.0     0.0  17.0   \n",
       "\n",
       "    tenure  balance  num_of_products  has_cr_card  is_active_member  \\\n",
       "0      2.0      0.0              0.0          1.0               1.0   \n",
       "1      1.0    743.0              0.0          0.0               1.0   \n",
       "2      8.0   5793.0              2.0          1.0               0.0   \n",
       "3      1.0      0.0              1.0          0.0               0.0   \n",
       "4      2.0   3696.0              0.0          1.0               1.0   \n",
       "5      8.0   2674.0              1.0          1.0               0.0   \n",
       "6      7.0      0.0              1.0          1.0               1.0   \n",
       "7      4.0   2781.0              3.0          1.0               0.0   \n",
       "8      4.0   4962.0              1.0          0.0               1.0   \n",
       "9      2.0   4450.0              0.0          1.0               1.0   \n",
       "10     6.0   1719.0              1.0          0.0               0.0   \n",
       "11     3.0      0.0              1.0          1.0               0.0   \n",
       "12    10.0      0.0              1.0          1.0               0.0   \n",
       "13     5.0      0.0              1.0          0.0               0.0   \n",
       "14     7.0      0.0              1.0          1.0               1.0   \n",
       "\n",
       "    estimated_salary  exited  \n",
       "0             5068.0     1.0  \n",
       "1             5639.0     0.0  \n",
       "2             5707.0     1.0  \n",
       "3             4704.0     0.0  \n",
       "4             3925.0     0.0  \n",
       "5             7531.0     1.0  \n",
       "6              513.0     0.0  \n",
       "7             5978.0     1.0  \n",
       "8             3718.0     0.0  \n",
       "9             3550.0     0.0  \n",
       "10            3994.0     0.0  \n",
       "11            3783.0     0.0  \n",
       "12            1283.0     0.0  \n",
       "13            9529.0     0.0  \n",
       "14            3276.0     0.0  "
      ]
     },
     "execution_count": 68,
     "metadata": {},
     "output_type": "execute_result"
    }
   ],
   "source": [
    "#проведем порядковое кодирование метоодом OrdinalEncoder()\n",
    "encoder = OrdinalEncoder()\n",
    "data_ordinal = pd.DataFrame(encoder.fit_transform(data),\n",
    "                            columns=data.columns)\n",
    "data_ordinal.head(15)"
   ]
  },
  {
   "cell_type": "code",
   "execution_count": 69,
   "metadata": {},
   "outputs": [],
   "source": [
    "target = data_ordinal['exited']\n",
    "features = data_ordinal.drop('exited', axis=1)\n",
    "features_train, features_valid, target_train, target_valid = train_test_split(features, target, test_size=0.25, random_state=12345)\n"
   ]
  },
  {
   "cell_type": "code",
   "execution_count": 70,
   "metadata": {
    "scrolled": true
   },
   "outputs": [
    {
     "name": "stdout",
     "output_type": "stream",
     "text": [
      "      row_number  customer_id   surname  credit_score  geography  gender  \\\n",
      "226    -1.642934     1.154127 -1.255320      0.442946  -0.903514     0.0   \n",
      "7756    0.961172    -1.180111 -0.365692     -0.311975   1.513160     0.0   \n",
      "2065   -1.006951    -1.520441 -0.959954     -0.260268  -0.903514     1.0   \n",
      "2800   -0.752766    -0.612893 -1.198835      1.218550  -0.903514     1.0   \n",
      "7028    0.709407    -1.014787  0.449800      0.691140   0.304823     1.0   \n",
      "\n",
      "           age    tenure   balance  num_of_products  has_cr_card  \\\n",
      "226  -0.841540  1.404714 -0.954573         0.817772          1.0   \n",
      "7756 -0.270755  0.681554  0.409643        -0.896874          1.0   \n",
      "2065 -0.556148  1.043134 -0.954573         0.817772          1.0   \n",
      "2800  1.156208  1.404714  1.731050         0.817772          1.0   \n",
      "7028 -1.222064  0.319974  1.530652        -0.896874          0.0   \n",
      "\n",
      "      is_active_member  estimated_salary  \n",
      "226                1.0         -1.271910  \n",
      "7756               1.0          0.959687  \n",
      "2065               0.0          0.671249  \n",
      "2800               0.0         -1.050061  \n",
      "7028               0.0         -0.865130  \n"
     ]
    }
   ],
   "source": [
    " #оставим для нормализации только столбцы, которые требуют дальнейшей нормализации \n",
    "numeric = ['row_number', 'customer_id', 'surname', 'credit_score', 'geography',\n",
    "       'age', 'tenure', 'balance', 'num_of_products', 'estimated_salary']\n",
    "\n",
    "scaler = StandardScaler()\n",
    "scaler.fit(features_train[numeric])\n",
    "\n",
    "features_train[numeric] = scaler.transform(features_train[numeric])\n",
    "features_valid[numeric] =scaler.transform(features_valid[numeric])\n",
    "\n",
    "pd.options.mode.chained_assignment = None\n",
    "print(features_train.head())\n"
   ]
  },
  {
   "cell_type": "markdown",
   "metadata": {},
   "source": [
    "***Вывод***  \n",
    "Провели порядковое кодирование методом OrdinalEncoder().\n",
    "Для нормализации оставили только столбцы, которые требуют дальнейшей нормализации. \n"
   ]
  },
  {
   "cell_type": "markdown",
   "metadata": {},
   "source": [
    "## Исследование задачи"
   ]
  },
  {
   "cell_type": "code",
   "execution_count": 71,
   "metadata": {},
   "outputs": [
    {
     "name": "stdout",
     "output_type": "stream",
     "text": [
      "Accuracy лучшей модели: 0.9931 Глубина дерева: 19\n"
     ]
    }
   ],
   "source": [
    "#найдем оптимальную глубину дерева в модели DecisionTreeClassifier\n",
    "best_depth = 0\n",
    "best_model = None\n",
    "best_result = 0\n",
    "for depth in range(1, 20):\n",
    "    model = DecisionTreeClassifier(random_state=12345, max_depth= depth) \n",
    "    # обучим модель с заданной глубиной дерева\n",
    "    model.fit(features, target) # обучим модель\n",
    "    predictions = model.predict(features) # получим предсказания модели\n",
    "    result = accuracy_score(target, predictions) # посчитаем качество модели\n",
    "    if result > best_result:\n",
    "        best_model = model\n",
    "        best_result = result\n",
    "        best_depth = depth\n",
    "        \n",
    "print(\"Accuracy лучшей модели:\", best_result, \"Глубина дерева:\", best_depth)"
   ]
  },
  {
   "cell_type": "code",
   "execution_count": 72,
   "metadata": {
    "scrolled": true
   },
   "outputs": [
    {
     "name": "stdout",
     "output_type": "stream",
     "text": [
      "Матрица ошибок: [[1724  241]\n",
      " [ 284  251]]\n",
      "Полнота: 0.4691588785046729\n",
      "Точность: 0.5101626016260162\n",
      "F1-мера: 0.48880233690360275\n",
      "AUC-ROC: 0.6793108368409788\n"
     ]
    }
   ],
   "source": [
    "model_dtc = DecisionTreeClassifier(random_state=12345, max_depth= 19) \n",
    "model_dtc.fit(features_train, target_train)\n",
    "predicted_valid_dtc = model_dtc.predict(features_valid)\n",
    "\n",
    "precision_dtc = precision_score(target_valid, predicted_valid_dtc)# \n",
    "recall_dtc = recall_score(target_valid, predicted_valid_dtc)# \n",
    "f1_dtc = (2*precision_dtc*recall_dtc)/(precision_dtc+recall_dtc)# \n",
    "confusion_matrix_dtc= confusion_matrix(target_valid, predicted_valid_dtc)\n",
    "\n",
    "probabilities_valid_dtc = model_dtc.predict_proba(features_valid)\n",
    "probabilities_one_valid_dtc = probabilities_valid_dtc[:, 1]\n",
    "auc_roc_dtc = roc_auc_score(target_valid, probabilities_one_valid_dtc)  \n",
    "\n",
    "table_dtc = pd.DataFrame({'model_name':['DesicionTreeClassifier'],'Полнота':[recall_dtc],\n",
    "                          'Точность':[precision_dtc], 'F1-мера':[f1_dtc], 'AUC-ROC':[auc_roc_dtc]})\n",
    "\n",
    "print(\"Матрица ошибок:\", confusion_matrix_dtc)#\n",
    "print(\"Полнота:\", recall_dtc)\n",
    "print(\"Точность:\", precision_dtc)\n",
    "print(\"F1-мера:\", f1_dtc)\n",
    "print(\"AUC-ROC:\", auc_roc_dtc)"
   ]
  },
  {
   "cell_type": "code",
   "execution_count": 73,
   "metadata": {},
   "outputs": [
    {
     "name": "stdout",
     "output_type": "stream",
     "text": [
      "Матрица ошибок: [[1911   54]\n",
      " [ 450   85]]\n",
      "Полнота: 0.1588785046728972\n",
      "Точность: 0.6115107913669064\n",
      "F1-мера: 0.2522255192878338\n",
      "AUC-ROC: 0.7435057430263252\n"
     ]
    }
   ],
   "source": [
    "model_lr = LogisticRegression(random_state=12345, solver='liblinear')\n",
    "model_lr.fit(features_train, target_train)\n",
    "predicted_valid_lr = model_lr.predict(features_valid)\n",
    "\n",
    "precision_lr = precision_score(target_valid, predicted_valid_lr)# \n",
    "recall_lr = recall_score(target_valid, predicted_valid_lr)# \n",
    "f1_lr = (2*precision_lr*recall_lr)/(precision_lr+recall_lr)# \n",
    "confusion_matrix_lr = confusion_matrix(target_valid, predicted_valid_lr)\n",
    "\n",
    "probabilities_valid_lr = model_lr.predict_proba(features_valid)\n",
    "probabilities_one_valid_lr = probabilities_valid_lr[:, 1]\n",
    "auc_roc_lr = roc_auc_score(target_valid, probabilities_one_valid_lr)\n",
    "\n",
    "table_lr = pd.DataFrame({'model_name':['LogisticRegression'],'Полнота':[recall_lr], \n",
    "                         'Точность':[precision_lr], 'F1-мера':[f1_lr], 'AUC-ROC':[auc_roc_lr]})\n",
    "\n",
    "\n",
    "\n",
    "print(\"Матрица ошибок:\", confusion_matrix_lr)#\n",
    "print(\"Полнота:\", recall_lr)\n",
    "print(\"Точность:\", precision_lr)\n",
    "print(\"F1-мера:\", f1_lr)\n",
    "print(\"AUC-ROC:\", auc_roc_lr)"
   ]
  },
  {
   "cell_type": "code",
   "execution_count": 74,
   "metadata": {},
   "outputs": [
    {
     "name": "stderr",
     "output_type": "stream",
     "text": [
      "70it [01:14,  1.06s/it]\n"
     ]
    }
   ],
   "source": [
    "from itertools import product\n",
    "import tqdm\n",
    "def RandomForestQuality(features_train, target_train):\n",
    "    max_depth = [i for i in range(10, 20)]\n",
    "    depth_table = []\n",
    "    n_estimators_table = []\n",
    "    f1_table = []\n",
    "    recall_table = []\n",
    "    precision_table = []\n",
    "    myproduct = product(max_depth, [i for i in range(30, 100,10)])#\n",
    "    for p in tqdm.tqdm(myproduct):\n",
    "        \n",
    "        model_rfc = RandomForestClassifier(max_depth=p[0], n_estimators=p[1], random_state=12345)\n",
    "        model_rfc.fit(features_train, target_train)\n",
    "        prediction_valid_rfc = model_rfc.predict(features_valid)\n",
    "        precision_rfc = precision_score(target_valid, prediction_valid_rfc)# \n",
    "        recall_rfc = recall_score(target_valid, prediction_valid_rfc)# \n",
    "        f1 = (2*precision_rfc*recall_rfc)/(precision_rfc+recall_rfc)# \n",
    "        \n",
    "        depth_table.append(p[0])\n",
    "        n_estimators_table.append(p[1])\n",
    "        f1_table.append(f1)\n",
    "        recall_table.append(recall_rfc)\n",
    "        precision_table.append(precision_rfc)\n",
    "        \n",
    "    quality_table = pd.DataFrame({'max_depth':depth_table,\n",
    "                                  'n_estimators':n_estimators_table,\n",
    "                                  'f1':f1_table,\n",
    "                                  'recall':recall_table,\n",
    "                                  'precision':precision_table})\n",
    "    \n",
    "    return quality_table\n",
    "quality_table = RandomForestQuality(features_train, target_train)"
   ]
  },
  {
   "cell_type": "code",
   "execution_count": 75,
   "metadata": {},
   "outputs": [
    {
     "data": {
      "text/html": [
       "<div>\n",
       "<style scoped>\n",
       "    .dataframe tbody tr th:only-of-type {\n",
       "        vertical-align: middle;\n",
       "    }\n",
       "\n",
       "    .dataframe tbody tr th {\n",
       "        vertical-align: top;\n",
       "    }\n",
       "\n",
       "    .dataframe thead th {\n",
       "        text-align: right;\n",
       "    }\n",
       "</style>\n",
       "<table border=\"1\" class=\"dataframe\">\n",
       "  <thead>\n",
       "    <tr style=\"text-align: right;\">\n",
       "      <th></th>\n",
       "      <th>max_depth</th>\n",
       "      <th>n_estimators</th>\n",
       "      <th>f1</th>\n",
       "      <th>recall</th>\n",
       "      <th>precision</th>\n",
       "    </tr>\n",
       "  </thead>\n",
       "  <tbody>\n",
       "    <tr>\n",
       "      <th>56</th>\n",
       "      <td>18</td>\n",
       "      <td>30</td>\n",
       "      <td>0.549878</td>\n",
       "      <td>0.422430</td>\n",
       "      <td>0.787456</td>\n",
       "    </tr>\n",
       "    <tr>\n",
       "      <th>59</th>\n",
       "      <td>18</td>\n",
       "      <td>60</td>\n",
       "      <td>0.549261</td>\n",
       "      <td>0.416822</td>\n",
       "      <td>0.805054</td>\n",
       "    </tr>\n",
       "    <tr>\n",
       "      <th>60</th>\n",
       "      <td>18</td>\n",
       "      <td>70</td>\n",
       "      <td>0.548826</td>\n",
       "      <td>0.414953</td>\n",
       "      <td>0.810219</td>\n",
       "    </tr>\n",
       "    <tr>\n",
       "      <th>58</th>\n",
       "      <td>18</td>\n",
       "      <td>50</td>\n",
       "      <td>0.546780</td>\n",
       "      <td>0.420561</td>\n",
       "      <td>0.781250</td>\n",
       "    </tr>\n",
       "    <tr>\n",
       "      <th>65</th>\n",
       "      <td>19</td>\n",
       "      <td>50</td>\n",
       "      <td>0.546330</td>\n",
       "      <td>0.424299</td>\n",
       "      <td>0.766892</td>\n",
       "    </tr>\n",
       "    <tr>\n",
       "      <th>50</th>\n",
       "      <td>17</td>\n",
       "      <td>40</td>\n",
       "      <td>0.545232</td>\n",
       "      <td>0.416822</td>\n",
       "      <td>0.787986</td>\n",
       "    </tr>\n",
       "    <tr>\n",
       "      <th>62</th>\n",
       "      <td>18</td>\n",
       "      <td>90</td>\n",
       "      <td>0.545229</td>\n",
       "      <td>0.411215</td>\n",
       "      <td>0.808824</td>\n",
       "    </tr>\n",
       "    <tr>\n",
       "      <th>66</th>\n",
       "      <td>19</td>\n",
       "      <td>60</td>\n",
       "      <td>0.545012</td>\n",
       "      <td>0.418692</td>\n",
       "      <td>0.780488</td>\n",
       "    </tr>\n",
       "    <tr>\n",
       "      <th>24</th>\n",
       "      <td>13</td>\n",
       "      <td>60</td>\n",
       "      <td>0.544785</td>\n",
       "      <td>0.414953</td>\n",
       "      <td>0.792857</td>\n",
       "    </tr>\n",
       "    <tr>\n",
       "      <th>57</th>\n",
       "      <td>18</td>\n",
       "      <td>40</td>\n",
       "      <td>0.544785</td>\n",
       "      <td>0.414953</td>\n",
       "      <td>0.792857</td>\n",
       "    </tr>\n",
       "    <tr>\n",
       "      <th>42</th>\n",
       "      <td>16</td>\n",
       "      <td>30</td>\n",
       "      <td>0.544350</td>\n",
       "      <td>0.418692</td>\n",
       "      <td>0.777778</td>\n",
       "    </tr>\n",
       "    <tr>\n",
       "      <th>61</th>\n",
       "      <td>18</td>\n",
       "      <td>80</td>\n",
       "      <td>0.542751</td>\n",
       "      <td>0.409346</td>\n",
       "      <td>0.805147</td>\n",
       "    </tr>\n",
       "    <tr>\n",
       "      <th>51</th>\n",
       "      <td>17</td>\n",
       "      <td>50</td>\n",
       "      <td>0.542125</td>\n",
       "      <td>0.414953</td>\n",
       "      <td>0.781690</td>\n",
       "    </tr>\n",
       "    <tr>\n",
       "      <th>64</th>\n",
       "      <td>19</td>\n",
       "      <td>40</td>\n",
       "      <td>0.541516</td>\n",
       "      <td>0.420561</td>\n",
       "      <td>0.760135</td>\n",
       "    </tr>\n",
       "    <tr>\n",
       "      <th>52</th>\n",
       "      <td>17</td>\n",
       "      <td>60</td>\n",
       "      <td>0.541463</td>\n",
       "      <td>0.414953</td>\n",
       "      <td>0.778947</td>\n",
       "    </tr>\n",
       "    <tr>\n",
       "      <th>48</th>\n",
       "      <td>16</td>\n",
       "      <td>90</td>\n",
       "      <td>0.539130</td>\n",
       "      <td>0.405607</td>\n",
       "      <td>0.803704</td>\n",
       "    </tr>\n",
       "    <tr>\n",
       "      <th>69</th>\n",
       "      <td>19</td>\n",
       "      <td>90</td>\n",
       "      <td>0.537713</td>\n",
       "      <td>0.413084</td>\n",
       "      <td>0.770035</td>\n",
       "    </tr>\n",
       "    <tr>\n",
       "      <th>67</th>\n",
       "      <td>19</td>\n",
       "      <td>70</td>\n",
       "      <td>0.537241</td>\n",
       "      <td>0.411215</td>\n",
       "      <td>0.774648</td>\n",
       "    </tr>\n",
       "    <tr>\n",
       "      <th>25</th>\n",
       "      <td>13</td>\n",
       "      <td>70</td>\n",
       "      <td>0.537129</td>\n",
       "      <td>0.405607</td>\n",
       "      <td>0.794872</td>\n",
       "    </tr>\n",
       "    <tr>\n",
       "      <th>63</th>\n",
       "      <td>19</td>\n",
       "      <td>30</td>\n",
       "      <td>0.536880</td>\n",
       "      <td>0.414953</td>\n",
       "      <td>0.760274</td>\n",
       "    </tr>\n",
       "  </tbody>\n",
       "</table>\n",
       "</div>"
      ],
      "text/plain": [
       "    max_depth  n_estimators        f1    recall  precision\n",
       "56         18            30  0.549878  0.422430   0.787456\n",
       "59         18            60  0.549261  0.416822   0.805054\n",
       "60         18            70  0.548826  0.414953   0.810219\n",
       "58         18            50  0.546780  0.420561   0.781250\n",
       "65         19            50  0.546330  0.424299   0.766892\n",
       "50         17            40  0.545232  0.416822   0.787986\n",
       "62         18            90  0.545229  0.411215   0.808824\n",
       "66         19            60  0.545012  0.418692   0.780488\n",
       "24         13            60  0.544785  0.414953   0.792857\n",
       "57         18            40  0.544785  0.414953   0.792857\n",
       "42         16            30  0.544350  0.418692   0.777778\n",
       "61         18            80  0.542751  0.409346   0.805147\n",
       "51         17            50  0.542125  0.414953   0.781690\n",
       "64         19            40  0.541516  0.420561   0.760135\n",
       "52         17            60  0.541463  0.414953   0.778947\n",
       "48         16            90  0.539130  0.405607   0.803704\n",
       "69         19            90  0.537713  0.413084   0.770035\n",
       "67         19            70  0.537241  0.411215   0.774648\n",
       "25         13            70  0.537129  0.405607   0.794872\n",
       "63         19            30  0.536880  0.414953   0.760274"
      ]
     },
     "metadata": {},
     "output_type": "display_data"
    }
   ],
   "source": [
    "display(quality_table.sort_values(by='f1', ascending=False).head(20))# Выводим в табличном виде значения параметров, чтобы вырать наилучшую модель"
   ]
  },
  {
   "cell_type": "code",
   "execution_count": 76,
   "metadata": {},
   "outputs": [
    {
     "name": "stdout",
     "output_type": "stream",
     "text": [
      "Матрица ошибок: [[1899   66]\n",
      " [ 314  221]]\n",
      "Полнота: 0.4130841121495327\n",
      "Точность: 0.7700348432055749\n",
      "F1-мера: 0.537712895377129\n",
      "AUC-ROC: 0.8471413283869587\n"
     ]
    }
   ],
   "source": [
    "model_rfc = RandomForestClassifier(random_state=12345, max_depth=19, n_estimators=90)\n",
    "model_rfc.fit(features_train, target_train)\n",
    "predicted_valid_rfc = model_rfc.predict(features_valid)\n",
    "precision_rfc = precision_score(target_valid, predicted_valid_rfc)# \n",
    "recall_rfc = recall_score(target_valid, predicted_valid_rfc)# \n",
    "f1_rfc = (2*precision_rfc*recall_rfc)/(precision_rfc+recall_rfc)# \n",
    "confusion_matrix_rfc = confusion_matrix(target_valid, predicted_valid_rfc)\n",
    "\n",
    "probabilities_valid_rfc = model_rfc.predict_proba(features_valid)\n",
    "probabilities_one_valid_rfc = probabilities_valid_rfc[:, 1]\n",
    "auc_roc_rfc = roc_auc_score(target_valid, probabilities_one_valid_rfc)  \n",
    "\n",
    "table_rfc = pd.DataFrame({'model_name':['RandomForestClassifier'],'Полнота':[recall_rfc], \n",
    "                          'Точность':[precision_rfc], 'F1-мера':[f1_rfc], 'AUC-ROC':[auc_roc_rfc]})\n",
    "print(\"Матрица ошибок:\", confusion_matrix_rfc)#\n",
    "print(\"Полнота:\", recall_rfc)\n",
    "print(\"Точность:\", precision_rfc)\n",
    "print(\"F1-мера:\", f1_rfc)\n",
    "print(\"AUC-ROC:\", auc_roc_rfc)"
   ]
  },
  {
   "cell_type": "code",
   "execution_count": 77,
   "metadata": {},
   "outputs": [
    {
     "name": "stdout",
     "output_type": "stream",
     "text": [
      "0    0.7963\n",
      "1    0.2037\n",
      "Name: exited, dtype: float64\n"
     ]
    },
    {
     "data": {
      "text/plain": [
       "<AxesSubplot:>"
      ]
     },
     "execution_count": 77,
     "metadata": {},
     "output_type": "execute_result"
    },
    {
     "data": {
      "image/png": "[encoded data removed]",
      "text/plain": [
       "<Figure size 432x288 with 1 Axes>"
      ]
     },
     "metadata": {
      "needs_background": "light"
     },
     "output_type": "display_data"
    }
   ],
   "source": [
    "class_frequency = data['exited'].value_counts(normalize=True)# \n",
    "print(class_frequency)\n",
    "class_frequency.plot(kind='bar')"
   ]
  },
  {
   "cell_type": "code",
   "execution_count": 78,
   "metadata": {
    "scrolled": true
   },
   "outputs": [
    {
     "data": {
      "text/html": [
       "<div>\n",
       "<style scoped>\n",
       "    .dataframe tbody tr th:only-of-type {\n",
       "        vertical-align: middle;\n",
       "    }\n",
       "\n",
       "    .dataframe tbody tr th {\n",
       "        vertical-align: top;\n",
       "    }\n",
       "\n",
       "    .dataframe thead th {\n",
       "        text-align: right;\n",
       "    }\n",
       "</style>\n",
       "<table border=\"1\" class=\"dataframe\">\n",
       "  <thead>\n",
       "    <tr style=\"text-align: right;\">\n",
       "      <th></th>\n",
       "      <th>model_name</th>\n",
       "      <th>Полнота</th>\n",
       "      <th>Точность</th>\n",
       "      <th>F1-мера</th>\n",
       "      <th>AUC-ROC</th>\n",
       "    </tr>\n",
       "  </thead>\n",
       "  <tbody>\n",
       "    <tr>\n",
       "      <th>2</th>\n",
       "      <td>LogisticRegression</td>\n",
       "      <td>0.158879</td>\n",
       "      <td>0.611511</td>\n",
       "      <td>0.252226</td>\n",
       "      <td>0.743506</td>\n",
       "    </tr>\n",
       "    <tr>\n",
       "      <th>1</th>\n",
       "      <td>DesicionTreeClassifier</td>\n",
       "      <td>0.469159</td>\n",
       "      <td>0.510163</td>\n",
       "      <td>0.488802</td>\n",
       "      <td>0.679311</td>\n",
       "    </tr>\n",
       "    <tr>\n",
       "      <th>0</th>\n",
       "      <td>RandomForestClassifier</td>\n",
       "      <td>0.413084</td>\n",
       "      <td>0.770035</td>\n",
       "      <td>0.537713</td>\n",
       "      <td>0.847141</td>\n",
       "    </tr>\n",
       "  </tbody>\n",
       "</table>\n",
       "</div>"
      ],
      "text/plain": [
       "               model_name   Полнота  Точность   F1-мера   AUC-ROC\n",
       "2      LogisticRegression  0.158879  0.611511  0.252226  0.743506\n",
       "1  DesicionTreeClassifier  0.469159  0.510163  0.488802  0.679311\n",
       "0  RandomForestClassifier  0.413084  0.770035  0.537713  0.847141"
      ]
     },
     "execution_count": 78,
     "metadata": {},
     "output_type": "execute_result"
    }
   ],
   "source": [
    "table_sum = pd.concat([table_rfc,table_dtc, table_lr])\n",
    "table_sum = table_sum.reset_index()[['model_name', 'Полнота', 'Точность','F1-мера', 'AUC-ROC']]\n",
    "table_sum.sort_values(by='F1-мера')"
   ]
  },
  {
   "cell_type": "markdown",
   "metadata": {},
   "source": [
    "***Вывод***  \n",
    "\n",
    "Как видно из данных, показатель Полнота у моделей DesicionTreeClassifier и LogisticRegression сильно ниже показателя Точность, а мера F1 далеко от 1. \n",
    "\n",
    "Указанное может говорить о несбалансированности классификации.\n",
    "\n",
    "Сбалансируем классы техниками взвешивания классов, upsampling  и downsampling.\n"
   ]
  },
  {
   "cell_type": "markdown",
   "metadata": {},
   "source": [
    "## Борьба с дисбалансом"
   ]
  },
  {
   "cell_type": "code",
   "execution_count": null,
   "metadata": {},
   "outputs": [
    {
     "name": "stderr",
     "output_type": "stream",
     "text": [
      "10it [00:13,  1.53s/it]"
     ]
    }
   ],
   "source": [
    "from itertools import product\n",
    "import tqdm\n",
    "def RandomForestQuality(features_train, target_train, features_valid, target_valid):\n",
    "    class_weight = ['balanced', 'balanced_subsample', None]\n",
    "    max_depth = [i for i in range(10, 20)]\n",
    "    class_weight_table = []\n",
    "    depth_table = []\n",
    "    n_estimators_table = []\n",
    "    f1_table = []\n",
    "    recall_table = []\n",
    "    precision_table = []\n",
    "    myproduct = product(class_weight, max_depth, [i for i in range(80, 100,2)])#\n",
    "    for p in tqdm.tqdm(myproduct):\n",
    "        \n",
    "        model_rfc=RandomForestClassifier(class_weight=p[0],\n",
    "                                     max_depth=p[1], n_estimators=p[2], random_state=12345)#\n",
    "        model_rfc.fit(features_train, target_train)\n",
    "        prediction_valid_rfc = model_rfc.predict(features_valid)\n",
    "        precision_rfc = precision_score(target_valid, prediction_valid_rfc)# \n",
    "        recall_rfc = recall_score(target_valid, prediction_valid_rfc)# \n",
    "        f1 = (2*precision_rfc*recall_rfc)/(precision_rfc+recall_rfc)# \n",
    "        \n",
    "        class_weight_table.append(p[0])\n",
    "        depth_table.append(p[1])\n",
    "        n_estimators_table.append(p[2])\n",
    "        f1_table.append(f1)\n",
    "        recall_table.append(recall_rfc)\n",
    "        precision_table.append(precision_rfc)\n",
    "        \n",
    "    quality_table = pd.DataFrame({'class_waight':class_weight_table,\n",
    "                                  'max_depth':depth_table,\n",
    "                                  'n_estimators':n_estimators_table,\n",
    "                                  'f1':f1_table,\n",
    "                                  'recall':recall_table,\n",
    "                                  'precision':precision_table})\n",
    "    \n",
    "    return quality_table\n",
    "quality_table = RandomForestQuality(features_train, target_train, features_valid, target_valid)"
   ]
  },
  {
   "cell_type": "code",
   "execution_count": null,
   "metadata": {},
   "outputs": [],
   "source": [
    "display(quality_table.sort_values(by='f1', ascending=False).head(20))\n"
   ]
  },
  {
   "cell_type": "code",
   "execution_count": null,
   "metadata": {},
   "outputs": [],
   "source": [
    "model_rfc_final = RandomForestClassifier(max_depth=10, n_estimators=82, class_weight=\"balanced\", random_state=12345)\n",
    "model_rfc_final.fit(features_train, target_train)\n",
    "predicted_valid_rfc_f = model_rfc_final.predict(features_valid)\n",
    "precision_rfc_f = precision_score(target_valid, predicted_valid_rfc_f)# \n",
    "recall_rfc_f = recall_score(target_valid, predicted_valid_rfc)# \n",
    "f1_rfc_f = (2*precision_rfc_f*recall_rfc_f)/(precision_rfc_f+recall_rfc_f)# \n",
    "confusion_matrix_rfc_f = confusion_matrix(target_valid, predicted_valid_rfc_f)\n",
    "\n",
    "auc_roc_rfc_f = roc_auc_score(target_valid, predicted_valid_rfc_f)  \n",
    "\n",
    "table_rfc = pd.DataFrame({'model_name':['RandomForestClassifier'], 'Полнота':[recall_rfc_f],\n",
    "                            'Точность':[precision_rfc_f], 'F1-мера':[f1_rfc_f], 'AUC-ROC':[auc_roc_rfc_f]})\n",
    "\n",
    "print(\"Матрица ошибок:\", confusion_matrix_rfc_f)#\n",
    "print(\"Полнота:\", recall_rfc_f)\n",
    "print(\"Точность:\", precision_rfc_f)\n",
    "print(\"F1-мера:\", f1_rfc_f)\n",
    "print(\"AUC-ROC:\", auc_roc_rfc_f)"
   ]
  },
  {
   "cell_type": "code",
   "execution_count": null,
   "metadata": {
    "scrolled": true
   },
   "outputs": [],
   "source": [
    "# с помощью техники upsampling сбалансируем классы путём увеличения их числа\n",
    "def upsample(features, target):\n",
    "    features_zeros = features[target == 0]\n",
    "    features_ones = features[target == 1]\n",
    "    target_zeros = target[target == 0]\n",
    "    target_ones = target[target == 1]\n",
    "    \n",
    "    repeat = round(len(features_zeros) / len(features_ones))\n",
    "    print(repeat)\n",
    "    features_upsampled = pd.concat([features_zeros] + [features_ones] * repeat)\n",
    "    target_upsampled = pd.concat([target_zeros] + [target_ones] * repeat)\n",
    "    \n",
    "    features_upsampled, target_upsampled = shuffle(\n",
    "        features_upsampled, target_upsampled, random_state=12345)\n",
    "    \n",
    "    return features_upsampled, target_upsampled\n",
    "\n",
    "features_upsampled_train, target_upsampled_train = upsample(features_train, target_train)\n",
    "\n",
    "print(features_upsampled_train.shape)\n",
    "\n",
    "print(target_upsampled_train.shape)\n",
    "\n",
    "class_frequency = target_upsampled_train.value_counts(normalize=True)# \n",
    "print(class_frequency)\n",
    "class_frequency.plot(kind='bar')"
   ]
  },
  {
   "cell_type": "code",
   "execution_count": null,
   "metadata": {},
   "outputs": [],
   "source": [
    "# обучим модель DesicionTreeClassifier и получим предсказания на новой выборке,\n",
    "#увеличенной с помощью техники upsampling\n",
    "model_dtc = DecisionTreeClassifier(random_state=12345, max_depth= 19) \n",
    "model_dtc.fit(features_upsampled_train, target_upsampled_train)\n",
    "\n",
    "predicted_upsampled_valid_dtc = model_dtc.predict(features_valid)\n",
    "\n",
    "precision_dtc_up = precision_score(target_valid, predicted_upsampled_valid_dtc)# \n",
    "recall_dtc_up = recall_score(target_valid, predicted_upsampled_valid_dtc)# \n",
    "f1_dtc_up = (2*precision_dtc_up*recall_dtc_up)/(precision_dtc_up+recall_dtc_up)# \n",
    "confusion_matrix_dtc_up = confusion_matrix(target_valid, predicted_upsampled_valid_dtc)\n",
    "\n",
    "auc_roc_dtc_up = roc_auc_score(target_valid, predicted_upsampled_valid_dtc)  \n",
    "\n",
    "table_dtc_up = pd.DataFrame({'model_name':['DesicionTreeClassifier_upsampled'],'Полнота':[recall_dtc_up], \n",
    "                             'Точность':[precision_dtc_up], 'F1-мера':[f1_dtc_up], 'AUC-ROC':[auc_roc_dtc_up]})\n",
    "print(\"Матрица ошибок:\\n\", confusion_matrix_dtc_up)#\n",
    "print(\"Полнота:\", recall_dtc_up)\n",
    "print(\"Точность:\", precision_dtc_up)\n",
    "print(\"F1-мера:\", f1_dtc_up)\n",
    "print(\"AUC-ROC:\", auc_roc_dtc_up)"
   ]
  },
  {
   "cell_type": "code",
   "execution_count": null,
   "metadata": {},
   "outputs": [],
   "source": [
    "# обучим модель LogisticRegression и получим предсказания на новой выборке,\n",
    "#увеличенной с помощью техники upsampling\n",
    "model_lr.fit(features_upsampled_train, target_upsampled_train)\n",
    "predicted_upsampled_valid_lr = model_lr.predict(features_valid)\n",
    "\n",
    "precision_lr_up = precision_score(target_valid, predicted_upsampled_valid_lr)# \n",
    "recall_lr_up = recall_score(target_valid, predicted_upsampled_valid_lr)# \n",
    "f1_lr_up = (2*precision_lr_up*recall_lr_up)/(precision_lr_up+recall_lr_up)# \n",
    "confusion_matrix_lr_up = confusion_matrix(target_valid, predicted_upsampled_valid_lr)\n",
    "auc_roc_lr_up = roc_auc_score(target_valid, predicted_upsampled_valid_lr)  \n",
    "\n",
    "table_lr_up = pd.DataFrame({'model_name':['LogisticRegression_upsampled'], 'Полнота': [recall_lr_up],\n",
    "                            'Точность':[precision_lr_up], 'F1-мера':[f1_lr_up], 'AUC-ROC':[auc_roc_lr_up]})\n",
    "\n",
    "\n",
    "print(\"Матрица ошибок:\\n\", confusion_matrix_lr_up)#\n",
    "print(\"Полнота:\", recall_lr_up)\n",
    "print(\"Точность:\", precision_lr_up)\n",
    "print(\"F1-мера:\", f1_lr_up)\n",
    "print(\"AUC-ROC:\", auc_roc_lr_up)"
   ]
  },
  {
   "cell_type": "code",
   "execution_count": null,
   "metadata": {},
   "outputs": [],
   "source": [
    "# обучим модель RandomForestClassifier и получим предсказания на новой выборке,\n",
    "#увеличенной с помощью техники upsampling\n",
    "model_rfc = RandomForestClassifier(max_depth = 10, n_estimators=82, random_state=12345)\n",
    "model_rfc.fit(features_upsampled_train, target_upsampled_train)\n",
    "predicted_upsampled_valid_rfc = model_rfc.predict(features_valid)\n",
    "precision_rfc_up = precision_score(target_valid, predicted_upsampled_valid_rfc)# \n",
    "recall_rfc_up = recall_score(target_valid, predicted_upsampled_valid_rfc)# \n",
    "f1_rfc_up = (2*precision_rfc_up*recall_rfc_up)/(precision_rfc_up+recall_rfc_up)# \n",
    "confusion_matrix_rfc_up = confusion_matrix(target_valid, predicted_upsampled_valid_rfc)\n",
    "\n",
    "auc_roc_rfc_up = roc_auc_score(target_valid, predicted_upsampled_valid_rfc)  \n",
    "\n",
    "table_rfc_up = pd.DataFrame({'model_name':['RandomForestClassifier_upsampled'], 'Полнота':[recall_rfc_up],\n",
    "                            'Точность':[precision_rfc_up], 'F1-мера':[f1_rfc_up], 'AUC-ROC':[auc_roc_rfc_up]})\n",
    "\n",
    "print(\"Матрица ошибок:\", confusion_matrix_rfc_up)#\n",
    "print(\"Полнота:\", recall_rfc_up)\n",
    "print(\"Точность:\", precision_rfc_up)\n",
    "print(\"F1-мера:\", f1_rfc_up)\n",
    "print(\"AUC-ROC:\", auc_roc_rfc_up)"
   ]
  },
  {
   "cell_type": "code",
   "execution_count": null,
   "metadata": {
    "scrolled": true
   },
   "outputs": [],
   "source": [
    "# обобщим данные метрик классификации в одну таблицу\n",
    "table_sum = pd.concat([table_rfc_up, table_dtc_up,  \n",
    "                       table_lr_up])\n",
    "table_sum = table_sum.reset_index()[['model_name', 'Полнота', 'Точность','F1-мера', 'AUC-ROC']]\n",
    "table_sum.sort_values(by='F1-мера')"
   ]
  },
  {
   "cell_type": "markdown",
   "metadata": {},
   "source": [
    "Как видно из данных в таблице, наилучшый результат после сбалансирования данных техникой upsampling у модели RandomForestClassifier, F1-мера которого 0.619621"
   ]
  },
  {
   "cell_type": "code",
   "execution_count": null,
   "metadata": {},
   "outputs": [],
   "source": [
    "# с помощью техники downsampling сбалансируем классы \n",
    "#путём удаления части объектов большего класса\n",
    "def downsample(features_train, target_train, fraction):\n",
    "    features_zeros = features_train[target == 0]\n",
    "    features_ones = features_train[target == 1]\n",
    "    target_zeros = target_train[target == 0]\n",
    "    target_ones = target_train[target == 1]\n",
    "\n",
    "    features_downsampled_train = pd.concat(\n",
    "        [features_zeros.sample(frac=fraction, random_state=12345)] + [features_ones])\n",
    "    target_downsampled_train = pd.concat(\n",
    "        [target_zeros.sample(frac=fraction, random_state=12345)] + [target_ones])\n",
    "    \n",
    "    features_downsampled_train, target_downsampled_train = shuffle(\n",
    "        features_downsampled_train, target_downsampled_train, random_state=12345)\n",
    "    \n",
    "    return features_downsampled_train, target_downsampled_train\n",
    "\n",
    "features_downsampled_train, target_downsampled_train = downsample(features_train, target_train, 0.25)\n",
    "print(features_downsampled_train.shape)\n",
    "print(target_downsampled_train.shape)\n",
    "\n",
    "class_frequency = target_downsampled_train.value_counts(normalize=True)# \n",
    "print(class_frequency)\n",
    "class_frequency.plot(kind='bar')"
   ]
  },
  {
   "cell_type": "code",
   "execution_count": null,
   "metadata": {},
   "outputs": [],
   "source": [
    "# обучим модель DesicionTreeClassifier и получим предсказания на новой выборке,\n",
    "#уменьшенной с помощью техники downsampling\n",
    "model_dtc.fit(features_downsampled_train, target_downsampled_train)\n",
    "predicted_downsampled_valid_dtc = model_dtc.predict(features_valid)\n",
    "\n",
    "precision_dtc_dw = precision_score(target_valid, predicted_downsampled_valid_dtc)# \n",
    "recall_dtc_dw = recall_score(target_valid, predicted_downsampled_valid_dtc)# \n",
    "f1_dtc_dw = (2*precision_dtc_dw*recall_dtc_dw)/(precision_dtc_dw+recall_dtc_dw)# \n",
    "confusion_matrix_dtc_dw = confusion_matrix(target_valid, predicted_downsampled_valid_dtc)\n",
    "\n",
    "auc_roc_dtc_dw = roc_auc_score(target_valid, predicted_downsampled_valid_dtc) \n",
    "\n",
    "table_dtc_dw = pd.DataFrame({'model_name':['DesicionTreeClassifier_downsampled'],'Полнота':[recall_dtc_dw], \n",
    "                             'Точность':[precision_dtc_dw], 'F1-мера':[f1_dtc_dw], 'AUC-ROC':[auc_roc_dtc_dw]})\n",
    "\n",
    "print(\"Матрица ошибок:\", confusion_matrix_dtc_up)#\n",
    "print(\"Полнота:\", recall_dtc_dw)\n",
    "print(\"Точность:\", precision_dtc_dw)\n",
    "print(\"F1-мера:\", f1_dtc_dw)\n",
    "print(\"AUC-ROC:\", auc_roc_dtc_dw)"
   ]
  },
  {
   "cell_type": "code",
   "execution_count": null,
   "metadata": {},
   "outputs": [],
   "source": [
    "# обучим модель LogisticRegression и получим предсказания на новой выборке,\n",
    "#уменьшенной с помощью техники downsampling\n",
    "model_lr.fit(features_downsampled_train, target_downsampled_train)\n",
    "predicted_downsampled_valid_lr = model_lr.predict(features_valid)\n",
    "\n",
    "precision_dw_lr = precision_score(target_valid, predicted_downsampled_valid_lr)# \n",
    "recall_dw_lr = recall_score(target_valid, predicted_downsampled_valid_lr)# \n",
    "f1_dw_lr = (2*precision_dw_lr*recall_dw_lr)/(precision_dw_lr+recall_dw_lr)# \n",
    "confusion_matrix_dw_lr = confusion_matrix(target_valid, predicted_downsampled_valid_lr)\n",
    "\n",
    "auc_roc_lr_dw = roc_auc_score(target_valid, predicted_downsampled_valid_lr) \n",
    "\n",
    "table_dw_lr = pd.DataFrame({'model_name':['LogisticRegression_downsampled'], 'Полнота':[recall_dw_lr],\n",
    "                           'Точность':[precision_dw_lr], 'F1-мера':[f1_dw_lr], 'AUC-ROC':[auc_roc_lr_dw]})\n",
    "\n",
    "print(\"Матрица ошибок:\", confusion_matrix_dw_lr)#\n",
    "print(\"Полнота:\", recall_dw_lr)\n",
    "print(\"Точность:\", precision_dw_lr)\n",
    "print(\"F1-мера:\", f1_dw_lr)\n",
    "print(\"AUC-ROC:\", auc_roc_lr_dw)"
   ]
  },
  {
   "cell_type": "code",
   "execution_count": null,
   "metadata": {},
   "outputs": [],
   "source": [
    "# обучим модель RandomForestClassifier и получим предсказания на новой выборке,\n",
    "#уменьшенной с помощью техники downsampling\n",
    "model_rfc.fit(features_downsampled_train, target_downsampled_train)\n",
    "predicted_downsampled_valid_rfc = model_rfc.predict(features_valid)\n",
    "precision_dw_rfc = precision_score(target_valid, predicted_downsampled_valid_rfc)\n",
    "recall_dw_rfc = recall_score(target_valid, predicted_downsampled_valid_rfc) \n",
    "f1_dw_rfc = (2*precision_dw_rfc*recall_dw_rfc)/(precision_dw_rfc+recall_dw_rfc)\n",
    "confusion_matrix_dw_rfc = confusion_matrix(target_valid, predicted_downsampled_valid_rfc)\n",
    "\n",
    "auc_roc_rfc_dw = roc_auc_score(target_valid, predicted_downsampled_valid_rfc) \n",
    "\n",
    "table_dw_rfc = pd.DataFrame({'model_name':['RandomForestClassifier_downsampled'], 'Полнота':[recall_dw_rfc],\n",
    "                            'Точность':[precision_dw_rfc], 'F1-мера':[f1_dw_rfc], 'AUC-ROC':[auc_roc_rfc_dw]})\n",
    "\n",
    "print(\"Матрица ошибок:\", confusion_matrix_dw_rfc)\n",
    "print(\"Полнота:\", recall_dw_rfc)\n",
    "print(\"Точность:\", precision_dw_rfc)\n",
    "print(\"F1-мера:\", f1_dw_rfc)\n",
    "print(\"AUC-ROC:\", auc_roc_rfc_dw)"
   ]
  },
  {
   "cell_type": "code",
   "execution_count": null,
   "metadata": {},
   "outputs": [],
   "source": [
    "#обобщим данные метрик классификации\n",
    "table_sum = pd.concat([table_dw_rfc, table_dtc_dw,\n",
    "                      table_dw_lr])\n",
    "table_sum = table_sum.reset_index()[['model_name', 'Полнота', 'Точность','F1-мера', 'AUC-ROC']]\n",
    "table_sum.sort_values(by='F1-мера')"
   ]
  },
  {
   "cell_type": "markdown",
   "metadata": {},
   "source": [
    "Как видно из данных в таблице, наилучшый результат после сбалансирования \n",
    "данных техникой downsampling у модели RandomForestClassifier, F1-мера которого 0.601006"
   ]
  },
  {
   "cell_type": "markdown",
   "metadata": {},
   "source": [
    "***Вывод***  \n",
    "Наилучшый результат после сбалансирования данных техникой upsampling у модели RandomForestClassifier, F1-мера которого 0.619621\n",
    "\n",
    "Наилучшый результат после сбалансирования данных техникой downsampling у модели RandomForestClassifier, F1-мера которого 0.601006\n",
    "\n",
    "Таким образом, наилучший результат у модели RandomForestClassifier, сбалансированной техникой upsampling, F1-мера которого 0.619621"
   ]
  },
  {
   "cell_type": "markdown",
   "metadata": {},
   "source": [
    "Построим ROC-кривые для всех моделей, чтобы проверить на сколько отличаются значения наших моделей от случайной модели."
   ]
  },
  {
   "cell_type": "code",
   "execution_count": null,
   "metadata": {},
   "outputs": [],
   "source": [
    "fpr, tpr, thresholds = roc_curve(target_valid, probabilities_one_valid_rfc)\n",
    "\n",
    "plt.figure()\n",
    "\n",
    "plt.plot(fpr, tpr)# пострим график\n",
    "\n",
    "# ROC-кривая случайной модели\n",
    "plt.plot([0, 1], [0, 1], linestyle='--')\n",
    "\n",
    "plt.xlim([0.0,1.0])# применим функции plt.xlim() и plt.ylim(), чтобы\n",
    "plt.ylim([0.0,1.0])# установить границы осей от 0 до 1\n",
    "\n",
    "plt.xlabel('False Positive Rate')\n",
    "plt.ylabel('True Positive Rate')# применим функции plt.xlabel() и plt.ylabel(), чтобы\n",
    "#   подписать оси \"False Positive Rate\" и \"True Positive Rate\" \n",
    "\n",
    "plt.title('ROC-кривая RandomForestClassifier')# добавим к графику заголовок \"ROC-кривая\" функцией plt.title()\n",
    "plt.show()\n",
    "auc_roc_rfc = roc_auc_score(target_valid, probabilities_one_valid_rfc)  \n",
    "table_auc_roc_rfc = pd.DataFrame({'model_name':['RandomForestClassifier'],'AUC-ROC':[auc_roc_rfc]})\n",
    "\n",
    "print(auc_roc_rfc)"
   ]
  },
  {
   "cell_type": "code",
   "execution_count": null,
   "metadata": {},
   "outputs": [],
   "source": [
    "fpr, tpr, thresholds = roc_curve(target_valid, probabilities_one_valid_dtc)\n",
    "\n",
    "plt.figure()\n",
    "\n",
    "plt.plot(fpr, tpr)# пострим график\n",
    "\n",
    "# ROC-кривая случайной модели\n",
    "plt.plot([0, 1], [0, 1], linestyle='--')\n",
    "\n",
    "plt.xlim([0.0,1.0])# применим функции plt.xlim() и plt.ylim(), чтобы\n",
    "plt.ylim([0.0,1.0])# установить границы осей от 0 до 1\n",
    "\n",
    "plt.xlabel('False Positive Rate')\n",
    "plt.ylabel('True Positive Rate')# применим функции plt.xlabel() и plt.ylabel(), чтобы\n",
    "#   подписать оси \"False Positive Rate\" и \"True Positive Rate\" \n",
    "\n",
    "plt.title('ROC-кривая DecisionTreeClassifier')# добавим к графику заголовок \"ROC-кривая\" функцией plt.title()\n",
    "plt.show()\n",
    "auc_roc_dtc = roc_auc_score(target_valid, probabilities_one_valid_dtc)  \n",
    "table_auc_roc_dtc = pd.DataFrame({'model_name':['DecisionTreeClassifier'],'AUC-ROC':[auc_roc_dtc]})\n",
    "print(auc_roc_dtc)"
   ]
  },
  {
   "cell_type": "code",
   "execution_count": null,
   "metadata": {},
   "outputs": [],
   "source": [
    "fpr, tpr, thresholds = roc_curve(target_valid, probabilities_one_valid_lr)\n",
    "\n",
    "plt.figure()\n",
    "\n",
    "plt.plot(fpr, tpr)# пострим график\n",
    "\n",
    "# ROC-кривая случайной модели\n",
    "plt.plot([0, 1], [0, 1], linestyle='--')\n",
    "\n",
    "plt.xlim([0.0,1.0])# применим функции plt.xlim() и plt.ylim(), чтобы\n",
    "plt.ylim([0.0,1.0])# установить границы осей от 0 до 1\n",
    "\n",
    "plt.xlabel('False Positive Rate')\n",
    "plt.ylabel('True Positive Rate')# применим функции plt.xlabel() и plt.ylabel(), чтобы\n",
    "#   подписать оси \"False Positive Rate\" и \"True Positive Rate\" \n",
    "\n",
    "plt.title('ROC-кривая LogisticRegression')# добавим к графику заголовок \"ROC-кривая\" функцией plt.title()\n",
    "plt.show()\n",
    "auc_roc_lr = roc_auc_score(target_valid, probabilities_one_valid_lr)  \n",
    "\n",
    "table_auc_roc_lr = pd.DataFrame({'model_name':['LogisticRegression'],'AUC-ROC':[auc_roc_lr]})\n",
    "print(auc_roc_lr)"
   ]
  },
  {
   "cell_type": "code",
   "execution_count": null,
   "metadata": {},
   "outputs": [],
   "source": [
    "probabilities_upsampled_valid_dtc = model_dtc.predict_proba(features_valid)\n",
    "probabilities_upsampled_one_valid_dtc = probabilities_upsampled_valid_dtc[:, 1]\n",
    "\n",
    "fpr, tpr, thresholds = roc_curve(target_valid, probabilities_upsampled_one_valid_dtc)# < напишите код здесь >\n",
    "\n",
    "plt.figure()\n",
    "\n",
    "plt.plot(fpr, tpr)# построим график\n",
    "\n",
    "# ROC-кривая случайной модели \n",
    "plt.plot([0, 1], [0, 1], linestyle='--')\n",
    "\n",
    "plt.xlim([0.0,1.0])# применим функции plt.xlim() и plt.ylim(), чтобы\n",
    "plt.ylim([0.0,1.0])#   установить границы осей от 0 до 1\n",
    "\n",
    "plt.xlabel('False Positive Rate')\n",
    "plt.ylabel('True Positive Rate')# применим функции plt.xlabel() и plt.ylabel(), чтобы\n",
    "#   подписать оси \"False Positive Rate\" и \"True Positive Rate\"\n",
    "\n",
    "plt.title('ROC-кривая DecisionTreeClassifier_upsampled')# добавим к графику заголовок \"ROC-кривая\" функцией plt.title()\n",
    "\n",
    "plt.show()\n",
    "auc_roc_up_dtc = roc_auc_score(target_valid, probabilities_upsampled_one_valid_dtc)  \n",
    "\n",
    "table_auc_roc_up_dtc = pd.DataFrame({'model_name':['DecisionTreeClassifier_upsampled'],'AUC-ROC':[auc_roc_up_dtc]})\n",
    "\n",
    "print(auc_roc_up_dtc)"
   ]
  },
  {
   "cell_type": "code",
   "execution_count": null,
   "metadata": {},
   "outputs": [],
   "source": [
    "probabilities_upsampled_valid_rfc = model_rfc.predict_proba(features_valid)\n",
    "probabilities_upsampled_one_valid_rfc = probabilities_upsampled_valid_rfc[:, 1]\n",
    "\n",
    "fpr, tpr, thresholds = roc_curve(target_valid, probabilities_upsampled_one_valid_rfc)# < напишите код здесь >\n",
    "\n",
    "plt.figure()\n",
    "\n",
    "plt.plot(fpr, tpr)# построим график\n",
    "\n",
    "# ROC-кривая случайной модели \n",
    "plt.plot([0, 1], [0, 1], linestyle='--')\n",
    "\n",
    "plt.xlim([0.0,1.0])# применим функции plt.xlim() и plt.ylim(), чтобы\n",
    "plt.ylim([0.0,1.0])#   установить границы осей от 0 до 1\n",
    "\n",
    "plt.xlabel('False Positive Rate')\n",
    "plt.ylabel('True Positive Rate')# применим функции plt.xlabel() и plt.ylabel(), чтобы\n",
    "#   подписать оси \"False Positive Rate\" и \"True Positive Rate\"\n",
    "\n",
    "plt.title('ROC-кривая RandomForestClassifier_upsampled')# добавим к графику заголовок \"ROC-кривая\" функцией plt.title()\n",
    "\n",
    "plt.show()\n",
    "auc_roc_up_rfc = roc_auc_score(target_valid, probabilities_upsampled_one_valid_rfc)  \n",
    "\n",
    "table_auc_roc_up_rfc = pd.DataFrame({'model_name':['RandomForestClassifier_upsample'],'AUC-ROC':[auc_roc_up_rfc]})\n",
    "\n",
    "print(auc_roc_up_rfc)"
   ]
  },
  {
   "cell_type": "code",
   "execution_count": null,
   "metadata": {},
   "outputs": [],
   "source": [
    "probabilities_upsampled_valid_lr = model_lr.predict_proba(features_valid)\n",
    "probabilities_upsampled_one_valid_lr = probabilities_upsampled_valid_lr[:, 1]\n",
    "\n",
    "fpr, tpr, thresholds = roc_curve(target_valid, probabilities_upsampled_one_valid_lr)# \n",
    "plt.figure()\n",
    "\n",
    "plt.plot(fpr, tpr)# построим график\n",
    "\n",
    "# ROC-кривая случайной модели \n",
    "plt.plot([0, 1], [0, 1], linestyle='--')\n",
    "\n",
    "plt.xlim([0.0,1.0])# применим функции plt.xlim() и plt.ylim(), чтобы\n",
    "plt.ylim([0.0,1.0])#   установить границы осей от 0 до 1\n",
    "\n",
    "plt.xlabel('False Positive Rate')\n",
    "plt.ylabel('True Positive Rate')# применим функции plt.xlabel() и plt.ylabel(), чтобы\n",
    "#   подписать оси \"False Positive Rate\" и \"True Positive Rate\"\n",
    "\n",
    "plt.title('ROC-кривая LogisticRegression_upsampled')# добавим к графику заголовок \"ROC-кривая\" функцией plt.title()\n",
    "\n",
    "plt.show()\n",
    "auc_roc_up_lr = roc_auc_score(target_valid, probabilities_upsampled_one_valid_lr)  \n",
    "\n",
    "table_auc_roc_up_lr = pd.DataFrame({'model_name':['LogisticRegression_upsampled'],'AUC-ROC':[auc_roc_up_lr]})\n",
    "\n",
    "print(auc_roc_up_lr)"
   ]
  },
  {
   "cell_type": "code",
   "execution_count": null,
   "metadata": {},
   "outputs": [],
   "source": [
    "probabilities_downsampled_valid_rfc = model_rfc.predict_proba(features_valid)\n",
    "probabilities_downsampled_one_valid_rfc = probabilities_downsampled_valid_rfc[:, 1]\n",
    "\n",
    "fpr, tpr, thresholds = roc_curve(target_valid, probabilities_downsampled_one_valid_rfc)# \n",
    "\n",
    "plt.figure()\n",
    "\n",
    "plt.plot(fpr, tpr)# построим график\n",
    "\n",
    "# ROC-кривая случайной модели\n",
    "plt.plot([0, 1], [0, 1], linestyle='--')\n",
    "\n",
    "plt.xlim([0.0,1.0])# применим функции plt.xlim() и plt.ylim(), чтобы\n",
    "plt.ylim([0.0,1.0])#   установить границы осей от 0 до 1 \n",
    "\n",
    "plt.xlabel('False Positive Rate')\n",
    "plt.ylabel('True Positive Rate')# применим функции plt.xlabel() и plt.ylabel(), чтобы\n",
    "#   подписать оси \"False Positive Rate\" и \"True Positive Rate\" \n",
    "\n",
    "plt.title('ROC-кривая модели RandomForestClassifier_downsampled')# добавим к графику заголовок \"ROC-кривая модели RandomForestClassifier\" функцией plt.title()\n",
    "\n",
    "plt.show()\n",
    "auc_roc_dw_rfc = roc_auc_score(target_valid, probabilities_downsampled_one_valid_rfc)  \n",
    "\n",
    "table_auc_roc_dw_rfc = pd.DataFrame({'model_name':['RandomForestClassifier_downsampled'],'AUC-ROC':[auc_roc_dw_rfc]})\n",
    "\n",
    "print(auc_roc_dw_rfc)"
   ]
  },
  {
   "cell_type": "code",
   "execution_count": null,
   "metadata": {},
   "outputs": [],
   "source": [
    "probabilities_downsampled_valid_dtc = model_dtc.predict_proba(features_valid)\n",
    "probabilities_downsampled_one_valid_dtc = probabilities_downsampled_valid_dtc[:, 1]\n",
    "\n",
    "fpr, tpr, thresholds = roc_curve(target_valid, probabilities_downsampled_one_valid_rfc)# \n",
    "\n",
    "plt.figure()\n",
    "\n",
    "plt.plot(fpr, tpr)# построим график\n",
    "\n",
    "# ROC-кривая случайной модели\n",
    "plt.plot([0, 1], [0, 1], linestyle='--')\n",
    "\n",
    "plt.xlim([0.0,1.0])# применим функции plt.xlim() и plt.ylim(), чтобы\n",
    "plt.ylim([0.0,1.0])#   установить границы осей от 0 до 1 \n",
    "\n",
    "plt.xlabel('False Positive Rate')\n",
    "plt.ylabel('True Positive Rate')# применим функции plt.xlabel() и plt.ylabel(), чтобы\n",
    "#   подписать оси \"False Positive Rate\" и \"True Positive Rate\" \n",
    "\n",
    "plt.title('ROC-кривая модели DecisionTreeClassifier_downsampled')# добавим к графику заголовок \"ROC-кривая модели RandomForestClassifier\" функцией plt.title()\n",
    "\n",
    "plt.show()\n",
    "auc_roc_dw_dtc = roc_auc_score(target_valid, probabilities_downsampled_one_valid_dtc)  \n",
    "\n",
    "table_auc_roc_dw_dtc = pd.DataFrame({'model_name':['DecisionTreeClassifier_downsampled'],'AUC-ROC':[auc_roc_dw_dtc]})\n",
    "\n",
    "print(auc_roc_dw_dtc)"
   ]
  },
  {
   "cell_type": "code",
   "execution_count": null,
   "metadata": {},
   "outputs": [],
   "source": [
    "probabilities_downsampled_valid_lr = model_rfc.predict_proba(features_valid)\n",
    "probabilities_downsampled_one_valid_lr = probabilities_downsampled_valid_lr[:, 1]\n",
    "\n",
    "fpr, tpr, thresholds = roc_curve(target_valid, probabilities_downsampled_one_valid_lr)# \n",
    "\n",
    "plt.figure()\n",
    "\n",
    "plt.plot(fpr, tpr)# построим график\n",
    "\n",
    "# ROC-кривая случайной модели\n",
    "plt.plot([0, 1], [0, 1], linestyle='--')\n",
    "\n",
    "plt.xlim([0.0,1.0])# применим функции plt.xlim() и plt.ylim(), чтобы\n",
    "plt.ylim([0.0,1.0])#   установить границы осей от 0 до 1 \n",
    "\n",
    "plt.xlabel('False Positive Rate')\n",
    "plt.ylabel('True Positive Rate')# применим функции plt.xlabel() и plt.ylabel(), чтобы\n",
    "#   подписать оси \"False Positive Rate\" и \"True Positive Rate\" \n",
    "\n",
    "plt.title('ROC-кривая модели LogisticRegression_downsampled')# добавим к графику заголовок \"ROC-кривая модели RandomForestClassifier\" функцией plt.title()\n",
    "\n",
    "plt.show()\n",
    "auc_roc_dw_lr = roc_auc_score(target_valid, probabilities_downsampled_one_valid_lr)  \n",
    "\n",
    "table_auc_roc_dw_lr = pd.DataFrame({'model_name':['LogisticRegression_downsampled'],'AUC-ROC':[auc_roc_dw_lr]})\n",
    "\n",
    "print(auc_roc_dw_lr)"
   ]
  },
  {
   "cell_type": "code",
   "execution_count": null,
   "metadata": {},
   "outputs": [],
   "source": [
    "table_sum = pd.concat([table_auc_roc_dw_lr, table_auc_roc_dw_dtc, table_auc_roc_dw_rfc, table_auc_roc_up_lr, table_auc_roc_up_rfc, \n",
    "                       table_auc_roc_up_dtc, table_auc_roc_lr, table_auc_roc_dtc, table_auc_roc_rfc, ])\n",
    "table_sum = table_sum.reset_index()[['model_name', 'AUC-ROC']]\n",
    "table_sum.sort_values(by='AUC-ROC', ascending=False)"
   ]
  },
  {
   "cell_type": "markdown",
   "metadata": {},
   "source": [
    "Наилучшее значение показывает модель RandomForestClassifier."
   ]
  },
  {
   "cell_type": "code",
   "execution_count": null,
   "metadata": {
    "scrolled": false
   },
   "outputs": [],
   "source": [
    "table_sum_1 = pd.concat([table_rfc, table_dw_rfc, table_rfc_up, table_dtc, table_dtc_dw,\n",
    "                       table_dtc_up, table_lr, table_dw_lr,  \n",
    "                       table_lr_up])\n",
    "table_sum_1 = table_sum_1.reset_index()[['model_name', 'Полнота', 'Точность', 'F1-мера']]\n",
    "table_sum_1.sort_values(by='F1-мера', ascending=False)"
   ]
  },
  {
   "cell_type": "markdown",
   "metadata": {},
   "source": [
    "Как видно из таблицы выше, наилучший показатель среднего гармонического полноты и точности у модели RandomForestClassifier, сбалансированная техникой upsampling."
   ]
  },
  {
   "cell_type": "markdown",
   "metadata": {},
   "source": [
    "***ВЫВОД***  \n",
    "Как видно из данных, приведенных в таблице выше, после балансирования моделей наилучший результат показала модель RandomForestClassifier, сбалансированнная методом upsampling по метрике F1 и составила 0.619621.\n",
    "Указанная модель также показала один из наилучших резальтов по метрике AUC-ROC и составила 0.815596.\n"
   ]
  },
  {
   "cell_type": "markdown",
   "metadata": {},
   "source": [
    "## Тестирование модели"
   ]
  },
  {
   "cell_type": "code",
   "execution_count": null,
   "metadata": {},
   "outputs": [],
   "source": [
    "model_rfc = RandomForestClassifier(max_depth = 10, n_estimators=82, random_state=12345)\n",
    "model_rfc.fit(features_upsampled_train, target_upsampled_train)\n",
    "predicted_upsampled_valid_rfc = model_rfc.predict(features_valid)\n",
    "precision_rfc_up = precision_score(target_valid, predicted_upsampled_valid_rfc)# \n",
    "recall_rfc_up = recall_score(target_valid, predicted_upsampled_valid_rfc)# \n",
    "f1_rfc_up = (2*precision_rfc_up*recall_rfc_up)/(precision_rfc_up+recall_rfc_up)# \n",
    "confusion_matrix_rfc_up = confusion_matrix(target_valid, predicted_upsampled_valid_rfc)\n",
    "\n",
    "auc_roc_rfc_up = roc_auc_score(target_valid, predicted_upsampled_valid_rfc)  \n",
    "\n",
    "table_rfc_up = pd.DataFrame({'model_name':['RandomForestClassifier_upsampled'], 'Полнота':[recall_rfc_up],\n",
    "                            'Точность':[precision_rfc_up], 'F1-мера':[f1_rfc_up], 'AUC-ROC':[auc_roc_rfc_up]})\n",
    "\n",
    "print(\"Матрица ошибок:\", confusion_matrix_rfc_up)#\n",
    "print(\"Полнота:\", recall_rfc_up)\n",
    "print(\"Точность:\", precision_rfc_up)\n",
    "print(\"F1-мера:\", f1_rfc_up)\n",
    "print(\"AUC-ROC:\", auc_roc_rfc_up)"
   ]
  },
  {
   "cell_type": "code",
   "execution_count": null,
   "metadata": {},
   "outputs": [],
   "source": [
    "target_predict_constant = pd.Series([0]*len(target_valid))\n",
    "target_predict_constant.value_counts()\n",
    "print('accuracy_score константной модели:', accuracy_score(target_valid, target_predict_constant))\n",
    "print('accuracy_score финальной модели:', accuracy_score(target_valid, predicted_upsampled_valid_rfc))\n",
    "print('AUC-ROC константной модели:', roc_auc_score(target_valid, target_predict_constant))\n",
    "print('AUC-ROC финальной модели:', roc_auc_score(target_valid, predicted_upsampled_valid_rfc))"
   ]
  },
  {
   "cell_type": "markdown",
   "metadata": {},
   "source": [
    "***Вывод***  \n",
    "Таким образом, указанная модель подойдет для того, чтобы спрогнозировать, уйдёт клиент из банка в ближайшее время или нет. "
   ]
  },
  {
   "cell_type": "markdown",
   "metadata": {},
   "source": [
    "## Чек-лист готовности проекта"
   ]
  },
  {
   "cell_type": "markdown",
   "metadata": {},
   "source": [
    "Поставьте 'x' в выполненных пунктах. Далее нажмите Shift+Enter."
   ]
  },
  {
   "cell_type": "markdown",
   "metadata": {},
   "source": [
    "- [x]  Jupyter Notebook открыт\n",
    "- [x]  Весь код выполняется без ошибок\n",
    "- [x]  Ячейки с кодом расположены в порядке исполнения\n",
    "- [x]  Выполнен шаг 1: данные подготовлены\n",
    "- [x]  Выполнен шаг 2: задача исследована\n",
    "    - [x]  Исследован баланс классов\n",
    "    - [x]  Изучены модели без учёта дисбаланса\n",
    "    - [x]  Написаны выводы по результатам исследования\n",
    "- [x]  Выполнен шаг 3: учтён дисбаланс\n",
    "    - [x]  Применено несколько способов борьбы с дисбалансом\n",
    "    - [x]  Написаны выводы по результатам исследования\n",
    "- [x]  Выполнен шаг 4: проведено тестирование\n",
    "- [x]  Удалось достичь *F1*-меры не менее 0.59\n",
    "- [x]  Исследована метрика *AUC-ROC*"
   ]
  }
 ],
 "metadata": {
  "ExecuteTimeLog": [
   {
    "duration": 356,
    "start_time": "2021-10-24T11:28:30.864Z"
   },
   {
    "duration": 695,
    "start_time": "2021-10-24T11:28:34.553Z"
   },
   {
    "duration": 62,
    "start_time": "2021-10-24T11:28:36.987Z"
   },
   {
    "duration": 60,
    "start_time": "2021-10-24T11:29:33.552Z"
   },
   {
    "duration": 12,
    "start_time": "2021-10-24T11:29:53.472Z"
   },
   {
    "duration": 340,
    "start_time": "2021-10-24T11:31:27.114Z"
   },
   {
    "duration": 9,
    "start_time": "2021-10-24T11:31:34.045Z"
   },
   {
    "duration": 7,
    "start_time": "2021-10-24T11:33:20.286Z"
   },
   {
    "duration": 11,
    "start_time": "2021-10-24T11:33:39.270Z"
   },
   {
    "duration": 8,
    "start_time": "2021-10-24T11:33:58.433Z"
   },
   {
    "duration": 1139,
    "start_time": "2021-10-24T11:34:59.817Z"
   },
   {
    "duration": 16,
    "start_time": "2021-10-24T11:35:04.499Z"
   },
   {
    "duration": 97,
    "start_time": "2021-10-24T11:35:56.668Z"
   },
   {
    "duration": 17,
    "start_time": "2021-10-24T11:36:04.493Z"
   },
   {
    "duration": 15,
    "start_time": "2021-10-24T11:36:46.312Z"
   },
   {
    "duration": 16,
    "start_time": "2021-10-24T11:37:00.574Z"
   },
   {
    "duration": 552,
    "start_time": "2021-10-24T11:37:41.932Z"
   },
   {
    "duration": 6,
    "start_time": "2021-10-24T12:01:14.336Z"
   },
   {
    "duration": 90,
    "start_time": "2021-10-24T12:09:35.652Z"
   },
   {
    "duration": 292,
    "start_time": "2021-10-24T12:19:06.724Z"
   },
   {
    "duration": 5,
    "start_time": "2021-10-24T12:19:16.248Z"
   },
   {
    "duration": 96,
    "start_time": "2021-10-24T12:20:33.974Z"
   },
   {
    "duration": 9,
    "start_time": "2021-10-24T12:26:52.726Z"
   },
   {
    "duration": 11,
    "start_time": "2021-10-24T12:27:06.398Z"
   },
   {
    "duration": 11,
    "start_time": "2021-10-24T12:27:14.421Z"
   },
   {
    "duration": 7002,
    "start_time": "2021-10-24T12:32:42.087Z"
   },
   {
    "duration": 472,
    "start_time": "2021-10-24T12:32:59.682Z"
   },
   {
    "duration": -1,
    "start_time": "2021-10-24T12:33:13.034Z"
   },
   {
    "duration": 5,
    "start_time": "2021-10-24T12:33:20.566Z"
   },
   {
    "duration": 286,
    "start_time": "2021-10-24T12:38:57.114Z"
   },
   {
    "duration": 9,
    "start_time": "2021-10-24T12:39:02.859Z"
   },
   {
    "duration": 18,
    "start_time": "2021-10-24T12:39:19.316Z"
   },
   {
    "duration": 289,
    "start_time": "2021-10-24T12:39:31.740Z"
   },
   {
    "duration": 284,
    "start_time": "2021-10-24T12:39:51.505Z"
   },
   {
    "duration": 278,
    "start_time": "2021-10-24T12:40:00.194Z"
   },
   {
    "duration": 269,
    "start_time": "2021-10-24T12:40:29.058Z"
   },
   {
    "duration": 282,
    "start_time": "2021-10-24T12:40:43.412Z"
   },
   {
    "duration": 290,
    "start_time": "2021-10-24T12:40:56.241Z"
   },
   {
    "duration": 293,
    "start_time": "2021-10-24T12:41:20.467Z"
   },
   {
    "duration": 285,
    "start_time": "2021-10-24T12:41:28.470Z"
   },
   {
    "duration": 4,
    "start_time": "2021-10-24T12:41:52.992Z"
   },
   {
    "duration": 55,
    "start_time": "2021-10-24T12:41:52.999Z"
   },
   {
    "duration": 5,
    "start_time": "2021-10-24T12:41:53.057Z"
   },
   {
    "duration": 16,
    "start_time": "2021-10-24T12:41:53.065Z"
   },
   {
    "duration": 38,
    "start_time": "2021-10-24T12:41:53.084Z"
   },
   {
    "duration": 10,
    "start_time": "2021-10-24T12:41:53.125Z"
   },
   {
    "duration": 9,
    "start_time": "2021-10-24T12:41:53.138Z"
   },
   {
    "duration": 599,
    "start_time": "2021-10-24T12:41:53.151Z"
   },
   {
    "duration": 15,
    "start_time": "2021-10-24T12:41:53.752Z"
   },
   {
    "duration": 5,
    "start_time": "2021-10-24T12:41:53.770Z"
   },
   {
    "duration": 58,
    "start_time": "2021-10-24T12:41:53.777Z"
   },
   {
    "duration": 3,
    "start_time": "2021-10-24T12:42:11.400Z"
   },
   {
    "duration": 77,
    "start_time": "2021-10-24T12:42:11.406Z"
   },
   {
    "duration": 7,
    "start_time": "2021-10-24T12:42:11.486Z"
   },
   {
    "duration": 30,
    "start_time": "2021-10-24T12:42:11.496Z"
   },
   {
    "duration": 14,
    "start_time": "2021-10-24T12:42:11.528Z"
   },
   {
    "duration": 12,
    "start_time": "2021-10-24T12:42:11.544Z"
   },
   {
    "duration": 9,
    "start_time": "2021-10-24T12:42:11.560Z"
   },
   {
    "duration": 755,
    "start_time": "2021-10-24T12:42:11.572Z"
   },
   {
    "duration": 17,
    "start_time": "2021-10-24T12:42:12.330Z"
   },
   {
    "duration": 6,
    "start_time": "2021-10-24T12:42:12.350Z"
   },
   {
    "duration": 303,
    "start_time": "2021-10-24T12:42:12.358Z"
   },
   {
    "duration": 288,
    "start_time": "2021-10-24T12:42:30.252Z"
   },
   {
    "duration": 3,
    "start_time": "2021-10-24T12:42:35.519Z"
   },
   {
    "duration": 52,
    "start_time": "2021-10-24T12:42:35.525Z"
   },
   {
    "duration": 5,
    "start_time": "2021-10-24T12:42:35.580Z"
   },
   {
    "duration": 12,
    "start_time": "2021-10-24T12:42:35.588Z"
   },
   {
    "duration": 24,
    "start_time": "2021-10-24T12:42:35.602Z"
   },
   {
    "duration": 10,
    "start_time": "2021-10-24T12:42:35.628Z"
   },
   {
    "duration": 7,
    "start_time": "2021-10-24T12:42:35.641Z"
   },
   {
    "duration": 573,
    "start_time": "2021-10-24T12:42:35.651Z"
   },
   {
    "duration": 16,
    "start_time": "2021-10-24T12:42:36.226Z"
   },
   {
    "duration": 5,
    "start_time": "2021-10-24T12:42:36.244Z"
   },
   {
    "duration": 24,
    "start_time": "2021-10-24T12:42:36.251Z"
   },
   {
    "duration": 11,
    "start_time": "2021-10-24T12:42:50.415Z"
   },
   {
    "duration": 11,
    "start_time": "2021-10-24T12:42:57.595Z"
   },
   {
    "duration": 9,
    "start_time": "2021-10-24T12:43:02.948Z"
   },
   {
    "duration": 261,
    "start_time": "2021-10-24T12:43:06.482Z"
   },
   {
    "duration": 404,
    "start_time": "2021-10-24T12:43:14.344Z"
   },
   {
    "duration": 3,
    "start_time": "2021-10-24T12:43:18.998Z"
   },
   {
    "duration": 53,
    "start_time": "2021-10-24T12:43:19.003Z"
   },
   {
    "duration": 5,
    "start_time": "2021-10-24T12:43:19.059Z"
   },
   {
    "duration": 9,
    "start_time": "2021-10-24T12:43:19.067Z"
   },
   {
    "duration": 11,
    "start_time": "2021-10-24T12:43:19.078Z"
   },
   {
    "duration": 37,
    "start_time": "2021-10-24T12:43:19.091Z"
   },
   {
    "duration": 7,
    "start_time": "2021-10-24T12:43:19.131Z"
   },
   {
    "duration": 541,
    "start_time": "2021-10-24T12:43:19.141Z"
   },
   {
    "duration": 53,
    "start_time": "2021-10-24T12:43:19.684Z"
   },
   {
    "duration": 5,
    "start_time": "2021-10-24T12:43:19.739Z"
   },
   {
    "duration": 9,
    "start_time": "2021-10-24T12:43:19.747Z"
   },
   {
    "duration": 11,
    "start_time": "2021-10-24T12:43:19.758Z"
   },
   {
    "duration": 93,
    "start_time": "2021-10-24T12:45:50.092Z"
   },
   {
    "duration": 108,
    "start_time": "2021-10-24T12:46:16.811Z"
   },
   {
    "duration": 102,
    "start_time": "2021-10-24T12:46:22.005Z"
   },
   {
    "duration": 7624,
    "start_time": "2021-10-24T12:46:37.476Z"
   },
   {
    "duration": 4,
    "start_time": "2021-10-24T12:46:56.782Z"
   },
   {
    "duration": 56,
    "start_time": "2021-10-24T12:46:56.789Z"
   },
   {
    "duration": 26,
    "start_time": "2021-10-24T12:46:56.848Z"
   },
   {
    "duration": 15,
    "start_time": "2021-10-24T12:46:56.876Z"
   },
   {
    "duration": 32,
    "start_time": "2021-10-24T12:46:56.893Z"
   },
   {
    "duration": 12,
    "start_time": "2021-10-24T12:46:56.927Z"
   },
   {
    "duration": 9,
    "start_time": "2021-10-24T12:46:56.941Z"
   },
   {
    "duration": 12,
    "start_time": "2021-10-24T12:46:56.953Z"
   },
   {
    "duration": 570,
    "start_time": "2021-10-24T12:46:56.968Z"
   },
   {
    "duration": 16,
    "start_time": "2021-10-24T12:46:57.541Z"
   },
   {
    "duration": 6,
    "start_time": "2021-10-24T12:46:57.560Z"
   },
   {
    "duration": 14,
    "start_time": "2021-10-24T12:46:57.568Z"
   },
   {
    "duration": 48,
    "start_time": "2021-10-24T12:46:57.584Z"
   },
   {
    "duration": 6976,
    "start_time": "2021-10-24T12:55:45.628Z"
   },
   {
    "duration": 7385,
    "start_time": "2021-10-24T12:56:02.601Z"
   },
   {
    "duration": 3,
    "start_time": "2021-10-24T12:56:16.386Z"
   },
   {
    "duration": 54,
    "start_time": "2021-10-24T12:56:16.392Z"
   },
   {
    "duration": 26,
    "start_time": "2021-10-24T12:56:16.449Z"
   },
   {
    "duration": 6,
    "start_time": "2021-10-24T12:56:16.478Z"
   },
   {
    "duration": 40,
    "start_time": "2021-10-24T12:56:16.486Z"
   },
   {
    "duration": 14,
    "start_time": "2021-10-24T12:56:16.529Z"
   },
   {
    "duration": 9,
    "start_time": "2021-10-24T12:56:16.546Z"
   },
   {
    "duration": 9,
    "start_time": "2021-10-24T12:56:16.559Z"
   },
   {
    "duration": 703,
    "start_time": "2021-10-24T12:56:16.570Z"
   },
   {
    "duration": 66,
    "start_time": "2021-10-24T12:56:17.277Z"
   },
   {
    "duration": 6,
    "start_time": "2021-10-24T12:56:17.345Z"
   },
   {
    "duration": 10,
    "start_time": "2021-10-24T12:56:17.353Z"
   },
   {
    "duration": 12,
    "start_time": "2021-10-24T12:56:17.365Z"
   },
   {
    "duration": 3,
    "start_time": "2021-10-24T13:49:34.190Z"
   },
   {
    "duration": 646,
    "start_time": "2021-10-24T14:05:47.756Z"
   },
   {
    "duration": 47,
    "start_time": "2021-10-24T14:06:22.627Z"
   },
   {
    "duration": 65,
    "start_time": "2021-10-24T14:06:44.539Z"
   },
   {
    "duration": 64,
    "start_time": "2021-10-24T14:19:25.094Z"
   },
   {
    "duration": 10,
    "start_time": "2021-10-24T14:22:39.091Z"
   },
   {
    "duration": 382,
    "start_time": "2021-10-24T14:23:08.228Z"
   },
   {
    "duration": 68,
    "start_time": "2021-10-24T14:23:12.200Z"
   },
   {
    "duration": 282,
    "start_time": "2021-10-24T14:23:35.966Z"
   },
   {
    "duration": 23,
    "start_time": "2021-10-24T14:23:51.215Z"
   },
   {
    "duration": 284,
    "start_time": "2021-10-24T14:24:42.629Z"
   },
   {
    "duration": 23,
    "start_time": "2021-10-24T14:25:13.934Z"
   },
   {
    "duration": 11,
    "start_time": "2021-10-24T14:26:11.842Z"
   },
   {
    "duration": 18,
    "start_time": "2021-10-24T14:26:21.104Z"
   },
   {
    "duration": 29,
    "start_time": "2021-10-24T14:27:55.291Z"
   },
   {
    "duration": 30,
    "start_time": "2021-10-24T14:28:18.959Z"
   },
   {
    "duration": 23,
    "start_time": "2021-10-24T14:28:43.325Z"
   },
   {
    "duration": 20,
    "start_time": "2021-10-24T14:29:27.146Z"
   },
   {
    "duration": 20,
    "start_time": "2021-10-24T14:29:35.676Z"
   },
   {
    "duration": 19,
    "start_time": "2021-10-24T14:29:39.055Z"
   },
   {
    "duration": 6,
    "start_time": "2021-10-24T14:29:47.528Z"
   },
   {
    "duration": 63,
    "start_time": "2021-10-24T14:29:47.536Z"
   },
   {
    "duration": 24,
    "start_time": "2021-10-24T14:29:47.602Z"
   },
   {
    "duration": 10,
    "start_time": "2021-10-24T14:29:47.629Z"
   },
   {
    "duration": 10,
    "start_time": "2021-10-24T14:29:47.641Z"
   },
   {
    "duration": 15,
    "start_time": "2021-10-24T14:29:47.654Z"
   },
   {
    "duration": 53,
    "start_time": "2021-10-24T14:29:47.674Z"
   },
   {
    "duration": 11,
    "start_time": "2021-10-24T14:29:47.731Z"
   },
   {
    "duration": 578,
    "start_time": "2021-10-24T14:29:47.744Z"
   },
   {
    "duration": 17,
    "start_time": "2021-10-24T14:29:48.326Z"
   },
   {
    "duration": 5,
    "start_time": "2021-10-24T14:29:48.346Z"
   },
   {
    "duration": 23,
    "start_time": "2021-10-24T14:29:48.354Z"
   },
   {
    "duration": 12,
    "start_time": "2021-10-24T14:29:48.379Z"
   },
   {
    "duration": 90,
    "start_time": "2021-10-24T14:29:48.394Z"
   },
   {
    "duration": 10,
    "start_time": "2021-10-24T14:29:48.486Z"
   },
   {
    "duration": 29,
    "start_time": "2021-10-24T14:29:48.498Z"
   },
   {
    "duration": 24,
    "start_time": "2021-10-24T14:29:48.530Z"
   },
   {
    "duration": 28,
    "start_time": "2021-10-24T14:30:55.540Z"
   },
   {
    "duration": 35,
    "start_time": "2021-10-24T14:31:20.593Z"
   },
   {
    "duration": 228,
    "start_time": "2021-10-24T14:33:22.027Z"
   },
   {
    "duration": 16,
    "start_time": "2021-10-24T14:39:48.295Z"
   },
   {
    "duration": 23,
    "start_time": "2021-10-24T14:40:33.388Z"
   },
   {
    "duration": 284,
    "start_time": "2021-10-24T14:42:42.967Z"
   },
   {
    "duration": 7,
    "start_time": "2021-10-24T14:42:56.356Z"
   },
   {
    "duration": 16,
    "start_time": "2021-10-24T14:44:47.123Z"
   },
   {
    "duration": 82,
    "start_time": "2021-10-24T14:48:21.636Z"
   },
   {
    "duration": 85,
    "start_time": "2021-10-24T14:48:50.291Z"
   },
   {
    "duration": 91,
    "start_time": "2021-10-24T14:49:07.047Z"
   },
   {
    "duration": 90,
    "start_time": "2021-10-24T14:50:21.213Z"
   },
   {
    "duration": 98,
    "start_time": "2021-10-24T14:50:37.228Z"
   },
   {
    "duration": 103,
    "start_time": "2021-10-24T14:51:51.119Z"
   },
   {
    "duration": 325,
    "start_time": "2021-10-24T14:54:50.963Z"
   },
   {
    "duration": 322,
    "start_time": "2021-10-24T14:55:10.003Z"
   },
   {
    "duration": 6,
    "start_time": "2021-10-24T14:57:41.086Z"
   },
   {
    "duration": 58,
    "start_time": "2021-10-24T14:57:41.095Z"
   },
   {
    "duration": 27,
    "start_time": "2021-10-24T14:57:41.156Z"
   },
   {
    "duration": 37,
    "start_time": "2021-10-24T14:57:41.185Z"
   },
   {
    "duration": 9,
    "start_time": "2021-10-24T14:57:41.226Z"
   },
   {
    "duration": 10,
    "start_time": "2021-10-24T14:57:41.238Z"
   },
   {
    "duration": 8,
    "start_time": "2021-10-24T14:57:41.251Z"
   },
   {
    "duration": 62,
    "start_time": "2021-10-24T14:57:41.262Z"
   },
   {
    "duration": 604,
    "start_time": "2021-10-24T14:57:41.327Z"
   },
   {
    "duration": 17,
    "start_time": "2021-10-24T14:57:41.934Z"
   },
   {
    "duration": 6,
    "start_time": "2021-10-24T14:57:41.954Z"
   },
   {
    "duration": 21,
    "start_time": "2021-10-24T14:57:41.963Z"
   },
   {
    "duration": 48,
    "start_time": "2021-10-24T14:57:41.987Z"
   },
   {
    "duration": 65,
    "start_time": "2021-10-24T14:57:42.037Z"
   },
   {
    "duration": 17,
    "start_time": "2021-10-24T14:57:42.105Z"
   },
   {
    "duration": 33,
    "start_time": "2021-10-24T14:57:42.125Z"
   },
   {
    "duration": 44,
    "start_time": "2021-10-24T14:57:42.160Z"
   },
   {
    "duration": 89,
    "start_time": "2021-10-24T14:57:42.207Z"
   },
   {
    "duration": 223,
    "start_time": "2021-10-24T14:57:42.299Z"
   },
   {
    "duration": 243,
    "start_time": "2021-10-24T14:57:42.525Z"
   },
   {
    "duration": 7,
    "start_time": "2021-10-24T14:57:42.771Z"
   },
   {
    "duration": 24,
    "start_time": "2021-10-24T14:57:42.781Z"
   },
   {
    "duration": 6,
    "start_time": "2021-10-24T14:59:47.703Z"
   },
   {
    "duration": 362,
    "start_time": "2021-10-24T15:00:43.768Z"
   },
   {
    "duration": 163,
    "start_time": "2021-10-24T15:00:51.486Z"
   },
   {
    "duration": 37,
    "start_time": "2021-10-24T15:08:16.552Z"
   },
   {
    "duration": 22,
    "start_time": "2021-10-24T15:08:29.203Z"
   },
   {
    "duration": 102,
    "start_time": "2021-10-24T15:08:32.855Z"
   },
   {
    "duration": 90,
    "start_time": "2021-10-24T15:08:36.042Z"
   },
   {
    "duration": 176,
    "start_time": "2021-10-24T15:08:38.900Z"
   },
   {
    "duration": 6,
    "start_time": "2021-10-24T15:09:19.245Z"
   },
   {
    "duration": 71,
    "start_time": "2021-10-24T15:09:19.254Z"
   },
   {
    "duration": 25,
    "start_time": "2021-10-24T15:09:19.328Z"
   },
   {
    "duration": 10,
    "start_time": "2021-10-24T15:09:19.357Z"
   },
   {
    "duration": 17,
    "start_time": "2021-10-24T15:09:19.369Z"
   },
   {
    "duration": 39,
    "start_time": "2021-10-24T15:09:19.388Z"
   },
   {
    "duration": 9,
    "start_time": "2021-10-24T15:09:19.430Z"
   },
   {
    "duration": 16,
    "start_time": "2021-10-24T15:09:19.442Z"
   },
   {
    "duration": 520,
    "start_time": "2021-10-24T15:09:19.461Z"
   },
   {
    "duration": 47,
    "start_time": "2021-10-24T15:09:19.984Z"
   },
   {
    "duration": 7,
    "start_time": "2021-10-24T15:09:20.035Z"
   },
   {
    "duration": 38,
    "start_time": "2021-10-24T15:09:20.045Z"
   },
   {
    "duration": 14,
    "start_time": "2021-10-24T15:09:20.086Z"
   },
   {
    "duration": 81,
    "start_time": "2021-10-24T15:09:20.103Z"
   },
   {
    "duration": 12,
    "start_time": "2021-10-24T15:09:20.187Z"
   },
   {
    "duration": 40,
    "start_time": "2021-10-24T15:09:20.202Z"
   },
   {
    "duration": 111,
    "start_time": "2021-10-24T15:09:20.244Z"
   },
   {
    "duration": 168,
    "start_time": "2021-10-24T15:09:20.357Z"
   },
   {
    "duration": 200,
    "start_time": "2021-10-24T15:09:20.528Z"
   },
   {
    "duration": 256,
    "start_time": "2021-10-24T15:09:20.731Z"
   },
   {
    "duration": 7,
    "start_time": "2021-10-24T15:09:20.989Z"
   },
   {
    "duration": 33,
    "start_time": "2021-10-24T15:09:20.998Z"
   },
   {
    "duration": 20,
    "start_time": "2021-10-24T16:14:26.686Z"
   },
   {
    "duration": 144,
    "start_time": "2021-10-24T16:21:31.338Z"
   },
   {
    "duration": 237,
    "start_time": "2021-10-24T16:25:01.687Z"
   },
   {
    "duration": 147,
    "start_time": "2021-10-24T16:25:11.088Z"
   },
   {
    "duration": 5,
    "start_time": "2021-10-24T16:28:28.011Z"
   },
   {
    "duration": 61,
    "start_time": "2021-10-24T16:28:28.019Z"
   },
   {
    "duration": 27,
    "start_time": "2021-10-24T16:28:28.083Z"
   },
   {
    "duration": 6,
    "start_time": "2021-10-24T16:28:28.124Z"
   },
   {
    "duration": 34,
    "start_time": "2021-10-24T16:28:28.133Z"
   },
   {
    "duration": 26,
    "start_time": "2021-10-24T16:28:28.169Z"
   },
   {
    "duration": 9,
    "start_time": "2021-10-24T16:28:28.200Z"
   },
   {
    "duration": 14,
    "start_time": "2021-10-24T16:28:28.212Z"
   },
   {
    "duration": 529,
    "start_time": "2021-10-24T16:28:28.229Z"
   },
   {
    "duration": 19,
    "start_time": "2021-10-24T16:28:28.761Z"
   },
   {
    "duration": 42,
    "start_time": "2021-10-24T16:28:28.783Z"
   },
   {
    "duration": 11,
    "start_time": "2021-10-24T16:28:28.828Z"
   },
   {
    "duration": 11,
    "start_time": "2021-10-24T16:28:28.842Z"
   },
   {
    "duration": 107,
    "start_time": "2021-10-24T16:28:28.855Z"
   },
   {
    "duration": 10,
    "start_time": "2021-10-24T16:28:28.964Z"
   },
   {
    "duration": 21,
    "start_time": "2021-10-24T16:28:28.976Z"
   },
   {
    "duration": 112,
    "start_time": "2021-10-24T16:28:29.023Z"
   },
   {
    "duration": 99,
    "start_time": "2021-10-24T16:28:29.138Z"
   },
   {
    "duration": 184,
    "start_time": "2021-10-24T16:28:29.324Z"
   },
   {
    "duration": 255,
    "start_time": "2021-10-24T16:28:29.510Z"
   },
   {
    "duration": 7,
    "start_time": "2021-10-24T16:28:29.768Z"
   },
   {
    "duration": 180,
    "start_time": "2021-10-24T16:28:29.778Z"
   },
   {
    "duration": 182,
    "start_time": "2021-10-24T16:28:29.961Z"
   },
   {
    "duration": 364,
    "start_time": "2021-10-24T16:28:30.146Z"
   },
   {
    "duration": 25,
    "start_time": "2021-10-24T16:28:30.513Z"
   },
   {
    "duration": 97,
    "start_time": "2021-10-24T16:33:29.361Z"
   },
   {
    "duration": 100,
    "start_time": "2021-10-24T16:33:38.648Z"
   },
   {
    "duration": 36,
    "start_time": "2021-10-24T16:33:46.407Z"
   },
   {
    "duration": 24,
    "start_time": "2021-10-24T16:35:47.063Z"
   },
   {
    "duration": 63,
    "start_time": "2021-10-24T16:36:41.584Z"
   },
   {
    "duration": 16,
    "start_time": "2021-10-24T16:37:31.473Z"
   },
   {
    "duration": 32,
    "start_time": "2021-10-24T16:37:48.335Z"
   },
   {
    "duration": 19,
    "start_time": "2021-10-24T16:41:08.458Z"
   },
   {
    "duration": 6,
    "start_time": "2021-10-24T16:41:32.372Z"
   },
   {
    "duration": 69,
    "start_time": "2021-10-24T16:41:32.380Z"
   },
   {
    "duration": 27,
    "start_time": "2021-10-24T16:41:32.452Z"
   },
   {
    "duration": 16,
    "start_time": "2021-10-24T16:41:32.482Z"
   },
   {
    "duration": 17,
    "start_time": "2021-10-24T16:41:32.522Z"
   },
   {
    "duration": 14,
    "start_time": "2021-10-24T16:41:32.542Z"
   },
   {
    "duration": 8,
    "start_time": "2021-10-24T16:41:32.560Z"
   },
   {
    "duration": 18,
    "start_time": "2021-10-24T16:41:32.571Z"
   },
   {
    "duration": 565,
    "start_time": "2021-10-24T16:41:32.591Z"
   },
   {
    "duration": 20,
    "start_time": "2021-10-24T16:41:33.159Z"
   },
   {
    "duration": 5,
    "start_time": "2021-10-24T16:41:33.182Z"
   },
   {
    "duration": 12,
    "start_time": "2021-10-24T16:41:33.223Z"
   },
   {
    "duration": 16,
    "start_time": "2021-10-24T16:41:33.238Z"
   },
   {
    "duration": 99,
    "start_time": "2021-10-24T16:41:33.256Z"
   },
   {
    "duration": 11,
    "start_time": "2021-10-24T16:41:33.357Z"
   },
   {
    "duration": 24,
    "start_time": "2021-10-24T16:41:33.371Z"
   },
   {
    "duration": 125,
    "start_time": "2021-10-24T16:41:33.398Z"
   },
   {
    "duration": 296,
    "start_time": "2021-10-24T16:41:33.527Z"
   },
   {
    "duration": 271,
    "start_time": "2021-10-24T16:41:33.829Z"
   },
   {
    "duration": 255,
    "start_time": "2021-10-24T16:41:34.103Z"
   },
   {
    "duration": 13,
    "start_time": "2021-10-24T16:41:34.361Z"
   },
   {
    "duration": 164,
    "start_time": "2021-10-24T16:41:34.376Z"
   },
   {
    "duration": 183,
    "start_time": "2021-10-24T16:41:34.542Z"
   },
   {
    "duration": 296,
    "start_time": "2021-10-24T16:41:34.728Z"
   },
   {
    "duration": 25,
    "start_time": "2021-10-24T16:41:35.027Z"
   },
   {
    "duration": 28,
    "start_time": "2021-10-24T16:41:35.054Z"
   },
   {
    "duration": 79,
    "start_time": "2021-10-24T16:41:35.084Z"
   },
   {
    "duration": 71,
    "start_time": "2021-10-24T16:41:35.165Z"
   },
   {
    "duration": 307,
    "start_time": "2021-10-24T16:53:03.130Z"
   },
   {
    "duration": 6,
    "start_time": "2021-10-24T16:53:27.960Z"
   },
   {
    "duration": 353,
    "start_time": "2021-10-24T16:53:35.837Z"
   },
   {
    "duration": 384,
    "start_time": "2021-10-24T16:53:59.689Z"
   },
   {
    "duration": 480,
    "start_time": "2021-10-24T16:56:46.614Z"
   },
   {
    "duration": 358,
    "start_time": "2021-10-24T17:01:28.276Z"
   },
   {
    "duration": 6,
    "start_time": "2021-10-24T17:02:52.679Z"
   },
   {
    "duration": 80,
    "start_time": "2021-10-24T17:02:52.688Z"
   },
   {
    "duration": 61,
    "start_time": "2021-10-24T17:02:52.771Z"
   },
   {
    "duration": 8,
    "start_time": "2021-10-24T17:02:52.844Z"
   },
   {
    "duration": 12,
    "start_time": "2021-10-24T17:02:52.855Z"
   },
   {
    "duration": 22,
    "start_time": "2021-10-24T17:02:52.870Z"
   },
   {
    "duration": 44,
    "start_time": "2021-10-24T17:02:52.897Z"
   },
   {
    "duration": 17,
    "start_time": "2021-10-24T17:02:52.945Z"
   },
   {
    "duration": 569,
    "start_time": "2021-10-24T17:02:52.964Z"
   },
   {
    "duration": 17,
    "start_time": "2021-10-24T17:02:53.536Z"
   },
   {
    "duration": 6,
    "start_time": "2021-10-24T17:02:53.555Z"
   },
   {
    "duration": 23,
    "start_time": "2021-10-24T17:02:53.563Z"
   },
   {
    "duration": 36,
    "start_time": "2021-10-24T17:02:53.588Z"
   },
   {
    "duration": 73,
    "start_time": "2021-10-24T17:02:53.627Z"
   },
   {
    "duration": 14,
    "start_time": "2021-10-24T17:02:53.724Z"
   },
   {
    "duration": 20,
    "start_time": "2021-10-24T17:02:53.741Z"
   },
   {
    "duration": 125,
    "start_time": "2021-10-24T17:02:53.763Z"
   },
   {
    "duration": 333,
    "start_time": "2021-10-24T17:02:53.890Z"
   },
   {
    "duration": 270,
    "start_time": "2021-10-24T17:02:54.228Z"
   },
   {
    "duration": 260,
    "start_time": "2021-10-24T17:02:54.500Z"
   },
   {
    "duration": 13,
    "start_time": "2021-10-24T17:02:54.763Z"
   },
   {
    "duration": 172,
    "start_time": "2021-10-24T17:02:54.779Z"
   },
   {
    "duration": 176,
    "start_time": "2021-10-24T17:02:54.953Z"
   },
   {
    "duration": 312,
    "start_time": "2021-10-24T17:02:55.133Z"
   },
   {
    "duration": 20,
    "start_time": "2021-10-24T17:02:55.447Z"
   },
   {
    "duration": 31,
    "start_time": "2021-10-24T17:02:55.470Z"
   },
   {
    "duration": 62,
    "start_time": "2021-10-24T17:02:55.526Z"
   },
   {
    "duration": 88,
    "start_time": "2021-10-24T17:02:55.590Z"
   },
   {
    "duration": 636,
    "start_time": "2021-10-24T17:02:55.680Z"
   },
   {
    "duration": 445,
    "start_time": "2021-10-24T17:03:56.487Z"
   },
   {
    "duration": 6,
    "start_time": "2021-10-24T17:32:41.464Z"
   },
   {
    "duration": 69,
    "start_time": "2021-10-24T17:32:41.472Z"
   },
   {
    "duration": 26,
    "start_time": "2021-10-24T17:32:41.543Z"
   },
   {
    "duration": 6,
    "start_time": "2021-10-24T17:32:41.572Z"
   },
   {
    "duration": 51,
    "start_time": "2021-10-24T17:32:41.580Z"
   },
   {
    "duration": 14,
    "start_time": "2021-10-24T17:32:41.634Z"
   },
   {
    "duration": 9,
    "start_time": "2021-10-24T17:32:41.652Z"
   },
   {
    "duration": 10,
    "start_time": "2021-10-24T17:32:41.665Z"
   },
   {
    "duration": 594,
    "start_time": "2021-10-24T17:32:41.678Z"
   },
   {
    "duration": 16,
    "start_time": "2021-10-24T17:32:42.274Z"
   },
   {
    "duration": 38,
    "start_time": "2021-10-24T17:32:42.292Z"
   },
   {
    "duration": 19,
    "start_time": "2021-10-24T17:32:42.333Z"
   },
   {
    "duration": 15,
    "start_time": "2021-10-24T17:32:42.354Z"
   },
   {
    "duration": 97,
    "start_time": "2021-10-24T17:32:42.372Z"
   },
   {
    "duration": 10,
    "start_time": "2021-10-24T17:32:42.471Z"
   },
   {
    "duration": 32,
    "start_time": "2021-10-24T17:32:42.483Z"
   },
   {
    "duration": 104,
    "start_time": "2021-10-24T17:32:42.522Z"
   },
   {
    "duration": 297,
    "start_time": "2021-10-24T17:32:42.631Z"
   },
   {
    "duration": 262,
    "start_time": "2021-10-24T17:32:42.935Z"
   },
   {
    "duration": 262,
    "start_time": "2021-10-24T17:32:43.200Z"
   },
   {
    "duration": 14,
    "start_time": "2021-10-24T17:32:43.464Z"
   },
   {
    "duration": 165,
    "start_time": "2021-10-24T17:32:43.480Z"
   },
   {
    "duration": 183,
    "start_time": "2021-10-24T17:32:43.647Z"
   },
   {
    "duration": 298,
    "start_time": "2021-10-24T17:32:43.833Z"
   },
   {
    "duration": 21,
    "start_time": "2021-10-24T17:32:44.134Z"
   },
   {
    "duration": 30,
    "start_time": "2021-10-24T17:32:44.157Z"
   },
   {
    "duration": 86,
    "start_time": "2021-10-24T17:32:44.189Z"
   },
   {
    "duration": 78,
    "start_time": "2021-10-24T17:32:44.277Z"
   },
   {
    "duration": 434,
    "start_time": "2021-10-24T17:32:44.357Z"
   },
   {
    "duration": 98,
    "start_time": "2021-10-24T17:34:04.083Z"
   },
   {
    "duration": 271,
    "start_time": "2021-10-24T17:34:32.362Z"
   },
   {
    "duration": 172,
    "start_time": "2021-10-24T17:35:03.136Z"
   },
   {
    "duration": 151,
    "start_time": "2021-10-24T17:35:40.932Z"
   },
   {
    "duration": 83,
    "start_time": "2021-10-24T17:36:11.260Z"
   },
   {
    "duration": 285,
    "start_time": "2021-10-24T17:36:36.659Z"
   },
   {
    "duration": 34,
    "start_time": "2021-10-24T17:37:05.105Z"
   },
   {
    "duration": 56,
    "start_time": "2021-10-24T17:38:18.968Z"
   },
   {
    "duration": 54,
    "start_time": "2021-10-24T17:39:36.268Z"
   },
   {
    "duration": 426,
    "start_time": "2021-10-24T17:39:49.867Z"
   },
   {
    "duration": 283,
    "start_time": "2021-10-24T17:40:32.213Z"
   },
   {
    "duration": 151,
    "start_time": "2021-10-24T17:41:00.905Z"
   },
   {
    "duration": 546,
    "start_time": "2021-10-24T17:48:02.132Z"
   },
   {
    "duration": 286,
    "start_time": "2021-10-24T17:49:41.365Z"
   },
   {
    "duration": 276,
    "start_time": "2021-10-24T17:51:33.051Z"
   },
   {
    "duration": 305,
    "start_time": "2021-10-28T09:10:51.039Z"
   },
   {
    "duration": 1599,
    "start_time": "2021-10-28T09:11:13.324Z"
   },
   {
    "duration": 59,
    "start_time": "2021-10-28T09:11:14.929Z"
   },
   {
    "duration": 37,
    "start_time": "2021-10-28T09:11:14.991Z"
   },
   {
    "duration": 7,
    "start_time": "2021-10-28T09:11:15.031Z"
   },
   {
    "duration": 16,
    "start_time": "2021-10-28T09:11:15.042Z"
   },
   {
    "duration": 14,
    "start_time": "2021-10-28T09:11:15.061Z"
   },
   {
    "duration": 54,
    "start_time": "2021-10-28T09:11:15.077Z"
   },
   {
    "duration": 10,
    "start_time": "2021-10-28T09:11:15.136Z"
   },
   {
    "duration": 622,
    "start_time": "2021-10-28T09:11:15.150Z"
   },
   {
    "duration": 16,
    "start_time": "2021-10-28T09:11:15.774Z"
   },
   {
    "duration": 40,
    "start_time": "2021-10-28T09:11:15.792Z"
   },
   {
    "duration": 12,
    "start_time": "2021-10-28T09:11:15.835Z"
   },
   {
    "duration": 18,
    "start_time": "2021-10-28T09:11:15.850Z"
   },
   {
    "duration": 114,
    "start_time": "2021-10-28T09:11:15.872Z"
   },
   {
    "duration": 10,
    "start_time": "2021-10-28T09:11:15.988Z"
   },
   {
    "duration": 43,
    "start_time": "2021-10-28T09:11:16.001Z"
   },
   {
    "duration": 106,
    "start_time": "2021-10-28T09:11:16.047Z"
   },
   {
    "duration": 373,
    "start_time": "2021-10-28T09:11:16.155Z"
   },
   {
    "duration": 209,
    "start_time": "2021-10-28T09:11:16.532Z"
   },
   {
    "duration": 275,
    "start_time": "2021-10-28T09:11:16.743Z"
   },
   {
    "duration": 317,
    "start_time": "2021-10-28T09:11:17.021Z"
   },
   {
    "duration": -19,
    "start_time": "2021-10-28T09:11:17.360Z"
   },
   {
    "duration": -20,
    "start_time": "2021-10-28T09:11:17.362Z"
   },
   {
    "duration": -21,
    "start_time": "2021-10-28T09:11:17.365Z"
   },
   {
    "duration": -21,
    "start_time": "2021-10-28T09:11:17.367Z"
   },
   {
    "duration": -21,
    "start_time": "2021-10-28T09:11:17.369Z"
   },
   {
    "duration": -21,
    "start_time": "2021-10-28T09:11:17.371Z"
   },
   {
    "duration": -22,
    "start_time": "2021-10-28T09:11:17.374Z"
   },
   {
    "duration": -23,
    "start_time": "2021-10-28T09:11:17.376Z"
   },
   {
    "duration": -23,
    "start_time": "2021-10-28T09:11:17.378Z"
   },
   {
    "duration": -24,
    "start_time": "2021-10-28T09:11:17.380Z"
   },
   {
    "duration": 6,
    "start_time": "2021-10-28T10:21:48.975Z"
   },
   {
    "duration": 70,
    "start_time": "2021-10-28T10:21:48.983Z"
   },
   {
    "duration": 35,
    "start_time": "2021-10-28T10:21:49.057Z"
   },
   {
    "duration": 40,
    "start_time": "2021-10-28T10:21:49.095Z"
   },
   {
    "duration": 12,
    "start_time": "2021-10-28T10:21:49.139Z"
   },
   {
    "duration": 230,
    "start_time": "2021-10-28T10:21:49.154Z"
   },
   {
    "duration": 1070,
    "start_time": "2021-10-28T10:21:48.319Z"
   },
   {
    "duration": 1069,
    "start_time": "2021-10-28T10:21:48.322Z"
   },
   {
    "duration": 1069,
    "start_time": "2021-10-28T10:21:48.324Z"
   },
   {
    "duration": 1069,
    "start_time": "2021-10-28T10:21:48.326Z"
   },
   {
    "duration": 1063,
    "start_time": "2021-10-28T10:21:48.333Z"
   },
   {
    "duration": 1063,
    "start_time": "2021-10-28T10:21:48.336Z"
   },
   {
    "duration": 1062,
    "start_time": "2021-10-28T10:21:48.338Z"
   },
   {
    "duration": 1062,
    "start_time": "2021-10-28T10:21:48.340Z"
   },
   {
    "duration": 1054,
    "start_time": "2021-10-28T10:21:48.349Z"
   },
   {
    "duration": 1052,
    "start_time": "2021-10-28T10:21:48.352Z"
   },
   {
    "duration": 1050,
    "start_time": "2021-10-28T10:21:48.355Z"
   },
   {
    "duration": 1050,
    "start_time": "2021-10-28T10:21:48.357Z"
   },
   {
    "duration": 1049,
    "start_time": "2021-10-28T10:21:48.359Z"
   },
   {
    "duration": 1048,
    "start_time": "2021-10-28T10:21:48.361Z"
   },
   {
    "duration": 1047,
    "start_time": "2021-10-28T10:21:48.364Z"
   },
   {
    "duration": 1041,
    "start_time": "2021-10-28T10:21:48.371Z"
   },
   {
    "duration": 1039,
    "start_time": "2021-10-28T10:21:48.374Z"
   },
   {
    "duration": 1038,
    "start_time": "2021-10-28T10:21:48.376Z"
   },
   {
    "duration": 1038,
    "start_time": "2021-10-28T10:21:48.378Z"
   },
   {
    "duration": 1036,
    "start_time": "2021-10-28T10:21:48.381Z"
   },
   {
    "duration": 1034,
    "start_time": "2021-10-28T10:21:48.384Z"
   },
   {
    "duration": 1034,
    "start_time": "2021-10-28T10:21:48.386Z"
   },
   {
    "duration": 1033,
    "start_time": "2021-10-28T10:21:48.388Z"
   },
   {
    "duration": 1033,
    "start_time": "2021-10-28T10:21:48.390Z"
   },
   {
    "duration": 1029,
    "start_time": "2021-10-28T10:21:48.395Z"
   },
   {
    "duration": 7,
    "start_time": "2021-10-28T10:22:33.607Z"
   },
   {
    "duration": 58,
    "start_time": "2021-10-28T10:22:33.626Z"
   },
   {
    "duration": 45,
    "start_time": "2021-10-28T10:22:33.687Z"
   },
   {
    "duration": 7,
    "start_time": "2021-10-28T10:22:33.736Z"
   },
   {
    "duration": 11,
    "start_time": "2021-10-28T10:22:33.747Z"
   },
   {
    "duration": 13,
    "start_time": "2021-10-28T10:22:33.761Z"
   },
   {
    "duration": 59,
    "start_time": "2021-10-28T10:22:33.776Z"
   },
   {
    "duration": 631,
    "start_time": "2021-10-28T10:22:33.838Z"
   },
   {
    "duration": 19,
    "start_time": "2021-10-28T10:22:34.472Z"
   },
   {
    "duration": 6,
    "start_time": "2021-10-28T10:22:34.530Z"
   },
   {
    "duration": 15,
    "start_time": "2021-10-28T10:22:34.539Z"
   },
   {
    "duration": 21,
    "start_time": "2021-10-28T10:22:34.556Z"
   },
   {
    "duration": 111,
    "start_time": "2021-10-28T10:22:34.579Z"
   },
   {
    "duration": 10,
    "start_time": "2021-10-28T10:22:34.692Z"
   },
   {
    "duration": 37,
    "start_time": "2021-10-28T10:22:34.704Z"
   },
   {
    "duration": 122,
    "start_time": "2021-10-28T10:22:34.745Z"
   },
   {
    "duration": 357,
    "start_time": "2021-10-28T10:22:34.871Z"
   },
   {
    "duration": 187,
    "start_time": "2021-10-28T10:22:35.231Z"
   },
   {
    "duration": 278,
    "start_time": "2021-10-28T10:22:35.428Z"
   },
   {
    "duration": 247,
    "start_time": "2021-10-28T10:22:35.708Z"
   },
   {
    "duration": 1067,
    "start_time": "2021-10-28T10:22:34.892Z"
   },
   {
    "duration": 1066,
    "start_time": "2021-10-28T10:22:34.895Z"
   },
   {
    "duration": 1064,
    "start_time": "2021-10-28T10:22:34.900Z"
   },
   {
    "duration": 1064,
    "start_time": "2021-10-28T10:22:34.902Z"
   },
   {
    "duration": 1064,
    "start_time": "2021-10-28T10:22:34.904Z"
   },
   {
    "duration": 1063,
    "start_time": "2021-10-28T10:22:34.906Z"
   },
   {
    "duration": 1062,
    "start_time": "2021-10-28T10:22:34.909Z"
   },
   {
    "duration": 1061,
    "start_time": "2021-10-28T10:22:34.911Z"
   },
   {
    "duration": 1060,
    "start_time": "2021-10-28T10:22:34.913Z"
   },
   {
    "duration": 1059,
    "start_time": "2021-10-28T10:22:34.916Z"
   },
   {
    "duration": 6,
    "start_time": "2021-10-28T15:15:45.430Z"
   },
   {
    "duration": 55,
    "start_time": "2021-10-28T15:15:45.439Z"
   },
   {
    "duration": 43,
    "start_time": "2021-10-28T15:15:45.497Z"
   },
   {
    "duration": 7,
    "start_time": "2021-10-28T15:15:45.543Z"
   },
   {
    "duration": 9,
    "start_time": "2021-10-28T15:15:45.552Z"
   },
   {
    "duration": 12,
    "start_time": "2021-10-28T15:15:45.564Z"
   },
   {
    "duration": 56,
    "start_time": "2021-10-28T15:15:45.580Z"
   },
   {
    "duration": 589,
    "start_time": "2021-10-28T15:15:45.639Z"
   },
   {
    "duration": 17,
    "start_time": "2021-10-28T15:15:46.231Z"
   },
   {
    "duration": 5,
    "start_time": "2021-10-28T15:15:46.250Z"
   },
   {
    "duration": 13,
    "start_time": "2021-10-28T15:15:46.258Z"
   },
   {
    "duration": 11,
    "start_time": "2021-10-28T15:15:46.274Z"
   },
   {
    "duration": 104,
    "start_time": "2021-10-28T15:15:46.287Z"
   },
   {
    "duration": 10,
    "start_time": "2021-10-28T15:15:46.394Z"
   },
   {
    "duration": 36,
    "start_time": "2021-10-28T15:15:46.406Z"
   },
   {
    "duration": 113,
    "start_time": "2021-10-28T15:15:46.445Z"
   },
   {
    "duration": 276,
    "start_time": "2021-10-28T15:15:46.561Z"
   },
   {
    "duration": 175,
    "start_time": "2021-10-28T15:15:46.930Z"
   },
   {
    "duration": 243,
    "start_time": "2021-10-28T15:15:47.116Z"
   },
   {
    "duration": 247,
    "start_time": "2021-10-28T15:15:47.362Z"
   },
   {
    "duration": 623,
    "start_time": "2021-10-28T15:15:46.988Z"
   },
   {
    "duration": 613,
    "start_time": "2021-10-28T15:15:47.000Z"
   },
   {
    "duration": 608,
    "start_time": "2021-10-28T15:15:47.006Z"
   },
   {
    "duration": 606,
    "start_time": "2021-10-28T15:15:47.010Z"
   },
   {
    "duration": 602,
    "start_time": "2021-10-28T15:15:47.015Z"
   },
   {
    "duration": 599,
    "start_time": "2021-10-28T15:15:47.020Z"
   },
   {
    "duration": 596,
    "start_time": "2021-10-28T15:15:47.024Z"
   },
   {
    "duration": 594,
    "start_time": "2021-10-28T15:15:47.028Z"
   },
   {
    "duration": 590,
    "start_time": "2021-10-28T15:15:47.033Z"
   },
   {
    "duration": 588,
    "start_time": "2021-10-28T15:15:47.037Z"
   },
   {
    "duration": 246,
    "start_time": "2021-10-28T15:17:01.366Z"
   },
   {
    "duration": 249,
    "start_time": "2021-10-28T15:17:37.608Z"
   },
   {
    "duration": 241,
    "start_time": "2021-10-28T15:27:36.436Z"
   },
   {
    "duration": 233,
    "start_time": "2021-10-28T15:27:56.717Z"
   },
   {
    "duration": 262,
    "start_time": "2021-10-28T15:28:04.878Z"
   },
   {
    "duration": 229,
    "start_time": "2021-10-28T15:30:21.448Z"
   },
   {
    "duration": 229,
    "start_time": "2021-10-28T15:30:50.273Z"
   },
   {
    "duration": 6,
    "start_time": "2021-10-28T15:31:06.483Z"
   },
   {
    "duration": 247,
    "start_time": "2021-10-28T15:31:12.370Z"
   },
   {
    "duration": 5,
    "start_time": "2021-10-28T15:31:17.891Z"
   },
   {
    "duration": 59,
    "start_time": "2021-10-28T15:31:17.899Z"
   },
   {
    "duration": 30,
    "start_time": "2021-10-28T15:31:17.962Z"
   },
   {
    "duration": 35,
    "start_time": "2021-10-28T15:31:17.997Z"
   },
   {
    "duration": 13,
    "start_time": "2021-10-28T15:31:18.034Z"
   },
   {
    "duration": 22,
    "start_time": "2021-10-28T15:31:18.050Z"
   },
   {
    "duration": 15,
    "start_time": "2021-10-28T15:31:18.076Z"
   },
   {
    "duration": 698,
    "start_time": "2021-10-28T15:31:18.094Z"
   },
   {
    "duration": 48,
    "start_time": "2021-10-28T15:31:18.795Z"
   },
   {
    "duration": 6,
    "start_time": "2021-10-28T15:31:18.845Z"
   },
   {
    "duration": 13,
    "start_time": "2021-10-28T15:31:18.853Z"
   },
   {
    "duration": 10,
    "start_time": "2021-10-28T15:31:18.869Z"
   },
   {
    "duration": 103,
    "start_time": "2021-10-28T15:31:18.882Z"
   },
   {
    "duration": 9,
    "start_time": "2021-10-28T15:31:18.987Z"
   },
   {
    "duration": 41,
    "start_time": "2021-10-28T15:31:18.998Z"
   },
   {
    "duration": 97,
    "start_time": "2021-10-28T15:31:19.041Z"
   },
   {
    "duration": 297,
    "start_time": "2021-10-28T15:31:19.140Z"
   },
   {
    "duration": 181,
    "start_time": "2021-10-28T15:31:19.530Z"
   },
   {
    "duration": 242,
    "start_time": "2021-10-28T15:31:19.715Z"
   },
   {
    "duration": 257,
    "start_time": "2021-10-28T15:31:19.959Z"
   },
   {
    "duration": 536,
    "start_time": "2021-10-28T15:31:19.683Z"
   },
   {
    "duration": 529,
    "start_time": "2021-10-28T15:31:19.691Z"
   },
   {
    "duration": 529,
    "start_time": "2021-10-28T15:31:19.694Z"
   },
   {
    "duration": 528,
    "start_time": "2021-10-28T15:31:19.697Z"
   },
   {
    "duration": 526,
    "start_time": "2021-10-28T15:31:19.701Z"
   },
   {
    "duration": 525,
    "start_time": "2021-10-28T15:31:19.704Z"
   },
   {
    "duration": 524,
    "start_time": "2021-10-28T15:31:19.707Z"
   },
   {
    "duration": 525,
    "start_time": "2021-10-28T15:31:19.709Z"
   },
   {
    "duration": 524,
    "start_time": "2021-10-28T15:31:19.712Z"
   },
   {
    "duration": 524,
    "start_time": "2021-10-28T15:31:19.714Z"
   },
   {
    "duration": 250,
    "start_time": "2021-10-28T15:34:50.005Z"
   },
   {
    "duration": 248,
    "start_time": "2021-10-28T15:36:39.937Z"
   },
   {
    "duration": 247,
    "start_time": "2021-10-28T15:37:35.292Z"
   },
   {
    "duration": 23,
    "start_time": "2021-10-28T15:37:45.058Z"
   },
   {
    "duration": 1551,
    "start_time": "2021-10-29T09:09:51.017Z"
   },
   {
    "duration": 54,
    "start_time": "2021-10-29T09:09:52.571Z"
   },
   {
    "duration": 25,
    "start_time": "2021-10-29T09:09:52.628Z"
   },
   {
    "duration": 6,
    "start_time": "2021-10-29T09:09:52.656Z"
   },
   {
    "duration": 11,
    "start_time": "2021-10-29T09:09:52.664Z"
   },
   {
    "duration": 45,
    "start_time": "2021-10-29T09:09:52.677Z"
   },
   {
    "duration": 9,
    "start_time": "2021-10-29T09:09:52.724Z"
   },
   {
    "duration": 519,
    "start_time": "2021-10-29T09:09:52.737Z"
   },
   {
    "duration": 17,
    "start_time": "2021-10-29T09:09:53.259Z"
   },
   {
    "duration": 6,
    "start_time": "2021-10-29T09:09:53.278Z"
   },
   {
    "duration": 42,
    "start_time": "2021-10-29T09:09:53.286Z"
   },
   {
    "duration": 14,
    "start_time": "2021-10-29T09:09:53.330Z"
   },
   {
    "duration": 86,
    "start_time": "2021-10-29T09:09:53.346Z"
   },
   {
    "duration": 10,
    "start_time": "2021-10-29T09:09:53.434Z"
   },
   {
    "duration": 19,
    "start_time": "2021-10-29T09:09:53.446Z"
   },
   {
    "duration": 118,
    "start_time": "2021-10-29T09:09:53.467Z"
   },
   {
    "duration": 339,
    "start_time": "2021-10-29T09:09:53.587Z"
   },
   {
    "duration": 308,
    "start_time": "2021-10-29T09:09:53.928Z"
   },
   {
    "duration": 300,
    "start_time": "2021-10-29T09:09:54.239Z"
   },
   {
    "duration": 22,
    "start_time": "2021-10-29T09:09:54.542Z"
   },
   {
    "duration": 122,
    "start_time": "2021-10-29T09:09:54.566Z"
   },
   {
    "duration": 142,
    "start_time": "2021-10-29T09:09:54.690Z"
   },
   {
    "duration": 208,
    "start_time": "2021-10-29T09:09:54.924Z"
   },
   {
    "duration": 19,
    "start_time": "2021-10-29T09:09:55.134Z"
   },
   {
    "duration": 31,
    "start_time": "2021-10-29T09:09:55.156Z"
   },
   {
    "duration": 84,
    "start_time": "2021-10-29T09:09:55.190Z"
   },
   {
    "duration": 69,
    "start_time": "2021-10-29T09:09:55.276Z"
   },
   {
    "duration": 412,
    "start_time": "2021-10-29T09:09:55.347Z"
   },
   {
    "duration": 293,
    "start_time": "2021-10-29T09:09:55.761Z"
   },
   {
    "duration": 280,
    "start_time": "2021-10-29T09:09:56.057Z"
   },
   {
    "duration": 36,
    "start_time": "2021-10-29T09:10:26.037Z"
   },
   {
    "duration": 98,
    "start_time": "2021-10-29T09:11:49.419Z"
   },
   {
    "duration": 192,
    "start_time": "2021-10-29T09:24:59.560Z"
   },
   {
    "duration": 457,
    "start_time": "2021-10-29T09:35:08.371Z"
   },
   {
    "duration": 260,
    "start_time": "2021-10-29T09:35:58.225Z"
   },
   {
    "duration": 376,
    "start_time": "2021-10-29T09:36:59.717Z"
   },
   {
    "duration": 269,
    "start_time": "2021-10-29T09:38:10.131Z"
   },
   {
    "duration": 337,
    "start_time": "2021-10-29T09:40:17.662Z"
   },
   {
    "duration": 638,
    "start_time": "2021-10-29T09:51:08.927Z"
   },
   {
    "duration": 441,
    "start_time": "2021-10-29T09:53:22.085Z"
   },
   {
    "duration": 281,
    "start_time": "2021-10-29T09:53:42.595Z"
   },
   {
    "duration": 262,
    "start_time": "2021-10-29T09:55:10.137Z"
   },
   {
    "duration": 295,
    "start_time": "2021-10-29T09:55:17.697Z"
   },
   {
    "duration": 422,
    "start_time": "2021-10-29T09:56:16.334Z"
   },
   {
    "duration": 264,
    "start_time": "2021-10-29T09:58:26.877Z"
   },
   {
    "duration": 319,
    "start_time": "2021-10-29T10:00:07.220Z"
   },
   {
    "duration": 571,
    "start_time": "2021-10-29T10:00:29.546Z"
   },
   {
    "duration": 273,
    "start_time": "2021-10-29T10:00:50.524Z"
   },
   {
    "duration": 346,
    "start_time": "2021-10-29T10:02:02.234Z"
   },
   {
    "duration": 440,
    "start_time": "2021-10-29T10:03:42.089Z"
   },
   {
    "duration": 265,
    "start_time": "2021-10-29T10:05:03.842Z"
   },
   {
    "duration": 271,
    "start_time": "2021-10-29T10:06:49.471Z"
   },
   {
    "duration": 266,
    "start_time": "2021-10-29T10:08:22.782Z"
   },
   {
    "duration": 102,
    "start_time": "2021-10-29T10:22:53.593Z"
   },
   {
    "duration": 279,
    "start_time": "2021-10-29T10:23:07.872Z"
   },
   {
    "duration": 6,
    "start_time": "2021-10-29T10:24:52.709Z"
   },
   {
    "duration": 60,
    "start_time": "2021-10-29T10:24:52.717Z"
   },
   {
    "duration": 26,
    "start_time": "2021-10-29T10:24:52.780Z"
   },
   {
    "duration": 20,
    "start_time": "2021-10-29T10:24:52.808Z"
   },
   {
    "duration": 10,
    "start_time": "2021-10-29T10:24:52.830Z"
   },
   {
    "duration": 9,
    "start_time": "2021-10-29T10:24:52.843Z"
   },
   {
    "duration": 8,
    "start_time": "2021-10-29T10:24:52.856Z"
   },
   {
    "duration": 595,
    "start_time": "2021-10-29T10:24:52.868Z"
   },
   {
    "duration": 17,
    "start_time": "2021-10-29T10:24:53.465Z"
   },
   {
    "duration": 5,
    "start_time": "2021-10-29T10:24:53.485Z"
   },
   {
    "duration": 9,
    "start_time": "2021-10-29T10:24:53.523Z"
   },
   {
    "duration": 11,
    "start_time": "2021-10-29T10:24:53.535Z"
   },
   {
    "duration": 95,
    "start_time": "2021-10-29T10:24:53.549Z"
   },
   {
    "duration": 9,
    "start_time": "2021-10-29T10:24:53.646Z"
   },
   {
    "duration": 18,
    "start_time": "2021-10-29T10:24:53.657Z"
   },
   {
    "duration": 130,
    "start_time": "2021-10-29T10:24:53.677Z"
   },
   {
    "duration": 316,
    "start_time": "2021-10-29T10:24:53.809Z"
   },
   {
    "duration": 245,
    "start_time": "2021-10-29T10:24:54.129Z"
   },
   {
    "duration": 237,
    "start_time": "2021-10-29T10:24:54.379Z"
   },
   {
    "duration": 20,
    "start_time": "2021-10-29T10:24:54.619Z"
   },
   {
    "duration": 124,
    "start_time": "2021-10-29T10:24:54.642Z"
   },
   {
    "duration": 64,
    "start_time": "2021-10-29T10:24:54.768Z"
   },
   {
    "duration": 289,
    "start_time": "2021-10-29T10:24:54.924Z"
   },
   {
    "duration": 25,
    "start_time": "2021-10-29T10:24:55.215Z"
   },
   {
    "duration": 35,
    "start_time": "2021-10-29T10:24:55.242Z"
   },
   {
    "duration": 86,
    "start_time": "2021-10-29T10:24:55.280Z"
   },
   {
    "duration": 66,
    "start_time": "2021-10-29T10:24:55.369Z"
   },
   {
    "duration": 282,
    "start_time": "2021-10-29T10:24:55.437Z"
   },
   {
    "duration": 281,
    "start_time": "2021-10-29T10:24:55.724Z"
   },
   {
    "duration": 462,
    "start_time": "2021-10-29T10:24:56.007Z"
   },
   {
    "duration": 284,
    "start_time": "2021-10-29T10:24:56.471Z"
   },
   {
    "duration": 292,
    "start_time": "2021-10-29T10:24:56.757Z"
   },
   {
    "duration": 423,
    "start_time": "2021-10-29T10:24:57.051Z"
   },
   {
    "duration": 365,
    "start_time": "2021-10-29T10:24:57.477Z"
   },
   {
    "duration": 285,
    "start_time": "2021-10-29T10:24:57.845Z"
   },
   {
    "duration": 289,
    "start_time": "2021-10-29T10:24:58.133Z"
   },
   {
    "duration": 276,
    "start_time": "2021-10-29T10:24:58.425Z"
   },
   {
    "duration": 280,
    "start_time": "2021-10-29T10:26:05.440Z"
   },
   {
    "duration": 296,
    "start_time": "2021-10-29T10:26:51.989Z"
   },
   {
    "duration": 20,
    "start_time": "2021-10-29T10:27:54.442Z"
   },
   {
    "duration": 18,
    "start_time": "2021-10-29T10:34:29.618Z"
   },
   {
    "duration": 20,
    "start_time": "2021-10-29T10:34:54.816Z"
   },
   {
    "duration": 28,
    "start_time": "2021-10-29T10:36:15.513Z"
   },
   {
    "duration": 17,
    "start_time": "2021-10-29T10:37:56.461Z"
   },
   {
    "duration": 18,
    "start_time": "2021-10-29T10:39:36.926Z"
   },
   {
    "duration": 6,
    "start_time": "2021-10-29T10:48:49.322Z"
   },
   {
    "duration": 61,
    "start_time": "2021-10-29T10:48:49.331Z"
   },
   {
    "duration": 39,
    "start_time": "2021-10-29T10:48:49.395Z"
   },
   {
    "duration": 9,
    "start_time": "2021-10-29T10:48:49.437Z"
   },
   {
    "duration": 14,
    "start_time": "2021-10-29T10:48:49.449Z"
   },
   {
    "duration": 8,
    "start_time": "2021-10-29T10:48:49.466Z"
   },
   {
    "duration": 46,
    "start_time": "2021-10-29T10:48:49.478Z"
   },
   {
    "duration": 547,
    "start_time": "2021-10-29T10:48:49.528Z"
   },
   {
    "duration": 50,
    "start_time": "2021-10-29T10:48:50.077Z"
   },
   {
    "duration": 6,
    "start_time": "2021-10-29T10:48:50.129Z"
   },
   {
    "duration": 14,
    "start_time": "2021-10-29T10:48:50.137Z"
   },
   {
    "duration": 12,
    "start_time": "2021-10-29T10:48:50.153Z"
   },
   {
    "duration": 97,
    "start_time": "2021-10-29T10:48:50.167Z"
   },
   {
    "duration": 9,
    "start_time": "2021-10-29T10:48:50.267Z"
   },
   {
    "duration": 17,
    "start_time": "2021-10-29T10:48:50.278Z"
   },
   {
    "duration": 127,
    "start_time": "2021-10-29T10:48:50.297Z"
   },
   {
    "duration": 299,
    "start_time": "2021-10-29T10:48:50.427Z"
   },
   {
    "duration": 264,
    "start_time": "2021-10-29T10:48:50.728Z"
   },
   {
    "duration": 246,
    "start_time": "2021-10-29T10:48:50.996Z"
   },
   {
    "duration": 18,
    "start_time": "2021-10-29T10:48:51.245Z"
   },
   {
    "duration": 21,
    "start_time": "2021-10-29T10:48:51.265Z"
   },
   {
    "duration": 135,
    "start_time": "2021-10-29T10:48:51.288Z"
   },
   {
    "duration": 104,
    "start_time": "2021-10-29T10:48:51.425Z"
   },
   {
    "duration": 291,
    "start_time": "2021-10-29T10:48:51.532Z"
   },
   {
    "duration": 16,
    "start_time": "2021-10-29T10:48:51.826Z"
   },
   {
    "duration": 22,
    "start_time": "2021-10-29T10:48:51.844Z"
   },
   {
    "duration": 72,
    "start_time": "2021-10-29T10:48:51.869Z"
   },
   {
    "duration": 56,
    "start_time": "2021-10-29T10:48:51.943Z"
   },
   {
    "duration": 72,
    "start_time": "2021-10-29T10:48:52.001Z"
   },
   {
    "duration": 16,
    "start_time": "2021-10-29T10:48:52.075Z"
   },
   {
    "duration": 295,
    "start_time": "2021-10-29T10:48:52.094Z"
   },
   {
    "duration": 274,
    "start_time": "2021-10-29T10:48:52.392Z"
   },
   {
    "duration": 409,
    "start_time": "2021-10-29T10:48:52.668Z"
   },
   {
    "duration": 279,
    "start_time": "2021-10-29T10:48:53.079Z"
   },
   {
    "duration": 282,
    "start_time": "2021-10-29T10:48:53.360Z"
   },
   {
    "duration": 429,
    "start_time": "2021-10-29T10:48:53.644Z"
   },
   {
    "duration": 278,
    "start_time": "2021-10-29T10:48:54.075Z"
   },
   {
    "duration": 276,
    "start_time": "2021-10-29T10:48:54.356Z"
   },
   {
    "duration": 352,
    "start_time": "2021-10-29T10:48:54.634Z"
   },
   {
    "duration": 19,
    "start_time": "2021-10-29T10:48:54.988Z"
   },
   {
    "duration": 271,
    "start_time": "2021-10-29T11:28:43.668Z"
   },
   {
    "duration": 306,
    "start_time": "2021-10-29T11:39:00.818Z"
   },
   {
    "duration": 6,
    "start_time": "2021-10-29T11:39:55.818Z"
   },
   {
    "duration": 57,
    "start_time": "2021-10-29T11:39:55.827Z"
   },
   {
    "duration": 43,
    "start_time": "2021-10-29T11:39:55.886Z"
   },
   {
    "duration": 8,
    "start_time": "2021-10-29T11:39:55.932Z"
   },
   {
    "duration": 14,
    "start_time": "2021-10-29T11:39:55.942Z"
   },
   {
    "duration": 15,
    "start_time": "2021-10-29T11:39:55.960Z"
   },
   {
    "duration": 11,
    "start_time": "2021-10-29T11:39:56.025Z"
   },
   {
    "duration": 605,
    "start_time": "2021-10-29T11:39:56.039Z"
   },
   {
    "duration": 17,
    "start_time": "2021-10-29T11:39:56.647Z"
   },
   {
    "duration": 5,
    "start_time": "2021-10-29T11:39:56.667Z"
   },
   {
    "duration": 49,
    "start_time": "2021-10-29T11:39:56.674Z"
   },
   {
    "duration": 19,
    "start_time": "2021-10-29T11:39:56.726Z"
   },
   {
    "duration": 117,
    "start_time": "2021-10-29T11:39:56.748Z"
   },
   {
    "duration": 9,
    "start_time": "2021-10-29T11:39:56.867Z"
   },
   {
    "duration": 16,
    "start_time": "2021-10-29T11:39:56.878Z"
   },
   {
    "duration": 124,
    "start_time": "2021-10-29T11:39:56.897Z"
   },
   {
    "duration": 400,
    "start_time": "2021-10-29T11:39:57.024Z"
   },
   {
    "duration": 178,
    "start_time": "2021-10-29T11:39:57.426Z"
   },
   {
    "duration": 248,
    "start_time": "2021-10-29T11:39:57.608Z"
   },
   {
    "duration": 17,
    "start_time": "2021-10-29T11:39:57.860Z"
   },
   {
    "duration": 47,
    "start_time": "2021-10-29T11:39:57.880Z"
   },
   {
    "duration": 114,
    "start_time": "2021-10-29T11:39:57.930Z"
   },
   {
    "duration": 181,
    "start_time": "2021-10-29T11:39:58.047Z"
   },
   {
    "duration": 203,
    "start_time": "2021-10-29T11:39:58.230Z"
   },
   {
    "duration": 17,
    "start_time": "2021-10-29T11:39:58.435Z"
   },
   {
    "duration": 24,
    "start_time": "2021-10-29T11:39:58.454Z"
   },
   {
    "duration": 61,
    "start_time": "2021-10-29T11:39:58.481Z"
   },
   {
    "duration": 57,
    "start_time": "2021-10-29T11:39:58.544Z"
   },
   {
    "duration": 56,
    "start_time": "2021-10-29T11:39:58.623Z"
   },
   {
    "duration": 17,
    "start_time": "2021-10-29T11:39:58.681Z"
   },
   {
    "duration": 276,
    "start_time": "2021-10-29T11:39:58.723Z"
   },
   {
    "duration": 277,
    "start_time": "2021-10-29T11:39:59.001Z"
   },
   {
    "duration": 424,
    "start_time": "2021-10-29T11:39:59.281Z"
   },
   {
    "duration": 280,
    "start_time": "2021-10-29T11:39:59.707Z"
   },
   {
    "duration": 292,
    "start_time": "2021-10-29T11:39:59.990Z"
   },
   {
    "duration": 443,
    "start_time": "2021-10-29T11:40:00.284Z"
   },
   {
    "duration": 284,
    "start_time": "2021-10-29T11:40:00.729Z"
   },
   {
    "duration": 292,
    "start_time": "2021-10-29T11:40:01.023Z"
   },
   {
    "duration": 286,
    "start_time": "2021-10-29T11:40:01.318Z"
   },
   {
    "duration": 29,
    "start_time": "2021-10-29T11:40:01.607Z"
   },
   {
    "duration": 65,
    "start_time": "2021-10-29T11:40:01.638Z"
   },
   {
    "duration": 101,
    "start_time": "2021-10-29T11:57:48.045Z"
   },
   {
    "duration": 104,
    "start_time": "2021-10-29T11:58:55.482Z"
   },
   {
    "duration": 6,
    "start_time": "2021-10-29T11:59:03.739Z"
   },
   {
    "duration": 66,
    "start_time": "2021-10-29T11:59:03.747Z"
   },
   {
    "duration": 28,
    "start_time": "2021-10-29T11:59:03.816Z"
   },
   {
    "duration": 14,
    "start_time": "2021-10-29T11:59:03.846Z"
   },
   {
    "duration": 22,
    "start_time": "2021-10-29T11:59:03.862Z"
   },
   {
    "duration": 17,
    "start_time": "2021-10-29T11:59:03.886Z"
   },
   {
    "duration": 19,
    "start_time": "2021-10-29T11:59:03.906Z"
   },
   {
    "duration": 622,
    "start_time": "2021-10-29T11:59:03.927Z"
   },
   {
    "duration": 17,
    "start_time": "2021-10-29T11:59:04.553Z"
   },
   {
    "duration": 5,
    "start_time": "2021-10-29T11:59:04.574Z"
   },
   {
    "duration": 47,
    "start_time": "2021-10-29T11:59:04.581Z"
   },
   {
    "duration": 17,
    "start_time": "2021-10-29T11:59:04.630Z"
   },
   {
    "duration": 82,
    "start_time": "2021-10-29T11:59:04.649Z"
   },
   {
    "duration": 9,
    "start_time": "2021-10-29T11:59:04.734Z"
   },
   {
    "duration": 26,
    "start_time": "2021-10-29T11:59:04.746Z"
   },
   {
    "duration": 113,
    "start_time": "2021-10-29T11:59:04.775Z"
   },
   {
    "duration": 239,
    "start_time": "2021-10-29T11:59:04.891Z"
   },
   {
    "duration": 302,
    "start_time": "2021-10-29T11:59:05.132Z"
   },
   {
    "duration": 245,
    "start_time": "2021-10-29T11:59:05.436Z"
   },
   {
    "duration": 19,
    "start_time": "2021-10-29T11:59:05.684Z"
   },
   {
    "duration": 24,
    "start_time": "2021-10-29T11:59:05.722Z"
   },
   {
    "duration": 126,
    "start_time": "2021-10-29T11:59:05.749Z"
   },
   {
    "duration": 153,
    "start_time": "2021-10-29T11:59:05.878Z"
   },
   {
    "duration": 203,
    "start_time": "2021-10-29T11:59:06.123Z"
   },
   {
    "duration": 16,
    "start_time": "2021-10-29T11:59:06.329Z"
   },
   {
    "duration": 26,
    "start_time": "2021-10-29T11:59:06.348Z"
   },
   {
    "duration": 60,
    "start_time": "2021-10-29T11:59:06.380Z"
   },
   {
    "duration": 58,
    "start_time": "2021-10-29T11:59:06.443Z"
   },
   {
    "duration": 57,
    "start_time": "2021-10-29T11:59:06.524Z"
   },
   {
    "duration": 39,
    "start_time": "2021-10-29T11:59:06.584Z"
   },
   {
    "duration": 298,
    "start_time": "2021-10-29T11:59:06.625Z"
   },
   {
    "duration": 299,
    "start_time": "2021-10-29T11:59:06.925Z"
   },
   {
    "duration": 471,
    "start_time": "2021-10-29T11:59:07.227Z"
   },
   {
    "duration": 309,
    "start_time": "2021-10-29T11:59:07.700Z"
   },
   {
    "duration": 311,
    "start_time": "2021-10-29T11:59:08.023Z"
   },
   {
    "duration": 458,
    "start_time": "2021-10-29T11:59:08.337Z"
   },
   {
    "duration": 293,
    "start_time": "2021-10-29T11:59:08.798Z"
   },
   {
    "duration": 325,
    "start_time": "2021-10-29T11:59:09.093Z"
   },
   {
    "duration": 299,
    "start_time": "2021-10-29T11:59:09.423Z"
   },
   {
    "duration": 20,
    "start_time": "2021-10-29T11:59:09.724Z"
   },
   {
    "duration": 24,
    "start_time": "2021-10-29T11:59:09.747Z"
   },
   {
    "duration": 18,
    "start_time": "2021-10-29T12:06:39.826Z"
   },
   {
    "duration": 17,
    "start_time": "2021-10-29T12:07:32.117Z"
   },
   {
    "duration": 29,
    "start_time": "2021-10-29T12:07:51.616Z"
   },
   {
    "duration": 19,
    "start_time": "2021-10-29T12:08:21.845Z"
   },
   {
    "duration": 208,
    "start_time": "2021-10-30T09:08:43.136Z"
   },
   {
    "duration": 1063,
    "start_time": "2021-10-30T09:08:52.025Z"
   },
   {
    "duration": 65,
    "start_time": "2021-10-30T09:08:53.090Z"
   },
   {
    "duration": 15,
    "start_time": "2021-10-30T09:08:53.157Z"
   },
   {
    "duration": 6,
    "start_time": "2021-10-30T09:08:53.173Z"
   },
   {
    "duration": 7,
    "start_time": "2021-10-30T09:08:53.180Z"
   },
   {
    "duration": 8,
    "start_time": "2021-10-30T09:08:53.189Z"
   },
   {
    "duration": 6,
    "start_time": "2021-10-30T09:08:53.199Z"
   },
   {
    "duration": 388,
    "start_time": "2021-10-30T09:08:53.208Z"
   },
   {
    "duration": 11,
    "start_time": "2021-10-30T09:08:53.598Z"
   },
   {
    "duration": 3,
    "start_time": "2021-10-30T09:08:53.611Z"
   },
   {
    "duration": 7,
    "start_time": "2021-10-30T09:08:53.616Z"
   },
   {
    "duration": 9,
    "start_time": "2021-10-30T09:08:53.624Z"
   },
   {
    "duration": 71,
    "start_time": "2021-10-30T09:08:53.634Z"
   },
   {
    "duration": 7,
    "start_time": "2021-10-30T09:08:53.706Z"
   },
   {
    "duration": 24,
    "start_time": "2021-10-30T09:08:53.715Z"
   },
   {
    "duration": 20,
    "start_time": "2021-10-30T09:09:07.004Z"
   },
   {
    "duration": 15,
    "start_time": "2021-10-30T09:10:21.210Z"
   },
   {
    "duration": 114,
    "start_time": "2021-10-30T09:13:44.381Z"
   },
   {
    "duration": 292,
    "start_time": "2021-10-30T09:35:12.609Z"
   },
   {
    "duration": 67,
    "start_time": "2021-10-30T09:36:17.796Z"
   },
   {
    "duration": 51,
    "start_time": "2021-10-30T09:40:58.848Z"
   },
   {
    "duration": 201,
    "start_time": "2021-10-30T09:42:03.490Z"
   },
   {
    "duration": 56,
    "start_time": "2021-10-30T09:45:44.720Z"
   },
   {
    "duration": 183,
    "start_time": "2021-10-30T09:45:52.664Z"
   },
   {
    "duration": 4,
    "start_time": "2021-10-30T09:45:58.286Z"
   },
   {
    "duration": 44,
    "start_time": "2021-10-30T09:45:58.292Z"
   },
   {
    "duration": 14,
    "start_time": "2021-10-30T09:45:58.338Z"
   },
   {
    "duration": 6,
    "start_time": "2021-10-30T09:45:58.354Z"
   },
   {
    "duration": 8,
    "start_time": "2021-10-30T09:45:58.361Z"
   },
   {
    "duration": 24,
    "start_time": "2021-10-30T09:45:58.370Z"
   },
   {
    "duration": 6,
    "start_time": "2021-10-30T09:45:58.396Z"
   },
   {
    "duration": 389,
    "start_time": "2021-10-30T09:45:58.404Z"
   },
   {
    "duration": 11,
    "start_time": "2021-10-30T09:45:58.795Z"
   },
   {
    "duration": 4,
    "start_time": "2021-10-30T09:45:58.808Z"
   },
   {
    "duration": 9,
    "start_time": "2021-10-30T09:45:58.813Z"
   },
   {
    "duration": 8,
    "start_time": "2021-10-30T09:45:58.824Z"
   },
   {
    "duration": 67,
    "start_time": "2021-10-30T09:45:58.834Z"
   },
   {
    "duration": 6,
    "start_time": "2021-10-30T09:45:58.903Z"
   },
   {
    "duration": 14,
    "start_time": "2021-10-30T09:45:58.911Z"
   },
   {
    "duration": 83,
    "start_time": "2021-10-30T09:45:58.927Z"
   },
   {
    "duration": 87,
    "start_time": "2021-10-30T09:45:59.012Z"
   },
   {
    "duration": 295,
    "start_time": "2021-10-30T09:45:59.100Z"
   },
   {
    "duration": 143,
    "start_time": "2021-10-30T09:45:59.397Z"
   },
   {
    "duration": 12,
    "start_time": "2021-10-30T09:45:59.541Z"
   },
   {
    "duration": 183,
    "start_time": "2021-10-30T10:08:13.531Z"
   },
   {
    "duration": 252,
    "start_time": "2021-10-30T13:16:33.954Z"
   },
   {
    "duration": 179,
    "start_time": "2021-10-30T13:17:02.750Z"
   },
   {
    "duration": 170,
    "start_time": "2021-10-30T13:17:07.616Z"
   },
   {
    "duration": 172,
    "start_time": "2021-10-30T13:17:18.279Z"
   },
   {
    "duration": 1053,
    "start_time": "2021-10-30T13:17:22.340Z"
   },
   {
    "duration": 40,
    "start_time": "2021-10-30T13:17:23.395Z"
   },
   {
    "duration": 15,
    "start_time": "2021-10-30T13:17:23.437Z"
   },
   {
    "duration": 6,
    "start_time": "2021-10-30T13:17:23.453Z"
   },
   {
    "duration": 8,
    "start_time": "2021-10-30T13:17:23.460Z"
   },
   {
    "duration": 23,
    "start_time": "2021-10-30T13:17:23.469Z"
   },
   {
    "duration": 5,
    "start_time": "2021-10-30T13:17:23.493Z"
   },
   {
    "duration": 337,
    "start_time": "2021-10-30T13:17:23.500Z"
   },
   {
    "duration": 11,
    "start_time": "2021-10-30T13:17:23.839Z"
   },
   {
    "duration": 4,
    "start_time": "2021-10-30T13:17:23.852Z"
   },
   {
    "duration": 6,
    "start_time": "2021-10-30T13:17:23.892Z"
   },
   {
    "duration": 9,
    "start_time": "2021-10-30T13:17:23.900Z"
   },
   {
    "duration": 43,
    "start_time": "2021-10-30T13:17:23.910Z"
   },
   {
    "duration": 8,
    "start_time": "2021-10-30T13:17:23.954Z"
   },
   {
    "duration": 19,
    "start_time": "2021-10-30T13:17:23.992Z"
   },
   {
    "duration": 86,
    "start_time": "2021-10-30T13:17:24.012Z"
   },
   {
    "duration": 101,
    "start_time": "2021-10-30T13:17:24.099Z"
   },
   {
    "duration": 219,
    "start_time": "2021-10-30T13:17:24.293Z"
   },
   {
    "duration": 149,
    "start_time": "2021-10-30T13:17:24.514Z"
   },
   {
    "duration": 12,
    "start_time": "2021-10-30T13:17:24.665Z"
   },
   {
    "duration": 356,
    "start_time": "2021-10-30T13:17:24.678Z"
   },
   {
    "duration": -1886,
    "start_time": "2021-10-30T13:17:26.922Z"
   },
   {
    "duration": -1891,
    "start_time": "2021-10-30T13:17:26.928Z"
   },
   {
    "duration": 303,
    "start_time": "2021-10-30T13:23:31.762Z"
   },
   {
    "duration": 436,
    "start_time": "2021-10-30T13:24:00.193Z"
   },
   {
    "duration": 15,
    "start_time": "2021-10-30T13:24:24.785Z"
   },
   {
    "duration": 70,
    "start_time": "2021-10-30T14:16:21.023Z"
   },
   {
    "duration": 70,
    "start_time": "2021-10-30T14:17:44.630Z"
   },
   {
    "duration": 129,
    "start_time": "2021-10-30T14:18:23.253Z"
   },
   {
    "duration": 124,
    "start_time": "2021-10-30T14:18:56.362Z"
   },
   {
    "duration": 4,
    "start_time": "2021-10-30T14:19:26.408Z"
   },
   {
    "duration": 43,
    "start_time": "2021-10-30T14:19:26.416Z"
   },
   {
    "duration": 17,
    "start_time": "2021-10-30T14:19:26.461Z"
   },
   {
    "duration": 4,
    "start_time": "2021-10-30T14:19:26.480Z"
   },
   {
    "duration": 12,
    "start_time": "2021-10-30T14:19:26.486Z"
   },
   {
    "duration": 12,
    "start_time": "2021-10-30T14:19:26.499Z"
   },
   {
    "duration": 7,
    "start_time": "2021-10-30T14:19:26.513Z"
   },
   {
    "duration": 395,
    "start_time": "2021-10-30T14:19:26.521Z"
   },
   {
    "duration": 11,
    "start_time": "2021-10-30T14:19:26.918Z"
   },
   {
    "duration": 3,
    "start_time": "2021-10-30T14:19:26.931Z"
   },
   {
    "duration": 8,
    "start_time": "2021-10-30T14:19:26.936Z"
   },
   {
    "duration": 14,
    "start_time": "2021-10-30T14:19:26.946Z"
   },
   {
    "duration": 73,
    "start_time": "2021-10-30T14:19:26.961Z"
   },
   {
    "duration": 6,
    "start_time": "2021-10-30T14:19:27.036Z"
   },
   {
    "duration": 17,
    "start_time": "2021-10-30T14:19:27.044Z"
   },
   {
    "duration": 87,
    "start_time": "2021-10-30T14:19:27.062Z"
   },
   {
    "duration": 48,
    "start_time": "2021-10-30T14:19:27.150Z"
   },
   {
    "duration": 295,
    "start_time": "2021-10-30T14:19:27.202Z"
   },
   {
    "duration": 148,
    "start_time": "2021-10-30T14:19:27.499Z"
   },
   {
    "duration": 12,
    "start_time": "2021-10-30T14:19:27.649Z"
   },
   {
    "duration": 13,
    "start_time": "2021-10-30T14:19:27.662Z"
   },
   {
    "duration": 70,
    "start_time": "2021-10-30T14:19:27.692Z"
   },
   {
    "duration": 129,
    "start_time": "2021-10-30T14:19:27.764Z"
   },
   {
    "duration": 225,
    "start_time": "2021-10-30T14:19:27.900Z"
   },
   {
    "duration": 15,
    "start_time": "2021-10-30T14:19:43.709Z"
   },
   {
    "duration": 4,
    "start_time": "2021-10-30T14:19:48.148Z"
   },
   {
    "duration": 42,
    "start_time": "2021-10-30T14:19:48.153Z"
   },
   {
    "duration": 16,
    "start_time": "2021-10-30T14:19:48.197Z"
   },
   {
    "duration": 6,
    "start_time": "2021-10-30T14:19:48.214Z"
   },
   {
    "duration": 7,
    "start_time": "2021-10-30T14:19:48.243Z"
   },
   {
    "duration": 7,
    "start_time": "2021-10-30T14:19:48.252Z"
   },
   {
    "duration": 7,
    "start_time": "2021-10-30T14:19:48.261Z"
   },
   {
    "duration": 436,
    "start_time": "2021-10-30T14:19:48.390Z"
   },
   {
    "duration": 11,
    "start_time": "2021-10-30T14:19:48.827Z"
   },
   {
    "duration": 4,
    "start_time": "2021-10-30T14:19:48.840Z"
   },
   {
    "duration": 15,
    "start_time": "2021-10-30T14:19:48.846Z"
   },
   {
    "duration": 32,
    "start_time": "2021-10-30T14:19:48.863Z"
   },
   {
    "duration": 46,
    "start_time": "2021-10-30T14:19:48.897Z"
   },
   {
    "duration": 7,
    "start_time": "2021-10-30T14:19:48.944Z"
   },
   {
    "duration": 23,
    "start_time": "2021-10-30T14:19:48.953Z"
   },
   {
    "duration": 80,
    "start_time": "2021-10-30T14:19:48.978Z"
   },
   {
    "duration": 139,
    "start_time": "2021-10-30T14:19:49.060Z"
   },
   {
    "duration": 293,
    "start_time": "2021-10-30T14:19:49.201Z"
   },
   {
    "duration": 148,
    "start_time": "2021-10-30T14:19:49.495Z"
   },
   {
    "duration": 12,
    "start_time": "2021-10-30T14:19:49.645Z"
   },
   {
    "duration": 14,
    "start_time": "2021-10-30T14:19:49.658Z"
   },
   {
    "duration": 159,
    "start_time": "2021-10-30T14:20:44.179Z"
   },
   {
    "duration": 12,
    "start_time": "2021-10-30T14:20:51.796Z"
   },
   {
    "duration": 302,
    "start_time": "2021-10-30T14:24:17.776Z"
   },
   {
    "duration": 298,
    "start_time": "2021-10-30T14:24:54.807Z"
   },
   {
    "duration": 4,
    "start_time": "2021-10-30T14:25:10.906Z"
   },
   {
    "duration": 39,
    "start_time": "2021-10-30T14:25:10.912Z"
   },
   {
    "duration": 15,
    "start_time": "2021-10-30T14:25:10.953Z"
   },
   {
    "duration": 6,
    "start_time": "2021-10-30T14:25:10.969Z"
   },
   {
    "duration": 6,
    "start_time": "2021-10-30T14:25:10.977Z"
   },
   {
    "duration": 6,
    "start_time": "2021-10-30T14:25:10.991Z"
   },
   {
    "duration": 6,
    "start_time": "2021-10-30T14:25:10.998Z"
   },
   {
    "duration": 343,
    "start_time": "2021-10-30T14:25:11.006Z"
   },
   {
    "duration": 50,
    "start_time": "2021-10-30T14:25:11.351Z"
   },
   {
    "duration": 3,
    "start_time": "2021-10-30T14:25:11.403Z"
   },
   {
    "duration": 8,
    "start_time": "2021-10-30T14:25:11.408Z"
   },
   {
    "duration": 9,
    "start_time": "2021-10-30T14:25:11.418Z"
   },
   {
    "duration": 64,
    "start_time": "2021-10-30T14:25:11.428Z"
   },
   {
    "duration": 6,
    "start_time": "2021-10-30T14:25:11.494Z"
   },
   {
    "duration": 16,
    "start_time": "2021-10-30T14:25:11.501Z"
   },
   {
    "duration": 82,
    "start_time": "2021-10-30T14:25:11.518Z"
   },
   {
    "duration": 191,
    "start_time": "2021-10-30T14:25:11.602Z"
   },
   {
    "duration": 211,
    "start_time": "2021-10-30T14:25:11.797Z"
   },
   {
    "duration": 205,
    "start_time": "2021-10-30T14:25:12.009Z"
   },
   {
    "duration": 11,
    "start_time": "2021-10-30T14:25:12.216Z"
   },
   {
    "duration": 13,
    "start_time": "2021-10-30T14:25:12.229Z"
   },
   {
    "duration": 101,
    "start_time": "2021-10-30T14:25:12.244Z"
   },
   {
    "duration": 50,
    "start_time": "2021-10-30T14:25:12.347Z"
   },
   {
    "duration": 324,
    "start_time": "2021-10-30T14:25:12.401Z"
   },
   {
    "duration": 11,
    "start_time": "2021-10-30T14:25:12.732Z"
   },
   {
    "duration": 306,
    "start_time": "2021-10-30T14:25:12.745Z"
   },
   {
    "duration": 15,
    "start_time": "2021-10-30T14:25:46.822Z"
   },
   {
    "duration": 192,
    "start_time": "2021-10-30T14:26:05.888Z"
   },
   {
    "duration": 26,
    "start_time": "2021-10-30T14:26:37.354Z"
   },
   {
    "duration": 56,
    "start_time": "2021-10-30T14:27:19.837Z"
   },
   {
    "duration": 260,
    "start_time": "2021-10-30T14:27:56.365Z"
   },
   {
    "duration": 4,
    "start_time": "2021-10-30T14:28:03.078Z"
   },
   {
    "duration": 44,
    "start_time": "2021-10-30T14:28:03.084Z"
   },
   {
    "duration": 15,
    "start_time": "2021-10-30T14:28:03.130Z"
   },
   {
    "duration": 6,
    "start_time": "2021-10-30T14:28:03.147Z"
   },
   {
    "duration": 8,
    "start_time": "2021-10-30T14:28:03.155Z"
   },
   {
    "duration": 6,
    "start_time": "2021-10-30T14:28:03.164Z"
   },
   {
    "duration": 6,
    "start_time": "2021-10-30T14:28:03.191Z"
   },
   {
    "duration": 341,
    "start_time": "2021-10-30T14:28:03.199Z"
   },
   {
    "duration": 10,
    "start_time": "2021-10-30T14:28:03.542Z"
   },
   {
    "duration": 40,
    "start_time": "2021-10-30T14:28:03.554Z"
   },
   {
    "duration": 11,
    "start_time": "2021-10-30T14:28:03.595Z"
   },
   {
    "duration": 7,
    "start_time": "2021-10-30T14:28:03.608Z"
   },
   {
    "duration": 42,
    "start_time": "2021-10-30T14:28:03.617Z"
   },
   {
    "duration": 6,
    "start_time": "2021-10-30T14:28:03.660Z"
   },
   {
    "duration": 33,
    "start_time": "2021-10-30T14:28:03.668Z"
   },
   {
    "duration": 69,
    "start_time": "2021-10-30T14:28:03.703Z"
   },
   {
    "duration": 126,
    "start_time": "2021-10-30T14:28:03.774Z"
   },
   {
    "duration": 211,
    "start_time": "2021-10-30T14:28:03.993Z"
   },
   {
    "duration": 152,
    "start_time": "2021-10-30T14:28:04.205Z"
   },
   {
    "duration": 12,
    "start_time": "2021-10-30T14:28:04.359Z"
   },
   {
    "duration": 29,
    "start_time": "2021-10-30T14:28:04.372Z"
   },
   {
    "duration": 92,
    "start_time": "2021-10-30T14:28:04.403Z"
   },
   {
    "duration": 97,
    "start_time": "2021-10-30T14:28:04.498Z"
   },
   {
    "duration": 261,
    "start_time": "2021-10-30T14:28:04.597Z"
   },
   {
    "duration": 12,
    "start_time": "2021-10-30T14:28:04.860Z"
   },
   {
    "duration": 20,
    "start_time": "2021-10-30T14:28:04.874Z"
   },
   {
    "duration": 25,
    "start_time": "2021-10-30T14:28:04.895Z"
   },
   {
    "duration": 70,
    "start_time": "2021-10-30T14:28:04.922Z"
   },
   {
    "duration": 149,
    "start_time": "2021-10-30T14:28:04.994Z"
   },
   {
    "duration": 15,
    "start_time": "2021-10-30T14:28:05.145Z"
   },
   {
    "duration": 170,
    "start_time": "2021-10-30T14:28:56.853Z"
   },
   {
    "duration": 359,
    "start_time": "2021-10-30T14:29:50.305Z"
   },
   {
    "duration": 169,
    "start_time": "2021-10-30T14:30:57.094Z"
   },
   {
    "duration": 173,
    "start_time": "2021-10-30T14:31:06.990Z"
   },
   {
    "duration": 183,
    "start_time": "2021-10-30T14:31:28.356Z"
   },
   {
    "duration": 168,
    "start_time": "2021-10-30T14:31:40.938Z"
   },
   {
    "duration": 344,
    "start_time": "2021-10-30T14:54:19.105Z"
   },
   {
    "duration": 182,
    "start_time": "2021-10-30T14:55:48.005Z"
   },
   {
    "duration": 3,
    "start_time": "2021-10-30T14:55:57.157Z"
   },
   {
    "duration": 40,
    "start_time": "2021-10-30T14:55:57.162Z"
   },
   {
    "duration": 15,
    "start_time": "2021-10-30T14:55:57.204Z"
   },
   {
    "duration": 5,
    "start_time": "2021-10-30T14:55:57.221Z"
   },
   {
    "duration": 8,
    "start_time": "2021-10-30T14:55:57.228Z"
   },
   {
    "duration": 6,
    "start_time": "2021-10-30T14:55:57.237Z"
   },
   {
    "duration": 6,
    "start_time": "2021-10-30T14:55:57.245Z"
   },
   {
    "duration": 363,
    "start_time": "2021-10-30T14:55:57.253Z"
   },
   {
    "duration": 12,
    "start_time": "2021-10-30T14:55:57.618Z"
   },
   {
    "duration": 3,
    "start_time": "2021-10-30T14:55:57.631Z"
   },
   {
    "duration": 12,
    "start_time": "2021-10-30T14:55:57.636Z"
   },
   {
    "duration": 11,
    "start_time": "2021-10-30T14:55:57.650Z"
   },
   {
    "duration": 43,
    "start_time": "2021-10-30T14:55:57.691Z"
   },
   {
    "duration": 7,
    "start_time": "2021-10-30T14:55:57.736Z"
   },
   {
    "duration": 16,
    "start_time": "2021-10-30T14:55:57.745Z"
   },
   {
    "duration": 90,
    "start_time": "2021-10-30T14:55:57.763Z"
   },
   {
    "duration": 48,
    "start_time": "2021-10-30T14:55:57.855Z"
   },
   {
    "duration": 205,
    "start_time": "2021-10-30T14:55:57.992Z"
   },
   {
    "duration": 145,
    "start_time": "2021-10-30T14:55:58.200Z"
   },
   {
    "duration": 12,
    "start_time": "2021-10-30T14:55:58.347Z"
   },
   {
    "duration": 19,
    "start_time": "2021-10-30T14:55:58.361Z"
   },
   {
    "duration": 84,
    "start_time": "2021-10-30T14:55:58.392Z"
   },
   {
    "duration": 115,
    "start_time": "2021-10-30T14:55:58.478Z"
   },
   {
    "duration": 253,
    "start_time": "2021-10-30T14:55:58.595Z"
   },
   {
    "duration": 11,
    "start_time": "2021-10-30T14:55:58.849Z"
   },
   {
    "duration": 13,
    "start_time": "2021-10-30T14:55:58.861Z"
   },
   {
    "duration": 37,
    "start_time": "2021-10-30T14:55:58.875Z"
   },
   {
    "duration": 179,
    "start_time": "2021-10-30T14:55:58.914Z"
   },
   {
    "duration": 43,
    "start_time": "2021-10-30T14:55:59.094Z"
   },
   {
    "duration": 10,
    "start_time": "2021-10-30T14:55:59.139Z"
   },
   {
    "duration": 189,
    "start_time": "2021-10-30T14:55:59.151Z"
   },
   {
    "duration": 174,
    "start_time": "2021-10-30T14:55:59.342Z"
   },
   {
    "duration": 175,
    "start_time": "2021-10-30T14:55:59.517Z"
   },
   {
    "duration": 171,
    "start_time": "2021-10-30T14:55:59.694Z"
   },
   {
    "duration": 451,
    "start_time": "2021-10-30T14:55:59.867Z"
   },
   {
    "duration": -2499,
    "start_time": "2021-10-30T14:56:02.819Z"
   },
   {
    "duration": -2503,
    "start_time": "2021-10-30T14:56:02.825Z"
   },
   {
    "duration": -2507,
    "start_time": "2021-10-30T14:56:02.830Z"
   },
   {
    "duration": -2510,
    "start_time": "2021-10-30T14:56:02.834Z"
   },
   {
    "duration": -2512,
    "start_time": "2021-10-30T14:56:02.838Z"
   },
   {
    "duration": 237,
    "start_time": "2021-10-30T14:56:35.272Z"
   },
   {
    "duration": 351,
    "start_time": "2021-10-30T14:56:41.879Z"
   },
   {
    "duration": 187,
    "start_time": "2021-10-30T14:56:47.980Z"
   },
   {
    "duration": 167,
    "start_time": "2021-10-30T14:56:57.996Z"
   },
   {
    "duration": 166,
    "start_time": "2021-10-30T14:57:02.770Z"
   },
   {
    "duration": 166,
    "start_time": "2021-10-30T14:57:06.614Z"
   },
   {
    "duration": 11,
    "start_time": "2021-10-30T14:57:10.579Z"
   },
   {
    "duration": 379,
    "start_time": "2021-11-01T08:05:39.956Z"
   },
   {
    "duration": 1268,
    "start_time": "2021-11-01T08:05:45.539Z"
   },
   {
    "duration": 42,
    "start_time": "2021-11-01T08:05:46.809Z"
   },
   {
    "duration": 18,
    "start_time": "2021-11-01T08:05:46.853Z"
   },
   {
    "duration": 4,
    "start_time": "2021-11-01T08:05:46.876Z"
   },
   {
    "duration": 8,
    "start_time": "2021-11-01T08:05:46.882Z"
   },
   {
    "duration": 9,
    "start_time": "2021-11-01T08:05:46.891Z"
   },
   {
    "duration": 6,
    "start_time": "2021-11-01T08:05:46.902Z"
   },
   {
    "duration": 398,
    "start_time": "2021-11-01T08:05:46.911Z"
   },
   {
    "duration": 12,
    "start_time": "2021-11-01T08:05:47.311Z"
   },
   {
    "duration": 4,
    "start_time": "2021-11-01T08:05:47.325Z"
   },
   {
    "duration": 45,
    "start_time": "2021-11-01T08:05:47.331Z"
   },
   {
    "duration": 8,
    "start_time": "2021-11-01T08:05:47.379Z"
   },
   {
    "duration": 48,
    "start_time": "2021-11-01T08:05:47.389Z"
   },
   {
    "duration": 7,
    "start_time": "2021-11-01T08:05:47.439Z"
   },
   {
    "duration": 45,
    "start_time": "2021-11-01T08:05:47.448Z"
   },
   {
    "duration": 88,
    "start_time": "2021-11-01T08:05:47.495Z"
   },
   {
    "duration": 197,
    "start_time": "2021-11-01T08:05:47.585Z"
   },
   {
    "duration": 225,
    "start_time": "2021-11-01T08:05:47.784Z"
   },
   {
    "duration": 159,
    "start_time": "2021-11-01T08:05:48.010Z"
   },
   {
    "duration": 16,
    "start_time": "2021-11-01T08:05:48.170Z"
   },
   {
    "duration": 17,
    "start_time": "2021-11-01T08:05:48.188Z"
   },
   {
    "duration": 15,
    "start_time": "2021-11-01T08:05:55.738Z"
   },
   {
    "duration": 91,
    "start_time": "2021-11-01T10:38:06.061Z"
   },
   {
    "duration": 500,
    "start_time": "2021-11-01T10:44:41.696Z"
   },
   {
    "duration": 135,
    "start_time": "2021-11-01T10:45:15.142Z"
   },
   {
    "duration": 239,
    "start_time": "2021-11-01T10:46:08.416Z"
   },
   {
    "duration": 14,
    "start_time": "2021-11-01T10:46:25.889Z"
   },
   {
    "duration": 353,
    "start_time": "2021-11-01T10:50:56.355Z"
   },
   {
    "duration": 4,
    "start_time": "2021-11-01T10:51:18.410Z"
   },
   {
    "duration": 41,
    "start_time": "2021-11-01T10:51:18.416Z"
   },
   {
    "duration": 18,
    "start_time": "2021-11-01T10:51:18.459Z"
   },
   {
    "duration": 6,
    "start_time": "2021-11-01T10:51:18.478Z"
   },
   {
    "duration": 10,
    "start_time": "2021-11-01T10:51:18.485Z"
   },
   {
    "duration": 7,
    "start_time": "2021-11-01T10:51:18.497Z"
   },
   {
    "duration": 8,
    "start_time": "2021-11-01T10:51:18.505Z"
   },
   {
    "duration": 413,
    "start_time": "2021-11-01T10:51:18.516Z"
   },
   {
    "duration": 50,
    "start_time": "2021-11-01T10:51:18.932Z"
   },
   {
    "duration": 5,
    "start_time": "2021-11-01T10:51:18.984Z"
   },
   {
    "duration": 9,
    "start_time": "2021-11-01T10:51:18.991Z"
   },
   {
    "duration": 10,
    "start_time": "2021-11-01T10:51:19.001Z"
   },
   {
    "duration": 80,
    "start_time": "2021-11-01T10:51:19.013Z"
   },
   {
    "duration": 9,
    "start_time": "2021-11-01T10:51:19.095Z"
   },
   {
    "duration": 18,
    "start_time": "2021-11-01T10:51:19.106Z"
   },
   {
    "duration": 103,
    "start_time": "2021-11-01T10:51:19.126Z"
   },
   {
    "duration": 148,
    "start_time": "2021-11-01T10:51:19.231Z"
   },
   {
    "duration": 229,
    "start_time": "2021-11-01T10:51:19.381Z"
   },
   {
    "duration": 156,
    "start_time": "2021-11-01T10:51:19.611Z"
   },
   {
    "duration": 19,
    "start_time": "2021-11-01T10:51:19.769Z"
   },
   {
    "duration": 17,
    "start_time": "2021-11-01T10:51:19.791Z"
   },
   {
    "duration": 115,
    "start_time": "2021-11-01T10:51:19.811Z"
   },
   {
    "duration": 151,
    "start_time": "2021-11-01T10:51:19.928Z"
   },
   {
    "duration": 278,
    "start_time": "2021-11-01T10:51:20.085Z"
   },
   {
    "duration": 19,
    "start_time": "2021-11-01T10:51:20.365Z"
   },
   {
    "duration": 15,
    "start_time": "2021-11-01T10:51:20.385Z"
   },
   {
    "duration": 29,
    "start_time": "2021-11-01T10:51:20.402Z"
   },
   {
    "duration": 39,
    "start_time": "2021-11-01T10:51:39.176Z"
   },
   {
    "duration": 29,
    "start_time": "2021-11-01T10:51:58.416Z"
   },
   {
    "duration": 4,
    "start_time": "2021-11-01T10:52:39.865Z"
   },
   {
    "duration": 45,
    "start_time": "2021-11-01T10:52:39.871Z"
   },
   {
    "duration": 17,
    "start_time": "2021-11-01T10:52:39.917Z"
   },
   {
    "duration": 5,
    "start_time": "2021-11-01T10:52:39.936Z"
   },
   {
    "duration": 6,
    "start_time": "2021-11-01T10:52:39.943Z"
   },
   {
    "duration": 27,
    "start_time": "2021-11-01T10:52:39.951Z"
   },
   {
    "duration": 6,
    "start_time": "2021-11-01T10:52:39.980Z"
   },
   {
    "duration": 397,
    "start_time": "2021-11-01T10:52:39.989Z"
   },
   {
    "duration": 11,
    "start_time": "2021-11-01T10:52:40.388Z"
   },
   {
    "duration": 3,
    "start_time": "2021-11-01T10:52:40.401Z"
   },
   {
    "duration": 10,
    "start_time": "2021-11-01T10:52:40.406Z"
   },
   {
    "duration": 8,
    "start_time": "2021-11-01T10:52:40.418Z"
   },
   {
    "duration": 79,
    "start_time": "2021-11-01T10:52:40.427Z"
   },
   {
    "duration": 7,
    "start_time": "2021-11-01T10:52:40.508Z"
   },
   {
    "duration": 17,
    "start_time": "2021-11-01T10:52:40.517Z"
   },
   {
    "duration": 87,
    "start_time": "2021-11-01T10:52:40.536Z"
   },
   {
    "duration": 253,
    "start_time": "2021-11-01T10:52:40.625Z"
   },
   {
    "duration": 224,
    "start_time": "2021-11-01T10:52:40.882Z"
   },
   {
    "duration": 154,
    "start_time": "2021-11-01T10:52:41.108Z"
   },
   {
    "duration": 17,
    "start_time": "2021-11-01T10:52:41.263Z"
   },
   {
    "duration": 28,
    "start_time": "2021-11-01T10:52:41.282Z"
   },
   {
    "duration": 102,
    "start_time": "2021-11-01T10:52:41.311Z"
   },
   {
    "duration": 67,
    "start_time": "2021-11-01T10:52:41.416Z"
   },
   {
    "duration": 321,
    "start_time": "2021-11-01T10:52:41.485Z"
   },
   {
    "duration": 11,
    "start_time": "2021-11-01T10:52:41.808Z"
   },
   {
    "duration": 14,
    "start_time": "2021-11-01T10:52:41.821Z"
   },
   {
    "duration": 50,
    "start_time": "2021-11-01T10:52:41.837Z"
   },
   {
    "duration": 96,
    "start_time": "2021-11-01T10:52:41.889Z"
   },
   {
    "duration": 139,
    "start_time": "2021-11-01T10:52:41.987Z"
   },
   {
    "duration": 13,
    "start_time": "2021-11-01T10:52:46.425Z"
   },
   {
    "duration": 130,
    "start_time": "2021-11-01T10:56:50.616Z"
   },
   {
    "duration": 390,
    "start_time": "2021-11-01T17:13:02.043Z"
   },
   {
    "duration": 1253,
    "start_time": "2021-11-01T17:13:08.183Z"
   },
   {
    "duration": 45,
    "start_time": "2021-11-01T17:13:09.438Z"
   },
   {
    "duration": 18,
    "start_time": "2021-11-01T17:13:09.485Z"
   },
   {
    "duration": 7,
    "start_time": "2021-11-01T17:13:09.505Z"
   },
   {
    "duration": 9,
    "start_time": "2021-11-01T17:13:09.513Z"
   },
   {
    "duration": 7,
    "start_time": "2021-11-01T17:13:09.523Z"
   },
   {
    "duration": 8,
    "start_time": "2021-11-01T17:13:09.532Z"
   },
   {
    "duration": 430,
    "start_time": "2021-11-01T17:13:09.542Z"
   },
   {
    "duration": 12,
    "start_time": "2021-11-01T17:13:10.009Z"
   },
   {
    "duration": 5,
    "start_time": "2021-11-01T17:13:10.023Z"
   },
   {
    "duration": 10,
    "start_time": "2021-11-01T17:13:10.029Z"
   },
   {
    "duration": 23,
    "start_time": "2021-11-01T17:13:10.041Z"
   },
   {
    "duration": 61,
    "start_time": "2021-11-01T17:13:10.066Z"
   },
   {
    "duration": 8,
    "start_time": "2021-11-01T17:13:10.129Z"
   },
   {
    "duration": 21,
    "start_time": "2021-11-01T17:13:10.139Z"
   },
   {
    "duration": 93,
    "start_time": "2021-11-01T17:13:10.162Z"
   },
   {
    "duration": 153,
    "start_time": "2021-11-01T17:13:10.257Z"
   },
   {
    "duration": 229,
    "start_time": "2021-11-01T17:13:10.412Z"
   },
   {
    "duration": 157,
    "start_time": "2021-11-01T17:13:10.642Z"
   },
   {
    "duration": 18,
    "start_time": "2021-11-01T17:13:10.800Z"
   },
   {
    "duration": 16,
    "start_time": "2021-11-01T17:13:10.820Z"
   },
   {
    "duration": 118,
    "start_time": "2021-11-01T17:13:10.837Z"
   },
   {
    "duration": 151,
    "start_time": "2021-11-01T17:13:10.958Z"
   },
   {
    "duration": 281,
    "start_time": "2021-11-01T17:13:11.112Z"
   },
   {
    "duration": 19,
    "start_time": "2021-11-01T17:13:11.395Z"
   },
   {
    "duration": 17,
    "start_time": "2021-11-01T17:13:11.416Z"
   },
   {
    "duration": 34,
    "start_time": "2021-11-01T17:13:11.435Z"
   },
   {
    "duration": 140,
    "start_time": "2021-11-01T17:13:11.471Z"
   },
   {
    "duration": 134,
    "start_time": "2021-11-01T17:13:11.613Z"
   },
   {
    "duration": 13,
    "start_time": "2021-11-01T17:13:11.749Z"
   },
   {
    "duration": 188,
    "start_time": "2021-11-01T17:13:11.764Z"
   },
   {
    "duration": 180,
    "start_time": "2021-11-01T17:13:11.954Z"
   },
   {
    "duration": 177,
    "start_time": "2021-11-01T17:13:12.136Z"
   },
   {
    "duration": 417,
    "start_time": "2021-11-01T17:13:12.315Z"
   },
   {
    "duration": -5899,
    "start_time": "2021-11-01T17:13:18.633Z"
   },
   {
    "duration": -5904,
    "start_time": "2021-11-01T17:13:18.639Z"
   },
   {
    "duration": -5908,
    "start_time": "2021-11-01T17:13:18.644Z"
   },
   {
    "duration": -5914,
    "start_time": "2021-11-01T17:13:18.651Z"
   },
   {
    "duration": -5920,
    "start_time": "2021-11-01T17:13:18.658Z"
   },
   {
    "duration": -5926,
    "start_time": "2021-11-01T17:13:18.665Z"
   },
   {
    "duration": -5933,
    "start_time": "2021-11-01T17:13:18.673Z"
   },
   {
    "duration": 19,
    "start_time": "2021-11-01T17:16:04.327Z"
   },
   {
    "duration": 4,
    "start_time": "2021-11-01T17:27:11.864Z"
   },
   {
    "duration": 47,
    "start_time": "2021-11-01T17:27:11.871Z"
   },
   {
    "duration": 18,
    "start_time": "2021-11-01T17:27:11.920Z"
   },
   {
    "duration": 14,
    "start_time": "2021-11-01T17:27:11.940Z"
   },
   {
    "duration": 8,
    "start_time": "2021-11-01T17:27:11.956Z"
   },
   {
    "duration": 10,
    "start_time": "2021-11-01T17:27:11.965Z"
   },
   {
    "duration": 34,
    "start_time": "2021-11-01T17:27:11.977Z"
   },
   {
    "duration": 442,
    "start_time": "2021-11-01T17:27:12.013Z"
   },
   {
    "duration": 51,
    "start_time": "2021-11-01T17:27:12.457Z"
   },
   {
    "duration": 6,
    "start_time": "2021-11-01T17:27:12.511Z"
   },
   {
    "duration": 17,
    "start_time": "2021-11-01T17:27:12.519Z"
   },
   {
    "duration": 17,
    "start_time": "2021-11-01T17:27:12.538Z"
   },
   {
    "duration": 70,
    "start_time": "2021-11-01T17:27:12.557Z"
   },
   {
    "duration": 8,
    "start_time": "2021-11-01T17:27:12.628Z"
   },
   {
    "duration": 22,
    "start_time": "2021-11-01T17:27:12.638Z"
   },
   {
    "duration": 96,
    "start_time": "2021-11-01T17:27:12.662Z"
   },
   {
    "duration": 154,
    "start_time": "2021-11-01T17:27:12.759Z"
   },
   {
    "duration": 227,
    "start_time": "2021-11-01T17:27:12.915Z"
   },
   {
    "duration": 158,
    "start_time": "2021-11-01T17:27:13.143Z"
   },
   {
    "duration": 13,
    "start_time": "2021-11-01T17:27:13.306Z"
   },
   {
    "duration": 22,
    "start_time": "2021-11-01T17:27:13.321Z"
   },
   {
    "duration": 113,
    "start_time": "2021-11-01T17:27:13.345Z"
   },
   {
    "duration": 57,
    "start_time": "2021-11-01T17:27:13.460Z"
   },
   {
    "duration": 280,
    "start_time": "2021-11-01T17:27:13.607Z"
   },
   {
    "duration": 22,
    "start_time": "2021-11-01T17:27:13.889Z"
   },
   {
    "duration": 19,
    "start_time": "2021-11-01T17:27:13.913Z"
   },
   {
    "duration": 30,
    "start_time": "2021-11-01T17:27:13.934Z"
   },
   {
    "duration": 53,
    "start_time": "2021-11-01T17:27:13.966Z"
   },
   {
    "duration": 61,
    "start_time": "2021-11-01T17:27:14.106Z"
   },
   {
    "duration": 15,
    "start_time": "2021-11-01T17:27:14.207Z"
   },
   {
    "duration": 268,
    "start_time": "2021-11-01T17:27:14.224Z"
   },
   {
    "duration": 187,
    "start_time": "2021-11-01T17:27:14.494Z"
   },
   {
    "duration": 190,
    "start_time": "2021-11-01T17:27:14.683Z"
   },
   {
    "duration": 356,
    "start_time": "2021-11-01T17:27:14.875Z"
   },
   {
    "duration": -5894,
    "start_time": "2021-11-01T17:27:21.127Z"
   },
   {
    "duration": -5900,
    "start_time": "2021-11-01T17:27:21.134Z"
   },
   {
    "duration": -5904,
    "start_time": "2021-11-01T17:27:21.140Z"
   },
   {
    "duration": -5910,
    "start_time": "2021-11-01T17:27:21.147Z"
   },
   {
    "duration": -5915,
    "start_time": "2021-11-01T17:27:21.153Z"
   },
   {
    "duration": -5921,
    "start_time": "2021-11-01T17:27:21.160Z"
   },
   {
    "duration": -5926,
    "start_time": "2021-11-01T17:27:21.166Z"
   },
   {
    "duration": 14,
    "start_time": "2021-11-01T17:39:27.053Z"
   },
   {
    "duration": 5,
    "start_time": "2021-11-01T17:39:27.514Z"
   },
   {
    "duration": 49,
    "start_time": "2021-11-01T17:39:27.520Z"
   },
   {
    "duration": 17,
    "start_time": "2021-11-01T17:39:27.571Z"
   },
   {
    "duration": 17,
    "start_time": "2021-11-01T17:39:27.590Z"
   },
   {
    "duration": 12,
    "start_time": "2021-11-01T17:39:27.609Z"
   },
   {
    "duration": 10,
    "start_time": "2021-11-01T17:39:27.623Z"
   },
   {
    "duration": 9,
    "start_time": "2021-11-01T17:39:27.635Z"
   },
   {
    "duration": 395,
    "start_time": "2021-11-01T17:39:27.646Z"
   },
   {
    "duration": 12,
    "start_time": "2021-11-01T17:39:28.044Z"
   },
   {
    "duration": 4,
    "start_time": "2021-11-01T17:39:28.058Z"
   },
   {
    "duration": 46,
    "start_time": "2021-11-01T17:39:28.064Z"
   },
   {
    "duration": 8,
    "start_time": "2021-11-01T17:39:28.112Z"
   },
   {
    "duration": 68,
    "start_time": "2021-11-01T17:39:28.122Z"
   },
   {
    "duration": 7,
    "start_time": "2021-11-01T17:39:28.192Z"
   },
   {
    "duration": 18,
    "start_time": "2021-11-01T17:39:28.201Z"
   },
   {
    "duration": 88,
    "start_time": "2021-11-01T17:39:28.221Z"
   },
   {
    "duration": 198,
    "start_time": "2021-11-01T17:39:28.311Z"
   },
   {
    "duration": 223,
    "start_time": "2021-11-01T17:39:28.512Z"
   },
   {
    "duration": 155,
    "start_time": "2021-11-01T17:39:28.737Z"
   },
   {
    "duration": 17,
    "start_time": "2021-11-01T17:39:28.894Z"
   },
   {
    "duration": 16,
    "start_time": "2021-11-01T17:39:28.913Z"
   },
   {
    "duration": 106,
    "start_time": "2021-11-01T17:39:28.931Z"
   },
   {
    "duration": 76,
    "start_time": "2021-11-01T17:39:29.039Z"
   },
   {
    "duration": 182,
    "start_time": "2021-11-01T17:39:29.207Z"
   },
   {
    "duration": 16,
    "start_time": "2021-11-01T17:39:29.391Z"
   },
   {
    "duration": 15,
    "start_time": "2021-11-01T17:39:29.409Z"
   },
   {
    "duration": 31,
    "start_time": "2021-11-01T17:39:29.427Z"
   },
   {
    "duration": 149,
    "start_time": "2021-11-01T17:39:29.459Z"
   },
   {
    "duration": 52,
    "start_time": "2021-11-01T17:39:29.610Z"
   },
   {
    "duration": 15,
    "start_time": "2021-11-01T17:39:29.663Z"
   },
   {
    "duration": 170,
    "start_time": "2021-11-01T17:39:29.706Z"
   },
   {
    "duration": 201,
    "start_time": "2021-11-01T17:39:29.877Z"
   },
   {
    "duration": 177,
    "start_time": "2021-11-01T17:39:30.080Z"
   },
   {
    "duration": 659,
    "start_time": "2021-11-01T17:39:30.259Z"
   },
   {
    "duration": -6656,
    "start_time": "2021-11-01T17:39:37.576Z"
   },
   {
    "duration": -6663,
    "start_time": "2021-11-01T17:39:37.585Z"
   },
   {
    "duration": -6713,
    "start_time": "2021-11-01T17:39:37.635Z"
   },
   {
    "duration": -6720,
    "start_time": "2021-11-01T17:39:37.643Z"
   },
   {
    "duration": -6726,
    "start_time": "2021-11-01T17:39:37.650Z"
   },
   {
    "duration": -6733,
    "start_time": "2021-11-01T17:39:37.658Z"
   },
   {
    "duration": -6737,
    "start_time": "2021-11-01T17:39:37.663Z"
   },
   {
    "duration": 4,
    "start_time": "2021-11-01T17:44:11.788Z"
   },
   {
    "duration": 38,
    "start_time": "2021-11-01T17:44:16.365Z"
   },
   {
    "duration": 17,
    "start_time": "2021-11-01T17:44:16.405Z"
   },
   {
    "duration": 11,
    "start_time": "2021-11-01T17:44:16.424Z"
   },
   {
    "duration": 12,
    "start_time": "2021-11-01T17:44:16.437Z"
   },
   {
    "duration": 7,
    "start_time": "2021-11-01T17:44:16.451Z"
   },
   {
    "duration": 6,
    "start_time": "2021-11-01T17:44:16.459Z"
   },
   {
    "duration": 443,
    "start_time": "2021-11-01T17:44:16.467Z"
   },
   {
    "duration": 11,
    "start_time": "2021-11-01T17:44:16.912Z"
   },
   {
    "duration": 4,
    "start_time": "2021-11-01T17:44:16.926Z"
   },
   {
    "duration": 11,
    "start_time": "2021-11-01T17:44:16.933Z"
   },
   {
    "duration": 13,
    "start_time": "2021-11-01T17:44:16.946Z"
   },
   {
    "duration": 74,
    "start_time": "2021-11-01T17:44:16.961Z"
   },
   {
    "duration": 8,
    "start_time": "2021-11-01T17:44:17.036Z"
   },
   {
    "duration": 20,
    "start_time": "2021-11-01T17:44:17.045Z"
   },
   {
    "duration": 92,
    "start_time": "2021-11-01T17:44:17.067Z"
   },
   {
    "duration": 151,
    "start_time": "2021-11-01T17:44:17.161Z"
   },
   {
    "duration": 227,
    "start_time": "2021-11-01T17:44:17.315Z"
   },
   {
    "duration": 155,
    "start_time": "2021-11-01T17:44:17.544Z"
   },
   {
    "duration": 16,
    "start_time": "2021-11-01T17:44:17.701Z"
   },
   {
    "duration": 18,
    "start_time": "2021-11-01T17:44:17.720Z"
   },
   {
    "duration": 118,
    "start_time": "2021-11-01T17:44:17.740Z"
   },
   {
    "duration": 247,
    "start_time": "2021-11-01T17:44:17.861Z"
   },
   {
    "duration": 185,
    "start_time": "2021-11-01T17:44:18.110Z"
   },
   {
    "duration": 14,
    "start_time": "2021-11-01T17:44:18.297Z"
   },
   {
    "duration": 16,
    "start_time": "2021-11-01T17:44:18.312Z"
   },
   {
    "duration": 31,
    "start_time": "2021-11-01T17:44:18.329Z"
   },
   {
    "duration": 146,
    "start_time": "2021-11-01T17:44:18.363Z"
   },
   {
    "duration": 56,
    "start_time": "2021-11-01T17:44:18.511Z"
   },
   {
    "duration": 43,
    "start_time": "2021-11-01T17:44:18.569Z"
   },
   {
    "duration": 176,
    "start_time": "2021-11-01T17:44:18.614Z"
   },
   {
    "duration": 178,
    "start_time": "2021-11-01T17:44:18.792Z"
   },
   {
    "duration": 182,
    "start_time": "2021-11-01T17:44:18.972Z"
   },
   {
    "duration": 352,
    "start_time": "2021-11-01T17:44:19.156Z"
   },
   {
    "duration": -5894,
    "start_time": "2021-11-01T17:44:25.404Z"
   },
   {
    "duration": -5903,
    "start_time": "2021-11-01T17:44:25.414Z"
   },
   {
    "duration": -6245,
    "start_time": "2021-11-01T17:44:25.757Z"
   },
   {
    "duration": -6257,
    "start_time": "2021-11-01T17:44:25.770Z"
   },
   {
    "duration": -6328,
    "start_time": "2021-11-01T17:44:25.842Z"
   },
   {
    "duration": -6344,
    "start_time": "2021-11-01T17:44:25.859Z"
   },
   {
    "duration": -7795,
    "start_time": "2021-11-01T17:44:27.311Z"
   },
   {
    "duration": 17,
    "start_time": "2021-11-01T17:47:43.420Z"
   },
   {
    "duration": 85,
    "start_time": "2021-11-01T17:48:03.893Z"
   },
   {
    "duration": 96,
    "start_time": "2021-11-01T17:49:32.114Z"
   },
   {
    "duration": 90,
    "start_time": "2021-11-01T17:52:26.274Z"
   },
   {
    "duration": 14,
    "start_time": "2021-11-01T17:53:02.127Z"
   },
   {
    "duration": 74,
    "start_time": "2021-11-01T17:53:08.296Z"
   },
   {
    "duration": 15,
    "start_time": "2021-11-01T17:55:42.274Z"
   },
   {
    "duration": 83,
    "start_time": "2021-11-01T17:56:11.959Z"
   },
   {
    "duration": 101,
    "start_time": "2021-11-01T18:01:42.524Z"
   },
   {
    "duration": 85,
    "start_time": "2021-11-01T18:01:47.838Z"
   },
   {
    "duration": 88,
    "start_time": "2021-11-01T18:05:32.657Z"
   },
   {
    "duration": 746,
    "start_time": "2021-11-01T18:07:15.412Z"
   },
   {
    "duration": 120,
    "start_time": "2021-11-01T18:07:20.188Z"
   },
   {
    "duration": 96,
    "start_time": "2021-11-01T18:07:43.581Z"
   },
   {
    "duration": 95,
    "start_time": "2021-11-01T18:10:35.514Z"
   },
   {
    "duration": 5,
    "start_time": "2021-11-01T18:12:00.227Z"
   },
   {
    "duration": 41,
    "start_time": "2021-11-01T18:12:00.281Z"
   },
   {
    "duration": 29,
    "start_time": "2021-11-01T18:12:00.324Z"
   },
   {
    "duration": 16,
    "start_time": "2021-11-01T18:12:00.355Z"
   },
   {
    "duration": 9,
    "start_time": "2021-11-01T18:12:00.373Z"
   },
   {
    "duration": 27,
    "start_time": "2021-11-01T18:12:00.384Z"
   },
   {
    "duration": 34,
    "start_time": "2021-11-01T18:12:00.413Z"
   },
   {
    "duration": 420,
    "start_time": "2021-11-01T18:12:00.449Z"
   },
   {
    "duration": 45,
    "start_time": "2021-11-01T18:12:00.872Z"
   },
   {
    "duration": 27,
    "start_time": "2021-11-01T18:12:00.919Z"
   },
   {
    "duration": 34,
    "start_time": "2021-11-01T18:12:00.948Z"
   },
   {
    "duration": 30,
    "start_time": "2021-11-01T18:12:00.984Z"
   },
   {
    "duration": 74,
    "start_time": "2021-11-01T18:12:01.016Z"
   },
   {
    "duration": 8,
    "start_time": "2021-11-01T18:12:01.091Z"
   },
   {
    "duration": 57,
    "start_time": "2021-11-01T18:12:01.101Z"
   },
   {
    "duration": 79,
    "start_time": "2021-11-01T18:12:01.160Z"
   },
   {
    "duration": 167,
    "start_time": "2021-11-01T18:12:01.242Z"
   },
   {
    "duration": 229,
    "start_time": "2021-11-01T18:12:01.412Z"
   },
   {
    "duration": 158,
    "start_time": "2021-11-01T18:12:01.643Z"
   },
   {
    "duration": 13,
    "start_time": "2021-11-01T18:12:01.806Z"
   },
   {
    "duration": 48,
    "start_time": "2021-11-01T18:12:01.820Z"
   },
   {
    "duration": 130,
    "start_time": "2021-11-01T18:12:01.870Z"
   },
   {
    "duration": 207,
    "start_time": "2021-11-01T18:12:02.001Z"
   },
   {
    "duration": 184,
    "start_time": "2021-11-01T18:12:02.211Z"
   },
   {
    "duration": 13,
    "start_time": "2021-11-01T18:12:02.397Z"
   },
   {
    "duration": 27,
    "start_time": "2021-11-01T18:12:02.412Z"
   },
   {
    "duration": 145,
    "start_time": "2021-11-01T18:12:02.441Z"
   },
   {
    "duration": -6938,
    "start_time": "2021-11-01T18:12:09.526Z"
   },
   {
    "duration": -6945,
    "start_time": "2021-11-01T18:12:09.534Z"
   },
   {
    "duration": -6952,
    "start_time": "2021-11-01T18:12:09.542Z"
   },
   {
    "duration": -6958,
    "start_time": "2021-11-01T18:12:09.549Z"
   },
   {
    "duration": -6965,
    "start_time": "2021-11-01T18:12:09.557Z"
   },
   {
    "duration": -6972,
    "start_time": "2021-11-01T18:12:09.564Z"
   },
   {
    "duration": -6987,
    "start_time": "2021-11-01T18:12:09.580Z"
   },
   {
    "duration": -6991,
    "start_time": "2021-11-01T18:12:09.585Z"
   },
   {
    "duration": -7050,
    "start_time": "2021-11-01T18:12:09.645Z"
   },
   {
    "duration": -7056,
    "start_time": "2021-11-01T18:12:09.652Z"
   },
   {
    "duration": -7062,
    "start_time": "2021-11-01T18:12:09.659Z"
   },
   {
    "duration": -7066,
    "start_time": "2021-11-01T18:12:09.664Z"
   },
   {
    "duration": -7072,
    "start_time": "2021-11-01T18:12:09.670Z"
   },
   {
    "duration": -7078,
    "start_time": "2021-11-01T18:12:09.677Z"
   },
   {
    "duration": 4,
    "start_time": "2021-11-01T18:12:46.364Z"
   },
   {
    "duration": 53,
    "start_time": "2021-11-01T18:12:46.370Z"
   },
   {
    "duration": 17,
    "start_time": "2021-11-01T18:12:46.425Z"
   },
   {
    "duration": 20,
    "start_time": "2021-11-01T18:12:46.444Z"
   },
   {
    "duration": 29,
    "start_time": "2021-11-01T18:12:46.466Z"
   },
   {
    "duration": 14,
    "start_time": "2021-11-01T18:12:46.497Z"
   },
   {
    "duration": 7,
    "start_time": "2021-11-01T18:12:46.514Z"
   },
   {
    "duration": 414,
    "start_time": "2021-11-01T18:12:46.523Z"
   },
   {
    "duration": 17,
    "start_time": "2021-11-01T18:12:46.939Z"
   },
   {
    "duration": 6,
    "start_time": "2021-11-01T18:12:46.958Z"
   },
   {
    "duration": 45,
    "start_time": "2021-11-01T18:12:46.966Z"
   },
   {
    "duration": 11,
    "start_time": "2021-11-01T18:12:47.013Z"
   },
   {
    "duration": 89,
    "start_time": "2021-11-01T18:12:47.026Z"
   },
   {
    "duration": 10,
    "start_time": "2021-11-01T18:12:47.117Z"
   },
   {
    "duration": 38,
    "start_time": "2021-11-01T18:12:47.129Z"
   },
   {
    "duration": 117,
    "start_time": "2021-11-01T18:12:47.169Z"
   },
   {
    "duration": 316,
    "start_time": "2021-11-01T18:12:47.289Z"
   },
   {
    "duration": 140,
    "start_time": "2021-11-01T18:12:47.607Z"
   },
   {
    "duration": 159,
    "start_time": "2021-11-01T18:12:47.750Z"
   },
   {
    "duration": 14,
    "start_time": "2021-11-01T18:12:47.912Z"
   },
   {
    "duration": 13,
    "start_time": "2021-11-01T18:12:47.928Z"
   },
   {
    "duration": 125,
    "start_time": "2021-11-01T18:12:47.943Z"
   },
   {
    "duration": 236,
    "start_time": "2021-11-01T18:12:48.071Z"
   },
   {
    "duration": 187,
    "start_time": "2021-11-01T18:12:48.309Z"
   },
   {
    "duration": 17,
    "start_time": "2021-11-01T18:12:48.498Z"
   },
   {
    "duration": 20,
    "start_time": "2021-11-01T18:12:48.518Z"
   },
   {
    "duration": 32,
    "start_time": "2021-11-01T18:12:54.339Z"
   },
   {
    "duration": 147,
    "start_time": "2021-11-01T18:12:58.968Z"
   },
   {
    "duration": 52,
    "start_time": "2021-11-01T18:13:04.497Z"
   },
   {
    "duration": 14,
    "start_time": "2021-11-01T18:13:09.728Z"
   },
   {
    "duration": 421,
    "start_time": "2021-11-01T18:14:13.922Z"
   },
   {
    "duration": 92,
    "start_time": "2021-11-01T18:14:37.417Z"
   },
   {
    "duration": 177,
    "start_time": "2021-11-01T18:14:42.594Z"
   },
   {
    "duration": 4,
    "start_time": "2021-11-01T18:14:50.347Z"
   },
   {
    "duration": 42,
    "start_time": "2021-11-01T18:14:50.353Z"
   },
   {
    "duration": 17,
    "start_time": "2021-11-01T18:14:50.397Z"
   },
   {
    "duration": 8,
    "start_time": "2021-11-01T18:14:50.416Z"
   },
   {
    "duration": 19,
    "start_time": "2021-11-01T18:14:50.426Z"
   },
   {
    "duration": 10,
    "start_time": "2021-11-01T18:14:50.447Z"
   },
   {
    "duration": 13,
    "start_time": "2021-11-01T18:14:50.459Z"
   },
   {
    "duration": 437,
    "start_time": "2021-11-01T18:14:50.475Z"
   },
   {
    "duration": 12,
    "start_time": "2021-11-01T18:14:50.916Z"
   },
   {
    "duration": 4,
    "start_time": "2021-11-01T18:14:50.930Z"
   },
   {
    "duration": 14,
    "start_time": "2021-11-01T18:14:50.936Z"
   },
   {
    "duration": 15,
    "start_time": "2021-11-01T18:14:50.951Z"
   },
   {
    "duration": 74,
    "start_time": "2021-11-01T18:14:50.968Z"
   },
   {
    "duration": 9,
    "start_time": "2021-11-01T18:14:51.044Z"
   },
   {
    "duration": 33,
    "start_time": "2021-11-01T18:14:51.055Z"
   },
   {
    "duration": 91,
    "start_time": "2021-11-01T18:14:51.090Z"
   },
   {
    "duration": 132,
    "start_time": "2021-11-01T18:14:51.183Z"
   },
   {
    "duration": 320,
    "start_time": "2021-11-01T18:14:51.318Z"
   },
   {
    "duration": 154,
    "start_time": "2021-11-01T18:14:51.642Z"
   },
   {
    "duration": 18,
    "start_time": "2021-11-01T18:14:51.798Z"
   },
   {
    "duration": 16,
    "start_time": "2021-11-01T18:14:51.818Z"
   },
   {
    "duration": 103,
    "start_time": "2021-11-01T18:14:51.836Z"
   },
   {
    "duration": 170,
    "start_time": "2021-11-01T18:14:51.941Z"
   },
   {
    "duration": 183,
    "start_time": "2021-11-01T18:14:52.112Z"
   },
   {
    "duration": 18,
    "start_time": "2021-11-01T18:14:52.296Z"
   },
   {
    "duration": 18,
    "start_time": "2021-11-01T18:14:52.315Z"
   },
   {
    "duration": 32,
    "start_time": "2021-11-01T18:14:52.335Z"
   },
   {
    "duration": 146,
    "start_time": "2021-11-01T18:14:52.369Z"
   },
   {
    "duration": 125,
    "start_time": "2021-11-01T18:14:52.517Z"
   },
   {
    "duration": 13,
    "start_time": "2021-11-01T18:14:52.643Z"
   },
   {
    "duration": 187,
    "start_time": "2021-11-01T18:14:52.657Z"
   },
   {
    "duration": 178,
    "start_time": "2021-11-01T18:14:52.846Z"
   },
   {
    "duration": 184,
    "start_time": "2021-11-01T18:14:53.026Z"
   },
   {
    "duration": 365,
    "start_time": "2021-11-01T18:14:53.212Z"
   },
   {
    "duration": -5881,
    "start_time": "2021-11-01T18:14:59.460Z"
   },
   {
    "duration": -5890,
    "start_time": "2021-11-01T18:14:59.470Z"
   },
   {
    "duration": -5899,
    "start_time": "2021-11-01T18:14:59.480Z"
   },
   {
    "duration": -5905,
    "start_time": "2021-11-01T18:14:59.487Z"
   },
   {
    "duration": -5911,
    "start_time": "2021-11-01T18:14:59.494Z"
   },
   {
    "duration": -5917,
    "start_time": "2021-11-01T18:14:59.501Z"
   },
   {
    "duration": -5922,
    "start_time": "2021-11-01T18:14:59.507Z"
   },
   {
    "duration": 4,
    "start_time": "2021-11-01T18:19:31.302Z"
   },
   {
    "duration": 48,
    "start_time": "2021-11-01T18:19:31.308Z"
   },
   {
    "duration": 16,
    "start_time": "2021-11-01T18:19:31.358Z"
   },
   {
    "duration": 17,
    "start_time": "2021-11-01T18:19:31.376Z"
   },
   {
    "duration": 12,
    "start_time": "2021-11-01T18:19:31.394Z"
   },
   {
    "duration": 6,
    "start_time": "2021-11-01T18:19:31.408Z"
   },
   {
    "duration": 8,
    "start_time": "2021-11-01T18:19:31.417Z"
   },
   {
    "duration": 414,
    "start_time": "2021-11-01T18:19:31.427Z"
   },
   {
    "duration": 11,
    "start_time": "2021-11-01T18:19:31.843Z"
   },
   {
    "duration": 4,
    "start_time": "2021-11-01T18:19:31.856Z"
   },
   {
    "duration": 13,
    "start_time": "2021-11-01T18:19:31.861Z"
   },
   {
    "duration": 36,
    "start_time": "2021-11-01T18:19:31.876Z"
   },
   {
    "duration": 47,
    "start_time": "2021-11-01T18:19:31.914Z"
   },
   {
    "duration": 7,
    "start_time": "2021-11-01T18:19:31.963Z"
   },
   {
    "duration": 43,
    "start_time": "2021-11-01T18:19:31.972Z"
   },
   {
    "duration": 73,
    "start_time": "2021-11-01T18:19:32.017Z"
   },
   {
    "duration": 123,
    "start_time": "2021-11-01T18:19:32.092Z"
   },
   {
    "duration": 226,
    "start_time": "2021-11-01T18:19:32.308Z"
   },
   {
    "duration": 145,
    "start_time": "2021-11-01T18:19:32.537Z"
   },
   {
    "duration": 12,
    "start_time": "2021-11-01T18:19:32.684Z"
   },
   {
    "duration": 16,
    "start_time": "2021-11-01T18:19:32.707Z"
   },
   {
    "duration": 100,
    "start_time": "2021-11-01T18:19:32.725Z"
   },
   {
    "duration": 84,
    "start_time": "2021-11-01T18:19:32.827Z"
   },
   {
    "duration": 268,
    "start_time": "2021-11-01T18:19:32.914Z"
   },
   {
    "duration": 12,
    "start_time": "2021-11-01T18:19:33.184Z"
   },
   {
    "duration": 19,
    "start_time": "2021-11-01T18:19:33.198Z"
   },
   {
    "duration": 33,
    "start_time": "2021-11-01T18:19:33.219Z"
   },
   {
    "duration": 153,
    "start_time": "2021-11-01T18:19:33.254Z"
   },
   {
    "duration": 53,
    "start_time": "2021-11-01T18:19:33.408Z"
   },
   {
    "duration": 12,
    "start_time": "2021-11-01T18:19:33.463Z"
   },
   {
    "duration": 203,
    "start_time": "2021-11-01T18:19:33.478Z"
   },
   {
    "duration": 182,
    "start_time": "2021-11-01T18:19:33.683Z"
   },
   {
    "duration": 181,
    "start_time": "2021-11-01T18:19:33.867Z"
   },
   {
    "duration": 538,
    "start_time": "2021-11-01T18:19:34.050Z"
   },
   {
    "duration": -5880,
    "start_time": "2021-11-01T18:19:40.470Z"
   },
   {
    "duration": -5885,
    "start_time": "2021-11-01T18:19:40.476Z"
   },
   {
    "duration": -5890,
    "start_time": "2021-11-01T18:19:40.482Z"
   },
   {
    "duration": -5905,
    "start_time": "2021-11-01T18:19:40.498Z"
   },
   {
    "duration": -5910,
    "start_time": "2021-11-01T18:19:40.505Z"
   },
   {
    "duration": -5915,
    "start_time": "2021-11-01T18:19:40.511Z"
   },
   {
    "duration": -5921,
    "start_time": "2021-11-01T18:19:40.519Z"
   },
   {
    "duration": 128,
    "start_time": "2021-11-01T18:21:27.798Z"
   },
   {
    "duration": 455,
    "start_time": "2021-11-01T18:21:47.839Z"
   },
   {
    "duration": 177,
    "start_time": "2021-11-01T18:22:04.002Z"
   },
   {
    "duration": 4,
    "start_time": "2021-11-01T18:23:04.543Z"
   },
   {
    "duration": 51,
    "start_time": "2021-11-01T18:23:04.549Z"
   },
   {
    "duration": 16,
    "start_time": "2021-11-01T18:23:04.602Z"
   },
   {
    "duration": 14,
    "start_time": "2021-11-01T18:23:04.620Z"
   },
   {
    "duration": 40,
    "start_time": "2021-11-01T18:23:04.635Z"
   },
   {
    "duration": 28,
    "start_time": "2021-11-01T18:23:04.677Z"
   },
   {
    "duration": 20,
    "start_time": "2021-11-01T18:23:04.708Z"
   },
   {
    "duration": 494,
    "start_time": "2021-11-01T18:23:04.731Z"
   },
   {
    "duration": 11,
    "start_time": "2021-11-01T18:23:05.226Z"
   },
   {
    "duration": 6,
    "start_time": "2021-11-01T18:23:05.239Z"
   },
   {
    "duration": 8,
    "start_time": "2021-11-01T18:23:05.247Z"
   },
   {
    "duration": 15,
    "start_time": "2021-11-01T18:23:05.257Z"
   },
   {
    "duration": 76,
    "start_time": "2021-11-01T18:23:05.274Z"
   },
   {
    "duration": 9,
    "start_time": "2021-11-01T18:23:05.351Z"
   },
   {
    "duration": 23,
    "start_time": "2021-11-01T18:23:05.361Z"
   },
   {
    "duration": 74,
    "start_time": "2021-11-01T18:23:05.406Z"
   },
   {
    "duration": 133,
    "start_time": "2021-11-01T18:23:05.482Z"
   },
   {
    "duration": 230,
    "start_time": "2021-11-01T18:23:05.708Z"
   },
   {
    "duration": 148,
    "start_time": "2021-11-01T18:23:05.941Z"
   },
   {
    "duration": 23,
    "start_time": "2021-11-01T18:23:06.091Z"
   },
   {
    "duration": 13,
    "start_time": "2021-11-01T18:23:06.116Z"
   },
   {
    "duration": 105,
    "start_time": "2021-11-01T18:23:06.131Z"
   },
   {
    "duration": 169,
    "start_time": "2021-11-01T18:23:06.239Z"
   },
   {
    "duration": 175,
    "start_time": "2021-11-01T18:23:06.410Z"
   },
   {
    "duration": 21,
    "start_time": "2021-11-01T18:23:06.587Z"
   },
   {
    "duration": 18,
    "start_time": "2021-11-01T18:23:06.609Z"
   },
   {
    "duration": 29,
    "start_time": "2021-11-01T18:23:06.629Z"
   },
   {
    "duration": 149,
    "start_time": "2021-11-01T18:23:06.660Z"
   },
   {
    "duration": 52,
    "start_time": "2021-11-01T18:23:06.811Z"
   },
   {
    "duration": 13,
    "start_time": "2021-11-01T18:23:06.864Z"
   },
   {
    "duration": 206,
    "start_time": "2021-11-01T18:23:06.879Z"
   },
   {
    "duration": 178,
    "start_time": "2021-11-01T18:23:07.087Z"
   },
   {
    "duration": 178,
    "start_time": "2021-11-01T18:23:07.267Z"
   },
   {
    "duration": 372,
    "start_time": "2021-11-01T18:23:07.447Z"
   },
   {
    "duration": -5892,
    "start_time": "2021-11-01T18:23:13.713Z"
   },
   {
    "duration": -5899,
    "start_time": "2021-11-01T18:23:13.721Z"
   },
   {
    "duration": -5905,
    "start_time": "2021-11-01T18:23:13.728Z"
   },
   {
    "duration": -5912,
    "start_time": "2021-11-01T18:23:13.736Z"
   },
   {
    "duration": -5916,
    "start_time": "2021-11-01T18:23:13.741Z"
   },
   {
    "duration": -5921,
    "start_time": "2021-11-01T18:23:13.747Z"
   },
   {
    "duration": -5926,
    "start_time": "2021-11-01T18:23:13.753Z"
   },
   {
    "duration": 191,
    "start_time": "2021-11-01T18:23:27.430Z"
   },
   {
    "duration": 369,
    "start_time": "2021-11-01T18:23:30.287Z"
   },
   {
    "duration": 176,
    "start_time": "2021-11-01T18:24:36.294Z"
   },
   {
    "duration": 142,
    "start_time": "2021-11-01T18:30:28.674Z"
   },
   {
    "duration": 143,
    "start_time": "2021-11-01T18:30:59.732Z"
   },
   {
    "duration": 139,
    "start_time": "2021-11-01T18:31:11.880Z"
   },
   {
    "duration": 4,
    "start_time": "2021-11-01T18:31:22.821Z"
   },
   {
    "duration": 45,
    "start_time": "2021-11-01T18:31:22.827Z"
   },
   {
    "duration": 15,
    "start_time": "2021-11-01T18:31:22.874Z"
   },
   {
    "duration": 6,
    "start_time": "2021-11-01T18:31:22.891Z"
   },
   {
    "duration": 13,
    "start_time": "2021-11-01T18:31:22.899Z"
   },
   {
    "duration": 7,
    "start_time": "2021-11-01T18:31:22.913Z"
   },
   {
    "duration": 11,
    "start_time": "2021-11-01T18:31:22.921Z"
   },
   {
    "duration": 399,
    "start_time": "2021-11-01T18:31:22.933Z"
   },
   {
    "duration": 12,
    "start_time": "2021-11-01T18:31:23.334Z"
   },
   {
    "duration": 4,
    "start_time": "2021-11-01T18:31:23.348Z"
   },
   {
    "duration": 7,
    "start_time": "2021-11-01T18:31:23.354Z"
   },
   {
    "duration": 11,
    "start_time": "2021-11-01T18:31:23.362Z"
   },
   {
    "duration": 49,
    "start_time": "2021-11-01T18:31:23.408Z"
   },
   {
    "duration": 7,
    "start_time": "2021-11-01T18:31:23.459Z"
   },
   {
    "duration": 40,
    "start_time": "2021-11-01T18:31:23.468Z"
   },
   {
    "duration": 73,
    "start_time": "2021-11-01T18:31:23.510Z"
   },
   {
    "duration": 131,
    "start_time": "2021-11-01T18:31:23.585Z"
   },
   {
    "duration": 229,
    "start_time": "2021-11-01T18:31:23.808Z"
   },
   {
    "duration": 150,
    "start_time": "2021-11-01T18:31:24.039Z"
   },
   {
    "duration": 17,
    "start_time": "2021-11-01T18:31:24.191Z"
   },
   {
    "duration": 154,
    "start_time": "2021-11-01T18:31:24.210Z"
   },
   {
    "duration": 93,
    "start_time": "2021-11-01T18:31:24.365Z"
   },
   {
    "duration": 247,
    "start_time": "2021-11-01T18:31:24.460Z"
   },
   {
    "duration": 179,
    "start_time": "2021-11-01T18:31:24.709Z"
   },
   {
    "duration": 23,
    "start_time": "2021-11-01T18:31:24.890Z"
   },
   {
    "duration": 147,
    "start_time": "2021-11-01T18:31:24.915Z"
   },
   {
    "duration": 49,
    "start_time": "2021-11-01T18:31:25.066Z"
   },
   {
    "duration": 190,
    "start_time": "2021-11-01T18:31:25.118Z"
   },
   {
    "duration": 66,
    "start_time": "2021-11-01T18:31:25.310Z"
   },
   {
    "duration": 35,
    "start_time": "2021-11-01T18:31:25.377Z"
   },
   {
    "duration": 262,
    "start_time": "2021-11-01T18:31:25.413Z"
   },
   {
    "duration": 182,
    "start_time": "2021-11-01T18:31:25.676Z"
   },
   {
    "duration": 184,
    "start_time": "2021-11-01T18:31:25.860Z"
   },
   {
    "duration": 192,
    "start_time": "2021-11-01T18:31:26.047Z"
   },
   {
    "duration": 192,
    "start_time": "2021-11-01T18:31:26.241Z"
   },
   {
    "duration": 329,
    "start_time": "2021-11-01T18:31:26.435Z"
   },
   {
    "duration": 176,
    "start_time": "2021-11-01T18:31:26.766Z"
   },
   {
    "duration": 180,
    "start_time": "2021-11-01T18:31:26.944Z"
   },
   {
    "duration": 188,
    "start_time": "2021-11-01T18:31:27.126Z"
   },
   {
    "duration": 13,
    "start_time": "2021-11-01T18:31:27.315Z"
   },
   {
    "duration": 20,
    "start_time": "2021-11-01T18:31:27.330Z"
   },
   {
    "duration": 116,
    "start_time": "2021-11-01T18:43:48.257Z"
   },
   {
    "duration": 104,
    "start_time": "2021-11-01T18:44:04.808Z"
   },
   {
    "duration": 154,
    "start_time": "2021-11-01T18:44:08.687Z"
   },
   {
    "duration": 122,
    "start_time": "2021-11-01T18:44:16.375Z"
   },
   {
    "duration": 117,
    "start_time": "2021-11-01T18:44:39.292Z"
   },
   {
    "duration": 120,
    "start_time": "2021-11-01T18:44:55.088Z"
   },
   {
    "duration": 5,
    "start_time": "2021-11-01T18:45:09.168Z"
   },
   {
    "duration": 41,
    "start_time": "2021-11-01T18:45:09.513Z"
   },
   {
    "duration": 18,
    "start_time": "2021-11-01T18:45:09.555Z"
   },
   {
    "duration": 14,
    "start_time": "2021-11-01T18:45:09.575Z"
   },
   {
    "duration": 18,
    "start_time": "2021-11-01T18:45:09.591Z"
   },
   {
    "duration": 12,
    "start_time": "2021-11-01T18:45:09.611Z"
   },
   {
    "duration": 13,
    "start_time": "2021-11-01T18:45:09.624Z"
   },
   {
    "duration": 396,
    "start_time": "2021-11-01T18:45:09.639Z"
   },
   {
    "duration": 14,
    "start_time": "2021-11-01T18:45:10.037Z"
   },
   {
    "duration": 6,
    "start_time": "2021-11-01T18:45:10.054Z"
   },
   {
    "duration": 26,
    "start_time": "2021-11-01T18:45:10.062Z"
   },
   {
    "duration": 9,
    "start_time": "2021-11-01T18:45:10.106Z"
   },
   {
    "duration": 49,
    "start_time": "2021-11-01T18:45:10.117Z"
   },
   {
    "duration": 7,
    "start_time": "2021-11-01T18:45:10.168Z"
   },
   {
    "duration": 43,
    "start_time": "2021-11-01T18:45:10.177Z"
   },
   {
    "duration": 86,
    "start_time": "2021-11-01T18:45:10.222Z"
   },
   {
    "duration": 103,
    "start_time": "2021-11-01T18:45:10.310Z"
   },
   {
    "duration": 328,
    "start_time": "2021-11-01T18:45:10.415Z"
   },
   {
    "duration": 156,
    "start_time": "2021-11-01T18:45:10.745Z"
   },
   {
    "duration": 14,
    "start_time": "2021-11-01T18:45:10.906Z"
   },
   {
    "duration": 163,
    "start_time": "2021-11-01T18:45:10.921Z"
   },
   {
    "duration": 97,
    "start_time": "2021-11-01T18:45:11.086Z"
   },
   {
    "duration": 125,
    "start_time": "2021-11-01T18:45:11.185Z"
   },
   {
    "duration": 264,
    "start_time": "2021-11-01T18:45:11.312Z"
   },
   {
    "duration": 12,
    "start_time": "2021-11-01T18:45:11.578Z"
   },
   {
    "duration": 170,
    "start_time": "2021-11-01T18:45:11.592Z"
   },
   {
    "duration": 45,
    "start_time": "2021-11-01T18:45:11.764Z"
   },
   {
    "duration": 194,
    "start_time": "2021-11-01T18:45:11.813Z"
   },
   {
    "duration": 65,
    "start_time": "2021-11-01T18:45:12.009Z"
   },
   {
    "duration": 37,
    "start_time": "2021-11-01T18:45:12.076Z"
   },
   {
    "duration": 181,
    "start_time": "2021-11-01T18:45:12.115Z"
   },
   {
    "duration": 186,
    "start_time": "2021-11-01T18:45:12.298Z"
   },
   {
    "duration": 196,
    "start_time": "2021-11-01T18:45:12.486Z"
   },
   {
    "duration": 283,
    "start_time": "2021-11-01T18:45:12.684Z"
   },
   {
    "duration": 191,
    "start_time": "2021-11-01T18:45:12.969Z"
   },
   {
    "duration": 315,
    "start_time": "2021-11-01T18:45:13.162Z"
   },
   {
    "duration": 190,
    "start_time": "2021-11-01T18:45:13.479Z"
   },
   {
    "duration": 187,
    "start_time": "2021-11-01T18:45:13.671Z"
   },
   {
    "duration": 196,
    "start_time": "2021-11-01T18:45:13.860Z"
   },
   {
    "duration": 15,
    "start_time": "2021-11-01T18:45:14.058Z"
   },
   {
    "duration": 127,
    "start_time": "2021-11-01T18:45:14.075Z"
   },
   {
    "duration": 14,
    "start_time": "2021-11-01T18:45:30.541Z"
   },
   {
    "duration": 402,
    "start_time": "2021-11-01T18:54:46.373Z"
   },
   {
    "duration": 20369,
    "start_time": "2021-11-01T19:01:05.282Z"
   },
   {
    "duration": 383,
    "start_time": "2021-11-01T19:30:12.685Z"
   },
   {
    "duration": 415,
    "start_time": "2021-11-01T19:33:17.145Z"
   },
   {
    "duration": 5,
    "start_time": "2021-11-01T19:33:30.129Z"
   },
   {
    "duration": 66,
    "start_time": "2021-11-01T19:33:30.138Z"
   },
   {
    "duration": 16,
    "start_time": "2021-11-01T19:33:30.206Z"
   },
   {
    "duration": 24,
    "start_time": "2021-11-01T19:33:30.224Z"
   },
   {
    "duration": 26,
    "start_time": "2021-11-01T19:33:30.249Z"
   },
   {
    "duration": 30,
    "start_time": "2021-11-01T19:33:30.277Z"
   },
   {
    "duration": 46,
    "start_time": "2021-11-01T19:33:30.309Z"
   },
   {
    "duration": 390,
    "start_time": "2021-11-01T19:33:30.356Z"
   },
   {
    "duration": 12,
    "start_time": "2021-11-01T19:33:30.749Z"
   },
   {
    "duration": 29,
    "start_time": "2021-11-01T19:33:30.763Z"
   },
   {
    "duration": 55,
    "start_time": "2021-11-01T19:33:30.794Z"
   },
   {
    "duration": 25,
    "start_time": "2021-11-01T19:33:30.851Z"
   },
   {
    "duration": 75,
    "start_time": "2021-11-01T19:33:30.878Z"
   },
   {
    "duration": 7,
    "start_time": "2021-11-01T19:33:30.955Z"
   },
   {
    "duration": 32,
    "start_time": "2021-11-01T19:33:30.964Z"
   },
   {
    "duration": 81,
    "start_time": "2021-11-01T19:33:30.998Z"
   },
   {
    "duration": 134,
    "start_time": "2021-11-01T19:33:31.081Z"
   },
   {
    "duration": 297,
    "start_time": "2021-11-01T19:33:31.217Z"
   },
   {
    "duration": 150,
    "start_time": "2021-11-01T19:33:31.516Z"
   },
   {
    "duration": 14,
    "start_time": "2021-11-01T19:33:31.668Z"
   },
   {
    "duration": 168,
    "start_time": "2021-11-01T19:33:31.684Z"
   },
   {
    "duration": 92,
    "start_time": "2021-11-01T19:33:31.853Z"
   },
   {
    "duration": 160,
    "start_time": "2021-11-01T19:33:31.947Z"
   },
   {
    "duration": 180,
    "start_time": "2021-11-01T19:33:32.110Z"
   },
   {
    "duration": 17,
    "start_time": "2021-11-01T19:33:32.293Z"
   },
   {
    "duration": 161,
    "start_time": "2021-11-01T19:33:32.312Z"
   },
   {
    "duration": 46,
    "start_time": "2021-11-01T19:33:32.475Z"
   },
   {
    "duration": 93,
    "start_time": "2021-11-01T19:33:32.523Z"
   },
   {
    "duration": 66,
    "start_time": "2021-11-01T19:33:32.707Z"
   },
   {
    "duration": 34,
    "start_time": "2021-11-01T19:33:32.775Z"
   },
   {
    "duration": 182,
    "start_time": "2021-11-01T19:33:32.811Z"
   },
   {
    "duration": 176,
    "start_time": "2021-11-01T19:33:32.995Z"
   },
   {
    "duration": 184,
    "start_time": "2021-11-01T19:33:33.173Z"
   },
   {
    "duration": 185,
    "start_time": "2021-11-01T19:33:33.359Z"
   },
   {
    "duration": 185,
    "start_time": "2021-11-01T19:33:33.546Z"
   },
   {
    "duration": 317,
    "start_time": "2021-11-01T19:33:33.733Z"
   },
   {
    "duration": 188,
    "start_time": "2021-11-01T19:33:34.051Z"
   },
   {
    "duration": 296,
    "start_time": "2021-11-01T19:33:34.241Z"
   },
   {
    "duration": 186,
    "start_time": "2021-11-01T19:33:34.539Z"
   },
   {
    "duration": 12,
    "start_time": "2021-11-01T19:33:34.727Z"
   },
   {
    "duration": 15,
    "start_time": "2021-11-01T19:33:34.741Z"
   },
   {
    "duration": 20129,
    "start_time": "2021-11-01T19:33:34.757Z"
   },
   {
    "duration": 372,
    "start_time": "2021-11-01T19:39:14.184Z"
   },
   {
    "duration": 20553,
    "start_time": "2021-11-01T19:39:48.167Z"
   },
   {
    "duration": 23193,
    "start_time": "2021-11-01T19:42:26.536Z"
   },
   {
    "duration": 20694,
    "start_time": "2021-11-01T19:43:41.768Z"
   },
   {
    "duration": 20412,
    "start_time": "2021-11-01T20:34:18.658Z"
   },
   {
    "duration": 20474,
    "start_time": "2021-11-01T20:36:24.091Z"
   },
   {
    "duration": 20253,
    "start_time": "2021-11-01T20:37:33.720Z"
   },
   {
    "duration": 20687,
    "start_time": "2021-11-01T20:38:22.563Z"
   },
   {
    "duration": 174998,
    "start_time": "2021-11-01T20:40:06.248Z"
   },
   {
    "duration": 120,
    "start_time": "2021-11-02T11:45:28.733Z"
   },
   {
    "duration": 7,
    "start_time": "2021-11-02T11:46:46.122Z"
   },
   {
    "duration": 7,
    "start_time": "2021-11-02T11:47:00.277Z"
   },
   {
    "duration": 394,
    "start_time": "2021-11-02T11:48:24.941Z"
   },
   {
    "duration": 1337,
    "start_time": "2021-11-02T11:48:59.913Z"
   },
   {
    "duration": 410,
    "start_time": "2021-11-02T11:49:15.350Z"
   },
   {
    "duration": 372,
    "start_time": "2021-11-02T11:51:57.705Z"
   },
   {
    "duration": 362,
    "start_time": "2021-11-02T11:52:46.807Z"
   },
   {
    "duration": 1235,
    "start_time": "2021-11-02T11:55:03.745Z"
   },
   {
    "duration": 353,
    "start_time": "2021-11-02T11:55:28.597Z"
   },
   {
    "duration": 141,
    "start_time": "2021-11-02T11:59:02.827Z"
   },
   {
    "duration": 357,
    "start_time": "2021-11-02T11:59:23.052Z"
   },
   {
    "duration": 7,
    "start_time": "2021-11-02T11:59:30.986Z"
   },
   {
    "duration": 368,
    "start_time": "2021-11-02T12:02:32.783Z"
   },
   {
    "duration": 1174,
    "start_time": "2021-11-02T12:04:18.065Z"
   },
   {
    "duration": 43,
    "start_time": "2021-11-02T12:04:19.241Z"
   },
   {
    "duration": 18,
    "start_time": "2021-11-02T12:04:19.286Z"
   },
   {
    "duration": 13,
    "start_time": "2021-11-02T12:04:19.306Z"
   },
   {
    "duration": 16,
    "start_time": "2021-11-02T12:04:19.320Z"
   },
   {
    "duration": 15,
    "start_time": "2021-11-02T12:04:19.338Z"
   },
   {
    "duration": 14,
    "start_time": "2021-11-02T12:04:19.355Z"
   },
   {
    "duration": 368,
    "start_time": "2021-11-02T12:04:19.372Z"
   },
   {
    "duration": 13,
    "start_time": "2021-11-02T12:04:19.742Z"
   },
   {
    "duration": 7,
    "start_time": "2021-11-02T12:04:19.757Z"
   },
   {
    "duration": 42,
    "start_time": "2021-11-02T12:04:19.765Z"
   },
   {
    "duration": 9,
    "start_time": "2021-11-02T12:04:19.809Z"
   },
   {
    "duration": 53,
    "start_time": "2021-11-02T12:04:19.820Z"
   },
   {
    "duration": 7,
    "start_time": "2021-11-02T12:04:19.875Z"
   },
   {
    "duration": 39,
    "start_time": "2021-11-02T12:04:19.884Z"
   },
   {
    "duration": 92,
    "start_time": "2021-11-02T12:04:19.925Z"
   },
   {
    "duration": 189,
    "start_time": "2021-11-02T12:04:20.018Z"
   },
   {
    "duration": 233,
    "start_time": "2021-11-02T12:04:20.210Z"
   },
   {
    "duration": 152,
    "start_time": "2021-11-02T12:04:20.445Z"
   },
   {
    "duration": 17,
    "start_time": "2021-11-02T12:04:20.599Z"
   },
   {
    "duration": 168,
    "start_time": "2021-11-02T12:04:20.618Z"
   },
   {
    "duration": 95,
    "start_time": "2021-11-02T12:04:20.787Z"
   },
   {
    "duration": 127,
    "start_time": "2021-11-02T12:04:20.886Z"
   },
   {
    "duration": 271,
    "start_time": "2021-11-02T12:04:21.016Z"
   },
   {
    "duration": 23,
    "start_time": "2021-11-02T12:04:21.289Z"
   },
   {
    "duration": 158,
    "start_time": "2021-11-02T12:04:21.314Z"
   },
   {
    "duration": 48,
    "start_time": "2021-11-02T12:04:21.474Z"
   },
   {
    "duration": 184,
    "start_time": "2021-11-02T12:04:21.524Z"
   },
   {
    "duration": 64,
    "start_time": "2021-11-02T12:04:21.710Z"
   },
   {
    "duration": 33,
    "start_time": "2021-11-02T12:04:21.776Z"
   },
   {
    "duration": 181,
    "start_time": "2021-11-02T12:04:21.811Z"
   },
   {
    "duration": 178,
    "start_time": "2021-11-02T12:04:21.994Z"
   },
   {
    "duration": 233,
    "start_time": "2021-11-02T12:04:22.174Z"
   },
   {
    "duration": 182,
    "start_time": "2021-11-02T12:04:22.408Z"
   },
   {
    "duration": 192,
    "start_time": "2021-11-02T12:04:22.592Z"
   },
   {
    "duration": 383,
    "start_time": "2021-11-02T12:04:22.785Z"
   },
   {
    "duration": 190,
    "start_time": "2021-11-02T12:04:23.170Z"
   },
   {
    "duration": 191,
    "start_time": "2021-11-02T12:04:23.362Z"
   },
   {
    "duration": 197,
    "start_time": "2021-11-02T12:04:23.555Z"
   },
   {
    "duration": 13,
    "start_time": "2021-11-02T12:04:23.754Z"
   },
   {
    "duration": 25,
    "start_time": "2021-11-02T12:04:23.769Z"
   },
   {
    "duration": 180112,
    "start_time": "2021-11-02T12:04:23.795Z"
   },
   {
    "duration": 524,
    "start_time": "2021-11-02T12:07:24.029Z"
   },
   {
    "duration": 562,
    "start_time": "2021-11-02T12:07:56.071Z"
   },
   {
    "duration": 641,
    "start_time": "2021-11-02T12:16:04.611Z"
   },
   {
    "duration": 590,
    "start_time": "2021-11-02T12:19:26.983Z"
   },
   {
    "duration": 1067,
    "start_time": "2021-11-02T12:23:17.102Z"
   },
   {
    "duration": 632,
    "start_time": "2021-11-02T12:26:26.314Z"
   },
   {
    "duration": 8794,
    "start_time": "2021-11-02T12:26:41.899Z"
   },
   {
    "duration": 27499,
    "start_time": "2021-11-02T12:27:59.162Z"
   },
   {
    "duration": 25901,
    "start_time": "2021-11-02T12:30:59.418Z"
   },
   {
    "duration": 26550,
    "start_time": "2021-11-02T12:31:56.366Z"
   },
   {
    "duration": 25648,
    "start_time": "2021-11-02T12:32:38.159Z"
   },
   {
    "duration": 14,
    "start_time": "2021-11-02T12:33:09.384Z"
   },
   {
    "duration": 13,
    "start_time": "2021-11-02T12:34:02.242Z"
   },
   {
    "duration": 25592,
    "start_time": "2021-11-02T12:34:52.262Z"
   },
   {
    "duration": 26018,
    "start_time": "2021-11-02T12:36:22.954Z"
   },
   {
    "duration": 13,
    "start_time": "2021-11-02T12:36:54.503Z"
   },
   {
    "duration": 13,
    "start_time": "2021-11-02T12:37:15.062Z"
   },
   {
    "duration": 136,
    "start_time": "2021-11-02T12:43:19.617Z"
   },
   {
    "duration": 85,
    "start_time": "2021-11-02T12:44:12.049Z"
   },
   {
    "duration": 168,
    "start_time": "2021-11-02T12:44:19.913Z"
   },
   {
    "duration": 13,
    "start_time": "2021-11-02T12:44:25.306Z"
   },
   {
    "duration": 145,
    "start_time": "2021-11-02T12:44:32.671Z"
   },
   {
    "duration": 3,
    "start_time": "2021-11-02T12:46:00.294Z"
   },
   {
    "duration": 85,
    "start_time": "2021-11-02T12:47:59.698Z"
   },
   {
    "duration": 98,
    "start_time": "2021-11-02T12:50:16.156Z"
   },
   {
    "duration": 109,
    "start_time": "2021-11-02T12:50:33.050Z"
   },
   {
    "duration": 99,
    "start_time": "2021-11-02T12:50:48.094Z"
   },
   {
    "duration": 120,
    "start_time": "2021-11-02T12:51:13.704Z"
   },
   {
    "duration": 108,
    "start_time": "2021-11-02T12:51:20.463Z"
   },
   {
    "duration": 89344,
    "start_time": "2021-11-02T12:51:50.652Z"
   },
   {
    "duration": 18,
    "start_time": "2021-11-02T12:53:19.998Z"
   },
   {
    "duration": 253,
    "start_time": "2021-11-02T12:53:41.507Z"
   },
   {
    "duration": 2403430,
    "start_time": "2021-11-02T12:54:12.964Z"
   },
   {
    "duration": 613,
    "start_time": "2021-11-02T13:34:16.396Z"
   },
   {
    "duration": 455,
    "start_time": "2021-11-02T13:34:16.556Z"
   },
   {
    "duration": 15,
    "start_time": "2021-11-02T13:34:25.363Z"
   },
   {
    "duration": 871,
    "start_time": "2021-11-02T13:34:51.529Z"
   },
   {
    "duration": 468,
    "start_time": "2021-11-02T13:35:01.172Z"
   },
   {
    "duration": 572,
    "start_time": "2021-11-02T13:35:18.253Z"
   },
   {
    "duration": 676,
    "start_time": "2021-11-02T13:35:26.643Z"
   },
   {
    "duration": 1171,
    "start_time": "2021-11-02T13:58:52.561Z"
   },
   {
    "duration": 45,
    "start_time": "2021-11-02T13:58:53.734Z"
   },
   {
    "duration": 18,
    "start_time": "2021-11-02T13:58:53.781Z"
   },
   {
    "duration": 14,
    "start_time": "2021-11-02T13:58:53.806Z"
   },
   {
    "duration": 28,
    "start_time": "2021-11-02T13:58:53.822Z"
   },
   {
    "duration": 23,
    "start_time": "2021-11-02T13:58:53.852Z"
   },
   {
    "duration": 25,
    "start_time": "2021-11-02T13:58:53.877Z"
   },
   {
    "duration": 404,
    "start_time": "2021-11-02T13:58:53.904Z"
   },
   {
    "duration": 12,
    "start_time": "2021-11-02T13:58:54.311Z"
   },
   {
    "duration": 8,
    "start_time": "2021-11-02T13:58:54.325Z"
   },
   {
    "duration": 16,
    "start_time": "2021-11-02T13:58:54.335Z"
   },
   {
    "duration": 21,
    "start_time": "2021-11-02T13:58:54.353Z"
   },
   {
    "duration": 70,
    "start_time": "2021-11-02T13:58:54.376Z"
   },
   {
    "duration": 8,
    "start_time": "2021-11-02T13:58:54.448Z"
   },
   {
    "duration": 59,
    "start_time": "2021-11-02T13:58:54.457Z"
   },
   {
    "duration": 75,
    "start_time": "2021-11-02T13:58:54.518Z"
   },
   {
    "duration": 121,
    "start_time": "2021-11-02T13:58:54.595Z"
   },
   {
    "duration": 243,
    "start_time": "2021-11-02T13:58:54.809Z"
   },
   {
    "duration": 158,
    "start_time": "2021-11-02T13:58:55.054Z"
   },
   {
    "duration": 13,
    "start_time": "2021-11-02T13:58:55.214Z"
   },
   {
    "duration": 165,
    "start_time": "2021-11-02T13:58:55.229Z"
   },
   {
    "duration": 116,
    "start_time": "2021-11-02T13:58:55.396Z"
   },
   {
    "duration": 94,
    "start_time": "2021-11-02T13:58:55.515Z"
   },
   {
    "duration": 269,
    "start_time": "2021-11-02T13:58:55.612Z"
   },
   {
    "duration": 12,
    "start_time": "2021-11-02T13:58:55.883Z"
   },
   {
    "duration": 162,
    "start_time": "2021-11-02T13:58:55.897Z"
   },
   {
    "duration": 49,
    "start_time": "2021-11-02T13:58:56.061Z"
   },
   {
    "duration": 100,
    "start_time": "2021-11-02T13:58:56.112Z"
   },
   {
    "duration": 155,
    "start_time": "2021-11-02T13:58:56.215Z"
   },
   {
    "duration": 34,
    "start_time": "2021-11-02T13:58:56.373Z"
   },
   {
    "duration": 190,
    "start_time": "2021-11-02T13:58:56.410Z"
   },
   {
    "duration": 185,
    "start_time": "2021-11-02T13:58:56.601Z"
   },
   {
    "duration": 188,
    "start_time": "2021-11-02T13:58:56.788Z"
   },
   {
    "duration": 248,
    "start_time": "2021-11-02T13:58:56.978Z"
   },
   {
    "duration": 294,
    "start_time": "2021-11-02T13:58:57.228Z"
   },
   {
    "duration": 334,
    "start_time": "2021-11-02T13:58:57.524Z"
   },
   {
    "duration": 193,
    "start_time": "2021-11-02T13:58:57.860Z"
   },
   {
    "duration": 186,
    "start_time": "2021-11-02T13:58:58.054Z"
   },
   {
    "duration": 200,
    "start_time": "2021-11-02T13:58:58.241Z"
   },
   {
    "duration": 14,
    "start_time": "2021-11-02T13:58:58.443Z"
   },
   {
    "duration": 47,
    "start_time": "2021-11-02T13:58:58.460Z"
   },
   {
    "duration": 188605,
    "start_time": "2021-11-02T13:58:58.509Z"
   },
   {
    "duration": 135119,
    "start_time": "2021-11-02T14:02:07.116Z"
   },
   {
    "duration": 11,
    "start_time": "2021-11-02T14:04:22.237Z"
   },
   {
    "duration": 681,
    "start_time": "2021-11-02T14:04:22.250Z"
   },
   {
    "duration": 2,
    "start_time": "2021-11-02T14:04:22.933Z"
   },
   {
    "duration": 129,
    "start_time": "2021-11-02T14:04:22.937Z"
   },
   {
    "duration": 1057,
    "start_time": "2021-11-02T14:06:12.430Z"
   },
   {
    "duration": 1669,
    "start_time": "2021-11-02T14:06:42.282Z"
   },
   {
    "duration": 1244,
    "start_time": "2021-11-02T14:07:04.408Z"
   },
   {
    "duration": 399,
    "start_time": "2021-11-02T14:07:59.995Z"
   },
   {
    "duration": 402,
    "start_time": "2021-11-02T14:08:34.518Z"
   },
   {
    "duration": 455,
    "start_time": "2021-11-02T14:08:54.647Z"
   },
   {
    "duration": 348,
    "start_time": "2021-11-02T14:09:03.338Z"
   },
   {
    "duration": 13,
    "start_time": "2021-11-02T14:09:08.800Z"
   },
   {
    "duration": 589,
    "start_time": "2021-11-02T14:12:24.390Z"
   },
   {
    "duration": 626,
    "start_time": "2021-11-02T14:13:15.554Z"
   },
   {
    "duration": 617,
    "start_time": "2021-11-02T14:14:17.113Z"
   },
   {
    "duration": 134034,
    "start_time": "2021-11-02T14:15:07.456Z"
   },
   {
    "duration": 13,
    "start_time": "2021-11-02T14:17:51.477Z"
   },
   {
    "duration": 400,
    "start_time": "2021-11-02T14:18:36.748Z"
   },
   {
    "duration": 483,
    "start_time": "2021-11-02T14:18:45.625Z"
   },
   {
    "duration": 1289,
    "start_time": "2021-11-02T14:18:56.768Z"
   },
   {
    "duration": 1512,
    "start_time": "2021-11-02T14:19:05.516Z"
   },
   {
    "duration": 1315,
    "start_time": "2021-11-02T14:19:20.391Z"
   },
   {
    "duration": 648,
    "start_time": "2021-11-02T14:22:43.896Z"
   },
   {
    "duration": 5,
    "start_time": "2021-11-02T14:29:39.499Z"
   },
   {
    "duration": 67,
    "start_time": "2021-11-02T14:29:39.506Z"
   },
   {
    "duration": 17,
    "start_time": "2021-11-02T14:29:39.575Z"
   },
   {
    "duration": 14,
    "start_time": "2021-11-02T14:29:39.595Z"
   },
   {
    "duration": 12,
    "start_time": "2021-11-02T14:29:39.611Z"
   },
   {
    "duration": 8,
    "start_time": "2021-11-02T14:29:39.625Z"
   },
   {
    "duration": 7,
    "start_time": "2021-11-02T14:29:39.637Z"
   },
   {
    "duration": 414,
    "start_time": "2021-11-02T14:29:39.647Z"
   },
   {
    "duration": 46,
    "start_time": "2021-11-02T14:29:40.062Z"
   },
   {
    "duration": 4,
    "start_time": "2021-11-02T14:29:40.109Z"
   },
   {
    "duration": 8,
    "start_time": "2021-11-02T14:29:40.115Z"
   },
   {
    "duration": 8,
    "start_time": "2021-11-02T14:29:40.125Z"
   },
   {
    "duration": 50,
    "start_time": "2021-11-02T14:29:40.135Z"
   },
   {
    "duration": 8,
    "start_time": "2021-11-02T14:29:40.207Z"
   },
   {
    "duration": 19,
    "start_time": "2021-11-02T14:29:40.217Z"
   },
   {
    "duration": 96,
    "start_time": "2021-11-02T14:29:40.237Z"
   },
   {
    "duration": 175,
    "start_time": "2021-11-02T14:29:40.334Z"
   },
   {
    "duration": 232,
    "start_time": "2021-11-02T14:29:40.511Z"
   },
   {
    "duration": 154,
    "start_time": "2021-11-02T14:29:40.747Z"
   },
   {
    "duration": 13,
    "start_time": "2021-11-02T14:29:40.903Z"
   },
   {
    "duration": 135315,
    "start_time": "2021-11-02T14:29:40.918Z"
   },
   {
    "duration": 164,
    "start_time": "2021-11-02T14:31:56.235Z"
   },
   {
    "duration": 92,
    "start_time": "2021-11-02T14:31:56.401Z"
   },
   {
    "duration": 106,
    "start_time": "2021-11-02T14:31:56.507Z"
   },
   {
    "duration": 280,
    "start_time": "2021-11-02T14:31:56.617Z"
   },
   {
    "duration": 17,
    "start_time": "2021-11-02T14:31:56.900Z"
   },
   {
    "duration": 176,
    "start_time": "2021-11-02T14:31:56.919Z"
   },
   {
    "duration": 39,
    "start_time": "2021-11-02T14:31:57.097Z"
   },
   {
    "duration": 71,
    "start_time": "2021-11-02T14:31:57.138Z"
   },
   {
    "duration": 160,
    "start_time": "2021-11-02T14:31:57.212Z"
   },
   {
    "duration": 13,
    "start_time": "2021-11-02T14:31:57.374Z"
   },
   {
    "duration": 210,
    "start_time": "2021-11-02T14:31:57.408Z"
   },
   {
    "duration": 260,
    "start_time": "2021-11-02T14:31:57.620Z"
   },
   {
    "duration": 183,
    "start_time": "2021-11-02T14:31:57.882Z"
   },
   {
    "duration": 190,
    "start_time": "2021-11-02T14:31:58.066Z"
   },
   {
    "duration": 200,
    "start_time": "2021-11-02T14:31:58.258Z"
   },
   {
    "duration": 316,
    "start_time": "2021-11-02T14:31:58.461Z"
   },
   {
    "duration": 188,
    "start_time": "2021-11-02T14:31:58.779Z"
   },
   {
    "duration": 198,
    "start_time": "2021-11-02T14:31:58.969Z"
   },
   {
    "duration": 205,
    "start_time": "2021-11-02T14:31:59.169Z"
   },
   {
    "duration": 13,
    "start_time": "2021-11-02T14:31:59.377Z"
   },
   {
    "duration": 26,
    "start_time": "2021-11-02T14:31:59.392Z"
   },
   {
    "duration": 184430,
    "start_time": "2021-11-02T14:31:59.419Z"
   },
   {
    "duration": 135865,
    "start_time": "2021-11-02T14:35:03.851Z"
   },
   {
    "duration": 13,
    "start_time": "2021-11-02T14:37:19.717Z"
   },
   {
    "duration": 685,
    "start_time": "2021-11-02T14:37:19.732Z"
   },
   {
    "duration": 2,
    "start_time": "2021-11-02T14:37:20.419Z"
   },
   {
    "duration": 142,
    "start_time": "2021-11-02T14:37:20.423Z"
   },
   {
    "duration": 17,
    "start_time": "2021-11-02T14:38:51.055Z"
   },
   {
    "duration": 644,
    "start_time": "2021-11-02T14:39:55.134Z"
   },
   {
    "duration": 89,
    "start_time": "2021-11-03T12:49:22.336Z"
   },
   {
    "duration": 1633,
    "start_time": "2021-11-03T12:50:10.996Z"
   },
   {
    "duration": 86,
    "start_time": "2021-11-03T12:50:35.287Z"
   },
   {
    "duration": 6,
    "start_time": "2021-11-03T12:51:27.323Z"
   },
   {
    "duration": 98,
    "start_time": "2021-11-03T12:51:40.968Z"
   },
   {
    "duration": 86,
    "start_time": "2021-11-03T12:55:32.980Z"
   },
   {
    "duration": 418,
    "start_time": "2021-11-03T12:55:48.083Z"
   },
   {
    "duration": 9,
    "start_time": "2021-11-03T12:55:54.138Z"
   },
   {
    "duration": 102,
    "start_time": "2021-11-03T12:55:54.150Z"
   },
   {
    "duration": 72,
    "start_time": "2021-11-03T12:55:54.257Z"
   },
   {
    "duration": 7,
    "start_time": "2021-11-03T12:55:54.333Z"
   },
   {
    "duration": 25,
    "start_time": "2021-11-03T12:55:54.342Z"
   },
   {
    "duration": 12,
    "start_time": "2021-11-03T12:55:54.370Z"
   },
   {
    "duration": 45,
    "start_time": "2021-11-03T12:55:54.386Z"
   },
   {
    "duration": 827,
    "start_time": "2021-11-03T12:55:54.434Z"
   },
   {
    "duration": 27,
    "start_time": "2021-11-03T12:55:55.270Z"
   },
   {
    "duration": 6,
    "start_time": "2021-11-03T12:55:55.329Z"
   },
   {
    "duration": 12,
    "start_time": "2021-11-03T12:55:55.338Z"
   },
   {
    "duration": 21,
    "start_time": "2021-11-03T12:55:55.354Z"
   },
   {
    "duration": 101,
    "start_time": "2021-11-03T12:55:55.378Z"
   },
   {
    "duration": 10,
    "start_time": "2021-11-03T12:55:55.481Z"
   },
   {
    "duration": 61,
    "start_time": "2021-11-03T12:55:55.494Z"
   },
   {
    "duration": 122,
    "start_time": "2021-11-03T12:55:55.558Z"
   },
   {
    "duration": 157,
    "start_time": "2021-11-03T12:55:55.683Z"
   },
   {
    "duration": 265,
    "start_time": "2021-11-03T12:55:55.931Z"
   },
   {
    "duration": 258,
    "start_time": "2021-11-03T12:55:56.199Z"
   },
   {
    "duration": 21,
    "start_time": "2021-11-03T12:55:56.460Z"
   },
   {
    "duration": 206370,
    "start_time": "2021-11-03T12:55:56.484Z"
   },
   {
    "duration": 17,
    "start_time": "2021-11-03T12:59:22.857Z"
   },
   {
    "duration": 252,
    "start_time": "2021-11-03T12:59:22.879Z"
   },
   {
    "duration": 132,
    "start_time": "2021-11-03T12:59:23.134Z"
   },
   {
    "duration": 260,
    "start_time": "2021-11-03T12:59:23.269Z"
   },
   {
    "duration": 249,
    "start_time": "2021-11-03T12:59:23.532Z"
   },
   {
    "duration": 18,
    "start_time": "2021-11-03T12:59:23.784Z"
   },
   {
    "duration": 262,
    "start_time": "2021-11-03T12:59:23.805Z"
   },
   {
    "duration": 61,
    "start_time": "2021-11-03T12:59:24.069Z"
   },
   {
    "duration": 202,
    "start_time": "2021-11-03T12:59:24.132Z"
   },
   {
    "duration": 114,
    "start_time": "2021-11-03T12:59:24.336Z"
   },
   {
    "duration": 19,
    "start_time": "2021-11-03T12:59:24.452Z"
   },
   {
    "duration": 294,
    "start_time": "2021-11-03T12:59:24.474Z"
   },
   {
    "duration": 290,
    "start_time": "2021-11-03T12:59:24.771Z"
   },
   {
    "duration": 354,
    "start_time": "2021-11-03T12:59:25.063Z"
   },
   {
    "duration": 289,
    "start_time": "2021-11-03T12:59:25.419Z"
   },
   {
    "duration": 300,
    "start_time": "2021-11-03T12:59:25.710Z"
   },
   {
    "duration": 450,
    "start_time": "2021-11-03T12:59:26.012Z"
   },
   {
    "duration": 300,
    "start_time": "2021-11-03T12:59:26.465Z"
   },
   {
    "duration": 297,
    "start_time": "2021-11-03T12:59:26.767Z"
   },
   {
    "duration": 291,
    "start_time": "2021-11-03T12:59:27.066Z"
   },
   {
    "duration": 19,
    "start_time": "2021-11-03T12:59:27.359Z"
   },
   {
    "duration": 36,
    "start_time": "2021-11-03T12:59:27.380Z"
   },
   {
    "duration": 936,
    "start_time": "2021-11-03T12:59:27.430Z"
   },
   {
    "duration": 91,
    "start_time": "2021-11-03T12:59:28.368Z"
   },
   {
    "duration": 102,
    "start_time": "2021-11-03T13:00:29.169Z"
   },
   {
    "duration": 87,
    "start_time": "2021-11-03T13:01:03.844Z"
   },
   {
    "duration": 78,
    "start_time": "2021-11-03T13:01:32.083Z"
   },
   {
    "duration": 18,
    "start_time": "2021-11-03T13:02:04.640Z"
   },
   {
    "duration": 1508,
    "start_time": "2021-11-03T13:11:01.981Z"
   },
   {
    "duration": 1525,
    "start_time": "2021-11-03T13:11:21.084Z"
   },
   {
    "duration": 2161,
    "start_time": "2021-11-03T13:11:37.556Z"
   },
   {
    "duration": 32,
    "start_time": "2021-11-03T13:11:39.720Z"
   },
   {
    "duration": 286,
    "start_time": "2021-11-03T13:11:39.756Z"
   },
   {
    "duration": 57,
    "start_time": "2021-11-03T13:11:40.046Z"
   },
   {
    "duration": 228,
    "start_time": "2021-11-03T13:11:40.107Z"
   },
   {
    "duration": 787,
    "start_time": "2021-11-03T13:11:40.339Z"
   },
   {
    "duration": 28,
    "start_time": "2021-11-03T13:11:41.130Z"
   },
   {
    "duration": 472,
    "start_time": "2021-11-03T13:11:41.164Z"
   },
   {
    "duration": 451,
    "start_time": "2021-11-03T13:11:41.640Z"
   },
   {
    "duration": 452,
    "start_time": "2021-11-03T13:11:42.094Z"
   },
   {
    "duration": 462,
    "start_time": "2021-11-03T13:11:42.549Z"
   },
   {
    "duration": 518,
    "start_time": "2021-11-03T13:11:43.014Z"
   },
   {
    "duration": 714,
    "start_time": "2021-11-03T13:11:43.535Z"
   },
   {
    "duration": 401,
    "start_time": "2021-11-03T13:11:44.252Z"
   },
   {
    "duration": 289,
    "start_time": "2021-11-03T13:11:44.655Z"
   },
   {
    "duration": 335,
    "start_time": "2021-11-03T13:11:44.946Z"
   },
   {
    "duration": 18,
    "start_time": "2021-11-03T13:11:45.283Z"
   },
   {
    "duration": 40,
    "start_time": "2021-11-03T13:11:45.303Z"
   },
   {
    "duration": 936,
    "start_time": "2021-11-03T13:11:45.345Z"
   },
   {
    "duration": 17,
    "start_time": "2021-11-03T13:11:46.283Z"
   },
   {
    "duration": 1496,
    "start_time": "2021-11-03T13:12:09.019Z"
   },
   {
    "duration": 47,
    "start_time": "2021-11-03T13:16:57.291Z"
   },
   {
    "duration": 100,
    "start_time": "2021-11-03T13:17:04.357Z"
   },
   {
    "duration": 39,
    "start_time": "2021-11-03T13:17:19.285Z"
   },
   {
    "duration": 99,
    "start_time": "2021-11-03T13:17:27.494Z"
   },
   {
    "duration": 141,
    "start_time": "2021-11-03T13:17:34.242Z"
   },
   {
    "duration": 161,
    "start_time": "2021-11-03T13:30:05.764Z"
   },
   {
    "duration": 162,
    "start_time": "2021-11-03T13:32:06.379Z"
   },
   {
    "duration": 1457,
    "start_time": "2021-11-03T13:32:17.410Z"
   },
   {
    "duration": 106,
    "start_time": "2021-11-03T13:32:54.522Z"
   },
   {
    "duration": 464,
    "start_time": "2021-11-03T13:36:03.946Z"
   },
   {
    "duration": 60155,
    "start_time": "2021-11-03T13:38:24.408Z"
   },
   {
    "duration": 16,
    "start_time": "2021-11-03T13:40:14.069Z"
   },
   {
    "duration": 257,
    "start_time": "2021-11-03T13:41:29.734Z"
   },
   {
    "duration": 247,
    "start_time": "2021-11-03T13:41:37.695Z"
   },
   {
    "duration": 955,
    "start_time": "2021-11-03T13:42:01.240Z"
   },
   {
    "duration": 7,
    "start_time": "2021-11-03T13:43:05.235Z"
   },
   {
    "duration": 61,
    "start_time": "2021-11-03T13:43:05.246Z"
   },
   {
    "duration": 42,
    "start_time": "2021-11-03T13:43:05.310Z"
   },
   {
    "duration": 9,
    "start_time": "2021-11-03T13:43:05.355Z"
   },
   {
    "duration": 12,
    "start_time": "2021-11-03T13:43:05.366Z"
   },
   {
    "duration": 50,
    "start_time": "2021-11-03T13:43:05.380Z"
   },
   {
    "duration": 8,
    "start_time": "2021-11-03T13:43:05.432Z"
   },
   {
    "duration": 609,
    "start_time": "2021-11-03T13:43:05.443Z"
   },
   {
    "duration": 18,
    "start_time": "2021-11-03T13:43:06.055Z"
   },
   {
    "duration": 5,
    "start_time": "2021-11-03T13:43:06.076Z"
   },
   {
    "duration": 48,
    "start_time": "2021-11-03T13:43:06.083Z"
   },
   {
    "duration": 11,
    "start_time": "2021-11-03T13:43:06.134Z"
   },
   {
    "duration": 85,
    "start_time": "2021-11-03T13:43:06.147Z"
   },
   {
    "duration": 9,
    "start_time": "2021-11-03T13:43:06.235Z"
   },
   {
    "duration": 28,
    "start_time": "2021-11-03T13:43:06.246Z"
   },
   {
    "duration": 1376,
    "start_time": "2021-11-03T13:43:06.276Z"
   },
   {
    "duration": 112,
    "start_time": "2021-11-03T13:43:07.656Z"
   },
   {
    "duration": 260,
    "start_time": "2021-11-03T13:43:07.771Z"
   },
   {
    "duration": 58384,
    "start_time": "2021-11-03T13:43:08.034Z"
   },
   {
    "duration": 23,
    "start_time": "2021-11-03T13:44:06.421Z"
   },
   {
    "duration": 916,
    "start_time": "2021-11-03T13:44:06.446Z"
   },
   {
    "duration": 250,
    "start_time": "2021-11-03T13:44:07.365Z"
   },
   {
    "duration": 23,
    "start_time": "2021-11-03T13:44:07.621Z"
   },
   {
    "duration": 177150,
    "start_time": "2021-11-03T13:44:07.647Z"
   },
   {
    "duration": 30,
    "start_time": "2021-11-03T13:47:04.799Z"
   },
   {
    "duration": 243,
    "start_time": "2021-11-03T13:47:04.832Z"
   },
   {
    "duration": 128,
    "start_time": "2021-11-03T13:47:05.078Z"
   },
   {
    "duration": 129,
    "start_time": "2021-11-03T13:47:05.209Z"
   },
   {
    "duration": 1466,
    "start_time": "2021-11-03T13:47:05.430Z"
   },
   {
    "duration": 31,
    "start_time": "2021-11-03T13:47:06.899Z"
   },
   {
    "duration": 251,
    "start_time": "2021-11-03T13:47:06.933Z"
   },
   {
    "duration": 67,
    "start_time": "2021-11-03T13:47:07.187Z"
   },
   {
    "duration": 86,
    "start_time": "2021-11-03T13:47:07.256Z"
   },
   {
    "duration": 507,
    "start_time": "2021-11-03T13:47:07.430Z"
   },
   {
    "duration": 18,
    "start_time": "2021-11-03T13:47:07.940Z"
   },
   {
    "duration": 292,
    "start_time": "2021-11-03T13:47:07.961Z"
   },
   {
    "duration": 316,
    "start_time": "2021-11-03T13:47:08.256Z"
   },
   {
    "duration": 289,
    "start_time": "2021-11-03T13:47:08.575Z"
   },
   {
    "duration": 279,
    "start_time": "2021-11-03T13:47:08.866Z"
   },
   {
    "duration": 399,
    "start_time": "2021-11-03T13:47:09.148Z"
   },
   {
    "duration": 436,
    "start_time": "2021-11-03T13:47:09.549Z"
   },
   {
    "duration": 423,
    "start_time": "2021-11-03T13:47:09.988Z"
   },
   {
    "duration": 284,
    "start_time": "2021-11-03T13:47:10.414Z"
   },
   {
    "duration": 318,
    "start_time": "2021-11-03T13:47:10.701Z"
   },
   {
    "duration": 21,
    "start_time": "2021-11-03T13:47:11.021Z"
   },
   {
    "duration": 20,
    "start_time": "2021-11-03T13:47:11.044Z"
   },
   {
    "duration": 1459,
    "start_time": "2021-11-03T13:47:11.066Z"
   },
   {
    "duration": 15,
    "start_time": "2021-11-03T13:47:12.530Z"
   },
   {
    "duration": 118,
    "start_time": "2021-11-03T13:54:24.632Z"
   },
   {
    "duration": 213,
    "start_time": "2021-11-03T13:54:32.523Z"
   },
   {
    "duration": 1442,
    "start_time": "2021-11-03T13:54:38.661Z"
   },
   {
    "duration": 1236,
    "start_time": "2021-11-03T13:54:56.249Z"
   },
   {
    "duration": 2069,
    "start_time": "2021-11-03T13:55:16.727Z"
   },
   {
    "duration": 1565,
    "start_time": "2021-11-03T13:55:29.071Z"
   },
   {
    "duration": 1249,
    "start_time": "2021-11-03T13:55:41.216Z"
   },
   {
    "duration": 6,
    "start_time": "2021-11-03T13:57:21.234Z"
   },
   {
    "duration": 59,
    "start_time": "2021-11-03T13:57:21.242Z"
   },
   {
    "duration": 43,
    "start_time": "2021-11-03T13:57:21.304Z"
   },
   {
    "duration": 24,
    "start_time": "2021-11-03T13:57:21.350Z"
   },
   {
    "duration": 12,
    "start_time": "2021-11-03T13:57:21.376Z"
   },
   {
    "duration": 15,
    "start_time": "2021-11-03T13:57:21.390Z"
   },
   {
    "duration": 11,
    "start_time": "2021-11-03T13:57:21.429Z"
   },
   {
    "duration": 620,
    "start_time": "2021-11-03T13:57:21.446Z"
   },
   {
    "duration": 18,
    "start_time": "2021-11-03T13:57:22.069Z"
   },
   {
    "duration": 43,
    "start_time": "2021-11-03T13:57:22.090Z"
   },
   {
    "duration": 17,
    "start_time": "2021-11-03T13:57:22.135Z"
   },
   {
    "duration": 16,
    "start_time": "2021-11-03T13:57:22.155Z"
   },
   {
    "duration": 88,
    "start_time": "2021-11-03T13:57:22.174Z"
   },
   {
    "duration": 10,
    "start_time": "2021-11-03T13:57:22.264Z"
   },
   {
    "duration": 37,
    "start_time": "2021-11-03T13:57:22.277Z"
   },
   {
    "duration": 1479,
    "start_time": "2021-11-03T13:57:22.330Z"
   },
   {
    "duration": 118,
    "start_time": "2021-11-03T13:57:23.812Z"
   },
   {
    "duration": 204,
    "start_time": "2021-11-03T13:57:23.933Z"
   },
   {
    "duration": 60746,
    "start_time": "2021-11-03T13:57:24.140Z"
   },
   {
    "duration": 15,
    "start_time": "2021-11-03T13:58:24.889Z"
   },
   {
    "duration": 1008,
    "start_time": "2021-11-03T13:58:24.930Z"
   },
   {
    "duration": 336,
    "start_time": "2021-11-03T13:58:25.941Z"
   },
   {
    "duration": 26,
    "start_time": "2021-11-03T13:58:26.285Z"
   },
   {
    "duration": 179983,
    "start_time": "2021-11-03T13:58:26.331Z"
   },
   {
    "duration": 26,
    "start_time": "2021-11-03T14:01:26.316Z"
   },
   {
    "duration": 234,
    "start_time": "2021-11-03T14:01:26.344Z"
   },
   {
    "duration": 130,
    "start_time": "2021-11-03T14:01:26.581Z"
   },
   {
    "duration": 216,
    "start_time": "2021-11-03T14:01:26.713Z"
   },
   {
    "duration": 1237,
    "start_time": "2021-11-03T14:01:26.931Z"
   },
   {
    "duration": 18,
    "start_time": "2021-11-03T14:01:28.171Z"
   },
   {
    "duration": 253,
    "start_time": "2021-11-03T14:01:28.191Z"
   },
   {
    "duration": 48,
    "start_time": "2021-11-03T14:01:28.447Z"
   },
   {
    "duration": 231,
    "start_time": "2021-11-03T14:01:28.498Z"
   },
   {
    "duration": 405,
    "start_time": "2021-11-03T14:01:28.731Z"
   },
   {
    "duration": 18,
    "start_time": "2021-11-03T14:01:29.139Z"
   },
   {
    "duration": 282,
    "start_time": "2021-11-03T14:01:29.159Z"
   },
   {
    "duration": 270,
    "start_time": "2021-11-03T14:01:29.443Z"
   },
   {
    "duration": 278,
    "start_time": "2021-11-03T14:01:29.716Z"
   },
   {
    "duration": 277,
    "start_time": "2021-11-03T14:01:29.997Z"
   },
   {
    "duration": 407,
    "start_time": "2021-11-03T14:01:30.277Z"
   },
   {
    "duration": 411,
    "start_time": "2021-11-03T14:01:30.687Z"
   },
   {
    "duration": 310,
    "start_time": "2021-11-03T14:01:31.101Z"
   },
   {
    "duration": 292,
    "start_time": "2021-11-03T14:01:31.413Z"
   },
   {
    "duration": 324,
    "start_time": "2021-11-03T14:01:31.707Z"
   },
   {
    "duration": 19,
    "start_time": "2021-11-03T14:01:32.033Z"
   },
   {
    "duration": 22,
    "start_time": "2021-11-03T14:01:32.055Z"
   },
   {
    "duration": 1478,
    "start_time": "2021-11-03T14:01:32.080Z"
   },
   {
    "duration": 16,
    "start_time": "2021-11-03T14:01:33.560Z"
   },
   {
    "duration": 306,
    "start_time": "2021-11-05T11:27:15.171Z"
   },
   {
    "duration": 1446,
    "start_time": "2021-11-05T11:27:26.932Z"
   },
   {
    "duration": 435,
    "start_time": "2021-11-05T11:28:04.243Z"
   },
   {
    "duration": 1546,
    "start_time": "2021-11-09T07:16:59.130Z"
   },
   {
    "duration": 64,
    "start_time": "2021-11-09T07:17:00.679Z"
   },
   {
    "duration": 27,
    "start_time": "2021-11-09T07:17:00.747Z"
   },
   {
    "duration": 11,
    "start_time": "2021-11-09T07:17:00.777Z"
   },
   {
    "duration": 32,
    "start_time": "2021-11-09T07:17:00.791Z"
   },
   {
    "duration": 15,
    "start_time": "2021-11-09T07:17:00.826Z"
   },
   {
    "duration": 8,
    "start_time": "2021-11-09T07:17:00.844Z"
   },
   {
    "duration": 567,
    "start_time": "2021-11-09T07:17:00.858Z"
   },
   {
    "duration": 19,
    "start_time": "2021-11-09T07:17:01.432Z"
   },
   {
    "duration": 17,
    "start_time": "2021-11-09T07:17:01.453Z"
   },
   {
    "duration": 56,
    "start_time": "2021-11-09T07:17:01.472Z"
   },
   {
    "duration": 1304,
    "start_time": "2021-11-09T07:17:01.531Z"
   },
   {
    "duration": -4449,
    "start_time": "2021-11-09T07:17:07.290Z"
   },
   {
    "duration": -4456,
    "start_time": "2021-11-09T07:17:07.299Z"
   },
   {
    "duration": -4498,
    "start_time": "2021-11-09T07:17:07.344Z"
   },
   {
    "duration": -4505,
    "start_time": "2021-11-09T07:17:07.353Z"
   },
   {
    "duration": -4510,
    "start_time": "2021-11-09T07:17:07.360Z"
   },
   {
    "duration": -4518,
    "start_time": "2021-11-09T07:17:07.369Z"
   },
   {
    "duration": -4521,
    "start_time": "2021-11-09T07:17:07.374Z"
   },
   {
    "duration": -4526,
    "start_time": "2021-11-09T07:17:07.380Z"
   },
   {
    "duration": -4529,
    "start_time": "2021-11-09T07:17:07.384Z"
   },
   {
    "duration": -4535,
    "start_time": "2021-11-09T07:17:07.391Z"
   },
   {
    "duration": -4538,
    "start_time": "2021-11-09T07:17:07.396Z"
   },
   {
    "duration": -4543,
    "start_time": "2021-11-09T07:17:07.402Z"
   },
   {
    "duration": -4545,
    "start_time": "2021-11-09T07:17:07.406Z"
   },
   {
    "duration": -4550,
    "start_time": "2021-11-09T07:17:07.412Z"
   },
   {
    "duration": -4560,
    "start_time": "2021-11-09T07:17:07.424Z"
   },
   {
    "duration": -4564,
    "start_time": "2021-11-09T07:17:07.429Z"
   },
   {
    "duration": -4567,
    "start_time": "2021-11-09T07:17:07.434Z"
   },
   {
    "duration": -4572,
    "start_time": "2021-11-09T07:17:07.440Z"
   },
   {
    "duration": -4574,
    "start_time": "2021-11-09T07:17:07.444Z"
   },
   {
    "duration": -4579,
    "start_time": "2021-11-09T07:17:07.450Z"
   },
   {
    "duration": -4581,
    "start_time": "2021-11-09T07:17:07.455Z"
   },
   {
    "duration": -4586,
    "start_time": "2021-11-09T07:17:07.461Z"
   },
   {
    "duration": -4589,
    "start_time": "2021-11-09T07:17:07.466Z"
   },
   {
    "duration": -4586,
    "start_time": "2021-11-09T07:17:07.508Z"
   },
   {
    "duration": -4589,
    "start_time": "2021-11-09T07:17:07.513Z"
   },
   {
    "duration": -4592,
    "start_time": "2021-11-09T07:17:07.518Z"
   },
   {
    "duration": -4595,
    "start_time": "2021-11-09T07:17:07.523Z"
   },
   {
    "duration": -4609,
    "start_time": "2021-11-09T07:17:07.539Z"
   },
   {
    "duration": -4612,
    "start_time": "2021-11-09T07:17:07.543Z"
   },
   {
    "duration": -4615,
    "start_time": "2021-11-09T07:17:07.548Z"
   },
   {
    "duration": -4654,
    "start_time": "2021-11-09T07:17:07.588Z"
   },
   {
    "duration": -4676,
    "start_time": "2021-11-09T07:17:07.612Z"
   },
   {
    "duration": -4680,
    "start_time": "2021-11-09T07:17:07.617Z"
   },
   {
    "duration": -4683,
    "start_time": "2021-11-09T07:17:07.622Z"
   },
   {
    "duration": -4686,
    "start_time": "2021-11-09T07:17:07.626Z"
   },
   {
    "duration": -4690,
    "start_time": "2021-11-09T07:17:07.632Z"
   },
   {
    "duration": -4693,
    "start_time": "2021-11-09T07:17:07.636Z"
   },
   {
    "duration": 4,
    "start_time": "2021-11-09T07:20:26.682Z"
   },
   {
    "duration": 9,
    "start_time": "2021-11-09T07:20:46.962Z"
   },
   {
    "duration": 9,
    "start_time": "2021-11-09T07:21:01.073Z"
   },
   {
    "duration": 8,
    "start_time": "2021-11-09T07:21:19.103Z"
   },
   {
    "duration": 6,
    "start_time": "2021-11-09T07:21:33.771Z"
   },
   {
    "duration": 59,
    "start_time": "2021-11-09T07:21:33.780Z"
   },
   {
    "duration": 27,
    "start_time": "2021-11-09T07:21:33.843Z"
   },
   {
    "duration": 6,
    "start_time": "2021-11-09T07:21:33.872Z"
   },
   {
    "duration": 56,
    "start_time": "2021-11-09T07:21:33.880Z"
   },
   {
    "duration": 9,
    "start_time": "2021-11-09T07:21:33.939Z"
   },
   {
    "duration": 7,
    "start_time": "2021-11-09T07:21:33.950Z"
   },
   {
    "duration": 474,
    "start_time": "2021-11-09T07:21:33.961Z"
   },
   {
    "duration": 18,
    "start_time": "2021-11-09T07:21:34.446Z"
   },
   {
    "duration": 6,
    "start_time": "2021-11-09T07:21:34.466Z"
   },
   {
    "duration": 4,
    "start_time": "2021-11-09T07:21:34.474Z"
   },
   {
    "duration": 44,
    "start_time": "2021-11-09T07:21:34.480Z"
   },
   {
    "duration": 15,
    "start_time": "2021-11-09T07:21:34.528Z"
   },
   {
    "duration": 94,
    "start_time": "2021-11-09T07:21:34.545Z"
   },
   {
    "duration": 10,
    "start_time": "2021-11-09T07:21:34.641Z"
   },
   {
    "duration": 32,
    "start_time": "2021-11-09T07:21:34.653Z"
   },
   {
    "duration": 1586,
    "start_time": "2021-11-09T07:21:34.687Z"
   },
   {
    "duration": 113,
    "start_time": "2021-11-09T07:21:36.275Z"
   },
   {
    "duration": 236,
    "start_time": "2021-11-09T07:21:36.390Z"
   },
   {
    "duration": 63592,
    "start_time": "2021-11-09T07:21:36.630Z"
   },
   {
    "duration": 18,
    "start_time": "2021-11-09T07:22:40.225Z"
   },
   {
    "duration": 1030,
    "start_time": "2021-11-09T07:22:40.245Z"
   },
   {
    "duration": 252,
    "start_time": "2021-11-09T07:22:41.280Z"
   },
   {
    "duration": 19,
    "start_time": "2021-11-09T07:22:41.535Z"
   },
   {
    "duration": 198423,
    "start_time": "2021-11-09T07:22:41.556Z"
   },
   {
    "duration": 17,
    "start_time": "2021-11-09T07:25:59.982Z"
   },
   {
    "duration": 263,
    "start_time": "2021-11-09T07:26:00.002Z"
   },
   {
    "duration": 135,
    "start_time": "2021-11-09T07:26:00.267Z"
   },
   {
    "duration": 137,
    "start_time": "2021-11-09T07:26:00.405Z"
   },
   {
    "duration": 1374,
    "start_time": "2021-11-09T07:26:00.634Z"
   },
   {
    "duration": 27,
    "start_time": "2021-11-09T07:26:02.010Z"
   },
   {
    "duration": 248,
    "start_time": "2021-11-09T07:26:02.040Z"
   },
   {
    "duration": 66,
    "start_time": "2021-11-09T07:26:02.291Z"
   },
   {
    "duration": 82,
    "start_time": "2021-11-09T07:26:02.359Z"
   },
   {
    "duration": 520,
    "start_time": "2021-11-09T07:26:02.523Z"
   },
   {
    "duration": 19,
    "start_time": "2021-11-09T07:26:03.045Z"
   },
   {
    "duration": 376,
    "start_time": "2021-11-09T07:26:03.066Z"
   },
   {
    "duration": 300,
    "start_time": "2021-11-09T07:26:03.445Z"
   },
   {
    "duration": 295,
    "start_time": "2021-11-09T07:26:03.747Z"
   },
   {
    "duration": 284,
    "start_time": "2021-11-09T07:26:04.045Z"
   },
   {
    "duration": 367,
    "start_time": "2021-11-09T07:26:04.332Z"
   },
   {
    "duration": 479,
    "start_time": "2021-11-09T07:26:04.702Z"
   },
   {
    "duration": 320,
    "start_time": "2021-11-09T07:26:05.184Z"
   },
   {
    "duration": 300,
    "start_time": "2021-11-09T07:26:05.507Z"
   },
   {
    "duration": 329,
    "start_time": "2021-11-09T07:26:05.809Z"
   },
   {
    "duration": 18,
    "start_time": "2021-11-09T07:26:06.141Z"
   },
   {
    "duration": 26,
    "start_time": "2021-11-09T07:26:06.161Z"
   },
   {
    "duration": 1584,
    "start_time": "2021-11-09T07:26:06.189Z"
   },
   {
    "duration": 18,
    "start_time": "2021-11-09T07:26:07.775Z"
   },
   {
    "duration": 301,
    "start_time": "2021-11-09T07:28:21.243Z"
   },
   {
    "duration": 288,
    "start_time": "2021-11-09T07:29:01.122Z"
   },
   {
    "duration": 306,
    "start_time": "2021-11-09T07:29:27.277Z"
   },
   {
    "duration": 111,
    "start_time": "2021-11-09T07:31:13.978Z"
   },
   {
    "duration": 89,
    "start_time": "2021-11-09T07:31:21.222Z"
   },
   {
    "duration": 10,
    "start_time": "2021-11-09T07:31:31.734Z"
   },
   {
    "duration": 15,
    "start_time": "2021-11-09T07:31:37.758Z"
   },
   {
    "duration": 6,
    "start_time": "2021-11-09T07:31:45.902Z"
   },
   {
    "duration": 53,
    "start_time": "2021-11-09T07:31:45.914Z"
   },
   {
    "duration": 7,
    "start_time": "2021-11-09T07:31:45.970Z"
   },
   {
    "duration": 11,
    "start_time": "2021-11-09T07:31:45.981Z"
   },
   {
    "duration": 11,
    "start_time": "2021-11-09T07:31:46.024Z"
   },
   {
    "duration": 8,
    "start_time": "2021-11-09T07:31:46.038Z"
   },
   {
    "duration": 506,
    "start_time": "2021-11-09T07:31:46.048Z"
   },
   {
    "duration": 104,
    "start_time": "2021-11-09T07:31:46.574Z"
   },
   {
    "duration": 6,
    "start_time": "2021-11-09T07:31:46.681Z"
   },
   {
    "duration": 7,
    "start_time": "2021-11-09T07:31:46.690Z"
   },
   {
    "duration": 39,
    "start_time": "2021-11-09T07:31:46.700Z"
   },
   {
    "duration": 327,
    "start_time": "2021-11-09T07:32:03.794Z"
   },
   {
    "duration": 92,
    "start_time": "2021-11-09T07:32:59.368Z"
   },
   {
    "duration": 6,
    "start_time": "2021-11-09T07:33:22.864Z"
   },
   {
    "duration": 58,
    "start_time": "2021-11-09T07:33:22.873Z"
   },
   {
    "duration": 5,
    "start_time": "2021-11-09T07:33:22.935Z"
   },
   {
    "duration": 11,
    "start_time": "2021-11-09T07:33:22.943Z"
   },
   {
    "duration": 9,
    "start_time": "2021-11-09T07:33:22.956Z"
   },
   {
    "duration": 7,
    "start_time": "2021-11-09T07:33:22.968Z"
   },
   {
    "duration": 547,
    "start_time": "2021-11-09T07:33:22.977Z"
   },
   {
    "duration": 20,
    "start_time": "2021-11-09T07:33:23.539Z"
   },
   {
    "duration": 5,
    "start_time": "2021-11-09T07:33:23.562Z"
   },
   {
    "duration": 7,
    "start_time": "2021-11-09T07:33:23.570Z"
   },
   {
    "duration": 96,
    "start_time": "2021-11-09T07:33:23.580Z"
   },
   {
    "duration": 1108,
    "start_time": "2021-11-09T07:34:55.783Z"
   },
   {
    "duration": 10,
    "start_time": "2021-11-09T07:36:10.116Z"
   },
   {
    "duration": 6,
    "start_time": "2021-11-09T07:36:18.423Z"
   },
   {
    "duration": 50,
    "start_time": "2021-11-09T07:36:18.500Z"
   },
   {
    "duration": 5,
    "start_time": "2021-11-09T07:36:18.553Z"
   },
   {
    "duration": 11,
    "start_time": "2021-11-09T07:36:18.561Z"
   },
   {
    "duration": 12,
    "start_time": "2021-11-09T07:36:18.574Z"
   },
   {
    "duration": 35,
    "start_time": "2021-11-09T07:36:18.589Z"
   },
   {
    "duration": 527,
    "start_time": "2021-11-09T07:36:18.626Z"
   },
   {
    "duration": 19,
    "start_time": "2021-11-09T07:36:19.155Z"
   },
   {
    "duration": 5,
    "start_time": "2021-11-09T07:36:19.176Z"
   },
   {
    "duration": 40,
    "start_time": "2021-11-09T07:36:19.185Z"
   },
   {
    "duration": 8,
    "start_time": "2021-11-09T07:36:24.204Z"
   },
   {
    "duration": 1163,
    "start_time": "2021-11-09T07:36:50.042Z"
   },
   {
    "duration": 1106,
    "start_time": "2021-11-09T07:36:59.358Z"
   },
   {
    "duration": 9,
    "start_time": "2021-11-09T07:38:51.035Z"
   },
   {
    "duration": 6,
    "start_time": "2021-11-09T07:38:59.222Z"
   },
   {
    "duration": 62,
    "start_time": "2021-11-09T07:38:59.231Z"
   },
   {
    "duration": 6,
    "start_time": "2021-11-09T07:38:59.296Z"
   },
   {
    "duration": 24,
    "start_time": "2021-11-09T07:38:59.304Z"
   },
   {
    "duration": 10,
    "start_time": "2021-11-09T07:38:59.330Z"
   },
   {
    "duration": 10,
    "start_time": "2021-11-09T07:38:59.342Z"
   },
   {
    "duration": 596,
    "start_time": "2021-11-09T07:38:59.355Z"
   },
   {
    "duration": 20,
    "start_time": "2021-11-09T07:38:59.954Z"
   },
   {
    "duration": 6,
    "start_time": "2021-11-09T07:38:59.977Z"
   },
   {
    "duration": 44,
    "start_time": "2021-11-09T07:38:59.986Z"
   },
   {
    "duration": 16,
    "start_time": "2021-11-09T07:39:00.033Z"
   },
   {
    "duration": 9,
    "start_time": "2021-11-09T07:39:05.032Z"
   },
   {
    "duration": 18,
    "start_time": "2021-11-09T07:47:05.432Z"
   },
   {
    "duration": 17,
    "start_time": "2021-11-09T07:51:49.392Z"
   },
   {
    "duration": 187890,
    "start_time": "2021-11-09T07:53:29.566Z"
   },
   {
    "duration": 17,
    "start_time": "2021-11-09T07:57:09.002Z"
   },
   {
    "duration": 1579,
    "start_time": "2021-11-09T07:59:00.727Z"
   },
   {
    "duration": 7,
    "start_time": "2021-11-09T08:01:08.726Z"
   },
   {
    "duration": 51,
    "start_time": "2021-11-09T08:01:08.736Z"
   },
   {
    "duration": 6,
    "start_time": "2021-11-09T08:01:08.790Z"
   },
   {
    "duration": 25,
    "start_time": "2021-11-09T08:01:08.799Z"
   },
   {
    "duration": 10,
    "start_time": "2021-11-09T08:01:08.826Z"
   },
   {
    "duration": 9,
    "start_time": "2021-11-09T08:01:08.838Z"
   },
   {
    "duration": 601,
    "start_time": "2021-11-09T08:01:08.849Z"
   },
   {
    "duration": 20,
    "start_time": "2021-11-09T08:01:09.453Z"
   },
   {
    "duration": 5,
    "start_time": "2021-11-09T08:01:09.477Z"
   },
   {
    "duration": 41,
    "start_time": "2021-11-09T08:01:09.485Z"
   },
   {
    "duration": 15,
    "start_time": "2021-11-09T08:01:09.529Z"
   },
   {
    "duration": 23,
    "start_time": "2021-11-09T08:01:09.546Z"
   },
   {
    "duration": 83,
    "start_time": "2021-11-09T08:01:09.572Z"
   },
   {
    "duration": 9,
    "start_time": "2021-11-09T08:01:09.658Z"
   },
   {
    "duration": 28,
    "start_time": "2021-11-09T08:01:09.669Z"
   },
   {
    "duration": 1494,
    "start_time": "2021-11-09T08:01:09.722Z"
   },
   {
    "duration": 115,
    "start_time": "2021-11-09T08:01:11.218Z"
   },
   {
    "duration": 192,
    "start_time": "2021-11-09T08:01:11.335Z"
   },
   {
    "duration": 62145,
    "start_time": "2021-11-09T08:01:11.530Z"
   },
   {
    "duration": 16,
    "start_time": "2021-11-09T08:02:13.678Z"
   },
   {
    "duration": 1012,
    "start_time": "2021-11-09T08:02:13.696Z"
   },
   {
    "duration": 244,
    "start_time": "2021-11-09T08:02:14.710Z"
   },
   {
    "duration": 17,
    "start_time": "2021-11-09T08:02:14.957Z"
   },
   {
    "duration": 192217,
    "start_time": "2021-11-09T08:02:14.977Z"
   },
   {
    "duration": 35,
    "start_time": "2021-11-09T08:05:27.201Z"
   },
   {
    "duration": 237,
    "start_time": "2021-11-09T08:05:27.239Z"
   },
   {
    "duration": 138,
    "start_time": "2021-11-09T08:05:27.479Z"
   },
   {
    "duration": 202,
    "start_time": "2021-11-09T08:05:27.623Z"
   },
   {
    "duration": 1530,
    "start_time": "2021-11-09T08:05:27.828Z"
   },
   {
    "duration": 18,
    "start_time": "2021-11-09T08:05:29.360Z"
   },
   {
    "duration": 261,
    "start_time": "2021-11-09T08:05:29.380Z"
   },
   {
    "duration": 53,
    "start_time": "2021-11-09T08:05:29.643Z"
   },
   {
    "duration": 224,
    "start_time": "2021-11-09T08:05:29.699Z"
   },
   {
    "duration": 519,
    "start_time": "2021-11-09T08:05:29.926Z"
   },
   {
    "duration": 20,
    "start_time": "2021-11-09T08:05:30.448Z"
   },
   {
    "duration": 291,
    "start_time": "2021-11-09T08:05:30.471Z"
   },
   {
    "duration": 289,
    "start_time": "2021-11-09T08:05:30.764Z"
   },
   {
    "duration": 292,
    "start_time": "2021-11-09T08:05:31.055Z"
   },
   {
    "duration": 386,
    "start_time": "2021-11-09T08:05:31.350Z"
   },
   {
    "duration": 319,
    "start_time": "2021-11-09T08:05:31.739Z"
   },
   {
    "duration": 428,
    "start_time": "2021-11-09T08:05:32.060Z"
   },
   {
    "duration": 335,
    "start_time": "2021-11-09T08:05:32.490Z"
   },
   {
    "duration": 297,
    "start_time": "2021-11-09T08:05:32.828Z"
   },
   {
    "duration": 319,
    "start_time": "2021-11-09T08:05:33.128Z"
   },
   {
    "duration": 17,
    "start_time": "2021-11-09T08:05:33.449Z"
   },
   {
    "duration": 29,
    "start_time": "2021-11-09T08:05:33.469Z"
   },
   {
    "duration": 1584,
    "start_time": "2021-11-09T08:05:33.501Z"
   },
   {
    "duration": 17,
    "start_time": "2021-11-09T08:05:35.087Z"
   },
   {
    "duration": 98,
    "start_time": "2021-11-09T08:06:22.682Z"
   },
   {
    "duration": 18,
    "start_time": "2021-11-09T08:06:34.257Z"
   },
   {
    "duration": 20,
    "start_time": "2021-11-09T08:07:05.343Z"
   },
   {
    "duration": 1626,
    "start_time": "2021-11-09T08:36:03.712Z"
   },
   {
    "duration": 209808,
    "start_time": "2021-11-09T08:38:14.552Z"
   },
   {
    "duration": 17,
    "start_time": "2021-11-09T08:42:08.866Z"
   },
   {
    "duration": 1779,
    "start_time": "2021-11-09T08:42:55.267Z"
   },
   {
    "duration": 19,
    "start_time": "2021-11-09T08:43:00.957Z"
   },
   {
    "duration": 18,
    "start_time": "2021-11-09T08:43:18.986Z"
   },
   {
    "duration": 90,
    "start_time": "2021-11-09T08:47:38.601Z"
   },
   {
    "duration": 1472,
    "start_time": "2021-11-09T08:47:49.982Z"
   },
   {
    "duration": 1204,
    "start_time": "2021-11-09T08:48:02.054Z"
   },
   {
    "duration": 1085,
    "start_time": "2021-11-09T08:48:38.826Z"
   },
   {
    "duration": 1172,
    "start_time": "2021-11-09T08:51:01.560Z"
   },
   {
    "duration": 65279,
    "start_time": "2021-11-09T08:51:48.997Z"
   },
   {
    "duration": 16,
    "start_time": "2021-11-09T08:53:29.636Z"
   },
   {
    "duration": 1108,
    "start_time": "2021-11-09T08:53:37.168Z"
   },
   {
    "duration": 6,
    "start_time": "2021-11-09T08:53:43.846Z"
   },
   {
    "duration": 61,
    "start_time": "2021-11-09T08:53:43.855Z"
   },
   {
    "duration": 6,
    "start_time": "2021-11-09T08:53:43.919Z"
   },
   {
    "duration": 16,
    "start_time": "2021-11-09T08:53:43.928Z"
   },
   {
    "duration": 16,
    "start_time": "2021-11-09T08:53:43.946Z"
   },
   {
    "duration": 17,
    "start_time": "2021-11-09T08:53:43.964Z"
   },
   {
    "duration": 583,
    "start_time": "2021-11-09T08:53:43.984Z"
   },
   {
    "duration": 18,
    "start_time": "2021-11-09T08:53:44.569Z"
   },
   {
    "duration": 34,
    "start_time": "2021-11-09T08:53:44.591Z"
   },
   {
    "duration": 16,
    "start_time": "2021-11-09T08:53:44.628Z"
   },
   {
    "duration": 18,
    "start_time": "2021-11-09T08:53:44.646Z"
   },
   {
    "duration": 16,
    "start_time": "2021-11-09T08:53:44.666Z"
   },
   {
    "duration": 91,
    "start_time": "2021-11-09T08:53:44.684Z"
   },
   {
    "duration": 9,
    "start_time": "2021-11-09T08:53:44.778Z"
   },
   {
    "duration": 47,
    "start_time": "2021-11-09T08:53:44.789Z"
   },
   {
    "duration": 1492,
    "start_time": "2021-11-09T08:53:44.839Z"
   },
   {
    "duration": 118,
    "start_time": "2021-11-09T08:53:46.333Z"
   },
   {
    "duration": 368,
    "start_time": "2021-11-09T08:53:46.454Z"
   },
   {
    "duration": 63270,
    "start_time": "2021-11-09T08:53:46.825Z"
   },
   {
    "duration": 29,
    "start_time": "2021-11-09T08:54:50.097Z"
   },
   {
    "duration": 973,
    "start_time": "2021-11-09T08:54:50.128Z"
   },
   {
    "duration": 243,
    "start_time": "2021-11-09T08:54:51.104Z"
   },
   {
    "duration": 19,
    "start_time": "2021-11-09T08:54:51.350Z"
   },
   {
    "duration": 194878,
    "start_time": "2021-11-09T08:54:51.372Z"
   },
   {
    "duration": 18,
    "start_time": "2021-11-09T08:58:06.252Z"
   },
   {
    "duration": 1135,
    "start_time": "2021-11-09T08:58:06.272Z"
   },
   {
    "duration": 1045,
    "start_time": "2021-11-09T08:59:47.827Z"
   },
   {
    "duration": 195204,
    "start_time": "2021-11-09T09:02:05.607Z"
   },
   {
    "duration": 17,
    "start_time": "2021-11-09T09:05:20.822Z"
   },
   {
    "duration": 974,
    "start_time": "2021-11-09T09:05:35.434Z"
   },
   {
    "duration": 18,
    "start_time": "2021-11-09T09:06:25.410Z"
   },
   {
    "duration": 1038,
    "start_time": "2021-11-09T09:06:25.430Z"
   },
   {
    "duration": 239,
    "start_time": "2021-11-09T09:06:26.471Z"
   },
   {
    "duration": 139,
    "start_time": "2021-11-09T09:06:26.713Z"
   },
   {
    "duration": 182,
    "start_time": "2021-11-09T09:06:26.854Z"
   },
   {
    "duration": 2033,
    "start_time": "2021-11-09T09:06:27.125Z"
   },
   {
    "duration": 19,
    "start_time": "2021-11-09T09:06:29.161Z"
   },
   {
    "duration": 259,
    "start_time": "2021-11-09T09:06:29.183Z"
   },
   {
    "duration": 53,
    "start_time": "2021-11-09T09:06:29.446Z"
   },
   {
    "duration": 134,
    "start_time": "2021-11-09T09:06:29.502Z"
   },
   {
    "duration": 577,
    "start_time": "2021-11-09T09:06:29.724Z"
   },
   {
    "duration": 30,
    "start_time": "2021-11-09T09:06:30.303Z"
   },
   {
    "duration": 297,
    "start_time": "2021-11-09T09:06:30.336Z"
   },
   {
    "duration": 275,
    "start_time": "2021-11-09T09:06:30.635Z"
   },
   {
    "duration": 288,
    "start_time": "2021-11-09T09:06:30.912Z"
   },
   {
    "duration": 295,
    "start_time": "2021-11-09T09:06:31.202Z"
   },
   {
    "duration": 338,
    "start_time": "2021-11-09T09:06:31.500Z"
   },
   {
    "duration": 458,
    "start_time": "2021-11-09T09:06:31.841Z"
   },
   {
    "duration": 340,
    "start_time": "2021-11-09T09:06:32.301Z"
   },
   {
    "duration": 425,
    "start_time": "2021-11-09T09:06:32.644Z"
   },
   {
    "duration": 417,
    "start_time": "2021-11-09T09:06:33.072Z"
   },
   {
    "duration": 31,
    "start_time": "2021-11-09T09:06:33.491Z"
   },
   {
    "duration": 21,
    "start_time": "2021-11-09T09:06:33.525Z"
   },
   {
    "duration": 1205,
    "start_time": "2021-11-09T09:06:33.549Z"
   },
   {
    "duration": 20,
    "start_time": "2021-11-09T09:06:34.756Z"
   },
   {
    "duration": 1491,
    "start_time": "2021-11-09T09:10:55.570Z"
   },
   {
    "duration": 1358,
    "start_time": "2021-11-09T09:11:18.870Z"
   },
   {
    "duration": 1095,
    "start_time": "2021-11-09T09:11:41.910Z"
   },
   {
    "duration": 406949,
    "start_time": "2021-11-09T09:12:48.963Z"
   },
   {
    "duration": 18,
    "start_time": "2021-11-09T09:22:04.281Z"
   },
   {
    "duration": 1123,
    "start_time": "2021-11-09T09:22:12.119Z"
   },
   {
    "duration": 1220,
    "start_time": "2021-11-09T09:22:27.499Z"
   },
   {
    "duration": 229,
    "start_time": "2021-11-09T09:22:28.724Z"
   },
   {
    "duration": 132,
    "start_time": "2021-11-09T09:22:28.956Z"
   },
   {
    "duration": 231,
    "start_time": "2021-11-09T09:22:29.090Z"
   },
   {
    "duration": 2022,
    "start_time": "2021-11-09T09:22:29.324Z"
   },
   {
    "duration": 19,
    "start_time": "2021-11-09T09:22:31.348Z"
   },
   {
    "duration": 257,
    "start_time": "2021-11-09T09:22:31.370Z"
   },
   {
    "duration": 52,
    "start_time": "2021-11-09T09:22:31.631Z"
   },
   {
    "duration": 241,
    "start_time": "2021-11-09T09:22:31.687Z"
   },
   {
    "duration": 592,
    "start_time": "2021-11-09T09:22:31.931Z"
   },
   {
    "duration": 18,
    "start_time": "2021-11-09T09:22:32.525Z"
   },
   {
    "duration": 382,
    "start_time": "2021-11-09T09:22:32.546Z"
   },
   {
    "duration": 306,
    "start_time": "2021-11-09T09:22:32.930Z"
   },
   {
    "duration": 292,
    "start_time": "2021-11-09T09:22:33.239Z"
   },
   {
    "duration": 428,
    "start_time": "2021-11-09T09:22:33.534Z"
   },
   {
    "duration": 339,
    "start_time": "2021-11-09T09:22:33.965Z"
   },
   {
    "duration": 477,
    "start_time": "2021-11-09T09:22:34.306Z"
   },
   {
    "duration": 340,
    "start_time": "2021-11-09T09:22:34.786Z"
   },
   {
    "duration": 284,
    "start_time": "2021-11-09T09:22:35.129Z"
   },
   {
    "duration": 322,
    "start_time": "2021-11-09T09:22:35.423Z"
   },
   {
    "duration": 18,
    "start_time": "2021-11-09T09:22:35.747Z"
   },
   {
    "duration": 27,
    "start_time": "2021-11-09T09:22:35.767Z"
   },
   {
    "duration": 1192,
    "start_time": "2021-11-09T09:22:35.798Z"
   },
   {
    "duration": 30,
    "start_time": "2021-11-09T09:22:36.992Z"
   },
   {
    "duration": 1517,
    "start_time": "2021-11-09T09:24:08.055Z"
   },
   {
    "duration": 1530,
    "start_time": "2021-11-09T09:28:20.175Z"
   }
  ],
  "kernelspec": {
   "display_name": "Python 3",
   "language": "python",
   "name": "python3"
  },
  "language_info": {
   "codemirror_mode": {
    "name": "ipython",
    "version": 3
   },
   "file_extension": ".py",
   "mimetype": "text/x-python",
   "name": "python",
   "nbconvert_exporter": "python",
   "pygments_lexer": "ipython3",
   "version": "3.8.8"
  },
  "toc": {
   "base_numbering": 1,
   "nav_menu": {},
   "number_sections": true,
   "sideBar": true,
   "skip_h1_title": true,
   "title_cell": "Содержание",
   "title_sidebar": "Contents",
   "toc_cell": true,
   "toc_position": {
    "height": "423.52px",
    "left": "202px",
    "top": "161.12px",
    "width": "165px"
   },
   "toc_section_display": true,
   "toc_window_display": true
  }
 },
 "nbformat": 4,
 "nbformat_minor": 2
}
